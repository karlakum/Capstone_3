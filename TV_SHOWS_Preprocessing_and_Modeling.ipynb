{
 "cells": [
  {
   "cell_type": "markdown",
   "id": "3b8accc5",
   "metadata": {},
   "source": [
    "# 3 Preprocessing and Modeling <a id='3_Preprocessing_and_Modeling'></a>"
   ]
  },
  {
   "cell_type": "markdown",
   "id": "6e7c7b8c",
   "metadata": {},
   "source": [
    "## 3.1 Contents<a id='1.1_Contents'></a>\n",
    "* [3 Preprocessing and Modeling](#1_Preprocessing)\n",
    "  * [3.1 Contents](#3.1_Contents)\n",
    "  * [3.2 Introduction](#3.2_Introduction)\n",
    "  * [3.3 Imports](#3.3_Imports)\n",
    "  * [3.4 Load the Shows Dataset](#3.4_Load_the_Shows_Dataset)\n",
    "  * [3.5 Baseline Modeling](#3.5_Baseline_Modeling)\n",
    "      * [3.5.1 Linear (and Lasso) Regression](#3.5.1_Linear_(and_Lasso)_Regression)\n",
    "      * [3.5.2 Evaluation Metrics for Linear (and Lasso) Regression](#3.5.2_Evaluation_Metrics_for_Linear(and_Lasso)_Regression)\n",
    "      * [3.5.3 Random Forest Regression](#3.5.3_Random_Forest_Regression)\n",
    "      * [3.5.4 Evaluation Metrics for Random Forest Regression](#3.5.4_Evaluation_Metrics_for_Random_Forest_Regression)\n",
    "      * [3.5.5 XGBoost Regression](#3.5.5_XGBoost_Regression)\n",
    "      * [3.5.6 Evaluation Metrics for XGBoost Regression](#3.5.6_Evaluation_Metrics_for_XGBoost_Regression)\n",
    "  * [3.6 General Comparison of the Models](#3.6_General_Comparison_of_the_Models) \n",
    "  * [3.7 Saving the Models](#3.7_Saving_the_Models)\n",
    "  * [3.8 Preprocessing Conclusion](#3.8_Preprocessing_Conclusion)\n"
   ]
  },
  {
   "cell_type": "markdown",
   "id": "479cfc19",
   "metadata": {},
   "source": [
    "## 3.2 Introduction <a id = '3.2_Introduction'><a>\n"
   ]
  },
  {
   "cell_type": "markdown",
   "id": "f7cb57e4",
   "metadata": {},
   "source": [
    "In this stage, first we will look for our best baseline modeling as a reference and later develop our own model to find the best variables to create a successful TV Show for a streamer. "
   ]
  },
  {
   "cell_type": "markdown",
   "id": "443df483",
   "metadata": {},
   "source": [
    "## 3.3. Imports <a id = '3.3_Imports'><a>"
   ]
  },
  {
   "cell_type": "code",
   "execution_count": 55,
   "id": "ae544c3f",
   "metadata": {},
   "outputs": [
    {
     "name": "stdout",
     "output_type": "stream",
     "text": [
      "Requirement already satisfied: xgboost in /Users/esrasaydam/opt/anaconda3/lib/python3.9/site-packages (2.0.3)\r\n",
      "Requirement already satisfied: numpy in /Users/esrasaydam/opt/anaconda3/lib/python3.9/site-packages (from xgboost) (1.21.5)\r\n",
      "Requirement already satisfied: scipy in /Users/esrasaydam/opt/anaconda3/lib/python3.9/site-packages (from xgboost) (1.7.3)\r\n"
     ]
    }
   ],
   "source": [
    "import pandas as pd\n",
    "import numpy as np\n",
    "import os\n",
    "import pickle\n",
    "import matplotlib.pyplot as plt\n",
    "import seaborn as sns\n",
    "from sklearn import __version__ as sklearn_version\n",
    "from sklearn.decomposition import PCA\n",
    "from sklearn.preprocessing import scale\n",
    "from sklearn.model_selection import train_test_split, cross_validate, GridSearchCV, learning_curve\n",
    "from sklearn.preprocessing import StandardScaler\n",
    "from sklearn.dummy import DummyRegressor\n",
    "from sklearn.linear_model import LinearRegression\n",
    "from sklearn.linear_model import Ridge, RidgeCV, Lasso, LassoCV\n",
    "from sklearn.ensemble import RandomForestRegressor\n",
    "from sklearn.metrics import r2_score, mean_squared_error, mean_absolute_error, mean_absolute_percentage_error\n",
    "from sklearn.pipeline import make_pipeline\n",
    "from sklearn.impute import SimpleImputer\n",
    "from sklearn.feature_selection import SelectKBest, f_regression\n",
    "from datetime import datetime as dt\n",
    "from sklearn.feature_selection import mutual_info_regression\n",
    "from sklearn.model_selection import cross_val_score\n",
    "from sklearn.model_selection import RandomizedSearchCV\n",
    "! pip install xgboost\n",
    "import xgboost as xgb\n"
   ]
  },
  {
   "cell_type": "markdown",
   "id": "3b0e3e0e",
   "metadata": {},
   "source": [
    "## 3.4 Load the Shows Dataset<a id='3.4_Load_the_Shows_Dataset'></a> "
   ]
  },
  {
   "cell_type": "code",
   "execution_count": 56,
   "id": "11b48fcf",
   "metadata": {},
   "outputs": [
    {
     "data": {
      "text/html": [
       "<div>\n",
       "<style scoped>\n",
       "    .dataframe tbody tr th:only-of-type {\n",
       "        vertical-align: middle;\n",
       "    }\n",
       "\n",
       "    .dataframe tbody tr th {\n",
       "        vertical-align: top;\n",
       "    }\n",
       "\n",
       "    .dataframe thead th {\n",
       "        text-align: right;\n",
       "    }\n",
       "</style>\n",
       "<table border=\"1\" class=\"dataframe\">\n",
       "  <thead>\n",
       "    <tr style=\"text-align: right;\">\n",
       "      <th></th>\n",
       "      <th>imdb_id</th>\n",
       "      <th>tmdb_id</th>\n",
       "      <th>Title</th>\n",
       "      <th>titleType</th>\n",
       "      <th>startYear</th>\n",
       "      <th>endYear</th>\n",
       "      <th>Streamer</th>\n",
       "      <th>Age</th>\n",
       "      <th>genre_1</th>\n",
       "      <th>genre_2</th>\n",
       "      <th>...</th>\n",
       "      <th>second_country</th>\n",
       "      <th>actor_1_pop</th>\n",
       "      <th>actor_2_pop</th>\n",
       "      <th>actor_1_name</th>\n",
       "      <th>actor_2_name</th>\n",
       "      <th>cast_pop</th>\n",
       "      <th>team_popularity</th>\n",
       "      <th>imdb_rating</th>\n",
       "      <th>imdb_no_votes</th>\n",
       "      <th>total_popularity</th>\n",
       "    </tr>\n",
       "  </thead>\n",
       "  <tbody>\n",
       "    <tr>\n",
       "      <th>0</th>\n",
       "      <td>1856010</td>\n",
       "      <td>1425</td>\n",
       "      <td>House of Cards</td>\n",
       "      <td>tvSeries</td>\n",
       "      <td>2013</td>\n",
       "      <td>2018</td>\n",
       "      <td>Netflix</td>\n",
       "      <td>18</td>\n",
       "      <td>Drama</td>\n",
       "      <td>Drama</td>\n",
       "      <td>...</td>\n",
       "      <td>US</td>\n",
       "      <td>35.6</td>\n",
       "      <td>26.5</td>\n",
       "      <td>Robin Wright</td>\n",
       "      <td>Michael Kelly</td>\n",
       "      <td>31.0</td>\n",
       "      <td>7.6</td>\n",
       "      <td>8.6</td>\n",
       "      <td>525135</td>\n",
       "      <td>5.76</td>\n",
       "    </tr>\n",
       "    <tr>\n",
       "      <th>1</th>\n",
       "      <td>2309295</td>\n",
       "      <td>42295</td>\n",
       "      <td>Hemlock Grove</td>\n",
       "      <td>tvSeries</td>\n",
       "      <td>2013</td>\n",
       "      <td>2015</td>\n",
       "      <td>Netflix</td>\n",
       "      <td>18</td>\n",
       "      <td>Drama</td>\n",
       "      <td>Fantasy</td>\n",
       "      <td>...</td>\n",
       "      <td>US</td>\n",
       "      <td>18.5</td>\n",
       "      <td>58.3</td>\n",
       "      <td>Landon Liboiron</td>\n",
       "      <td>Bill Skarsgård</td>\n",
       "      <td>38.4</td>\n",
       "      <td>2.4</td>\n",
       "      <td>7.0</td>\n",
       "      <td>42205</td>\n",
       "      <td>4.58</td>\n",
       "    </tr>\n",
       "    <tr>\n",
       "      <th>2</th>\n",
       "      <td>2372162</td>\n",
       "      <td>1424</td>\n",
       "      <td>Orange Is the New Black</td>\n",
       "      <td>tvSeries</td>\n",
       "      <td>2013</td>\n",
       "      <td>2019</td>\n",
       "      <td>Netflix</td>\n",
       "      <td>18</td>\n",
       "      <td>Comedy</td>\n",
       "      <td>Crime</td>\n",
       "      <td>...</td>\n",
       "      <td>US</td>\n",
       "      <td>28.4</td>\n",
       "      <td>12.3</td>\n",
       "      <td>Taylor Schilling</td>\n",
       "      <td>Natasha Lyonne</td>\n",
       "      <td>20.4</td>\n",
       "      <td>3.7</td>\n",
       "      <td>8.0</td>\n",
       "      <td>316768</td>\n",
       "      <td>5.32</td>\n",
       "    </tr>\n",
       "    <tr>\n",
       "      <th>3</th>\n",
       "      <td>2189461</td>\n",
       "      <td>60699</td>\n",
       "      <td>Marco Polo</td>\n",
       "      <td>tvSeries</td>\n",
       "      <td>2014</td>\n",
       "      <td>2016</td>\n",
       "      <td>Netflix</td>\n",
       "      <td>18</td>\n",
       "      <td>Action</td>\n",
       "      <td>Adventure</td>\n",
       "      <td>...</td>\n",
       "      <td>US</td>\n",
       "      <td>18.3</td>\n",
       "      <td>24.4</td>\n",
       "      <td>Lorenzo Richelmy</td>\n",
       "      <td>Benedict Wong</td>\n",
       "      <td>21.4</td>\n",
       "      <td>2.2</td>\n",
       "      <td>8.0</td>\n",
       "      <td>77293</td>\n",
       "      <td>5.04</td>\n",
       "    </tr>\n",
       "    <tr>\n",
       "      <th>4</th>\n",
       "      <td>3520702</td>\n",
       "      <td>61986</td>\n",
       "      <td>Bloodline</td>\n",
       "      <td>tvSeries</td>\n",
       "      <td>2015</td>\n",
       "      <td>2017</td>\n",
       "      <td>Netflix</td>\n",
       "      <td>18</td>\n",
       "      <td>Drama</td>\n",
       "      <td>Thriller</td>\n",
       "      <td>...</td>\n",
       "      <td>US</td>\n",
       "      <td>34.3</td>\n",
       "      <td>32.8</td>\n",
       "      <td>Kyle Chandler</td>\n",
       "      <td>Linda Cardellini</td>\n",
       "      <td>33.6</td>\n",
       "      <td>2.1</td>\n",
       "      <td>7.9</td>\n",
       "      <td>57529</td>\n",
       "      <td>5.01</td>\n",
       "    </tr>\n",
       "  </tbody>\n",
       "</table>\n",
       "<p>5 rows × 46 columns</p>\n",
       "</div>"
      ],
      "text/plain": [
       "   imdb_id  tmdb_id                    Title titleType  startYear  endYear  \\\n",
       "0  1856010     1425           House of Cards  tvSeries       2013     2018   \n",
       "1  2309295    42295            Hemlock Grove  tvSeries       2013     2015   \n",
       "2  2372162     1424  Orange Is the New Black  tvSeries       2013     2019   \n",
       "3  2189461    60699               Marco Polo  tvSeries       2014     2016   \n",
       "4  3520702    61986                Bloodline  tvSeries       2015     2017   \n",
       "\n",
       "  Streamer  Age genre_1    genre_2  ...  second_country actor_1_pop  \\\n",
       "0  Netflix   18   Drama      Drama  ...              US        35.6   \n",
       "1  Netflix   18   Drama    Fantasy  ...              US        18.5   \n",
       "2  Netflix   18  Comedy      Crime  ...              US        28.4   \n",
       "3  Netflix   18  Action  Adventure  ...              US        18.3   \n",
       "4  Netflix   18   Drama   Thriller  ...              US        34.3   \n",
       "\n",
       "  actor_2_pop      actor_1_name       actor_2_name  cast_pop  team_popularity  \\\n",
       "0        26.5      Robin Wright      Michael Kelly      31.0              7.6   \n",
       "1        58.3   Landon Liboiron     Bill Skarsgård      38.4              2.4   \n",
       "2        12.3  Taylor Schilling     Natasha Lyonne      20.4              3.7   \n",
       "3        24.4  Lorenzo Richelmy      Benedict Wong      21.4              2.2   \n",
       "4        32.8     Kyle Chandler   Linda Cardellini      33.6              2.1   \n",
       "\n",
       "   imdb_rating  imdb_no_votes  total_popularity  \n",
       "0          8.6         525135              5.76  \n",
       "1          7.0          42205              4.58  \n",
       "2          8.0         316768              5.32  \n",
       "3          8.0          77293              5.04  \n",
       "4          7.9          57529              5.01  \n",
       "\n",
       "[5 rows x 46 columns]"
      ]
     },
     "execution_count": 56,
     "metadata": {},
     "output_type": "execute_result"
    }
   ],
   "source": [
    "shows = pd.read_csv('datasets/series_DF.csv')\n",
    "shows_df = pd.DataFrame(shows)\n",
    "shows_df.head()"
   ]
  },
  {
   "cell_type": "code",
   "execution_count": 57,
   "id": "6d6bade9",
   "metadata": {},
   "outputs": [
    {
     "data": {
      "text/plain": [
       "imdb_id               int64\n",
       "tmdb_id               int64\n",
       "Title                object\n",
       "titleType            object\n",
       "startYear             int64\n",
       "endYear               int64\n",
       "Streamer             object\n",
       "Age                   int64\n",
       "genre_1              object\n",
       "genre_2              object\n",
       "creator/actor?        int64\n",
       "origin_language      object\n",
       "director_1_name      object\n",
       "director_2_name      object\n",
       "originalTitle        object\n",
       "writer_1_imdb#        int64\n",
       "writer_2_imdb#        int64\n",
       "writer_3_imdb#        int64\n",
       "director_1_imdb#      int64\n",
       "director_2_imdb#      int64\n",
       "director_3_imdb#      int64\n",
       "director_3_name      object\n",
       "writer_1_name        object\n",
       "writer_2_name        object\n",
       "writer_3_name        object\n",
       "ep_run_times          int64\n",
       "writer_1_pop        float64\n",
       "writer_2_pop        float64\n",
       "writer_3_pop        float64\n",
       "director_1_pop      float64\n",
       "director_2_pop      float64\n",
       "director_3_pop      float64\n",
       "tmdb_popularity     float64\n",
       "no_of_ep              int64\n",
       "no_of_seasons         int64\n",
       "first_country        object\n",
       "second_country       object\n",
       "actor_1_pop         float64\n",
       "actor_2_pop         float64\n",
       "actor_1_name         object\n",
       "actor_2_name         object\n",
       "cast_pop            float64\n",
       "team_popularity     float64\n",
       "imdb_rating         float64\n",
       "imdb_no_votes         int64\n",
       "total_popularity    float64\n",
       "dtype: object"
      ]
     },
     "execution_count": 57,
     "metadata": {},
     "output_type": "execute_result"
    }
   ],
   "source": [
    "shows_df.dtypes"
   ]
  },
  {
   "cell_type": "code",
   "execution_count": 58,
   "id": "113dd73c",
   "metadata": {},
   "outputs": [],
   "source": [
    "shows_df['actor_1_name'] = shows_df['actor_1_name'].astype('string')\n",
    "shows_df['actor_2_name'] = shows_df['actor_2_name'].astype('string')\n",
    "shows_df['writer_1_name'] = shows_df['writer_1_name'].astype('string')\n",
    "shows_df['writer_2_name'] = shows_df['writer_2_name'].astype('string')\n",
    "shows_df['writer_3_name'] = shows_df['writer_3_name'].astype('string')\n",
    "shows_df['first_country'] = shows_df['first_country'].astype('string')\n",
    "shows_df['second_country'] = shows_df['second_country'].astype('string')\n",
    "shows_df['director_3_name'] = shows_df['director_3_name'].astype('string')\n",
    "shows_df['originalTitle'] = shows_df['originalTitle'].astype('string')\n",
    "shows_df['director_1_name'] = shows_df['director_1_name'].astype('string')\n",
    "shows_df['director_2_name'] = shows_df['director_2_name'].astype('string')\n",
    "shows_df['genre_1'] = shows_df['genre_1'].astype('string')\n",
    "shows_df['genre_2'] = shows_df['genre_2'].astype('string')\n",
    "shows_df['Streamer'] = shows_df['Streamer'].astype('string')\n",
    "shows_df['Title'] = shows_df['Title'].astype('string')\n",
    "shows_df['titleType'] = shows_df['titleType'].astype('string')\n"
   ]
  },
  {
   "cell_type": "code",
   "execution_count": 59,
   "id": "b44694f5",
   "metadata": {},
   "outputs": [
    {
     "data": {
      "text/html": [
       "<div>\n",
       "<style scoped>\n",
       "    .dataframe tbody tr th:only-of-type {\n",
       "        vertical-align: middle;\n",
       "    }\n",
       "\n",
       "    .dataframe tbody tr th {\n",
       "        vertical-align: top;\n",
       "    }\n",
       "\n",
       "    .dataframe thead th {\n",
       "        text-align: right;\n",
       "    }\n",
       "</style>\n",
       "<table border=\"1\" class=\"dataframe\">\n",
       "  <thead>\n",
       "    <tr style=\"text-align: right;\">\n",
       "      <th></th>\n",
       "    </tr>\n",
       "  </thead>\n",
       "  <tbody>\n",
       "    <tr>\n",
       "      <th>imdb_id</th>\n",
       "    </tr>\n",
       "    <tr>\n",
       "      <th>tmdb_id</th>\n",
       "    </tr>\n",
       "    <tr>\n",
       "      <th>Title</th>\n",
       "    </tr>\n",
       "    <tr>\n",
       "      <th>titleType</th>\n",
       "    </tr>\n",
       "    <tr>\n",
       "      <th>startYear</th>\n",
       "    </tr>\n",
       "    <tr>\n",
       "      <th>endYear</th>\n",
       "    </tr>\n",
       "    <tr>\n",
       "      <th>Streamer</th>\n",
       "    </tr>\n",
       "    <tr>\n",
       "      <th>Age</th>\n",
       "    </tr>\n",
       "    <tr>\n",
       "      <th>genre_1</th>\n",
       "    </tr>\n",
       "    <tr>\n",
       "      <th>genre_2</th>\n",
       "    </tr>\n",
       "    <tr>\n",
       "      <th>creator/actor?</th>\n",
       "    </tr>\n",
       "    <tr>\n",
       "      <th>origin_language</th>\n",
       "    </tr>\n",
       "    <tr>\n",
       "      <th>director_1_name</th>\n",
       "    </tr>\n",
       "    <tr>\n",
       "      <th>director_2_name</th>\n",
       "    </tr>\n",
       "    <tr>\n",
       "      <th>originalTitle</th>\n",
       "    </tr>\n",
       "    <tr>\n",
       "      <th>writer_1_imdb#</th>\n",
       "    </tr>\n",
       "    <tr>\n",
       "      <th>writer_2_imdb#</th>\n",
       "    </tr>\n",
       "    <tr>\n",
       "      <th>writer_3_imdb#</th>\n",
       "    </tr>\n",
       "    <tr>\n",
       "      <th>director_1_imdb#</th>\n",
       "    </tr>\n",
       "    <tr>\n",
       "      <th>director_2_imdb#</th>\n",
       "    </tr>\n",
       "    <tr>\n",
       "      <th>director_3_imdb#</th>\n",
       "    </tr>\n",
       "    <tr>\n",
       "      <th>director_3_name</th>\n",
       "    </tr>\n",
       "    <tr>\n",
       "      <th>writer_1_name</th>\n",
       "    </tr>\n",
       "    <tr>\n",
       "      <th>writer_2_name</th>\n",
       "    </tr>\n",
       "    <tr>\n",
       "      <th>writer_3_name</th>\n",
       "    </tr>\n",
       "    <tr>\n",
       "      <th>ep_run_times</th>\n",
       "    </tr>\n",
       "    <tr>\n",
       "      <th>writer_1_pop</th>\n",
       "    </tr>\n",
       "    <tr>\n",
       "      <th>writer_2_pop</th>\n",
       "    </tr>\n",
       "    <tr>\n",
       "      <th>writer_3_pop</th>\n",
       "    </tr>\n",
       "    <tr>\n",
       "      <th>director_1_pop</th>\n",
       "    </tr>\n",
       "    <tr>\n",
       "      <th>director_2_pop</th>\n",
       "    </tr>\n",
       "    <tr>\n",
       "      <th>director_3_pop</th>\n",
       "    </tr>\n",
       "    <tr>\n",
       "      <th>tmdb_popularity</th>\n",
       "    </tr>\n",
       "    <tr>\n",
       "      <th>no_of_ep</th>\n",
       "    </tr>\n",
       "    <tr>\n",
       "      <th>no_of_seasons</th>\n",
       "    </tr>\n",
       "    <tr>\n",
       "      <th>first_country</th>\n",
       "    </tr>\n",
       "    <tr>\n",
       "      <th>second_country</th>\n",
       "    </tr>\n",
       "    <tr>\n",
       "      <th>actor_1_pop</th>\n",
       "    </tr>\n",
       "    <tr>\n",
       "      <th>actor_2_pop</th>\n",
       "    </tr>\n",
       "    <tr>\n",
       "      <th>actor_1_name</th>\n",
       "    </tr>\n",
       "    <tr>\n",
       "      <th>actor_2_name</th>\n",
       "    </tr>\n",
       "    <tr>\n",
       "      <th>cast_pop</th>\n",
       "    </tr>\n",
       "    <tr>\n",
       "      <th>team_popularity</th>\n",
       "    </tr>\n",
       "    <tr>\n",
       "      <th>imdb_rating</th>\n",
       "    </tr>\n",
       "    <tr>\n",
       "      <th>imdb_no_votes</th>\n",
       "    </tr>\n",
       "    <tr>\n",
       "      <th>total_popularity</th>\n",
       "    </tr>\n",
       "  </tbody>\n",
       "</table>\n",
       "</div>"
      ],
      "text/plain": [
       "Empty DataFrame\n",
       "Columns: []\n",
       "Index: [imdb_id, tmdb_id, Title, titleType, startYear, endYear, Streamer, Age, genre_1, genre_2, creator/actor?, origin_language, director_1_name, director_2_name, originalTitle, writer_1_imdb#, writer_2_imdb#, writer_3_imdb#, director_1_imdb#, director_2_imdb#, director_3_imdb#, director_3_name, writer_1_name, writer_2_name, writer_3_name, ep_run_times, writer_1_pop, writer_2_pop, writer_3_pop, director_1_pop, director_2_pop, director_3_pop, tmdb_popularity, no_of_ep, no_of_seasons, first_country, second_country, actor_1_pop, actor_2_pop, actor_1_name, actor_2_name, cast_pop, team_popularity, imdb_rating, imdb_no_votes, total_popularity]"
      ]
     },
     "execution_count": 59,
     "metadata": {},
     "output_type": "execute_result"
    }
   ],
   "source": [
    "shows_df.head(0).T"
   ]
  },
  {
   "cell_type": "markdown",
   "id": "eb8c7857",
   "metadata": {},
   "source": [
    "## 3.5 Baseline Modeling<a id ='3.5_Baseline_Modeling'><a>\n"
   ]
  },
  {
   "cell_type": "code",
   "execution_count": 64,
   "id": "df7983fe",
   "metadata": {},
   "outputs": [
    {
     "data": {
      "text/html": [
       "<div>\n",
       "<style scoped>\n",
       "    .dataframe tbody tr th:only-of-type {\n",
       "        vertical-align: middle;\n",
       "    }\n",
       "\n",
       "    .dataframe tbody tr th {\n",
       "        vertical-align: top;\n",
       "    }\n",
       "\n",
       "    .dataframe thead th {\n",
       "        text-align: right;\n",
       "    }\n",
       "</style>\n",
       "<table border=\"1\" class=\"dataframe\">\n",
       "  <thead>\n",
       "    <tr style=\"text-align: right;\">\n",
       "      <th></th>\n",
       "      <th>imdb_id</th>\n",
       "      <th>tmdb_id</th>\n",
       "      <th>Title</th>\n",
       "      <th>titleType</th>\n",
       "      <th>startYear</th>\n",
       "      <th>endYear</th>\n",
       "      <th>Age</th>\n",
       "      <th>creator/actor?</th>\n",
       "      <th>director_1_name</th>\n",
       "      <th>director_2_name</th>\n",
       "      <th>...</th>\n",
       "      <th>second_country_PT</th>\n",
       "      <th>second_country_SA</th>\n",
       "      <th>second_country_SE</th>\n",
       "      <th>second_country_TH</th>\n",
       "      <th>second_country_TN</th>\n",
       "      <th>second_country_TR</th>\n",
       "      <th>second_country_TW</th>\n",
       "      <th>second_country_US</th>\n",
       "      <th>second_country_VN</th>\n",
       "      <th>second_country_ZA</th>\n",
       "    </tr>\n",
       "  </thead>\n",
       "  <tbody>\n",
       "    <tr>\n",
       "      <th>0</th>\n",
       "      <td>1856010</td>\n",
       "      <td>1425</td>\n",
       "      <td>House of Cards</td>\n",
       "      <td>tvSeries</td>\n",
       "      <td>2013</td>\n",
       "      <td>2018</td>\n",
       "      <td>18</td>\n",
       "      <td>0</td>\n",
       "      <td>James Foley</td>\n",
       "      <td>Robin Wright</td>\n",
       "      <td>...</td>\n",
       "      <td>0</td>\n",
       "      <td>0</td>\n",
       "      <td>0</td>\n",
       "      <td>0</td>\n",
       "      <td>0</td>\n",
       "      <td>0</td>\n",
       "      <td>0</td>\n",
       "      <td>1</td>\n",
       "      <td>0</td>\n",
       "      <td>0</td>\n",
       "    </tr>\n",
       "    <tr>\n",
       "      <th>1</th>\n",
       "      <td>2309295</td>\n",
       "      <td>42295</td>\n",
       "      <td>Hemlock Grove</td>\n",
       "      <td>tvSeries</td>\n",
       "      <td>2013</td>\n",
       "      <td>2015</td>\n",
       "      <td>18</td>\n",
       "      <td>0</td>\n",
       "      <td>Carl Tibbetts</td>\n",
       "      <td>Floria Sigismondi</td>\n",
       "      <td>...</td>\n",
       "      <td>0</td>\n",
       "      <td>0</td>\n",
       "      <td>0</td>\n",
       "      <td>0</td>\n",
       "      <td>0</td>\n",
       "      <td>0</td>\n",
       "      <td>0</td>\n",
       "      <td>1</td>\n",
       "      <td>0</td>\n",
       "      <td>0</td>\n",
       "    </tr>\n",
       "    <tr>\n",
       "      <th>2</th>\n",
       "      <td>2372162</td>\n",
       "      <td>1424</td>\n",
       "      <td>Orange Is the New Black</td>\n",
       "      <td>tvSeries</td>\n",
       "      <td>2013</td>\n",
       "      <td>2019</td>\n",
       "      <td>18</td>\n",
       "      <td>0</td>\n",
       "      <td>Andrew McCarthy</td>\n",
       "      <td>Phil Abraham</td>\n",
       "      <td>...</td>\n",
       "      <td>0</td>\n",
       "      <td>0</td>\n",
       "      <td>0</td>\n",
       "      <td>0</td>\n",
       "      <td>0</td>\n",
       "      <td>0</td>\n",
       "      <td>0</td>\n",
       "      <td>1</td>\n",
       "      <td>0</td>\n",
       "      <td>0</td>\n",
       "    </tr>\n",
       "    <tr>\n",
       "      <th>3</th>\n",
       "      <td>2189461</td>\n",
       "      <td>60699</td>\n",
       "      <td>Marco Polo</td>\n",
       "      <td>tvSeries</td>\n",
       "      <td>2014</td>\n",
       "      <td>2016</td>\n",
       "      <td>18</td>\n",
       "      <td>0</td>\n",
       "      <td>Daniel Minahan</td>\n",
       "      <td>David Petrarca</td>\n",
       "      <td>...</td>\n",
       "      <td>0</td>\n",
       "      <td>0</td>\n",
       "      <td>0</td>\n",
       "      <td>0</td>\n",
       "      <td>0</td>\n",
       "      <td>0</td>\n",
       "      <td>0</td>\n",
       "      <td>1</td>\n",
       "      <td>0</td>\n",
       "      <td>0</td>\n",
       "    </tr>\n",
       "    <tr>\n",
       "      <th>4</th>\n",
       "      <td>3520702</td>\n",
       "      <td>61986</td>\n",
       "      <td>Bloodline</td>\n",
       "      <td>tvSeries</td>\n",
       "      <td>2015</td>\n",
       "      <td>2017</td>\n",
       "      <td>18</td>\n",
       "      <td>0</td>\n",
       "      <td>Mikael Håfström</td>\n",
       "      <td>Todd A. Kessler</td>\n",
       "      <td>...</td>\n",
       "      <td>0</td>\n",
       "      <td>0</td>\n",
       "      <td>0</td>\n",
       "      <td>0</td>\n",
       "      <td>0</td>\n",
       "      <td>0</td>\n",
       "      <td>0</td>\n",
       "      <td>1</td>\n",
       "      <td>0</td>\n",
       "      <td>0</td>\n",
       "    </tr>\n",
       "    <tr>\n",
       "      <th>...</th>\n",
       "      <td>...</td>\n",
       "      <td>...</td>\n",
       "      <td>...</td>\n",
       "      <td>...</td>\n",
       "      <td>...</td>\n",
       "      <td>...</td>\n",
       "      <td>...</td>\n",
       "      <td>...</td>\n",
       "      <td>...</td>\n",
       "      <td>...</td>\n",
       "      <td>...</td>\n",
       "      <td>...</td>\n",
       "      <td>...</td>\n",
       "      <td>...</td>\n",
       "      <td>...</td>\n",
       "      <td>...</td>\n",
       "      <td>...</td>\n",
       "      <td>...</td>\n",
       "      <td>...</td>\n",
       "      <td>...</td>\n",
       "      <td>...</td>\n",
       "    </tr>\n",
       "    <tr>\n",
       "      <th>1236</th>\n",
       "      <td>26315488</td>\n",
       "      <td>225148</td>\n",
       "      <td>Celebrity</td>\n",
       "      <td>tvSeries</td>\n",
       "      <td>2023</td>\n",
       "      <td>0</td>\n",
       "      <td>18</td>\n",
       "      <td>0</td>\n",
       "      <td>Kim Cheol-gyu</td>\n",
       "      <td>Kim Cheol-gyu</td>\n",
       "      <td>...</td>\n",
       "      <td>0</td>\n",
       "      <td>0</td>\n",
       "      <td>0</td>\n",
       "      <td>0</td>\n",
       "      <td>0</td>\n",
       "      <td>0</td>\n",
       "      <td>0</td>\n",
       "      <td>0</td>\n",
       "      <td>0</td>\n",
       "      <td>0</td>\n",
       "    </tr>\n",
       "    <tr>\n",
       "      <th>1237</th>\n",
       "      <td>19723614</td>\n",
       "      <td>137978</td>\n",
       "      <td>Feedback</td>\n",
       "      <td>tvSeries</td>\n",
       "      <td>2023</td>\n",
       "      <td>2023</td>\n",
       "      <td>18</td>\n",
       "      <td>0</td>\n",
       "      <td>Leszek Dawid</td>\n",
       "      <td>Leszek Dawid</td>\n",
       "      <td>...</td>\n",
       "      <td>0</td>\n",
       "      <td>0</td>\n",
       "      <td>0</td>\n",
       "      <td>0</td>\n",
       "      <td>0</td>\n",
       "      <td>0</td>\n",
       "      <td>0</td>\n",
       "      <td>0</td>\n",
       "      <td>0</td>\n",
       "      <td>0</td>\n",
       "    </tr>\n",
       "    <tr>\n",
       "      <th>1238</th>\n",
       "      <td>4196686</td>\n",
       "      <td>68296</td>\n",
       "      <td>The Kicks</td>\n",
       "      <td>tvSeries</td>\n",
       "      <td>2015</td>\n",
       "      <td>2016</td>\n",
       "      <td>0</td>\n",
       "      <td>0</td>\n",
       "      <td>Joe Nussbaum</td>\n",
       "      <td>Luke Matheny</td>\n",
       "      <td>...</td>\n",
       "      <td>0</td>\n",
       "      <td>0</td>\n",
       "      <td>0</td>\n",
       "      <td>0</td>\n",
       "      <td>0</td>\n",
       "      <td>0</td>\n",
       "      <td>0</td>\n",
       "      <td>1</td>\n",
       "      <td>0</td>\n",
       "      <td>0</td>\n",
       "    </tr>\n",
       "    <tr>\n",
       "      <th>1239</th>\n",
       "      <td>5200330</td>\n",
       "      <td>71655</td>\n",
       "      <td>Dino Dana</td>\n",
       "      <td>tvSeries</td>\n",
       "      <td>2017</td>\n",
       "      <td>2020</td>\n",
       "      <td>0</td>\n",
       "      <td>0</td>\n",
       "      <td>J.J. Johnson</td>\n",
       "      <td>Stefan Scaini</td>\n",
       "      <td>...</td>\n",
       "      <td>0</td>\n",
       "      <td>0</td>\n",
       "      <td>0</td>\n",
       "      <td>0</td>\n",
       "      <td>0</td>\n",
       "      <td>0</td>\n",
       "      <td>0</td>\n",
       "      <td>0</td>\n",
       "      <td>0</td>\n",
       "      <td>0</td>\n",
       "    </tr>\n",
       "    <tr>\n",
       "      <th>1240</th>\n",
       "      <td>7076630</td>\n",
       "      <td>109857</td>\n",
       "      <td>Vanity Fair</td>\n",
       "      <td>tvMiniSeries</td>\n",
       "      <td>2018</td>\n",
       "      <td>2018</td>\n",
       "      <td>14</td>\n",
       "      <td>0</td>\n",
       "      <td>James Strong</td>\n",
       "      <td>Jonathan Entwistle</td>\n",
       "      <td>...</td>\n",
       "      <td>0</td>\n",
       "      <td>0</td>\n",
       "      <td>0</td>\n",
       "      <td>0</td>\n",
       "      <td>0</td>\n",
       "      <td>0</td>\n",
       "      <td>0</td>\n",
       "      <td>0</td>\n",
       "      <td>0</td>\n",
       "      <td>0</td>\n",
       "    </tr>\n",
       "  </tbody>\n",
       "</table>\n",
       "<p>1241 rows × 204 columns</p>\n",
       "</div>"
      ],
      "text/plain": [
       "       imdb_id  tmdb_id                    Title     titleType  startYear  \\\n",
       "0      1856010     1425           House of Cards      tvSeries       2013   \n",
       "1      2309295    42295            Hemlock Grove      tvSeries       2013   \n",
       "2      2372162     1424  Orange Is the New Black      tvSeries       2013   \n",
       "3      2189461    60699               Marco Polo      tvSeries       2014   \n",
       "4      3520702    61986                Bloodline      tvSeries       2015   \n",
       "...        ...      ...                      ...           ...        ...   \n",
       "1236  26315488   225148                Celebrity      tvSeries       2023   \n",
       "1237  19723614   137978                 Feedback      tvSeries       2023   \n",
       "1238   4196686    68296                The Kicks      tvSeries       2015   \n",
       "1239   5200330    71655                Dino Dana      tvSeries       2017   \n",
       "1240   7076630   109857              Vanity Fair  tvMiniSeries       2018   \n",
       "\n",
       "      endYear  Age  creator/actor?  director_1_name     director_2_name  ...  \\\n",
       "0        2018   18               0      James Foley        Robin Wright  ...   \n",
       "1        2015   18               0    Carl Tibbetts   Floria Sigismondi  ...   \n",
       "2        2019   18               0  Andrew McCarthy        Phil Abraham  ...   \n",
       "3        2016   18               0   Daniel Minahan      David Petrarca  ...   \n",
       "4        2017   18               0  Mikael Håfström     Todd A. Kessler  ...   \n",
       "...       ...  ...             ...              ...                 ...  ...   \n",
       "1236        0   18               0    Kim Cheol-gyu       Kim Cheol-gyu  ...   \n",
       "1237     2023   18               0     Leszek Dawid        Leszek Dawid  ...   \n",
       "1238     2016    0               0     Joe Nussbaum        Luke Matheny  ...   \n",
       "1239     2020    0               0     J.J. Johnson       Stefan Scaini  ...   \n",
       "1240     2018   14               0     James Strong  Jonathan Entwistle  ...   \n",
       "\n",
       "     second_country_PT  second_country_SA  second_country_SE  \\\n",
       "0                    0                  0                  0   \n",
       "1                    0                  0                  0   \n",
       "2                    0                  0                  0   \n",
       "3                    0                  0                  0   \n",
       "4                    0                  0                  0   \n",
       "...                ...                ...                ...   \n",
       "1236                 0                  0                  0   \n",
       "1237                 0                  0                  0   \n",
       "1238                 0                  0                  0   \n",
       "1239                 0                  0                  0   \n",
       "1240                 0                  0                  0   \n",
       "\n",
       "      second_country_TH  second_country_TN  second_country_TR  \\\n",
       "0                     0                  0                  0   \n",
       "1                     0                  0                  0   \n",
       "2                     0                  0                  0   \n",
       "3                     0                  0                  0   \n",
       "4                     0                  0                  0   \n",
       "...                 ...                ...                ...   \n",
       "1236                  0                  0                  0   \n",
       "1237                  0                  0                  0   \n",
       "1238                  0                  0                  0   \n",
       "1239                  0                  0                  0   \n",
       "1240                  0                  0                  0   \n",
       "\n",
       "      second_country_TW second_country_US second_country_VN second_country_ZA  \n",
       "0                     0                 1                 0                 0  \n",
       "1                     0                 1                 0                 0  \n",
       "2                     0                 1                 0                 0  \n",
       "3                     0                 1                 0                 0  \n",
       "4                     0                 1                 0                 0  \n",
       "...                 ...               ...               ...               ...  \n",
       "1236                  0                 0                 0                 0  \n",
       "1237                  0                 0                 0                 0  \n",
       "1238                  0                 1                 0                 0  \n",
       "1239                  0                 0                 0                 0  \n",
       "1240                  0                 0                 0                 0  \n",
       "\n",
       "[1241 rows x 204 columns]"
      ]
     },
     "metadata": {},
     "output_type": "display_data"
    }
   ],
   "source": [
    "#Create dummy or indicator features for categorical variables\n",
    "df = shows_df.copy()\n",
    "\n",
    "df = pd.get_dummies(df,\n",
    "                     columns = ['genre_1', 'genre_2', 'origin_language', 'Streamer', 'first_country', 'second_country'])\n",
    "display(df)\n"
   ]
  },
  {
   "cell_type": "code",
   "execution_count": 65,
   "id": "5dbe3544",
   "metadata": {},
   "outputs": [
    {
     "data": {
      "text/plain": [
       "imdb_id               int64\n",
       "tmdb_id               int64\n",
       "Title                string\n",
       "titleType            string\n",
       "startYear             int64\n",
       "                      ...  \n",
       "second_country_TR     uint8\n",
       "second_country_TW     uint8\n",
       "second_country_US     uint8\n",
       "second_country_VN     uint8\n",
       "second_country_ZA     uint8\n",
       "Length: 204, dtype: object"
      ]
     },
     "execution_count": 65,
     "metadata": {},
     "output_type": "execute_result"
    }
   ],
   "source": [
    "#let's make sure of the feature types.\n",
    "df.dtypes"
   ]
  },
  {
   "cell_type": "code",
   "execution_count": 66,
   "id": "a9929b19",
   "metadata": {},
   "outputs": [
    {
     "data": {
      "text/html": [
       "<div>\n",
       "<style scoped>\n",
       "    .dataframe tbody tr th:only-of-type {\n",
       "        vertical-align: middle;\n",
       "    }\n",
       "\n",
       "    .dataframe tbody tr th {\n",
       "        vertical-align: top;\n",
       "    }\n",
       "\n",
       "    .dataframe thead th {\n",
       "        text-align: right;\n",
       "    }\n",
       "</style>\n",
       "<table border=\"1\" class=\"dataframe\">\n",
       "  <thead>\n",
       "    <tr style=\"text-align: right;\">\n",
       "      <th></th>\n",
       "      <th>startYear</th>\n",
       "      <th>endYear</th>\n",
       "      <th>Age</th>\n",
       "      <th>creator/actor?</th>\n",
       "      <th>ep_run_times</th>\n",
       "      <th>no_of_ep</th>\n",
       "      <th>no_of_seasons</th>\n",
       "      <th>cast_pop</th>\n",
       "      <th>team_popularity</th>\n",
       "      <th>total_popularity</th>\n",
       "      <th>...</th>\n",
       "      <th>second_country_PT</th>\n",
       "      <th>second_country_SA</th>\n",
       "      <th>second_country_SE</th>\n",
       "      <th>second_country_TH</th>\n",
       "      <th>second_country_TN</th>\n",
       "      <th>second_country_TR</th>\n",
       "      <th>second_country_TW</th>\n",
       "      <th>second_country_US</th>\n",
       "      <th>second_country_VN</th>\n",
       "      <th>second_country_ZA</th>\n",
       "    </tr>\n",
       "  </thead>\n",
       "  <tbody>\n",
       "    <tr>\n",
       "      <th>0</th>\n",
       "      <td>2013</td>\n",
       "      <td>2018</td>\n",
       "      <td>18</td>\n",
       "      <td>0</td>\n",
       "      <td>73</td>\n",
       "      <td>73</td>\n",
       "      <td>6</td>\n",
       "      <td>31.0</td>\n",
       "      <td>7.6</td>\n",
       "      <td>5.76</td>\n",
       "      <td>...</td>\n",
       "      <td>0</td>\n",
       "      <td>0</td>\n",
       "      <td>0</td>\n",
       "      <td>0</td>\n",
       "      <td>0</td>\n",
       "      <td>0</td>\n",
       "      <td>0</td>\n",
       "      <td>1</td>\n",
       "      <td>0</td>\n",
       "      <td>0</td>\n",
       "    </tr>\n",
       "    <tr>\n",
       "      <th>1</th>\n",
       "      <td>2013</td>\n",
       "      <td>2015</td>\n",
       "      <td>18</td>\n",
       "      <td>0</td>\n",
       "      <td>60</td>\n",
       "      <td>33</td>\n",
       "      <td>3</td>\n",
       "      <td>38.4</td>\n",
       "      <td>2.4</td>\n",
       "      <td>4.58</td>\n",
       "      <td>...</td>\n",
       "      <td>0</td>\n",
       "      <td>0</td>\n",
       "      <td>0</td>\n",
       "      <td>0</td>\n",
       "      <td>0</td>\n",
       "      <td>0</td>\n",
       "      <td>0</td>\n",
       "      <td>1</td>\n",
       "      <td>0</td>\n",
       "      <td>0</td>\n",
       "    </tr>\n",
       "    <tr>\n",
       "      <th>2</th>\n",
       "      <td>2013</td>\n",
       "      <td>2019</td>\n",
       "      <td>18</td>\n",
       "      <td>0</td>\n",
       "      <td>60</td>\n",
       "      <td>91</td>\n",
       "      <td>7</td>\n",
       "      <td>20.4</td>\n",
       "      <td>3.7</td>\n",
       "      <td>5.32</td>\n",
       "      <td>...</td>\n",
       "      <td>0</td>\n",
       "      <td>0</td>\n",
       "      <td>0</td>\n",
       "      <td>0</td>\n",
       "      <td>0</td>\n",
       "      <td>0</td>\n",
       "      <td>0</td>\n",
       "      <td>1</td>\n",
       "      <td>0</td>\n",
       "      <td>0</td>\n",
       "    </tr>\n",
       "    <tr>\n",
       "      <th>3</th>\n",
       "      <td>2014</td>\n",
       "      <td>2016</td>\n",
       "      <td>18</td>\n",
       "      <td>0</td>\n",
       "      <td>60</td>\n",
       "      <td>20</td>\n",
       "      <td>2</td>\n",
       "      <td>21.4</td>\n",
       "      <td>2.2</td>\n",
       "      <td>5.04</td>\n",
       "      <td>...</td>\n",
       "      <td>0</td>\n",
       "      <td>0</td>\n",
       "      <td>0</td>\n",
       "      <td>0</td>\n",
       "      <td>0</td>\n",
       "      <td>0</td>\n",
       "      <td>0</td>\n",
       "      <td>1</td>\n",
       "      <td>0</td>\n",
       "      <td>0</td>\n",
       "    </tr>\n",
       "    <tr>\n",
       "      <th>4</th>\n",
       "      <td>2015</td>\n",
       "      <td>2017</td>\n",
       "      <td>18</td>\n",
       "      <td>0</td>\n",
       "      <td>60</td>\n",
       "      <td>33</td>\n",
       "      <td>3</td>\n",
       "      <td>33.6</td>\n",
       "      <td>2.1</td>\n",
       "      <td>5.01</td>\n",
       "      <td>...</td>\n",
       "      <td>0</td>\n",
       "      <td>0</td>\n",
       "      <td>0</td>\n",
       "      <td>0</td>\n",
       "      <td>0</td>\n",
       "      <td>0</td>\n",
       "      <td>0</td>\n",
       "      <td>1</td>\n",
       "      <td>0</td>\n",
       "      <td>0</td>\n",
       "    </tr>\n",
       "  </tbody>\n",
       "</table>\n",
       "<p>5 rows × 174 columns</p>\n",
       "</div>"
      ],
      "text/plain": [
       "   startYear  endYear  Age  creator/actor?  ep_run_times  no_of_ep  \\\n",
       "0       2013     2018   18               0            73        73   \n",
       "1       2013     2015   18               0            60        33   \n",
       "2       2013     2019   18               0            60        91   \n",
       "3       2014     2016   18               0            60        20   \n",
       "4       2015     2017   18               0            60        33   \n",
       "\n",
       "   no_of_seasons  cast_pop  team_popularity  total_popularity  ...  \\\n",
       "0              6      31.0              7.6              5.76  ...   \n",
       "1              3      38.4              2.4              4.58  ...   \n",
       "2              7      20.4              3.7              5.32  ...   \n",
       "3              2      21.4              2.2              5.04  ...   \n",
       "4              3      33.6              2.1              5.01  ...   \n",
       "\n",
       "   second_country_PT  second_country_SA  second_country_SE  second_country_TH  \\\n",
       "0                  0                  0                  0                  0   \n",
       "1                  0                  0                  0                  0   \n",
       "2                  0                  0                  0                  0   \n",
       "3                  0                  0                  0                  0   \n",
       "4                  0                  0                  0                  0   \n",
       "\n",
       "   second_country_TN  second_country_TR  second_country_TW  second_country_US  \\\n",
       "0                  0                  0                  0                  1   \n",
       "1                  0                  0                  0                  1   \n",
       "2                  0                  0                  0                  1   \n",
       "3                  0                  0                  0                  1   \n",
       "4                  0                  0                  0                  1   \n",
       "\n",
       "   second_country_VN  second_country_ZA  \n",
       "0                  0                  0  \n",
       "1                  0                  0  \n",
       "2                  0                  0  \n",
       "3                  0                  0  \n",
       "4                  0                  0  \n",
       "\n",
       "[5 rows x 174 columns]"
      ]
     },
     "execution_count": 66,
     "metadata": {},
     "output_type": "execute_result"
    }
   ],
   "source": [
    "# dropping unnecessary categorical and numerical features\n",
    "df.drop(columns = ['imdb_id', 'tmdb_id', 'Title', 'titleType', 'originalTitle', 'director_1_name', 'director_2_name'\n",
    "                  , 'director_3_name', 'writer_1_name', 'writer_2_name', 'writer_3_name', 'actor_1_name', \n",
    "                   'actor_2_name', 'writer_1_imdb#', 'writer_2_imdb#', 'writer_3_imdb#', 'director_1_imdb#',\n",
    "                  'director_2_imdb#', 'director_3_imdb#', 'imdb_no_votes', 'actor_1_pop', 'actor_2_pop',\n",
    "                   'writer_1_pop', 'writer_2_pop', 'writer_3_pop', 'director_1_pop', 'director_2_pop',\n",
    "                   'director_3_pop','imdb_rating', 'tmdb_popularity'], inplace = True)\n",
    "df.head()"
   ]
  },
  {
   "cell_type": "code",
   "execution_count": 67,
   "id": "03185d3f",
   "metadata": {},
   "outputs": [
    {
     "data": {
      "text/plain": [
       "Index(['startYear', 'endYear', 'Age', 'creator/actor?', 'ep_run_times',\n",
       "       'no_of_ep', 'no_of_seasons', 'cast_pop', 'team_popularity',\n",
       "       'total_popularity',\n",
       "       ...\n",
       "       'second_country_PT', 'second_country_SA', 'second_country_SE',\n",
       "       'second_country_TH', 'second_country_TN', 'second_country_TR',\n",
       "       'second_country_TW', 'second_country_US', 'second_country_VN',\n",
       "       'second_country_ZA'],\n",
       "      dtype='object', length=174)"
      ]
     },
     "execution_count": 67,
     "metadata": {},
     "output_type": "execute_result"
    }
   ],
   "source": [
    "df.columns"
   ]
  },
  {
   "cell_type": "code",
   "execution_count": 68,
   "id": "5a2353d8",
   "metadata": {},
   "outputs": [],
   "source": [
    "# Making a Scaler object\n",
    "#scaler = StandardScaler()\n",
    "# Fitting data to the scaler object\n",
    "#scaled_df = scaler.fit_transform(df)\n",
    "#scaled_df = pd.DataFrame(scaled_df, columns= df.columns)\n",
    "#scaled_df.columns"
   ]
  },
  {
   "cell_type": "code",
   "execution_count": 69,
   "id": "99206827",
   "metadata": {},
   "outputs": [],
   "source": [
    "#Split into testing and training datasets \n",
    "X_train, X_test, y_train, y_test = train_test_split(df.drop(columns = 'total_popularity'),df.total_popularity, \n",
    "                                                 test_size=0.25, \n",
    "                                                    random_state=47)\n"
   ]
  },
  {
   "cell_type": "markdown",
   "id": "5a78e095",
   "metadata": {},
   "source": [
    "## 3.5.1 Linear (and Lasso) Regression <a id = '3.5.1_Linear_(and_Lasso)_Regression' ><a>"
   ]
  },
  {
   "cell_type": "code",
   "execution_count": 70,
   "id": "e2826975",
   "metadata": {},
   "outputs": [
    {
     "name": "stdout",
     "output_type": "stream",
     "text": [
      "Coefficients:  [-2.00419486e-02 -5.96851794e-06  2.25739797e-02  1.30989427e-01\n",
      "  5.21588475e-03 -8.46557164e-04  6.83919175e-02  9.15447417e-03\n",
      "  4.42077092e-02  2.77866910e-01  1.38959477e-01  3.10137375e-01\n",
      "  1.93531218e-01  6.31952953e-02  2.49318620e-01  1.77316041e-03\n",
      "  2.16742814e-01 -2.43396134e-01  2.46469511e-14 -4.13631600e-01\n",
      " -6.16883846e-01 -4.06957092e-01  4.24204306e-01 -3.52083738e-01\n",
      "  1.57223236e-01 -7.89100387e-01  9.84237963e-02 -1.28933220e-02\n",
      "  2.27595720e-15 -6.14851109e-02  1.64905296e-01  3.73360163e-02\n",
      "  1.71719855e-01 -1.79657550e-01  8.02802479e-02  1.95390000e-01\n",
      " -4.60747142e-02 -2.22668731e-01 -3.58449410e-01  4.21983213e-02\n",
      "  4.54267942e-01  1.09463720e-01  2.29741705e-01  2.72510170e-01\n",
      " -2.39590988e-01 -1.28089666e-01 -1.04507504e-01  2.86280314e-01\n",
      "  2.84852155e-02  1.11022302e-16 -8.25850068e-02  4.61692788e-03\n",
      " -3.25254387e-01  1.86014671e-01  8.80085179e-02 -2.71058822e-01\n",
      " -1.13001560e-01  9.28122396e-03  1.58781116e-01  9.49494103e-02\n",
      "  6.24675839e-02 -1.34616301e-01  1.14245939e-02  1.60398167e-01\n",
      "  7.18218990e-02 -2.53069211e-02  7.11197804e-02  6.10565287e-02\n",
      " -7.03112429e-02 -2.37169891e-01  3.55865088e-02  7.01506192e-02\n",
      " -4.87950968e-03  1.50020877e-01  1.43654927e-02 -5.60668419e-02\n",
      " -6.58452914e-02 -8.63735307e-03  1.16183994e-01 -7.07846149e-01\n",
      "  1.88063919e-01  1.50118643e-01  4.78485748e-02 -1.17258202e-01\n",
      "  4.35853593e-01 -6.87636347e-02  7.80427563e-02 -1.35361241e-01\n",
      "  2.05282487e-01  2.92088221e-02  4.61692788e-03 -3.65708435e-02\n",
      " -1.59180807e-01 -2.71058822e-01  4.44344036e-01  3.63717527e-02\n",
      "  1.38777878e-16  1.58781116e-01  2.57392726e-01 -1.94648148e-02\n",
      "  1.10118356e-01  9.49494103e-02 -9.24261973e-03  6.50560590e-02\n",
      "  3.65111670e-01 -6.48210889e-01  1.14245939e-02 -3.87646053e-01\n",
      " -3.71466876e-01 -8.60215374e-02  7.18218990e-02 -1.75457090e-01\n",
      "  0.00000000e+00 -4.33102464e-02 -2.53069211e-02  9.22302719e-02\n",
      "  1.88377983e-01  0.00000000e+00  6.10565287e-02  4.77244117e-01\n",
      " -7.03112429e-02  3.55865088e-02 -8.29222660e-02  1.98602691e-01\n",
      "  7.01506192e-02 -4.62255807e-01  3.79804935e-01  1.88063919e-01\n",
      "  9.45201489e-03  4.78485748e-02 -1.17258202e-01 -3.26190528e-01\n",
      " -6.87636347e-02  7.80427563e-02 -1.35361241e-01  4.41590980e-01\n",
      "  4.61692788e-03 -3.65708435e-02 -4.71061516e-02 -2.71058822e-01\n",
      " -1.98961888e-01 -1.65398247e-01  0.00000000e+00  1.58781116e-01\n",
      "  2.57392726e-01 -1.94648148e-02  1.10118356e-01  9.49494103e-02\n",
      "  6.24675839e-02  6.50560590e-02 -1.34616301e-01 -6.48210889e-01\n",
      "  1.14245939e-02  2.73395553e-01  1.33529173e-02 -3.71466876e-01\n",
      " -8.60215374e-02  7.18218990e-02  6.68434500e-01  0.00000000e+00\n",
      " -4.33102464e-02 -2.53069211e-02  9.22302719e-02  1.88377983e-01\n",
      "  0.00000000e+00  6.10565287e-02 -7.03112429e-02  0.00000000e+00\n",
      "  3.55865088e-02 -9.62751833e-02 -6.01073566e-02  7.01506192e-02\n",
      " -4.62255807e-01]\n",
      "Variance score: 0.30939098843696156\n"
     ]
    }
   ],
   "source": [
    "# Trying Linear Regression\n",
    "start_time = dt.now()\n",
    "linear = LinearRegression()\n",
    "linear_model = linear.fit(X_train,y_train)\n",
    "\n",
    "# regression coefficients\n",
    "print('Coefficients: ', linear.coef_)\n",
    " \n",
    "\n",
    "# variance score\n",
    "print('Variance score: {}'.format(linear_model.score(X_test, y_test)))\n",
    "\n"
   ]
  },
  {
   "cell_type": "code",
   "execution_count": 71,
   "id": "d2187d79",
   "metadata": {},
   "outputs": [
    {
     "name": "stdout",
     "output_type": "stream",
     "text": [
      "Mean Squared Error: 0.18444699834313347 R Squared Score: 0.5316855469598918\n"
     ]
    }
   ],
   "source": [
    "# checking mean squared error and r squared score of the train data\n",
    "y_train_pred = linear.predict(X_train)\n",
    "\n",
    "mse_train = mean_squared_error(y_train, y_train_pred)\n",
    "r2_train = r2_score(y_train, y_train_pred)\n",
    "print (\"Mean Squared Error: {}\".format(mse_train), \"R Squared Score: {}\".format(r2_train))"
   ]
  },
  {
   "cell_type": "code",
   "execution_count": 72,
   "id": "305b2a0d",
   "metadata": {},
   "outputs": [
    {
     "name": "stdout",
     "output_type": "stream",
     "text": [
      "Mean Squared Error: 0.24282804480012726 R Squared Score: 0.30939098843696156\n"
     ]
    }
   ],
   "source": [
    "y_test_pred = linear.predict(X_test)\n",
    "\n",
    "mse_test = mean_squared_error(y_test, y_test_pred)\n",
    "r2_test = r2_score(y_test, y_test_pred)\n",
    "print (\"Mean Squared Error: {}\".format(mse_test), \"R Squared Score: {}\".format(r2_test))"
   ]
  },
  {
   "cell_type": "markdown",
   "id": "600b206e",
   "metadata": {},
   "source": [
    "Train data performs much better, let's check visually if our data is overfit."
   ]
  },
  {
   "cell_type": "code",
   "execution_count": 73,
   "id": "408edb6a",
   "metadata": {},
   "outputs": [
    {
     "data": {
      "image/png": "[encoded data removed]",
      "text/plain": [
       "<Figure size 720x360 with 1 Axes>"
      ]
     },
     "metadata": {
      "needs_background": "light"
     },
     "output_type": "display_data"
    },
    {
     "data": {
      "image/png": "[encoded data removed]",
      "text/plain": [
       "<Figure size 720x360 with 1 Axes>"
      ]
     },
     "metadata": {
      "needs_background": "light"
     },
     "output_type": "display_data"
    }
   ],
   "source": [
    "# Scatter plot for the training set\n",
    "plt.figure(figsize=(10, 5))\n",
    "plt.scatter(y_train, y_train_pred, color='purple', label='Training Set')\n",
    "plt.plot([min(y_train), max(y_train)], [min(y_train), max(y_train)], linestyle='--', color='red', linewidth=2)\n",
    "plt.title('Training Set: Actual vs Predicted')\n",
    "plt.xlabel('Actual Values')\n",
    "plt.ylabel('Predicted Values')\n",
    "plt.legend()\n",
    "plt.show()\n",
    "\n",
    "# Scatter plot for the test set\n",
    "plt.figure(figsize=(10, 5))\n",
    "plt.scatter(y_test, y_test_pred, color='green', label='Test Set')\n",
    "plt.plot([min(y_test), max(y_test)], [min(y_test), max(y_test)], linestyle='--', color='red', linewidth=2)\n",
    "plt.title('Test Set: Actual vs Predicted')\n",
    "plt.xlabel('Actual Values')\n",
    "plt.ylabel('Predicted Values')\n",
    "plt.legend()\n",
    "plt.show()"
   ]
  },
  {
   "cell_type": "markdown",
   "id": "fc473af1",
   "metadata": {},
   "source": [
    "yes it looks very overfit compared to test set. "
   ]
  },
  {
   "cell_type": "markdown",
   "id": "601a3bcd",
   "metadata": {},
   "source": [
    "Let's try lasso model. But first, let's find the best alpha for it."
   ]
  },
  {
   "cell_type": "code",
   "execution_count": 91,
   "id": "ec974db3",
   "metadata": {},
   "outputs": [
    {
     "name": "stdout",
     "output_type": "stream",
     "text": [
      "0.1\n"
     ]
    }
   ],
   "source": [
    "alphas = [0.1,0.3, 0.5, 0.8, 1]\n",
    "lassocv = LassoCV(alphas=alphas, cv=5).fit(X_train,y_train)\n",
    "print(lassocv.alpha_)"
   ]
  },
  {
   "cell_type": "code",
   "execution_count": 92,
   "id": "4399a20f",
   "metadata": {},
   "outputs": [
    {
     "name": "stdout",
     "output_type": "stream",
     "text": [
      "The train score 0.38444219149186354\n",
      "The test score  0.29744025312683464\n"
     ]
    }
   ],
   "source": [
    "#Lasso regression model\n",
    "lasso = Lasso(alpha = 0.1)\n",
    "lasso_model = lasso.fit(X_train,y_train)\n",
    "train_score_ls =lasso.score(X_train,y_train)\n",
    "test_score_ls =lasso.score(X_test,y_test)\n",
    "\n",
    "print(\"The train score {}\".format(train_score_ls))\n",
    "print(\"The test score  {}\".format(test_score_ls))"
   ]
  },
  {
   "cell_type": "markdown",
   "id": "6d358cb2",
   "metadata": {},
   "source": [
    "This score looks better."
   ]
  },
  {
   "cell_type": "markdown",
   "id": "4424437d",
   "metadata": {},
   "source": [
    "## 3.5.2 Evaluation Metrics for Linear (and Lasso) Regression<a id= '3.5.2_Evaluation_Metrics_for_Linear(and_Lasso)_Regression'><a>"
   ]
  },
  {
   "cell_type": "markdown",
   "id": "4235797e",
   "metadata": {},
   "source": [
    "Adjusted R-Squared for Linear Regressio:"
   ]
  },
  {
   "cell_type": "code",
   "execution_count": 76,
   "id": "ef042a18",
   "metadata": {},
   "outputs": [
    {
     "name": "stdout",
     "output_type": "stream",
     "text": [
      "R-squared: 0.30939098843696156\n",
      "Adjusted R-squared: -0.5626919239747585\n"
     ]
    }
   ],
   "source": [
    "#Make predictions\n",
    "y_pred = linear.predict(X_test)\n",
    "\n",
    "# Calculate the regular R-squared\n",
    "linear_r2 = r2_score(y_test, y_pred)\n",
    "\n",
    "# Get the number of observations (n) and predictors (k)\n",
    "n = X_test.shape[0]\n",
    "k = X_test.shape[1]\n",
    "\n",
    "# Calculate the adjusted R-squared\n",
    "linear_adjusted_r2 = 1 - ((1 - linear_r2) * (n - 1) / (n - k - 1))\n",
    "\n",
    "print(f'R-squared: {linear_r2}')\n",
    "print(f'Adjusted R-squared: {linear_adjusted_r2}')"
   ]
  },
  {
   "cell_type": "markdown",
   "id": "394827c8",
   "metadata": {},
   "source": [
    "With Lasso"
   ]
  },
  {
   "cell_type": "code",
   "execution_count": 77,
   "id": "000b534d",
   "metadata": {},
   "outputs": [
    {
     "name": "stdout",
     "output_type": "stream",
     "text": [
      "R-squared: 0.29744025312683464\n",
      "Adjusted R-squared: -0.5897337338005932\n"
     ]
    }
   ],
   "source": [
    "#Make predictions\n",
    "y_pred2 = lasso.predict(X_test)\n",
    "\n",
    "# Calculate the regular R-squared\n",
    "lasso_r2 = r2_score(y_test, y_pred2)\n",
    "\n",
    "# Get the number of observations (n) and predictors (k)\n",
    "n = X_test.shape[0]\n",
    "k = X_test.shape[1]\n",
    "\n",
    "# Calculate the adjusted R-squared\n",
    "lasso_adjusted_r2 = 1 - ((1 - lasso_r2) * (n - 1) / (n - k - 1))\n",
    "\n",
    "print(f'R-squared: {lasso_r2}')\n",
    "print(f'Adjusted R-squared: {lasso_adjusted_r2}')"
   ]
  },
  {
   "cell_type": "markdown",
   "id": "5f26dc31",
   "metadata": {},
   "source": [
    "Mean Absolute Percentage Error:"
   ]
  },
  {
   "cell_type": "code",
   "execution_count": 78,
   "id": "1a73a56e",
   "metadata": {},
   "outputs": [
    {
     "name": "stdout",
     "output_type": "stream",
     "text": [
      "Linear Reg's MAPE % 9.28\n",
      "Lasso Reg's MAPE % 9.44\n"
     ]
    }
   ],
   "source": [
    "# For Linear\n",
    "percent_error = (y_test - y_pred) / y_test\n",
    "\n",
    "ab_percent_error = abs(percent_error)\n",
    "\n",
    "linear_mape = np.mean(ab_percent_error)\n",
    "print (\"Linear Reg's MAPE % {}\".format(round(linear_mape *100,2)))\n",
    "\n",
    "# Lasso\n",
    "percent_error = (y_test - y_pred2) / y_test\n",
    "\n",
    "ab_percent_error = abs(percent_error)\n",
    "\n",
    "lasso_mape = np.mean(ab_percent_error)\n",
    "print (\"Lasso Reg's MAPE % {}\".format(round(lasso_mape *100,2)))\n"
   ]
  },
  {
   "cell_type": "code",
   "execution_count": 79,
   "id": "70586213",
   "metadata": {},
   "outputs": [
    {
     "name": "stdout",
     "output_type": "stream",
     "text": [
      "Linear Reg's MAPE % 9.28\n",
      "Lasso Reg's MAPE % 9.44\n"
     ]
    }
   ],
   "source": [
    "#there is also function doing the calcuations\n",
    "line_mape = mean_absolute_percentage_error(y_test, y_pred)\n",
    "print (\"Linear Reg's MAPE % {}\".format(round(linear_mape *100,2)))\n",
    "\n",
    "lasso_mape = mean_absolute_percentage_error(y_test, y_pred2)\n",
    "print (\"Lasso Reg's MAPE % {}\".format(round(lasso_mape *100,2)))\n"
   ]
  },
  {
   "cell_type": "markdown",
   "id": "62652710",
   "metadata": {},
   "source": [
    "There doesn't seem to be so much improvement."
   ]
  },
  {
   "cell_type": "markdown",
   "id": "79256e9c",
   "metadata": {},
   "source": [
    "Actual-vs-Predicted scatter plots:"
   ]
  },
  {
   "cell_type": "code",
   "execution_count": 80,
   "id": "8226134e",
   "metadata": {},
   "outputs": [
    {
     "data": {
      "image/png": "[encoded data removed]",
      "text/plain": [
       "<Figure size 432x288 with 1 Axes>"
      ]
     },
     "metadata": {
      "needs_background": "light"
     },
     "output_type": "display_data"
    }
   ],
   "source": [
    "# For Linear Regression\n",
    "plt.scatter(y_test, y_pred, color='blue', label='Actual vs Predicted')\n",
    "\n",
    "# The 45-degree red line\n",
    "plt.plot([min(y_test), max(y_test)], [min(y_test), max(y_test)], linestyle='--', color='red', linewidth=2, label='45-Degree Line')\n",
    "\n",
    "# Labels\n",
    "plt.title('Actual vs Predicted Popularity of the TV Shows')\n",
    "plt.xlabel('Actual Popularity')\n",
    "plt.ylabel('Predicted Popularity')\n",
    "\n",
    "plt.legend()\n",
    "\n",
    "plt.show()"
   ]
  },
  {
   "cell_type": "code",
   "execution_count": 93,
   "id": "bf6d332b",
   "metadata": {},
   "outputs": [
    {
     "data": {
      "image/png": "[encoded data removed]",
      "text/plain": [
       "<Figure size 432x288 with 1 Axes>"
      ]
     },
     "metadata": {
      "needs_background": "light"
     },
     "output_type": "display_data"
    }
   ],
   "source": [
    "#For Lasso\n",
    "\n",
    "plt.scatter(y_test, y_pred2, color='pink', label='Actual vs Predicted')\n",
    "\n",
    "# The 45-degree red line\n",
    "plt.plot([min(y_test), max(y_test)], [min(y_test), max(y_test)], linestyle='--', color='red', linewidth=2, label='45-Degree Line')\n",
    "\n",
    "# Labels\n",
    "plt.title('Actual vs Predicted Popularity of the TV Shows')\n",
    "plt.xlabel('Actual Popularity')\n",
    "plt.ylabel('Predicted Popularity')\n",
    "\n",
    "plt.legend()\n",
    "\n",
    "plt.show()"
   ]
  },
  {
   "cell_type": "markdown",
   "id": "fd098b9a",
   "metadata": {},
   "source": [
    "Histogram of Distribution of the Residuals:"
   ]
  },
  {
   "cell_type": "code",
   "execution_count": 82,
   "id": "5e569970",
   "metadata": {},
   "outputs": [
    {
     "data": {
      "image/png": "[encoded data removed]",
      "text/plain": [
       "<Figure size 432x288 with 1 Axes>"
      ]
     },
     "metadata": {
      "needs_background": "light"
     },
     "output_type": "display_data"
    }
   ],
   "source": [
    "#For Linear Regression\n",
    "residuals = np.array(y_test) - np.array(y_pred)\n",
    "residuals2 = np.array(y_test) - np.array(y_pred2)\n",
    "\n",
    "# Create a histogram of residuals\n",
    "ax1 = plt.hist(residuals, bins=30, color='blue',alpha=0.7, rwidth=0.85, label = 'Linear' )\n",
    "\n",
    "# Create a histogram of residuals\n",
    "ax2 = plt.hist(residuals2, bins=30, color='pink',alpha=0.5, rwidth=0.85, label = 'Lasso' )\n",
    "\n",
    "\n",
    "# Set labels and title\n",
    "plt.title('Distribution of Residuals')\n",
    "plt.xlabel('Residuals')\n",
    "plt.ylabel('Frequency')\n",
    "plt.legend()\n",
    "# Show the plot\n",
    "plt.show()"
   ]
  },
  {
   "cell_type": "markdown",
   "id": "00028142",
   "metadata": {},
   "source": [
    "Linear Regression's residuals are closer to zero than Lasso regression."
   ]
  },
  {
   "cell_type": "markdown",
   "id": "4efbf16c",
   "metadata": {},
   "source": [
    "## 3.5.3 Random Forest Regression <a id= '3.5.3_Random_Forest_Regression' ><a>"
   ]
  },
  {
   "cell_type": "markdown",
   "id": "ca9a52b6",
   "metadata": {},
   "source": [
    "Applying Random Forest Regression. But first, let's find the best parameters:"
   ]
  },
  {
   "cell_type": "code",
   "execution_count": 83,
   "id": "4ac55a68",
   "metadata": {},
   "outputs": [],
   "source": [
    "# Hyperparameters for RandomForestRegresser\n",
    "\n",
    "param_grid ={'n_estimators': [5, 20, 50, 100], \n",
    "             'max_features': ['auto', 'sqrt'], \n",
    "             'max_depth': [10, 20, 30, 40, 50, 60, 70, 80, 90, 100, 110, 120], \n",
    "             'min_samples_split': [2, 6, 10], 'min_samples_leaf': [1, 3, 4], \n",
    "             'bootstrap': [True, False]} "
   ]
  },
  {
   "cell_type": "code",
   "execution_count": 84,
   "id": "9df146fa",
   "metadata": {},
   "outputs": [
    {
     "data": {
      "text/plain": [
       "{'n_estimators': 50,\n",
       " 'min_samples_split': 10,\n",
       " 'min_samples_leaf': 4,\n",
       " 'max_features': 'auto',\n",
       " 'max_depth': 30,\n",
       " 'bootstrap': True}"
      ]
     },
     "execution_count": 84,
     "metadata": {},
     "output_type": "execute_result"
    }
   ],
   "source": [
    "random_tree = RandomForestRegressor()\n",
    "rf_par = RandomizedSearchCV(random_tree, param_grid, cv=10)\n",
    "rf_par.fit(X_train, y_train)\n",
    "rf_par.best_params_"
   ]
  },
  {
   "cell_type": "code",
   "execution_count": 85,
   "id": "f2e8ea72",
   "metadata": {},
   "outputs": [
    {
     "name": "stdout",
     "output_type": "stream",
     "text": [
      "Score 0.42647965816796995\n"
     ]
    }
   ],
   "source": [
    "# Create an instance of RandomForestRegressor\n",
    "random = RandomForestRegressor(n_estimators = 50, min_samples_leaf = 10, max_features= 'auto',\n",
    "                               max_depth= 30, min_samples_split = 6, min_samples_leaf = 4, bootstrap= True)\n",
    "random_model = random.fit(X_train,y_train)\n",
    "y_pred3 = random.predict(X_test)\n",
    "score2 = random.score(X_test,y_test)\n",
    "print('Score {}'.format(score2))"
   ]
  },
  {
   "cell_type": "markdown",
   "id": "c078c209",
   "metadata": {},
   "source": [
    "## 3.5.4 Evaluation Metrics for Random Forest Regression <a id='3.5.4_Evaluation_Metrics_for_Random_Forest_Regression'><a>"
   ]
  },
  {
   "cell_type": "markdown",
   "id": "bf0a5b60",
   "metadata": {},
   "source": [
    "Adjusted R-Squared:"
   ]
  },
  {
   "cell_type": "code",
   "execution_count": 86,
   "id": "0d75d5aa",
   "metadata": {},
   "outputs": [
    {
     "name": "stdout",
     "output_type": "stream",
     "text": [
      "R-squared: 0.42647965816796995\n",
      "Adjusted R-squared: -0.2977467588899949\n"
     ]
    }
   ],
   "source": [
    "#Make predictions\n",
    "\n",
    "# Calculate the regular R-squared\n",
    "random_r2 = r2_score(y_test, y_pred3)\n",
    "\n",
    "# Get the number of observations (n) and predictors (k)\n",
    "n = X_test.shape[0]\n",
    "k = X_test.shape[1]\n",
    "\n",
    "# Calculate the adjusted R-squared\n",
    "random_adjusted_r2 = 1 - ((1 - random_r2) * (n - 1) / (n - k - 1))\n",
    "\n",
    "print(f'R-squared: {random_r2}')\n",
    "print(f'Adjusted R-squared: {random_adjusted_r2}')"
   ]
  },
  {
   "cell_type": "markdown",
   "id": "e72e1563",
   "metadata": {},
   "source": [
    "Mean Absolute Percentage Error:"
   ]
  },
  {
   "cell_type": "code",
   "execution_count": 94,
   "id": "a591bdec",
   "metadata": {},
   "outputs": [
    {
     "name": "stdout",
     "output_type": "stream",
     "text": [
      "Random Reg's MAPE % 8.54\n"
     ]
    }
   ],
   "source": [
    "percent_error = (y_test - y_pred3) / y_test\n",
    "\n",
    "ab_percent_error = abs(percent_error)\n",
    "\n",
    "random_mape = np.mean(ab_percent_error)\n",
    "print (\"Random Reg's MAPE % {}\".format(round(random_mape *100,2)))\n"
   ]
  },
  {
   "cell_type": "markdown",
   "id": "8aa8f12e",
   "metadata": {},
   "source": [
    "Actual-vs-Predicted scatter plots:"
   ]
  },
  {
   "cell_type": "code",
   "execution_count": 95,
   "id": "f5237c48",
   "metadata": {},
   "outputs": [
    {
     "data": {
      "image/png": "[encoded data removed]",
      "text/plain": [
       "<Figure size 432x288 with 1 Axes>"
      ]
     },
     "metadata": {
      "needs_background": "light"
     },
     "output_type": "display_data"
    }
   ],
   "source": [
    "# For Linear Regression\n",
    "plt.scatter(y_test, y_pred3, color='green', label='Actual vs Predicted')\n",
    "\n",
    "# The 45-degree red line\n",
    "plt.plot([min(y_test), max(y_test)], [min(y_test), max(y_test)], linestyle='--', color='red', linewidth=2, label='45-Degree Line')\n",
    "\n",
    "# Labels\n",
    "plt.title('Actual vs Predicted Popularity of the TV Shows')\n",
    "plt.xlabel('Actual Popularity')\n",
    "plt.ylabel('Predicted Popularity')\n",
    "\n",
    "plt.legend('Random Forest')\n",
    "\n",
    "plt.show()"
   ]
  },
  {
   "cell_type": "markdown",
   "id": "43baee96",
   "metadata": {},
   "source": [
    "This doesn't look either over or underfit."
   ]
  },
  {
   "cell_type": "markdown",
   "id": "3bbf5d58",
   "metadata": {},
   "source": [
    "Histogram of Distribution of the Residuals:"
   ]
  },
  {
   "cell_type": "code",
   "execution_count": 89,
   "id": "e8512bb0",
   "metadata": {},
   "outputs": [
    {
     "data": {
      "image/png": "[encoded data removed]",
      "text/plain": [
       "<Figure size 432x288 with 1 Axes>"
      ]
     },
     "metadata": {
      "needs_background": "light"
     },
     "output_type": "display_data"
    }
   ],
   "source": [
    "residuals3 = np.array(y_test) - np.array(y_pred3)\n",
    "\n",
    "# Create a histogram of residuals\n",
    "plt.hist(residuals3, bins=30, color='green',alpha=0.7, rwidth=0.85 )\n",
    "\n",
    "# Set labels and title\n",
    "plt.title('Distribution of Residuals after Random Forest Regression')\n",
    "plt.xlabel('Residuals')\n",
    "plt.ylabel('Frequency')\n",
    "\n",
    "# Show the plot\n",
    "plt.show()"
   ]
  },
  {
   "cell_type": "markdown",
   "id": "c444adfc",
   "metadata": {},
   "source": [
    "The Linear and Lasso were less spread than this. Let's put all of them in a single histogram"
   ]
  },
  {
   "cell_type": "markdown",
   "id": "914d4044",
   "metadata": {},
   "source": [
    "Random Forest Regressor seems slightly better on the histogram."
   ]
  },
  {
   "cell_type": "markdown",
   "id": "973de25c",
   "metadata": {},
   "source": [
    "## 3.5.5 XGBoost Regression <a id= '3.5.5_XGBoost_Regression' ><a>"
   ]
  },
  {
   "cell_type": "code",
   "execution_count": 97,
   "id": "329fed91",
   "metadata": {},
   "outputs": [
    {
     "data": {
      "text/plain": [
       "GridSearchCV(cv=10,\n",
       "             estimator=XGBRegressor(base_score=None, booster=None,\n",
       "                                    callbacks=None, colsample_bylevel=None,\n",
       "                                    colsample_bynode=None,\n",
       "                                    colsample_bytree=None, device=None,\n",
       "                                    early_stopping_rounds=None,\n",
       "                                    enable_categorical=False, eval_metric=None,\n",
       "                                    feature_types=None, gamma=None,\n",
       "                                    grow_policy=None, importance_type=None,\n",
       "                                    interaction_constraints=None,\n",
       "                                    learning_rate=None,...\n",
       "                                    max_cat_to_onehot=None, max_delta_step=None,\n",
       "                                    max_depth=None, max_leaves=None,\n",
       "                                    min_child_weight=None, missing=nan,\n",
       "                                    monotone_constraints=None,\n",
       "                                    multi_strategy=None, n_estimators=None,\n",
       "                                    n_jobs=None, num_parallel_tree=None,\n",
       "                                    random_state=42, ...),\n",
       "             param_grid={'colsample_bytree': [0.8, 0.9, 1.0],\n",
       "                         'learning_rate': [0.01, 0.1, 0.2],\n",
       "                         'max_depth': [3, 4, 5],\n",
       "                         'n_estimators': [100, 200, 300],\n",
       "                         'subsample': [0.8, 0.9, 1.0]})"
      ]
     },
     "execution_count": 97,
     "metadata": {},
     "output_type": "execute_result"
    }
   ],
   "source": [
    "model3 = xgb.XGBRegressor(objective='reg:squarederror', random_state=42)\n",
    "param_grid = {\n",
    "    'learning_rate': [0.01, 0.1, 0.2],\n",
    "    'max_depth': [3, 4, 5],\n",
    "    'n_estimators': [100, 200, 300],\n",
    "    'subsample': [0.8, 0.9, 1.0],\n",
    "    'colsample_bytree': [0.8, 0.9, 1.0]\n",
    "}\n",
    "\n",
    "grid_search = GridSearchCV(estimator=model3, param_grid=param_grid, cv=10)\n",
    "grid_search.fit(X_train, y_train)"
   ]
  },
  {
   "cell_type": "code",
   "execution_count": 98,
   "id": "561eb343",
   "metadata": {},
   "outputs": [
    {
     "name": "stdout",
     "output_type": "stream",
     "text": [
      "{'colsample_bytree': 0.9, 'learning_rate': 0.1, 'max_depth': 3, 'n_estimators': 100, 'subsample': 0.8}\n"
     ]
    }
   ],
   "source": [
    "best_params = grid_search.best_params_\n",
    "print (best_params)"
   ]
  },
  {
   "cell_type": "code",
   "execution_count": 109,
   "id": "966e874b",
   "metadata": {},
   "outputs": [
    {
     "name": "stdout",
     "output_type": "stream",
     "text": [
      "Score 0.5099844873583769\n"
     ]
    },
    {
     "name": "stderr",
     "output_type": "stream",
     "text": [
      "/Users/esrasaydam/opt/anaconda3/lib/python3.9/site-packages/xgboost/core.py:160: UserWarning: [23:02:22] WARNING: /Users/runner/work/xgboost/xgboost/src/learner.cc:742: \n",
      "Parameters: { \"colsample_bytee\" } are not used.\n",
      "\n",
      "  warnings.warn(smsg, UserWarning)\n"
     ]
    }
   ],
   "source": [
    "xgboost = xgb.XGBRegressor(n_estimators = 100, colsample_bytee= 0.8,\n",
    "                               max_depth= 3, subsample = 0.8, learning_rate = 0.1)\n",
    "xgb_model = xgboost.fit(X_train,y_train)\n",
    "y_pred4 = xgboost.predict(X_test)\n",
    "score4 = xgboost.score(X_test,y_test)\n",
    "print('Score {}'.format(score4))"
   ]
  },
  {
   "cell_type": "markdown",
   "id": "b2bd4313",
   "metadata": {},
   "source": [
    "This is a very good score. Continuing with other evaluation metrics"
   ]
  },
  {
   "cell_type": "markdown",
   "id": "29d6dc55",
   "metadata": {},
   "source": [
    "## 3.5.6 Evaluation Metrics for XGBoost Regression <a id='3.5.6_Evaluation_Metrics_for_XGBoost_Regression'><a>"
   ]
  },
  {
   "cell_type": "code",
   "execution_count": 110,
   "id": "4abf4a33",
   "metadata": {},
   "outputs": [
    {
     "name": "stdout",
     "output_type": "stream",
     "text": [
      "R-squared: 0.5099844873583769\n",
      "Adjusted R-squared: -0.10879422568542463\n"
     ]
    }
   ],
   "source": [
    "#Make predictions\n",
    "\n",
    "# Calculate the regular R-squared\n",
    "xgb_r2 = r2_score(y_test, y_pred4)\n",
    "\n",
    "# Get the number of observations (n) and predictors (k)\n",
    "n = X_test.shape[0]\n",
    "k = X_test.shape[1]\n",
    "\n",
    "# Calculate the adjusted R-squared\n",
    "xgb_adjusted_r2 = 1 - ((1 - xgb_r2) * (n - 1) / (n - k - 1))\n",
    "\n",
    "print(f'R-squared: {xgb_r2}')\n",
    "print(f'Adjusted R-squared: {xgb_adjusted_r2}')"
   ]
  },
  {
   "cell_type": "markdown",
   "id": "a545e5c1",
   "metadata": {},
   "source": [
    "Mean Absolute Percentage Error:"
   ]
  },
  {
   "cell_type": "code",
   "execution_count": 111,
   "id": "5a698e75",
   "metadata": {},
   "outputs": [
    {
     "name": "stdout",
     "output_type": "stream",
     "text": [
      "XGBoost Reg's MAPE % 7.78\n"
     ]
    }
   ],
   "source": [
    "xgb_mape = mean_absolute_percentage_error(y_test, y_pred4)\n",
    "print (\"XGBoost Reg's MAPE % {}\".format(round(xgb_mape *100,2)))\n"
   ]
  },
  {
   "cell_type": "markdown",
   "id": "28a0d3a1",
   "metadata": {},
   "source": [
    "Actual-vs-Predicted scatter plots:"
   ]
  },
  {
   "cell_type": "code",
   "execution_count": 112,
   "id": "b40b29e4",
   "metadata": {},
   "outputs": [
    {
     "data": {
      "image/png": "[encoded data removed]",
      "text/plain": [
       "<Figure size 432x288 with 1 Axes>"
      ]
     },
     "metadata": {
      "needs_background": "light"
     },
     "output_type": "display_data"
    }
   ],
   "source": [
    "plt.scatter(y_test, y_pred4, color='orange', label='Actual vs Predicted')\n",
    "\n",
    "plt.plot([min(y_test), max(y_test)], [min(y_test), max(y_test)], linestyle='--', color='red', linewidth=2, label='45-Degree Line')\n",
    "\n",
    "# Labels\n",
    "plt.title('Actual vs Predicted Popularity of the TV Shows')\n",
    "plt.xlabel('Actual Popularity')\n",
    "plt.ylabel('Predicted Popularity')\n",
    "\n",
    "plt.legend(title='XGBoost Regression')\n",
    "\n",
    "plt.show()"
   ]
  },
  {
   "cell_type": "markdown",
   "id": "195b394f",
   "metadata": {},
   "source": [
    "This might be overfitting but the results are very accurate. "
   ]
  },
  {
   "cell_type": "code",
   "execution_count": 113,
   "id": "08140f3d",
   "metadata": {},
   "outputs": [
    {
     "name": "stdout",
     "output_type": "stream",
     "text": [
      "The train score 0.7237010240406015\n",
      "The test score  0.5099844873583769\n"
     ]
    }
   ],
   "source": [
    "xgb_train_score =xgboost.score(X_train,y_train)\n",
    "xgb_test_score =xgboost.score(X_test,y_test)\n",
    "\n",
    "print(\"The train score {}\".format(xgb_train_score))\n",
    "print(\"The test score  {}\".format(xgb_test_score))\n"
   ]
  },
  {
   "cell_type": "markdown",
   "id": "2d1d9f77",
   "metadata": {},
   "source": [
    "Okay, the train score leads the test score with a big difference."
   ]
  },
  {
   "cell_type": "markdown",
   "id": "399f7e43",
   "metadata": {},
   "source": [
    "Histogram of Distribution of the Residuals:"
   ]
  },
  {
   "cell_type": "code",
   "execution_count": 114,
   "id": "15991ce3",
   "metadata": {},
   "outputs": [
    {
     "data": {
      "image/png": "[encoded data removed]",
      "text/plain": [
       "<Figure size 432x288 with 1 Axes>"
      ]
     },
     "metadata": {
      "needs_background": "light"
     },
     "output_type": "display_data"
    }
   ],
   "source": [
    "residuals4 = np.array(y_test) - np.array(y_pred4)\n",
    "\n",
    "# Create a histogram of residuals\n",
    "plt.hist(residuals4, bins=30, color='orange',alpha=0.7, rwidth=0.85 )\n",
    "\n",
    "# Set labels and title\n",
    "plt.title('Distribution of Residuals after XGBoost Regression')\n",
    "plt.xlabel('Residuals')\n",
    "plt.ylabel('Frequency')\n",
    "\n",
    "# Show the plot\n",
    "plt.show()"
   ]
  },
  {
   "cell_type": "markdown",
   "id": "24837edb",
   "metadata": {},
   "source": [
    "The values are closer to zero."
   ]
  },
  {
   "cell_type": "markdown",
   "id": "42a6575d",
   "metadata": {},
   "source": [
    "## 3.6 General Comparison of the Models <a id='3.6_General_Comparison_of_the_Models'><a>"
   ]
  },
  {
   "cell_type": "markdown",
   "id": "83989d42",
   "metadata": {},
   "source": [
    "Now let's compare all plots together\n",
    "First with Scatterplots:"
   ]
  },
  {
   "cell_type": "code",
   "execution_count": 105,
   "id": "a28a5311",
   "metadata": {},
   "outputs": [
    {
     "data": {
      "image/png": "[encoded data removed]",
      "text/plain": [
       "<Figure size 864x720 with 1 Axes>"
      ]
     },
     "metadata": {
      "needs_background": "light"
     },
     "output_type": "display_data"
    }
   ],
   "source": [
    "plt.figure(figsize = (12,10))\n",
    "ax1 =  plt.scatter(y_test, y_pred, color='blue', alpha = 0.4, label='Linear')\n",
    "ax2 = plt.scatter(y_test, y_pred2, color='pink', alpha = 0.4, label='Lasso')\n",
    "ax3 = plt.scatter(y_test, y_pred3, color='green', alpha = 0.4, label='Random Forest')\n",
    "#making xgboost slightly more visible since it seems to perform the best\n",
    "ax4 = plt.scatter(y_test, y_pred4, color='orange', alpha = 0.8, label='XGBoost')\n",
    "\n",
    "plt.plot([min(y_test), max(y_test)], [min(y_test), max(y_test)], linestyle='--', color='red', linewidth=2, label='45-Degree Line')\n",
    "\n",
    "# Labels\n",
    "plt.title('Actual vs Predicted Popularity of the TV Shows')\n",
    "plt.xlabel('Actual Popularity')\n",
    "plt.ylabel('Predicted Popularity')\n",
    "\n",
    "plt.legend()\n",
    "\n",
    "plt.show()"
   ]
  },
  {
   "cell_type": "markdown",
   "id": "8b96273a",
   "metadata": {},
   "source": [
    "Histogram of Distribution of Residuals:"
   ]
  },
  {
   "cell_type": "code",
   "execution_count": 106,
   "id": "b8f4af48",
   "metadata": {},
   "outputs": [
    {
     "data": {
      "image/png": "[encoded data removed]",
      "text/plain": [
       "<Figure size 432x288 with 1 Axes>"
      ]
     },
     "metadata": {
      "needs_background": "light"
     },
     "output_type": "display_data"
    }
   ],
   "source": [
    "#For Linear, Lasso and Random\n",
    "residuals = np.array(y_test) - np.array(y_pred)\n",
    "residuals2 = np.array(y_test) - np.array(y_pred2)\n",
    "\n",
    "# Create a histogram of residuals\n",
    "ax1 = plt.hist(residuals, bins=30, color='blue',alpha=0.5, rwidth=0.85, label = 'Linear' )\n",
    "\n",
    "ax2 = plt.hist(residuals2, bins=30, color= 'pink', alpha=0.5, rwidth=0.85, label = 'Lasso')\n",
    "\n",
    "ax3 = plt.hist(residuals3, bins=30, color='green',alpha=0.7, rwidth=0.85, label = 'Random Forest' )\n",
    "\n",
    "ax4 = plt.hist(residuals4, bins=30, color='orange',alpha=0.8, rwidth=0.85, label = 'XGBoost' )\n",
    "\n",
    "\n",
    "# Set labels and title\n",
    "plt.title('Distribution of Residuals with Linear, Lasso and Random Forest Regressions')\n",
    "plt.xlabel('Residuals')\n",
    "plt.ylabel('Frequency')\n",
    "plt.legend()\n",
    "# Show the plot\n",
    "plt.show()"
   ]
  },
  {
   "cell_type": "markdown",
   "id": "ecb28e4b",
   "metadata": {},
   "source": [
    "Clearly, XGBoost is performing much better than others."
   ]
  },
  {
   "cell_type": "markdown",
   "id": "7fc2d6f3",
   "metadata": {},
   "source": [
    "Finally creating a table of results"
   ]
  },
  {
   "cell_type": "code",
   "execution_count": 115,
   "id": "4cd54083",
   "metadata": {},
   "outputs": [
    {
     "name": "stdout",
     "output_type": "stream",
     "text": [
      "+-------------------------+----------+-----------+--------+\n",
      "| Model                   |       r2 |      A-r2 |   MAPE |\n",
      "+=========================+==========+===========+========+\n",
      "| Linear Regression       | 0.309391 | -0.562692 |   9.28 |\n",
      "+-------------------------+----------+-----------+--------+\n",
      "| Lasso Regression        | 0.29744  | -0.589734 |   9.44 |\n",
      "+-------------------------+----------+-----------+--------+\n",
      "| Random Forest Regrssion | 0.42648  | -0.297747 |   8.54 |\n",
      "+-------------------------+----------+-----------+--------+\n",
      "| XGBoost                 | 0.509984 | -0.108794 |   7.78 |\n",
      "+-------------------------+----------+-----------+--------+\n"
     ]
    }
   ],
   "source": [
    "# import table module\n",
    "from tabulate import tabulate\n",
    " \n",
    "mydata = [\n",
    "    [\"Linear Regression\", linear_r2,linear_adjusted_r2 , round(linear_mape * 100,2)], \n",
    "    [\"Lasso Regression\", lasso_r2, lasso_adjusted_r2, round(lasso_mape * 100,2)], \n",
    "    [\"Random Forest Regrssion\", random_r2, random_adjusted_r2, round(random_mape * 100,2)], \n",
    "      [\"XGBoost\", xgb_r2, xgb_adjusted_r2, round(xgb_mape * 100,2)]\n",
    "]\n",
    " \n",
    "# create header\n",
    "head = [\"Model\", \"r2\", \"A-r2\", \"MAPE\"]\n",
    " \n",
    "print(tabulate(mydata, headers=head, tablefmt=\"grid\"))"
   ]
  },
  {
   "cell_type": "markdown",
   "id": "b58f8653",
   "metadata": {},
   "source": [
    "XGBoost is the winner."
   ]
  },
  {
   "cell_type": "markdown",
   "id": "41876e82",
   "metadata": {},
   "source": [
    "## 3.7 Saving the Models <a id= '3.7_Saving_the_Models'><a>"
   ]
  },
  {
   "cell_type": "code",
   "execution_count": 116,
   "id": "4f6472da",
   "metadata": {},
   "outputs": [
    {
     "data": {
      "text/plain": [
       "['y_test.sav']"
      ]
     },
     "execution_count": 116,
     "metadata": {},
     "output_type": "execute_result"
    }
   ],
   "source": [
    "import joblib \n",
    "\n",
    "# save model with joblib \n",
    "# Linear Model\n",
    "linear_filename = 'linear_model.sav'\n",
    "joblib.dump(linear_model, linear_filename)\n",
    "\n",
    "#Lasso Model\n",
    "lasso_filename = 'lasso_model.sav'\n",
    "joblib.dump(lasso_model, lasso_filename)\n",
    "\n",
    "#RF Model\n",
    "random_filename = 'random_model.sav'\n",
    "joblib.dump(random_model, lasso_filename)\n",
    "\n",
    "# XGBoost Model\n",
    "xgb_filename ='xgb_model.sav'\n",
    "joblib.dump(xgb_model, xgb_filename)\n",
    "\n",
    "my_X_train = 'X_train.sav'\n",
    "joblib.dump(X_train, my_X_train)\n",
    "\n",
    "my_y_train = 'y_train.sav'\n",
    "joblib.dump(y_train, my_y_train)\n",
    "\n",
    "my_X_test = 'X_test.sav'\n",
    "joblib.dump(X_test, my_X_test)\n",
    "\n",
    "my_y_train = 'y_test.sav'\n",
    "joblib.dump(y_test, my_y_train)\n"
   ]
  },
  {
   "cell_type": "markdown",
   "id": "d3117b12",
   "metadata": {},
   "source": [
    "## 3.8 Preprocessing Conclusion <a id= '3.8_Preprocessing_Conclusion'><a>"
   ]
  },
  {
   "cell_type": "markdown",
   "id": "03113c5b",
   "metadata": {},
   "source": [
    "In this process we explored baseline modeling trying the universal models, Linear, Lasso, Random Forest Regression, and XGBoost Regression. The reason why we tried multiple models was because until XGBoost Regression we didn't have satisfactory model to use further in our model construction. XGBoost performs at least over 10 percent than its closest contender Linear Regression. Also we decided to exclude many features (such as director, writer, or actor names along with their id numbers on movie websites) to have a more efficient process. We also used dummies to use certain categorical features such as genre, original language etc.   We saved all the models with joblib.\n",
    "\n",
    "Now we can move on to building our own model!"
   ]
  },
  {
   "cell_type": "code",
   "execution_count": null,
   "id": "339c972b",
   "metadata": {},
   "outputs": [],
   "source": []
  }
 ],
 "metadata": {
  "kernelspec": {
   "display_name": "Python 3 (ipykernel)",
   "language": "python",
   "name": "python3"
  },
  "language_info": {
   "codemirror_mode": {
    "name": "ipython",
    "version": 3
   },
   "file_extension": ".py",
   "mimetype": "text/x-python",
   "name": "python",
   "nbconvert_exporter": "python",
   "pygments_lexer": "ipython3",
   "version": "3.9.12"
  }
 },
 "nbformat": 4,
 "nbformat_minor": 5
}
