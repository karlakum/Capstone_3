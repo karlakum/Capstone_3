{
 "cells": [
  {
   "cell_type": "markdown",
   "id": "826f49f3",
   "metadata": {},
   "source": [
    "# 3 Preprocessing and Modeling <a id='3_Preprocessing_and_Modeling'></a>"
   ]
  },
  {
   "cell_type": "markdown",
   "id": "f9317149",
   "metadata": {},
   "source": [
    "## 3.1 Contents<a id='1.1_Contents'></a>\n",
    "* [3 Preprocessing and Modeling](#1_Preprocessing)\n",
    "  * [3.1 Contents](#3.1_Contents)\n",
    "  * [3.2 Introduction](#3.2_Introduction)\n",
    "  * [3.3 Imports](#3.3_Imports)\n",
    "  * [3.4 Load the Shows Dataset](#3.4_Load_the_Shows_Dataset)\n",
    "  * [3.5 Baseline Modeling](#3.5_Baseline_Modeling)\n",
    "      * [3.5.1 Linear (and Lasso) Regression](#3.5.1_Linear_(and_Lasso)_Regression)\n",
    "      * [3.5.2 Evaluation Metrics for Linear (and Lasso) Regression](#3.5.2_Evaluation_Metrics_for_Linear(and_Lasso)_Regression)\n",
    "      * [3.5.3 Random Forest Regression](#3.5.3_Random_Forest_Regression)\n",
    "      * [3.5.4 Evaluation Metrics for Random Forest Regression](#3.5.4_Evaluation_Metrics_for_Random_Forest_Regression)\n",
    "      * [3.5.5 XGBoost Regression](#3.5.5_XGBoost_Regression)\n",
    "      * [3.5.6 Evaluation Metrics for XGBoost Regression](#3.5.6_Evaluation_Metrics_for_XGBoost_Regression)\n",
    "  * [3.6 General Comparison of the Models](#3.6_General_Comparison_of_the_Models) \n",
    "  * [3.7 Saving the Models](#3.7_Saving_the_Models)\n",
    "  * [3.8 Preprocessing Conclusion](#3.8_Preprocessing_Conclusion)\n"
   ]
  },
  {
   "cell_type": "markdown",
   "id": "a7cbef08",
   "metadata": {},
   "source": [
    "## 3.2 Introduction <a id = '3.2_Introduction'><a>\n"
   ]
  },
  {
   "cell_type": "markdown",
   "id": "1098c1cd",
   "metadata": {},
   "source": [
    "In this stage, first we will look for our best baseline modeling as a reference and later develop our own model to find the best variables to create a successful TV Show for a streamer. "
   ]
  },
  {
   "cell_type": "markdown",
   "id": "d97a0796",
   "metadata": {},
   "source": [
    "## 3.3. Imports <a id = '3.3_Imports'><a>"
   ]
  },
  {
   "cell_type": "code",
   "execution_count": 136,
   "id": "ec7b0bb7",
   "metadata": {},
   "outputs": [
    {
     "name": "stdout",
     "output_type": "stream",
     "text": [
      "Collecting xgboost\n",
      "  Downloading xgboost-2.0.3-py3-none-macosx_10_15_x86_64.macosx_11_0_x86_64.macosx_12_0_x86_64.whl.metadata (2.0 kB)\n",
      "Requirement already satisfied: numpy in /Users/esrasaydam/opt/anaconda3/lib/python3.9/site-packages (from xgboost) (1.21.5)\n",
      "Requirement already satisfied: scipy in /Users/esrasaydam/opt/anaconda3/lib/python3.9/site-packages (from xgboost) (1.7.3)\n",
      "Downloading xgboost-2.0.3-py3-none-macosx_10_15_x86_64.macosx_11_0_x86_64.macosx_12_0_x86_64.whl (2.2 MB)\n",
      "\u001b[2K   \u001b[90m━━━━━━━━━━━━━━━━━━━━━━━━━━━━━━━━━━━━━━━━\u001b[0m \u001b[32m2.2/2.2 MB\u001b[0m \u001b[31m9.8 MB/s\u001b[0m eta \u001b[36m0:00:00\u001b[0m:00:01\u001b[0m00:01\u001b[0m\n",
      "\u001b[?25hInstalling collected packages: xgboost\n",
      "Successfully installed xgboost-2.0.3\n"
     ]
    }
   ],
   "source": [
    "import pandas as pd\n",
    "import numpy as np\n",
    "import os\n",
    "import pickle\n",
    "import matplotlib.pyplot as plt\n",
    "import seaborn as sns\n",
    "from sklearn import __version__ as sklearn_version\n",
    "from sklearn.decomposition import PCA\n",
    "from sklearn.preprocessing import scale\n",
    "from sklearn.model_selection import train_test_split, cross_validate, GridSearchCV, learning_curve\n",
    "from sklearn.preprocessing import StandardScaler\n",
    "from sklearn.dummy import DummyRegressor\n",
    "from sklearn.linear_model import LinearRegression\n",
    "from sklearn.linear_model import Ridge, RidgeCV, Lasso, LassoCV\n",
    "from sklearn.ensemble import RandomForestRegressor\n",
    "from sklearn.metrics import r2_score, mean_squared_error, mean_absolute_error, mean_absolute_percentage_error\n",
    "from sklearn.pipeline import make_pipeline\n",
    "from sklearn.impute import SimpleImputer\n",
    "from sklearn.feature_selection import SelectKBest, f_regression\n",
    "from datetime import datetime as dt\n",
    "from sklearn.feature_selection import mutual_info_regression\n",
    "from sklearn.model_selection import cross_val_score\n",
    "from sklearn.model_selection import RandomizedSearchCV\n",
    "! pip install xgboost\n",
    "import xgboost as xgb\n"
   ]
  },
  {
   "cell_type": "markdown",
   "id": "67a3b2b6",
   "metadata": {},
   "source": [
    "## 3.4 Load the Shows Dataset<a id='3.4_Load_the_Shows_Dataset'></a> "
   ]
  },
  {
   "cell_type": "code",
   "execution_count": 29,
   "id": "779584e7",
   "metadata": {},
   "outputs": [
    {
     "data": {
      "text/html": [
       "<div>\n",
       "<style scoped>\n",
       "    .dataframe tbody tr th:only-of-type {\n",
       "        vertical-align: middle;\n",
       "    }\n",
       "\n",
       "    .dataframe tbody tr th {\n",
       "        vertical-align: top;\n",
       "    }\n",
       "\n",
       "    .dataframe thead th {\n",
       "        text-align: right;\n",
       "    }\n",
       "</style>\n",
       "<table border=\"1\" class=\"dataframe\">\n",
       "  <thead>\n",
       "    <tr style=\"text-align: right;\">\n",
       "      <th></th>\n",
       "      <th>imdb_id</th>\n",
       "      <th>tmdb_id</th>\n",
       "      <th>Title</th>\n",
       "      <th>titleType</th>\n",
       "      <th>startYear</th>\n",
       "      <th>endYear</th>\n",
       "      <th>Streamer</th>\n",
       "      <th>Age</th>\n",
       "      <th>genre_1</th>\n",
       "      <th>genre_2</th>\n",
       "      <th>...</th>\n",
       "      <th>second_country</th>\n",
       "      <th>actor_1_pop</th>\n",
       "      <th>actor_2_pop</th>\n",
       "      <th>actor_1_name</th>\n",
       "      <th>actor_2_name</th>\n",
       "      <th>cast_pop</th>\n",
       "      <th>team_popularity</th>\n",
       "      <th>imdb_rating</th>\n",
       "      <th>imdb_no_votes</th>\n",
       "      <th>total_popularity</th>\n",
       "    </tr>\n",
       "  </thead>\n",
       "  <tbody>\n",
       "    <tr>\n",
       "      <th>0</th>\n",
       "      <td>1856010</td>\n",
       "      <td>1425</td>\n",
       "      <td>House of Cards</td>\n",
       "      <td>tvSeries</td>\n",
       "      <td>2013</td>\n",
       "      <td>2018</td>\n",
       "      <td>Netflix</td>\n",
       "      <td>18</td>\n",
       "      <td>Drama</td>\n",
       "      <td>Drama</td>\n",
       "      <td>...</td>\n",
       "      <td>US</td>\n",
       "      <td>35.6</td>\n",
       "      <td>26.5</td>\n",
       "      <td>Robin Wright</td>\n",
       "      <td>Michael Kelly</td>\n",
       "      <td>31.0</td>\n",
       "      <td>7.6</td>\n",
       "      <td>8.6</td>\n",
       "      <td>525135</td>\n",
       "      <td>5.76</td>\n",
       "    </tr>\n",
       "    <tr>\n",
       "      <th>1</th>\n",
       "      <td>2309295</td>\n",
       "      <td>42295</td>\n",
       "      <td>Hemlock Grove</td>\n",
       "      <td>tvSeries</td>\n",
       "      <td>2013</td>\n",
       "      <td>2015</td>\n",
       "      <td>Netflix</td>\n",
       "      <td>18</td>\n",
       "      <td>Drama</td>\n",
       "      <td>Fantasy</td>\n",
       "      <td>...</td>\n",
       "      <td>US</td>\n",
       "      <td>18.5</td>\n",
       "      <td>58.3</td>\n",
       "      <td>Landon Liboiron</td>\n",
       "      <td>Bill Skarsgård</td>\n",
       "      <td>38.4</td>\n",
       "      <td>2.4</td>\n",
       "      <td>7.0</td>\n",
       "      <td>42205</td>\n",
       "      <td>4.58</td>\n",
       "    </tr>\n",
       "    <tr>\n",
       "      <th>2</th>\n",
       "      <td>2372162</td>\n",
       "      <td>1424</td>\n",
       "      <td>Orange Is the New Black</td>\n",
       "      <td>tvSeries</td>\n",
       "      <td>2013</td>\n",
       "      <td>2019</td>\n",
       "      <td>Netflix</td>\n",
       "      <td>18</td>\n",
       "      <td>Comedy</td>\n",
       "      <td>Crime</td>\n",
       "      <td>...</td>\n",
       "      <td>US</td>\n",
       "      <td>28.4</td>\n",
       "      <td>12.3</td>\n",
       "      <td>Taylor Schilling</td>\n",
       "      <td>Natasha Lyonne</td>\n",
       "      <td>20.4</td>\n",
       "      <td>3.7</td>\n",
       "      <td>8.0</td>\n",
       "      <td>316768</td>\n",
       "      <td>5.32</td>\n",
       "    </tr>\n",
       "    <tr>\n",
       "      <th>3</th>\n",
       "      <td>2189461</td>\n",
       "      <td>60699</td>\n",
       "      <td>Marco Polo</td>\n",
       "      <td>tvSeries</td>\n",
       "      <td>2014</td>\n",
       "      <td>2016</td>\n",
       "      <td>Netflix</td>\n",
       "      <td>18</td>\n",
       "      <td>Action</td>\n",
       "      <td>Adventure</td>\n",
       "      <td>...</td>\n",
       "      <td>US</td>\n",
       "      <td>18.3</td>\n",
       "      <td>24.4</td>\n",
       "      <td>Lorenzo Richelmy</td>\n",
       "      <td>Benedict Wong</td>\n",
       "      <td>21.4</td>\n",
       "      <td>2.2</td>\n",
       "      <td>8.0</td>\n",
       "      <td>77293</td>\n",
       "      <td>5.04</td>\n",
       "    </tr>\n",
       "    <tr>\n",
       "      <th>4</th>\n",
       "      <td>3520702</td>\n",
       "      <td>61986</td>\n",
       "      <td>Bloodline</td>\n",
       "      <td>tvSeries</td>\n",
       "      <td>2015</td>\n",
       "      <td>2017</td>\n",
       "      <td>Netflix</td>\n",
       "      <td>18</td>\n",
       "      <td>Drama</td>\n",
       "      <td>Thriller</td>\n",
       "      <td>...</td>\n",
       "      <td>US</td>\n",
       "      <td>34.3</td>\n",
       "      <td>32.8</td>\n",
       "      <td>Kyle Chandler</td>\n",
       "      <td>Linda Cardellini</td>\n",
       "      <td>33.6</td>\n",
       "      <td>2.1</td>\n",
       "      <td>7.9</td>\n",
       "      <td>57529</td>\n",
       "      <td>5.01</td>\n",
       "    </tr>\n",
       "  </tbody>\n",
       "</table>\n",
       "<p>5 rows × 46 columns</p>\n",
       "</div>"
      ],
      "text/plain": [
       "   imdb_id  tmdb_id                    Title titleType  startYear  endYear  \\\n",
       "0  1856010     1425           House of Cards  tvSeries       2013     2018   \n",
       "1  2309295    42295            Hemlock Grove  tvSeries       2013     2015   \n",
       "2  2372162     1424  Orange Is the New Black  tvSeries       2013     2019   \n",
       "3  2189461    60699               Marco Polo  tvSeries       2014     2016   \n",
       "4  3520702    61986                Bloodline  tvSeries       2015     2017   \n",
       "\n",
       "  Streamer  Age genre_1    genre_2  ...  second_country actor_1_pop  \\\n",
       "0  Netflix   18   Drama      Drama  ...              US        35.6   \n",
       "1  Netflix   18   Drama    Fantasy  ...              US        18.5   \n",
       "2  Netflix   18  Comedy      Crime  ...              US        28.4   \n",
       "3  Netflix   18  Action  Adventure  ...              US        18.3   \n",
       "4  Netflix   18   Drama   Thriller  ...              US        34.3   \n",
       "\n",
       "  actor_2_pop      actor_1_name       actor_2_name  cast_pop  team_popularity  \\\n",
       "0        26.5      Robin Wright      Michael Kelly      31.0              7.6   \n",
       "1        58.3   Landon Liboiron     Bill Skarsgård      38.4              2.4   \n",
       "2        12.3  Taylor Schilling     Natasha Lyonne      20.4              3.7   \n",
       "3        24.4  Lorenzo Richelmy      Benedict Wong      21.4              2.2   \n",
       "4        32.8     Kyle Chandler   Linda Cardellini      33.6              2.1   \n",
       "\n",
       "   imdb_rating  imdb_no_votes  total_popularity  \n",
       "0          8.6         525135              5.76  \n",
       "1          7.0          42205              4.58  \n",
       "2          8.0         316768              5.32  \n",
       "3          8.0          77293              5.04  \n",
       "4          7.9          57529              5.01  \n",
       "\n",
       "[5 rows x 46 columns]"
      ]
     },
     "execution_count": 29,
     "metadata": {},
     "output_type": "execute_result"
    }
   ],
   "source": [
    "shows = pd.read_csv('datasets/series_DF.csv')\n",
    "shows_df = pd.DataFrame(shows)\n",
    "shows_df.head()"
   ]
  },
  {
   "cell_type": "code",
   "execution_count": 30,
   "id": "5b62f8a0",
   "metadata": {},
   "outputs": [
    {
     "data": {
      "text/plain": [
       "imdb_id               int64\n",
       "tmdb_id               int64\n",
       "Title                object\n",
       "titleType            object\n",
       "startYear             int64\n",
       "endYear               int64\n",
       "Streamer             object\n",
       "Age                   int64\n",
       "genre_1              object\n",
       "genre_2              object\n",
       "creator/actor?        int64\n",
       "origin_language      object\n",
       "director_1_name      object\n",
       "director_2_name      object\n",
       "originalTitle        object\n",
       "writer_1_imdb#        int64\n",
       "writer_2_imdb#        int64\n",
       "writer_3_imdb#        int64\n",
       "director_1_imdb#      int64\n",
       "director_2_imdb#      int64\n",
       "director_3_imdb#      int64\n",
       "director_3_name      object\n",
       "writer_1_name        object\n",
       "writer_2_name        object\n",
       "writer_3_name        object\n",
       "ep_run_times          int64\n",
       "writer_1_pop        float64\n",
       "writer_2_pop        float64\n",
       "writer_3_pop        float64\n",
       "director_1_pop      float64\n",
       "director_2_pop      float64\n",
       "director_3_pop      float64\n",
       "tmdb_popularity     float64\n",
       "no_of_ep              int64\n",
       "no_of_seasons         int64\n",
       "first_country        object\n",
       "second_country       object\n",
       "actor_1_pop         float64\n",
       "actor_2_pop         float64\n",
       "actor_1_name         object\n",
       "actor_2_name         object\n",
       "cast_pop            float64\n",
       "team_popularity     float64\n",
       "imdb_rating         float64\n",
       "imdb_no_votes         int64\n",
       "total_popularity    float64\n",
       "dtype: object"
      ]
     },
     "execution_count": 30,
     "metadata": {},
     "output_type": "execute_result"
    }
   ],
   "source": [
    "shows_df.dtypes"
   ]
  },
  {
   "cell_type": "code",
   "execution_count": 31,
   "id": "1d58dcec",
   "metadata": {},
   "outputs": [],
   "source": [
    "shows_df['actor_1_name'] = shows_df['actor_1_name'].astype('string')\n",
    "shows_df['actor_2_name'] = shows_df['actor_2_name'].astype('string')\n",
    "shows_df['writer_1_name'] = shows_df['writer_1_name'].astype('string')\n",
    "shows_df['writer_2_name'] = shows_df['writer_2_name'].astype('string')\n",
    "shows_df['writer_3_name'] = shows_df['writer_3_name'].astype('string')\n",
    "shows_df['first_country'] = shows_df['first_country'].astype('string')\n",
    "shows_df['second_country'] = shows_df['second_country'].astype('string')\n",
    "shows_df['director_3_name'] = shows_df['director_3_name'].astype('string')\n",
    "shows_df['originalTitle'] = shows_df['originalTitle'].astype('string')\n",
    "shows_df['director_1_name'] = shows_df['director_1_name'].astype('string')\n",
    "shows_df['director_2_name'] = shows_df['director_2_name'].astype('string')\n",
    "shows_df['genre_1'] = shows_df['genre_1'].astype('string')\n",
    "shows_df['genre_2'] = shows_df['genre_2'].astype('string')\n",
    "shows_df['Streamer'] = shows_df['Streamer'].astype('string')\n",
    "shows_df['Title'] = shows_df['Title'].astype('string')\n",
    "shows_df['titleType'] = shows_df['titleType'].astype('string')\n"
   ]
  },
  {
   "cell_type": "markdown",
   "id": "c41ec8cd",
   "metadata": {},
   "source": [
    "## 3.5 Baseline Modeling<a id ='3.5_Baseline_Modeling'><a>\n"
   ]
  },
  {
   "cell_type": "code",
   "execution_count": 32,
   "id": "09a2bca4",
   "metadata": {},
   "outputs": [
    {
     "data": {
      "text/html": [
       "<div>\n",
       "<style scoped>\n",
       "    .dataframe tbody tr th:only-of-type {\n",
       "        vertical-align: middle;\n",
       "    }\n",
       "\n",
       "    .dataframe tbody tr th {\n",
       "        vertical-align: top;\n",
       "    }\n",
       "\n",
       "    .dataframe thead th {\n",
       "        text-align: right;\n",
       "    }\n",
       "</style>\n",
       "<table border=\"1\" class=\"dataframe\">\n",
       "  <thead>\n",
       "    <tr style=\"text-align: right;\">\n",
       "      <th></th>\n",
       "      <th>imdb_id</th>\n",
       "      <th>tmdb_id</th>\n",
       "      <th>Title</th>\n",
       "      <th>titleType</th>\n",
       "      <th>startYear</th>\n",
       "      <th>endYear</th>\n",
       "      <th>Age</th>\n",
       "      <th>creator/actor?</th>\n",
       "      <th>director_1_name</th>\n",
       "      <th>director_2_name</th>\n",
       "      <th>...</th>\n",
       "      <th>second_country_PT</th>\n",
       "      <th>second_country_SA</th>\n",
       "      <th>second_country_SE</th>\n",
       "      <th>second_country_TH</th>\n",
       "      <th>second_country_TN</th>\n",
       "      <th>second_country_TR</th>\n",
       "      <th>second_country_TW</th>\n",
       "      <th>second_country_US</th>\n",
       "      <th>second_country_VN</th>\n",
       "      <th>second_country_ZA</th>\n",
       "    </tr>\n",
       "  </thead>\n",
       "  <tbody>\n",
       "    <tr>\n",
       "      <th>0</th>\n",
       "      <td>1856010</td>\n",
       "      <td>1425</td>\n",
       "      <td>House of Cards</td>\n",
       "      <td>tvSeries</td>\n",
       "      <td>2013</td>\n",
       "      <td>2018</td>\n",
       "      <td>18</td>\n",
       "      <td>0</td>\n",
       "      <td>James Foley</td>\n",
       "      <td>Robin Wright</td>\n",
       "      <td>...</td>\n",
       "      <td>0</td>\n",
       "      <td>0</td>\n",
       "      <td>0</td>\n",
       "      <td>0</td>\n",
       "      <td>0</td>\n",
       "      <td>0</td>\n",
       "      <td>0</td>\n",
       "      <td>1</td>\n",
       "      <td>0</td>\n",
       "      <td>0</td>\n",
       "    </tr>\n",
       "    <tr>\n",
       "      <th>1</th>\n",
       "      <td>2309295</td>\n",
       "      <td>42295</td>\n",
       "      <td>Hemlock Grove</td>\n",
       "      <td>tvSeries</td>\n",
       "      <td>2013</td>\n",
       "      <td>2015</td>\n",
       "      <td>18</td>\n",
       "      <td>0</td>\n",
       "      <td>Carl Tibbetts</td>\n",
       "      <td>Floria Sigismondi</td>\n",
       "      <td>...</td>\n",
       "      <td>0</td>\n",
       "      <td>0</td>\n",
       "      <td>0</td>\n",
       "      <td>0</td>\n",
       "      <td>0</td>\n",
       "      <td>0</td>\n",
       "      <td>0</td>\n",
       "      <td>1</td>\n",
       "      <td>0</td>\n",
       "      <td>0</td>\n",
       "    </tr>\n",
       "    <tr>\n",
       "      <th>2</th>\n",
       "      <td>2372162</td>\n",
       "      <td>1424</td>\n",
       "      <td>Orange Is the New Black</td>\n",
       "      <td>tvSeries</td>\n",
       "      <td>2013</td>\n",
       "      <td>2019</td>\n",
       "      <td>18</td>\n",
       "      <td>0</td>\n",
       "      <td>Andrew McCarthy</td>\n",
       "      <td>Phil Abraham</td>\n",
       "      <td>...</td>\n",
       "      <td>0</td>\n",
       "      <td>0</td>\n",
       "      <td>0</td>\n",
       "      <td>0</td>\n",
       "      <td>0</td>\n",
       "      <td>0</td>\n",
       "      <td>0</td>\n",
       "      <td>1</td>\n",
       "      <td>0</td>\n",
       "      <td>0</td>\n",
       "    </tr>\n",
       "    <tr>\n",
       "      <th>3</th>\n",
       "      <td>2189461</td>\n",
       "      <td>60699</td>\n",
       "      <td>Marco Polo</td>\n",
       "      <td>tvSeries</td>\n",
       "      <td>2014</td>\n",
       "      <td>2016</td>\n",
       "      <td>18</td>\n",
       "      <td>0</td>\n",
       "      <td>Daniel Minahan</td>\n",
       "      <td>David Petrarca</td>\n",
       "      <td>...</td>\n",
       "      <td>0</td>\n",
       "      <td>0</td>\n",
       "      <td>0</td>\n",
       "      <td>0</td>\n",
       "      <td>0</td>\n",
       "      <td>0</td>\n",
       "      <td>0</td>\n",
       "      <td>1</td>\n",
       "      <td>0</td>\n",
       "      <td>0</td>\n",
       "    </tr>\n",
       "    <tr>\n",
       "      <th>4</th>\n",
       "      <td>3520702</td>\n",
       "      <td>61986</td>\n",
       "      <td>Bloodline</td>\n",
       "      <td>tvSeries</td>\n",
       "      <td>2015</td>\n",
       "      <td>2017</td>\n",
       "      <td>18</td>\n",
       "      <td>0</td>\n",
       "      <td>Mikael Håfström</td>\n",
       "      <td>Todd A. Kessler</td>\n",
       "      <td>...</td>\n",
       "      <td>0</td>\n",
       "      <td>0</td>\n",
       "      <td>0</td>\n",
       "      <td>0</td>\n",
       "      <td>0</td>\n",
       "      <td>0</td>\n",
       "      <td>0</td>\n",
       "      <td>1</td>\n",
       "      <td>0</td>\n",
       "      <td>0</td>\n",
       "    </tr>\n",
       "    <tr>\n",
       "      <th>...</th>\n",
       "      <td>...</td>\n",
       "      <td>...</td>\n",
       "      <td>...</td>\n",
       "      <td>...</td>\n",
       "      <td>...</td>\n",
       "      <td>...</td>\n",
       "      <td>...</td>\n",
       "      <td>...</td>\n",
       "      <td>...</td>\n",
       "      <td>...</td>\n",
       "      <td>...</td>\n",
       "      <td>...</td>\n",
       "      <td>...</td>\n",
       "      <td>...</td>\n",
       "      <td>...</td>\n",
       "      <td>...</td>\n",
       "      <td>...</td>\n",
       "      <td>...</td>\n",
       "      <td>...</td>\n",
       "      <td>...</td>\n",
       "      <td>...</td>\n",
       "    </tr>\n",
       "    <tr>\n",
       "      <th>1236</th>\n",
       "      <td>26315488</td>\n",
       "      <td>225148</td>\n",
       "      <td>Celebrity</td>\n",
       "      <td>tvSeries</td>\n",
       "      <td>2023</td>\n",
       "      <td>0</td>\n",
       "      <td>18</td>\n",
       "      <td>0</td>\n",
       "      <td>Kim Cheol-gyu</td>\n",
       "      <td>Kim Cheol-gyu</td>\n",
       "      <td>...</td>\n",
       "      <td>0</td>\n",
       "      <td>0</td>\n",
       "      <td>0</td>\n",
       "      <td>0</td>\n",
       "      <td>0</td>\n",
       "      <td>0</td>\n",
       "      <td>0</td>\n",
       "      <td>0</td>\n",
       "      <td>0</td>\n",
       "      <td>0</td>\n",
       "    </tr>\n",
       "    <tr>\n",
       "      <th>1237</th>\n",
       "      <td>19723614</td>\n",
       "      <td>137978</td>\n",
       "      <td>Feedback</td>\n",
       "      <td>tvSeries</td>\n",
       "      <td>2023</td>\n",
       "      <td>2023</td>\n",
       "      <td>18</td>\n",
       "      <td>0</td>\n",
       "      <td>Leszek Dawid</td>\n",
       "      <td>Leszek Dawid</td>\n",
       "      <td>...</td>\n",
       "      <td>0</td>\n",
       "      <td>0</td>\n",
       "      <td>0</td>\n",
       "      <td>0</td>\n",
       "      <td>0</td>\n",
       "      <td>0</td>\n",
       "      <td>0</td>\n",
       "      <td>0</td>\n",
       "      <td>0</td>\n",
       "      <td>0</td>\n",
       "    </tr>\n",
       "    <tr>\n",
       "      <th>1238</th>\n",
       "      <td>4196686</td>\n",
       "      <td>68296</td>\n",
       "      <td>The Kicks</td>\n",
       "      <td>tvSeries</td>\n",
       "      <td>2015</td>\n",
       "      <td>2016</td>\n",
       "      <td>0</td>\n",
       "      <td>0</td>\n",
       "      <td>Joe Nussbaum</td>\n",
       "      <td>Luke Matheny</td>\n",
       "      <td>...</td>\n",
       "      <td>0</td>\n",
       "      <td>0</td>\n",
       "      <td>0</td>\n",
       "      <td>0</td>\n",
       "      <td>0</td>\n",
       "      <td>0</td>\n",
       "      <td>0</td>\n",
       "      <td>1</td>\n",
       "      <td>0</td>\n",
       "      <td>0</td>\n",
       "    </tr>\n",
       "    <tr>\n",
       "      <th>1239</th>\n",
       "      <td>5200330</td>\n",
       "      <td>71655</td>\n",
       "      <td>Dino Dana</td>\n",
       "      <td>tvSeries</td>\n",
       "      <td>2017</td>\n",
       "      <td>2020</td>\n",
       "      <td>0</td>\n",
       "      <td>0</td>\n",
       "      <td>J.J. Johnson</td>\n",
       "      <td>Stefan Scaini</td>\n",
       "      <td>...</td>\n",
       "      <td>0</td>\n",
       "      <td>0</td>\n",
       "      <td>0</td>\n",
       "      <td>0</td>\n",
       "      <td>0</td>\n",
       "      <td>0</td>\n",
       "      <td>0</td>\n",
       "      <td>0</td>\n",
       "      <td>0</td>\n",
       "      <td>0</td>\n",
       "    </tr>\n",
       "    <tr>\n",
       "      <th>1240</th>\n",
       "      <td>7076630</td>\n",
       "      <td>109857</td>\n",
       "      <td>Vanity Fair</td>\n",
       "      <td>tvMiniSeries</td>\n",
       "      <td>2018</td>\n",
       "      <td>2018</td>\n",
       "      <td>14</td>\n",
       "      <td>0</td>\n",
       "      <td>James Strong</td>\n",
       "      <td>Jonathan Entwistle</td>\n",
       "      <td>...</td>\n",
       "      <td>0</td>\n",
       "      <td>0</td>\n",
       "      <td>0</td>\n",
       "      <td>0</td>\n",
       "      <td>0</td>\n",
       "      <td>0</td>\n",
       "      <td>0</td>\n",
       "      <td>0</td>\n",
       "      <td>0</td>\n",
       "      <td>0</td>\n",
       "    </tr>\n",
       "  </tbody>\n",
       "</table>\n",
       "<p>1241 rows × 204 columns</p>\n",
       "</div>"
      ],
      "text/plain": [
       "       imdb_id  tmdb_id                    Title     titleType  startYear  \\\n",
       "0      1856010     1425           House of Cards      tvSeries       2013   \n",
       "1      2309295    42295            Hemlock Grove      tvSeries       2013   \n",
       "2      2372162     1424  Orange Is the New Black      tvSeries       2013   \n",
       "3      2189461    60699               Marco Polo      tvSeries       2014   \n",
       "4      3520702    61986                Bloodline      tvSeries       2015   \n",
       "...        ...      ...                      ...           ...        ...   \n",
       "1236  26315488   225148                Celebrity      tvSeries       2023   \n",
       "1237  19723614   137978                 Feedback      tvSeries       2023   \n",
       "1238   4196686    68296                The Kicks      tvSeries       2015   \n",
       "1239   5200330    71655                Dino Dana      tvSeries       2017   \n",
       "1240   7076630   109857              Vanity Fair  tvMiniSeries       2018   \n",
       "\n",
       "      endYear  Age  creator/actor?  director_1_name     director_2_name  ...  \\\n",
       "0        2018   18               0      James Foley        Robin Wright  ...   \n",
       "1        2015   18               0    Carl Tibbetts   Floria Sigismondi  ...   \n",
       "2        2019   18               0  Andrew McCarthy        Phil Abraham  ...   \n",
       "3        2016   18               0   Daniel Minahan      David Petrarca  ...   \n",
       "4        2017   18               0  Mikael Håfström     Todd A. Kessler  ...   \n",
       "...       ...  ...             ...              ...                 ...  ...   \n",
       "1236        0   18               0    Kim Cheol-gyu       Kim Cheol-gyu  ...   \n",
       "1237     2023   18               0     Leszek Dawid        Leszek Dawid  ...   \n",
       "1238     2016    0               0     Joe Nussbaum        Luke Matheny  ...   \n",
       "1239     2020    0               0     J.J. Johnson       Stefan Scaini  ...   \n",
       "1240     2018   14               0     James Strong  Jonathan Entwistle  ...   \n",
       "\n",
       "     second_country_PT  second_country_SA  second_country_SE  \\\n",
       "0                    0                  0                  0   \n",
       "1                    0                  0                  0   \n",
       "2                    0                  0                  0   \n",
       "3                    0                  0                  0   \n",
       "4                    0                  0                  0   \n",
       "...                ...                ...                ...   \n",
       "1236                 0                  0                  0   \n",
       "1237                 0                  0                  0   \n",
       "1238                 0                  0                  0   \n",
       "1239                 0                  0                  0   \n",
       "1240                 0                  0                  0   \n",
       "\n",
       "      second_country_TH  second_country_TN  second_country_TR  \\\n",
       "0                     0                  0                  0   \n",
       "1                     0                  0                  0   \n",
       "2                     0                  0                  0   \n",
       "3                     0                  0                  0   \n",
       "4                     0                  0                  0   \n",
       "...                 ...                ...                ...   \n",
       "1236                  0                  0                  0   \n",
       "1237                  0                  0                  0   \n",
       "1238                  0                  0                  0   \n",
       "1239                  0                  0                  0   \n",
       "1240                  0                  0                  0   \n",
       "\n",
       "      second_country_TW second_country_US second_country_VN second_country_ZA  \n",
       "0                     0                 1                 0                 0  \n",
       "1                     0                 1                 0                 0  \n",
       "2                     0                 1                 0                 0  \n",
       "3                     0                 1                 0                 0  \n",
       "4                     0                 1                 0                 0  \n",
       "...                 ...               ...               ...               ...  \n",
       "1236                  0                 0                 0                 0  \n",
       "1237                  0                 0                 0                 0  \n",
       "1238                  0                 1                 0                 0  \n",
       "1239                  0                 0                 0                 0  \n",
       "1240                  0                 0                 0                 0  \n",
       "\n",
       "[1241 rows x 204 columns]"
      ]
     },
     "metadata": {},
     "output_type": "display_data"
    }
   ],
   "source": [
    "#Create dummy or indicator features for categorical variables\n",
    "df = shows_df.copy()\n",
    "\n",
    "df = pd.get_dummies(df,\n",
    "                     columns = ['genre_1', 'genre_2', 'origin_language', 'Streamer', 'first_country', 'second_country'])\n",
    "display(df)\n"
   ]
  },
  {
   "cell_type": "code",
   "execution_count": 33,
   "id": "9b7de3ef",
   "metadata": {},
   "outputs": [
    {
     "data": {
      "text/plain": [
       "imdb_id               int64\n",
       "tmdb_id               int64\n",
       "Title                string\n",
       "titleType            string\n",
       "startYear             int64\n",
       "                      ...  \n",
       "second_country_TR     uint8\n",
       "second_country_TW     uint8\n",
       "second_country_US     uint8\n",
       "second_country_VN     uint8\n",
       "second_country_ZA     uint8\n",
       "Length: 204, dtype: object"
      ]
     },
     "execution_count": 33,
     "metadata": {},
     "output_type": "execute_result"
    }
   ],
   "source": [
    "#let's make sure of the feature types.\n",
    "df.dtypes"
   ]
  },
  {
   "cell_type": "code",
   "execution_count": 34,
   "id": "963836d2",
   "metadata": {},
   "outputs": [
    {
     "data": {
      "text/html": [
       "<div>\n",
       "<style scoped>\n",
       "    .dataframe tbody tr th:only-of-type {\n",
       "        vertical-align: middle;\n",
       "    }\n",
       "\n",
       "    .dataframe tbody tr th {\n",
       "        vertical-align: top;\n",
       "    }\n",
       "\n",
       "    .dataframe thead th {\n",
       "        text-align: right;\n",
       "    }\n",
       "</style>\n",
       "<table border=\"1\" class=\"dataframe\">\n",
       "  <thead>\n",
       "    <tr style=\"text-align: right;\">\n",
       "      <th></th>\n",
       "      <th>startYear</th>\n",
       "      <th>endYear</th>\n",
       "      <th>Age</th>\n",
       "      <th>creator/actor?</th>\n",
       "      <th>ep_run_times</th>\n",
       "      <th>writer_1_pop</th>\n",
       "      <th>writer_2_pop</th>\n",
       "      <th>writer_3_pop</th>\n",
       "      <th>director_1_pop</th>\n",
       "      <th>director_2_pop</th>\n",
       "      <th>...</th>\n",
       "      <th>second_country_PT</th>\n",
       "      <th>second_country_SA</th>\n",
       "      <th>second_country_SE</th>\n",
       "      <th>second_country_TH</th>\n",
       "      <th>second_country_TN</th>\n",
       "      <th>second_country_TR</th>\n",
       "      <th>second_country_TW</th>\n",
       "      <th>second_country_US</th>\n",
       "      <th>second_country_VN</th>\n",
       "      <th>second_country_ZA</th>\n",
       "    </tr>\n",
       "  </thead>\n",
       "  <tbody>\n",
       "    <tr>\n",
       "      <th>0</th>\n",
       "      <td>2013</td>\n",
       "      <td>2018</td>\n",
       "      <td>18</td>\n",
       "      <td>0</td>\n",
       "      <td>73</td>\n",
       "      <td>6.6</td>\n",
       "      <td>1.4</td>\n",
       "      <td>5.2</td>\n",
       "      <td>7.0</td>\n",
       "      <td>22.5</td>\n",
       "      <td>...</td>\n",
       "      <td>0</td>\n",
       "      <td>0</td>\n",
       "      <td>0</td>\n",
       "      <td>0</td>\n",
       "      <td>0</td>\n",
       "      <td>0</td>\n",
       "      <td>0</td>\n",
       "      <td>1</td>\n",
       "      <td>0</td>\n",
       "      <td>0</td>\n",
       "    </tr>\n",
       "    <tr>\n",
       "      <th>1</th>\n",
       "      <td>2013</td>\n",
       "      <td>2015</td>\n",
       "      <td>18</td>\n",
       "      <td>0</td>\n",
       "      <td>60</td>\n",
       "      <td>1.4</td>\n",
       "      <td>1.4</td>\n",
       "      <td>2.3</td>\n",
       "      <td>1.5</td>\n",
       "      <td>3.0</td>\n",
       "      <td>...</td>\n",
       "      <td>0</td>\n",
       "      <td>0</td>\n",
       "      <td>0</td>\n",
       "      <td>0</td>\n",
       "      <td>0</td>\n",
       "      <td>0</td>\n",
       "      <td>0</td>\n",
       "      <td>1</td>\n",
       "      <td>0</td>\n",
       "      <td>0</td>\n",
       "    </tr>\n",
       "    <tr>\n",
       "      <th>2</th>\n",
       "      <td>2013</td>\n",
       "      <td>2019</td>\n",
       "      <td>18</td>\n",
       "      <td>0</td>\n",
       "      <td>60</td>\n",
       "      <td>2.6</td>\n",
       "      <td>2.6</td>\n",
       "      <td>0.6</td>\n",
       "      <td>14.8</td>\n",
       "      <td>1.3</td>\n",
       "      <td>...</td>\n",
       "      <td>0</td>\n",
       "      <td>0</td>\n",
       "      <td>0</td>\n",
       "      <td>0</td>\n",
       "      <td>0</td>\n",
       "      <td>0</td>\n",
       "      <td>0</td>\n",
       "      <td>1</td>\n",
       "      <td>0</td>\n",
       "      <td>0</td>\n",
       "    </tr>\n",
       "    <tr>\n",
       "      <th>3</th>\n",
       "      <td>2014</td>\n",
       "      <td>2016</td>\n",
       "      <td>18</td>\n",
       "      <td>0</td>\n",
       "      <td>60</td>\n",
       "      <td>3.3</td>\n",
       "      <td>0.6</td>\n",
       "      <td>0.6</td>\n",
       "      <td>2.6</td>\n",
       "      <td>4.9</td>\n",
       "      <td>...</td>\n",
       "      <td>0</td>\n",
       "      <td>0</td>\n",
       "      <td>0</td>\n",
       "      <td>0</td>\n",
       "      <td>0</td>\n",
       "      <td>0</td>\n",
       "      <td>0</td>\n",
       "      <td>1</td>\n",
       "      <td>0</td>\n",
       "      <td>0</td>\n",
       "    </tr>\n",
       "    <tr>\n",
       "      <th>4</th>\n",
       "      <td>2015</td>\n",
       "      <td>2017</td>\n",
       "      <td>18</td>\n",
       "      <td>0</td>\n",
       "      <td>60</td>\n",
       "      <td>1.5</td>\n",
       "      <td>1.4</td>\n",
       "      <td>4.7</td>\n",
       "      <td>2.6</td>\n",
       "      <td>1.4</td>\n",
       "      <td>...</td>\n",
       "      <td>0</td>\n",
       "      <td>0</td>\n",
       "      <td>0</td>\n",
       "      <td>0</td>\n",
       "      <td>0</td>\n",
       "      <td>0</td>\n",
       "      <td>0</td>\n",
       "      <td>1</td>\n",
       "      <td>0</td>\n",
       "      <td>0</td>\n",
       "    </tr>\n",
       "  </tbody>\n",
       "</table>\n",
       "<p>5 rows × 185 columns</p>\n",
       "</div>"
      ],
      "text/plain": [
       "   startYear  endYear  Age  creator/actor?  ep_run_times  writer_1_pop  \\\n",
       "0       2013     2018   18               0            73           6.6   \n",
       "1       2013     2015   18               0            60           1.4   \n",
       "2       2013     2019   18               0            60           2.6   \n",
       "3       2014     2016   18               0            60           3.3   \n",
       "4       2015     2017   18               0            60           1.5   \n",
       "\n",
       "   writer_2_pop  writer_3_pop  director_1_pop  director_2_pop  ...  \\\n",
       "0           1.4           5.2             7.0            22.5  ...   \n",
       "1           1.4           2.3             1.5             3.0  ...   \n",
       "2           2.6           0.6            14.8             1.3  ...   \n",
       "3           0.6           0.6             2.6             4.9  ...   \n",
       "4           1.4           4.7             2.6             1.4  ...   \n",
       "\n",
       "   second_country_PT  second_country_SA  second_country_SE  second_country_TH  \\\n",
       "0                  0                  0                  0                  0   \n",
       "1                  0                  0                  0                  0   \n",
       "2                  0                  0                  0                  0   \n",
       "3                  0                  0                  0                  0   \n",
       "4                  0                  0                  0                  0   \n",
       "\n",
       "   second_country_TN  second_country_TR  second_country_TW  second_country_US  \\\n",
       "0                  0                  0                  0                  1   \n",
       "1                  0                  0                  0                  1   \n",
       "2                  0                  0                  0                  1   \n",
       "3                  0                  0                  0                  1   \n",
       "4                  0                  0                  0                  1   \n",
       "\n",
       "   second_country_VN  second_country_ZA  \n",
       "0                  0                  0  \n",
       "1                  0                  0  \n",
       "2                  0                  0  \n",
       "3                  0                  0  \n",
       "4                  0                  0  \n",
       "\n",
       "[5 rows x 185 columns]"
      ]
     },
     "execution_count": 34,
     "metadata": {},
     "output_type": "execute_result"
    }
   ],
   "source": [
    "# dropping unnecessary categorical and numerical features\n",
    "df.drop(columns = ['imdb_id', 'tmdb_id', 'Title', 'titleType', 'originalTitle', 'director_1_name', 'director_2_name'\n",
    "                  , 'director_3_name', 'writer_1_name', 'writer_2_name', 'writer_3_name', 'actor_1_name', \n",
    "                   'actor_2_name', 'writer_1_imdb#', 'writer_2_imdb#', 'writer_3_imdb#', 'director_1_imdb#',\n",
    "                  'director_2_imdb#', 'director_3_imdb#'], inplace = True)\n",
    "df.head()"
   ]
  },
  {
   "cell_type": "code",
   "execution_count": 18,
   "id": "ef6e44a2",
   "metadata": {},
   "outputs": [
    {
     "data": {
      "text/plain": [
       "Index(['startYear', 'endYear', 'Age', 'creator/actor?', 'ep_run_times',\n",
       "       'writer_1_pop', 'writer_2_pop', 'writer_3_pop', 'director_1_pop',\n",
       "       'director_2_pop',\n",
       "       ...\n",
       "       'second_country_PT', 'second_country_SA', 'second_country_SE',\n",
       "       'second_country_TH', 'second_country_TN', 'second_country_TR',\n",
       "       'second_country_TW', 'second_country_US', 'second_country_VN',\n",
       "       'second_country_ZA'],\n",
       "      dtype='object', length=185)"
      ]
     },
     "execution_count": 18,
     "metadata": {},
     "output_type": "execute_result"
    }
   ],
   "source": [
    "# Making a Scaler object\n",
    "#scaler = StandardScaler()\n",
    "# Fitting data to the scaler object\n",
    "#scaled_df = scaler.fit_transform(df)\n",
    "#scaled_df = pd.DataFrame(scaled_df, columns= df.columns)\n",
    "#scaled_df.columns"
   ]
  },
  {
   "cell_type": "code",
   "execution_count": 35,
   "id": "0e25e099",
   "metadata": {},
   "outputs": [],
   "source": [
    "#Split into testing and training datasets \n",
    "X_train, X_test, y_train, y_test = train_test_split(df.drop(columns = 'total_popularity'),df.total_popularity, \n",
    "                                                 test_size=0.25, \n",
    "                                                    random_state=47)\n"
   ]
  },
  {
   "cell_type": "markdown",
   "id": "17746317",
   "metadata": {},
   "source": [
    "## 3.5.1 Linear (and Lasso) Regression <a id = '3.5.1_Linear_(and_Lasso)_Regression' ><a>"
   ]
  },
  {
   "cell_type": "code",
   "execution_count": 204,
   "id": "d9610b4e",
   "metadata": {},
   "outputs": [
    {
     "name": "stdout",
     "output_type": "stream",
     "text": [
      "Coefficients:  [-3.32272102e-04  1.32329240e-05  1.71611472e-02 -6.09489827e-02\n",
      "  1.21716239e-03  5.13645461e-02  4.76205683e-02  4.85979335e-02\n",
      "  5.39611265e-02  4.74544640e-02  4.15672755e-02  8.88226385e-04\n",
      " -2.00109792e-04  1.52195767e-02  9.81488104e-03  1.04680156e-02\n",
      " -1.66156339e-02 -2.74194466e-01  4.06373452e-01  4.64478372e-07\n",
      "  2.01831063e-01  1.77901009e-01  5.12170461e-02  6.76512264e-02\n",
      "  6.37129430e-02  1.52176713e-01  9.02053272e-02  1.16957303e-01\n",
      " -4.23997841e-02 -2.33701947e-14 -6.02391385e-02 -2.10434605e-01\n",
      " -2.92264818e-01  4.94159473e-02  5.14512705e-03 -3.70875359e-01\n",
      " -6.01849982e-01  3.34895551e-02 -8.71234745e-02 -9.46465128e-15\n",
      "  6.07998119e-02  9.44395046e-02 -1.33370665e-01  1.27251629e-01\n",
      "  1.42682970e-03  1.47309083e-01  9.56968710e-02  1.68324244e-01\n",
      "  5.47784938e-04 -1.75628556e-01  1.19535294e-01  7.24811713e-03\n",
      "  1.04489488e-01  3.04220007e-01 -4.18232360e-02 -2.64938471e-02\n",
      " -1.68383029e-01  2.35449765e-02 -5.36504053e-02  3.42572637e-03\n",
      "  7.77156117e-16 -4.43098281e-01  6.64069473e-02  2.50513774e-01\n",
      "  6.24875323e-02 -3.46698143e-02 -1.42827958e-01  4.67941249e-02\n",
      "  1.30492345e-01 -5.54133170e-03  7.86024590e-02 -4.58201794e-02\n",
      " -1.04734500e-02  3.42261434e-03  5.22067318e-02  3.39578369e-02\n",
      "  6.94573524e-05  8.53521246e-03  4.15904032e-02 -4.57760277e-02\n",
      " -3.18228540e-01  3.67489204e-02  1.23435489e-01 -4.09626116e-02\n",
      "  1.48708619e-01  4.03998570e-02 -5.16538663e-02 -3.13742391e-02\n",
      "  3.60424920e-02  6.58575646e-03 -1.04710158e-01 -6.52920567e-02\n",
      "  2.40065397e-01  1.25996409e-02 -6.37882874e-02  1.27255069e-01\n",
      "  4.17512588e-02 -8.11127887e-03 -7.94512037e-02 -1.07321604e-01\n",
      " -5.36008173e-01  6.64069473e-02 -5.06824913e-02 -1.78981318e-01\n",
      " -1.42827958e-01 -1.17813540e-01  1.84439560e-01  8.32667268e-17\n",
      " -5.54133170e-03  1.10132096e-01  4.08296232e-02  1.10110382e-02\n",
      "  7.86024590e-02  1.51022014e-01  5.41082177e-02  1.02291008e-01\n",
      " -2.52990242e-01  3.42261434e-03 -1.42943008e-01 -2.54646112e-01\n",
      " -3.04886148e-02  3.39578369e-02  3.92598846e-01  0.00000000e+00\n",
      "  5.15765159e-03  6.94573524e-05 -1.98515847e-01  7.23234999e-02\n",
      "  0.00000000e+00  4.15904032e-02  4.23111257e-01 -4.57760277e-02\n",
      "  3.67489204e-02 -3.28513327e-02  2.33273417e-01  1.23435489e-01\n",
      " -1.67463139e-01  1.36565873e-01 -6.52920567e-02 -1.59956589e-01\n",
      "  1.25996409e-02 -6.37882874e-02 -4.31332678e-03  4.17512588e-02\n",
      " -8.11127887e-03 -7.94512037e-02  3.79312180e-01  6.64069473e-02\n",
      " -5.06824913e-02  2.18929351e-01 -1.42827958e-01  1.61836313e-01\n",
      " -2.32795362e-02  0.00000000e+00 -5.54133170e-03  1.10132096e-01\n",
      "  4.08296232e-02  1.10110382e-02  7.86024590e-02 -4.58201794e-02\n",
      "  5.41082177e-02 -1.04734500e-02 -2.52990242e-01  3.42261434e-03\n",
      "  1.43885590e-01  8.86689147e-02 -2.54646112e-01 -3.04886148e-02\n",
      "  3.39578369e-02 -8.82518075e-02  0.00000000e+00  5.15765159e-03\n",
      "  6.94573524e-05 -1.98515847e-01  7.23234999e-02  0.00000000e+00\n",
      "  4.15904032e-02 -4.57760277e-02  0.00000000e+00  3.67489204e-02\n",
      " -1.21520247e-01 -4.21556506e-02  1.23435489e-01 -1.67463139e-01]\n",
      "Variance score: 0.8508381696825008\n"
     ]
    }
   ],
   "source": [
    "# Trying Linear Regression\n",
    "start_time = dt.now()\n",
    "linear = LinearRegression()\n",
    "linear_model = linear.fit(X_train,y_train)\n",
    "\n",
    "# regression coefficients\n",
    "print('Coefficients: ', linear.coef_)\n",
    " \n",
    "\n",
    "# variance score\n",
    "print('Variance score: {}'.format(linear_model.score(X_test, y_test)))\n",
    "\n"
   ]
  },
  {
   "cell_type": "code",
   "execution_count": 120,
   "id": "4597b675",
   "metadata": {},
   "outputs": [
    {
     "name": "stdout",
     "output_type": "stream",
     "text": [
      "Mean Squared Error: 0.034516387458669424 R Squared Score: 0.912362232734437\n"
     ]
    }
   ],
   "source": [
    "# checking mean squared error and r squared score of the train data\n",
    "y_train_pred = linear.predict(X_train)\n",
    "\n",
    "mse_train = mean_squared_error(y_train, y_train_pred)\n",
    "r2_train = r2_score(y_train, y_train_pred)\n",
    "print (\"Mean Squared Error: {}\".format(mse_train), \"R Squared Score: {}\".format(r2_train))"
   ]
  },
  {
   "cell_type": "code",
   "execution_count": 121,
   "id": "2d2f19ca",
   "metadata": {},
   "outputs": [
    {
     "name": "stdout",
     "output_type": "stream",
     "text": [
      "Mean Squared Error: 0.05244744132838536 R Squared Score: 0.8508381696825008\n"
     ]
    }
   ],
   "source": [
    "y_test_pred = linear.predict(X_test)\n",
    "\n",
    "mse_test = mean_squared_error(y_test, y_test_pred)\n",
    "r2_test = r2_score(y_test, y_test_pred)\n",
    "print (\"Mean Squared Error: {}\".format(mse_test), \"R Squared Score: {}\".format(r2_test))"
   ]
  },
  {
   "cell_type": "markdown",
   "id": "11ecb8ea",
   "metadata": {},
   "source": [
    "Train data performs much better, let's check visually if our data is overfit."
   ]
  },
  {
   "cell_type": "code",
   "execution_count": 44,
   "id": "f0e987c5",
   "metadata": {},
   "outputs": [
    {
     "data": {
      "image/png": "[encoded data removed]",
      "text/plain": [
       "<Figure size 720x360 with 1 Axes>"
      ]
     },
     "metadata": {
      "needs_background": "light"
     },
     "output_type": "display_data"
    },
    {
     "data": {
      "image/png": "[encoded data removed]",
      "text/plain": [
       "<Figure size 720x360 with 1 Axes>"
      ]
     },
     "metadata": {
      "needs_background": "light"
     },
     "output_type": "display_data"
    }
   ],
   "source": [
    "# Scatter plot for the training set\n",
    "plt.figure(figsize=(10, 5))\n",
    "plt.scatter(y_train, y_train_pred, color='purple', label='Training Set')\n",
    "plt.plot([min(y_train), max(y_train)], [min(y_train), max(y_train)], linestyle='--', color='red', linewidth=2)\n",
    "plt.title('Training Set: Actual vs Predicted')\n",
    "plt.xlabel('Actual Values')\n",
    "plt.ylabel('Predicted Values')\n",
    "plt.legend()\n",
    "plt.show()\n",
    "\n",
    "# Scatter plot for the test set\n",
    "plt.figure(figsize=(10, 5))\n",
    "plt.scatter(y_test, y_test_pred, color='green', label='Test Set')\n",
    "plt.plot([min(y_test), max(y_test)], [min(y_test), max(y_test)], linestyle='--', color='red', linewidth=2)\n",
    "plt.title('Test Set: Actual vs Predicted')\n",
    "plt.xlabel('Actual Values')\n",
    "plt.ylabel('Predicted Values')\n",
    "plt.legend()\n",
    "plt.show()"
   ]
  },
  {
   "cell_type": "code",
   "execution_count": null,
   "id": "b7765535",
   "metadata": {},
   "outputs": [],
   "source": [
    "yes it looks very overfit. "
   ]
  },
  {
   "cell_type": "markdown",
   "id": "d30ea730",
   "metadata": {},
   "source": [
    "Let's try lasso model. But first, let's find the best alpha for it."
   ]
  },
  {
   "cell_type": "code",
   "execution_count": 56,
   "id": "a641bcf7",
   "metadata": {},
   "outputs": [
    {
     "name": "stdout",
     "output_type": "stream",
     "text": [
      "0.1\n"
     ]
    }
   ],
   "source": [
    "alphas = [0.1,0.3, 0.5, 0.8, 1]\n",
    "lassocv = LassoCV(alphas=alphas, cv=5).fit(X_train,y_train)\n",
    "print(lassocv.alpha_)"
   ]
  },
  {
   "cell_type": "code",
   "execution_count": 98,
   "id": "32095970",
   "metadata": {},
   "outputs": [
    {
     "name": "stdout",
     "output_type": "stream",
     "text": [
      "The train score 0.8295629578400501\n",
      "The test score  0.7766800354847574\n"
     ]
    }
   ],
   "source": [
    "#Lasso regression model\n",
    "lasso = Lasso(alpha = 0.1)\n",
    "lasso_model = lasso.fit(X_train,y_train)\n",
    "train_score_ls =lasso.score(X_train,y_train)\n",
    "test_score_ls =lasso.score(X_test,y_test)\n",
    "\n",
    "print(\"The train score {}\".format(train_score_ls))\n",
    "print(\"The test score  {}\".format(test_score_ls))"
   ]
  },
  {
   "cell_type": "markdown",
   "id": "417a57b4",
   "metadata": {},
   "source": [
    "This score looks better."
   ]
  },
  {
   "cell_type": "markdown",
   "id": "ffc863ad",
   "metadata": {},
   "source": [
    "## 3.5.2 Evaluation Metrics for Linear (and Lasso) Regression<a id= '3.5.2_Evaluation_Metrics_for_Linear(and_Lasso)_Regression'><a>"
   ]
  },
  {
   "cell_type": "markdown",
   "id": "d094e4f1",
   "metadata": {},
   "source": [
    "Adjusted R-Squared:"
   ]
  },
  {
   "cell_type": "code",
   "execution_count": 194,
   "id": "1730082e",
   "metadata": {},
   "outputs": [
    {
     "name": "stdout",
     "output_type": "stream",
     "text": [
      "R-squared: 0.8508381696825008\n",
      "Adjusted R-squared: 0.6330145444569465\n"
     ]
    }
   ],
   "source": [
    "#Make predictions\n",
    "y_pred = linear.predict(X_test)\n",
    "\n",
    "# Calculate the regular R-squared\n",
    "linear_r2 = r2_score(y_test, y_pred)\n",
    "\n",
    "# Get the number of observations (n) and predictors (k)\n",
    "n = X_test.shape[0]\n",
    "k = X_test.shape[1]\n",
    "\n",
    "# Calculate the adjusted R-squared\n",
    "linear_adjusted_r2 = 1 - ((1 - linear_r2) * (n - 1) / (n - k - 1))\n",
    "\n",
    "print(f'R-squared: {linear_r2}')\n",
    "print(f'Adjusted R-squared: {linear_adjusted_r2}')"
   ]
  },
  {
   "cell_type": "markdown",
   "id": "46b2ed32",
   "metadata": {},
   "source": [
    "With Lasso"
   ]
  },
  {
   "cell_type": "code",
   "execution_count": 193,
   "id": "9d973cbe",
   "metadata": {},
   "outputs": [
    {
     "name": "stdout",
     "output_type": "stream",
     "text": [
      "R-squared: 0.7766800354847574\n",
      "Adjusted R-squared: 0.45056199206567293\n"
     ]
    }
   ],
   "source": [
    "#Make predictions\n",
    "y_pred2 = lasso.predict(X_test)\n",
    "\n",
    "# Calculate the regular R-squared\n",
    "lasso_r2 = r2_score(y_test, y_pred2)\n",
    "\n",
    "# Get the number of observations (n) and predictors (k)\n",
    "n = X_test.shape[0]\n",
    "k = X_test.shape[1]\n",
    "\n",
    "# Calculate the adjusted R-squared\n",
    "lasso_adjusted_r2 = 1 - ((1 - lasso_r2) * (n - 1) / (n - k - 1))\n",
    "\n",
    "print(f'R-squared: {lasso_r2}')\n",
    "print(f'Adjusted R-squared: {lasso_adjusted_r2}')"
   ]
  },
  {
   "cell_type": "code",
   "execution_count": null,
   "id": "fb3c5b2d",
   "metadata": {},
   "outputs": [],
   "source": [
    "Mean Absolute Percentage Error:"
   ]
  },
  {
   "cell_type": "code",
   "execution_count": 196,
   "id": "7bd74344",
   "metadata": {},
   "outputs": [
    {
     "name": "stdout",
     "output_type": "stream",
     "text": [
      "Linear Reg's MAPE % 4.23\n",
      "Lasso Reg's MAPE % 5.12\n"
     ]
    }
   ],
   "source": [
    "# For Linear\n",
    "percent_error = (y_test - y_pred) / y_test\n",
    "\n",
    "ab_percent_error = abs(percent_error)\n",
    "\n",
    "linear_mape = np.mean(ab_percent_error)\n",
    "print (\"Linear Reg's MAPE % {}\".format(round(linear_mape *100,2)))\n",
    "\n",
    "# Lasso\n",
    "percent_error = (y_test - y_pred2) / y_test\n",
    "\n",
    "ab_percent_error = abs(percent_error)\n",
    "\n",
    "lasso_mape = np.mean(ab_percent_error)\n",
    "print (\"Lasso Reg's MAPE % {}\".format(round(lasso_mape *100,2)))\n"
   ]
  },
  {
   "cell_type": "code",
   "execution_count": 197,
   "id": "183de87d",
   "metadata": {},
   "outputs": [
    {
     "name": "stdout",
     "output_type": "stream",
     "text": [
      "Linear Reg's MAPE % 4.23\n",
      "Lasso Reg's MAPE % 5.12\n"
     ]
    }
   ],
   "source": [
    "#there is also function doing the calcuations\n",
    "line_mape = mean_absolute_percentage_error(y_test, y_pred)\n",
    "print (\"Linear Reg's MAPE % {}\".format(round(linear_mape *100,2)))\n",
    "\n",
    "lasso_mape = mean_absolute_percentage_error(y_test, y_pred2)\n",
    "print (\"Lasso Reg's MAPE % {}\".format(round(lasso_mape *100,2)))\n"
   ]
  },
  {
   "cell_type": "markdown",
   "id": "8d21d923",
   "metadata": {},
   "source": [
    "Actual-vs-Predicted scatter plots:"
   ]
  },
  {
   "cell_type": "code",
   "execution_count": 72,
   "id": "705cf6c4",
   "metadata": {},
   "outputs": [
    {
     "data": {
      "image/png": "[encoded data removed]",
      "text/plain": [
       "<Figure size 432x288 with 1 Axes>"
      ]
     },
     "metadata": {
      "needs_background": "light"
     },
     "output_type": "display_data"
    }
   ],
   "source": [
    "# For Linear Regression\n",
    "plt.scatter(y_test, y_pred, color='blue', label='Actual vs Predicted')\n",
    "\n",
    "# The 45-degree red line\n",
    "plt.plot([min(y_test), max(y_test)], [min(y_test), max(y_test)], linestyle='--', color='red', linewidth=2, label='45-Degree Line')\n",
    "\n",
    "# Labels\n",
    "plt.title('Actual vs Predicted Popularity of the TV Shows')\n",
    "plt.xlabel('Actual Popularity')\n",
    "plt.ylabel('Predicted Popularity')\n",
    "\n",
    "plt.legend()\n",
    "\n",
    "plt.show()"
   ]
  },
  {
   "cell_type": "code",
   "execution_count": 163,
   "id": "e0e66ba4",
   "metadata": {},
   "outputs": [
    {
     "data": {
      "image/png": "[encoded data removed]",
      "text/plain": [
       "<Figure size 432x288 with 1 Axes>"
      ]
     },
     "metadata": {
      "needs_background": "light"
     },
     "output_type": "display_data"
    }
   ],
   "source": [
    "#For Lasso\n",
    "\n",
    "plt.scatter(y_test, y_pred2, color='pink', label='Actual vs Predicted')\n",
    "\n",
    "# The 45-degree red line\n",
    "plt.plot([min(y_test), max(y_test)], [min(y_test), max(y_test)], linestyle='--', color='red', linewidth=2, label='45-Degree Line')\n",
    "\n",
    "# Labels\n",
    "plt.title('Actual vs Predicted Popularity of the TV Shows')\n",
    "plt.xlabel('Actual Popularity')\n",
    "plt.ylabel('Predicted Popularity')\n",
    "\n",
    "plt.legend()\n",
    "\n",
    "plt.show()"
   ]
  },
  {
   "cell_type": "markdown",
   "id": "7e9ec9d3",
   "metadata": {},
   "source": [
    "Histogram of Distribution of the Residuals:"
   ]
  },
  {
   "cell_type": "code",
   "execution_count": 188,
   "id": "55228ad5",
   "metadata": {},
   "outputs": [
    {
     "data": {
      "image/png": "[encoded data removed]",
      "text/plain": [
       "<Figure size 432x288 with 1 Axes>"
      ]
     },
     "metadata": {
      "needs_background": "light"
     },
     "output_type": "display_data"
    }
   ],
   "source": [
    "#For Linear Regression\n",
    "residuals = np.array(y_test) - np.array(y_pred)\n",
    "residuals2 = np.array(y_test) - np.array(y_pred2)\n",
    "\n",
    "# Create a histogram of residuals\n",
    "ax1 = plt.hist(residuals, bins=30, color='blue',alpha=0.7, rwidth=0.85, label = 'Linear' )\n",
    "\n",
    "# Create a histogram of residuals\n",
    "ax2 = plt.hist(residuals2, bins=30, color='pink',alpha=0.5, rwidth=0.85, label = 'Lasso' )\n",
    "\n",
    "\n",
    "# Set labels and title\n",
    "plt.title('Distribution of Residuals')\n",
    "plt.xlabel('Residuals')\n",
    "plt.ylabel('Frequency')\n",
    "plt.legend()\n",
    "# Show the plot\n",
    "plt.show()"
   ]
  },
  {
   "cell_type": "markdown",
   "id": "19311a51",
   "metadata": {},
   "source": [
    "Linear Regression's residuals are closer to zero than Lasso reGRESSION."
   ]
  },
  {
   "cell_type": "markdown",
   "id": "ae113a6c",
   "metadata": {},
   "source": [
    "## 3.5.3 Random Forest Regression <a id= '3.5.3_Random_Forest_Regression' ><a>"
   ]
  },
  {
   "cell_type": "markdown",
   "id": "9e591ab2",
   "metadata": {},
   "source": [
    "Applying Random Forest Regression. But first, let's find the best parameters:"
   ]
  },
  {
   "cell_type": "code",
   "execution_count": 116,
   "id": "8dfcc8ca",
   "metadata": {},
   "outputs": [],
   "source": [
    "# Hyperparameters for RandomForestRegresser\n",
    "\n",
    "param_grid ={'n_estimators': [5, 20, 50, 100], \n",
    "             'max_features': ['auto', 'sqrt'], \n",
    "             'max_depth': [10, 20, 30, 40, 50, 60, 70, 80, 90, 100, 110, 120], \n",
    "             'min_samples_split': [2, 6, 10], 'min_samples_leaf': [1, 3, 4], \n",
    "             'bootstrap': [True, False]} "
   ]
  },
  {
   "cell_type": "code",
   "execution_count": 117,
   "id": "e9614938",
   "metadata": {},
   "outputs": [
    {
     "data": {
      "text/plain": [
       "{'n_estimators': 50,\n",
       " 'min_samples_split': 2,\n",
       " 'min_samples_leaf': 1,\n",
       " 'max_features': 'auto',\n",
       " 'max_depth': 20,\n",
       " 'bootstrap': True}"
      ]
     },
     "execution_count": 117,
     "metadata": {},
     "output_type": "execute_result"
    }
   ],
   "source": [
    "random_tree = RandomForestRegressor()\n",
    "rf_par = RandomizedSearchCV(random_tree, param_grid, cv=10)\n",
    "rf_par.fit(X_train, y_train)\n",
    "rf_par.best_params_"
   ]
  },
  {
   "cell_type": "code",
   "execution_count": 125,
   "id": "da024a14",
   "metadata": {},
   "outputs": [
    {
     "name": "stdout",
     "output_type": "stream",
     "text": [
      "Score 0.8481361678528208\n"
     ]
    }
   ],
   "source": [
    "# Create an instance of RandomForestRegressor\n",
    "random = RandomForestRegressor(n_estimators = 5, min_samples_leaf = 1, max_features= 'sqrt',\n",
    "                               max_depth= 70, min_samples_split = 6, bootstrap= False )\n",
    "random_model = random.fit(X_train,y_train)\n",
    "y_pred3 = random.predict(X_test)\n",
    "score2 = random.score(X_test,y_test)\n",
    "print('Score {}'.format(score2))"
   ]
  },
  {
   "cell_type": "markdown",
   "id": "483376c8",
   "metadata": {},
   "source": [
    "## 3.5.4 Evaluation Metrics for Random Forest Regression <a id='3.5.4_Evaluation_Metrics_for_Random_Forest_Regression'><a>"
   ]
  },
  {
   "cell_type": "markdown",
   "id": "85c81202",
   "metadata": {},
   "source": [
    "Adjusted R-Squared:"
   ]
  },
  {
   "cell_type": "code",
   "execution_count": 198,
   "id": "a1f11aa7",
   "metadata": {},
   "outputs": [
    {
     "name": "stdout",
     "output_type": "stream",
     "text": [
      "R-squared: 0.8481361678528208\n",
      "Adjusted R-squared: 0.6263667621775748\n"
     ]
    }
   ],
   "source": [
    "#Make predictions\n",
    "\n",
    "# Calculate the regular R-squared\n",
    "random_r2 = r2_score(y_test, y_pred3)\n",
    "\n",
    "# Get the number of observations (n) and predictors (k)\n",
    "n = X_test.shape[0]\n",
    "k = X_test.shape[1]\n",
    "\n",
    "# Calculate the adjusted R-squared\n",
    "random_adjusted_r2 = 1 - ((1 - random_r2) * (n - 1) / (n - k - 1))\n",
    "\n",
    "print(f'R-squared: {random_r2}')\n",
    "print(f'Adjusted R-squared: {random_adjusted_r2}')"
   ]
  },
  {
   "cell_type": "markdown",
   "id": "4ae4430b",
   "metadata": {},
   "source": [
    "Mean Absolute Percentage Error:"
   ]
  },
  {
   "cell_type": "code",
   "execution_count": 199,
   "id": "7966d2f6",
   "metadata": {},
   "outputs": [
    {
     "name": "stdout",
     "output_type": "stream",
     "text": [
      "Linear Reg's MAPE % 4.29\n"
     ]
    }
   ],
   "source": [
    "percent_error = (y_test - y_pred3) / y_test\n",
    "\n",
    "ab_percent_error = abs(percent_error)\n",
    "\n",
    "random_mape = np.mean(ab_percent_error)\n",
    "print (\"Linear Reg's MAPE % {}\".format(round(random_mape *100,2)))\n"
   ]
  },
  {
   "cell_type": "markdown",
   "id": "2b756c87",
   "metadata": {},
   "source": [
    "Actual-vs-Predicted scatter plots:"
   ]
  },
  {
   "cell_type": "code",
   "execution_count": 185,
   "id": "436337ab",
   "metadata": {},
   "outputs": [
    {
     "data": {
      "image/png": "[encoded data removed]",
      "text/plain": [
       "<Figure size 432x288 with 1 Axes>"
      ]
     },
     "metadata": {
      "needs_background": "light"
     },
     "output_type": "display_data"
    }
   ],
   "source": [
    "# For Linear Regression\n",
    "plt.scatter(y_test, y_pred3, color='green', label='Actual vs Predicted')\n",
    "\n",
    "# The 45-degree red line\n",
    "plt.plot([min(y_test), max(y_test)], [min(y_test), max(y_test)], linestyle='--', color='red', linewidth=2, label='45-Degree Line')\n",
    "\n",
    "# Labels\n",
    "plt.title('Actual vs Predicted Popularity of the TV Shows')\n",
    "plt.xlabel('Actual Popularity')\n",
    "plt.ylabel('Predicted Popularity')\n",
    "\n",
    "plt.legend('Random Forest')\n",
    "\n",
    "plt.show()"
   ]
  },
  {
   "cell_type": "markdown",
   "id": "0513412c",
   "metadata": {},
   "source": [
    "This doesn't look either over or underfit."
   ]
  },
  {
   "cell_type": "markdown",
   "id": "f0bbee69",
   "metadata": {},
   "source": [
    "Histogram of Distribution of the Residuals:"
   ]
  },
  {
   "cell_type": "code",
   "execution_count": 200,
   "id": "f3cde862",
   "metadata": {},
   "outputs": [
    {
     "data": {
      "image/png": "[encoded data removed]",
      "text/plain": [
       "<Figure size 432x288 with 1 Axes>"
      ]
     },
     "metadata": {
      "needs_background": "light"
     },
     "output_type": "display_data"
    }
   ],
   "source": [
    "residuals3 = np.array(y_test) - np.array(y_pred3)\n",
    "\n",
    "# Create a histogram of residuals\n",
    "plt.hist(residuals3, bins=30, color='green',alpha=0.7, rwidth=0.85 )\n",
    "\n",
    "# Set labels and title\n",
    "plt.title('Distribution of Residuals after Random Forest Regression')\n",
    "plt.xlabel('Residuals')\n",
    "plt.ylabel('Frequency')\n",
    "\n",
    "# Show the plot\n",
    "plt.show()"
   ]
  },
  {
   "cell_type": "markdown",
   "id": "7e4e8d6b",
   "metadata": {},
   "source": [
    "The Linear and Lasso were less spread than this. Let's put all of them in a single histogram"
   ]
  },
  {
   "cell_type": "code",
   "execution_count": null,
   "id": "d8bcb753",
   "metadata": {},
   "outputs": [],
   "source": [
    "Random Forest Regressor seems slightly better on the histogram."
   ]
  },
  {
   "cell_type": "markdown",
   "id": "42c50b0e",
   "metadata": {},
   "source": [
    "## 3.5.5 XGBoost Regression <a id= '3.5.5_XGBoost_Regression' ><a>"
   ]
  },
  {
   "cell_type": "code",
   "execution_count": 140,
   "id": "199dde58",
   "metadata": {},
   "outputs": [
    {
     "data": {
      "text/plain": [
       "GridSearchCV(cv=10,\n",
       "             estimator=XGBRegressor(base_score=None, booster=None,\n",
       "                                    callbacks=None, colsample_bylevel=None,\n",
       "                                    colsample_bynode=None,\n",
       "                                    colsample_bytree=None, device=None,\n",
       "                                    early_stopping_rounds=None,\n",
       "                                    enable_categorical=False, eval_metric=None,\n",
       "                                    feature_types=None, gamma=None,\n",
       "                                    grow_policy=None, importance_type=None,\n",
       "                                    interaction_constraints=None,\n",
       "                                    learning_rate=None,...\n",
       "                                    max_cat_to_onehot=None, max_delta_step=None,\n",
       "                                    max_depth=None, max_leaves=None,\n",
       "                                    min_child_weight=None, missing=nan,\n",
       "                                    monotone_constraints=None,\n",
       "                                    multi_strategy=None, n_estimators=None,\n",
       "                                    n_jobs=None, num_parallel_tree=None,\n",
       "                                    random_state=42, ...),\n",
       "             param_grid={'colsample_bytree': [0.8, 0.9, 1.0],\n",
       "                         'learning_rate': [0.01, 0.1, 0.2],\n",
       "                         'max_depth': [3, 4, 5],\n",
       "                         'n_estimators': [100, 200, 300],\n",
       "                         'subsample': [0.8, 0.9, 1.0]})"
      ]
     },
     "execution_count": 140,
     "metadata": {},
     "output_type": "execute_result"
    }
   ],
   "source": [
    "model3 = xgb.XGBRegressor(objective='reg:squarederror', random_state=42)\n",
    "param_grid = {\n",
    "    'learning_rate': [0.01, 0.1, 0.2],\n",
    "    'max_depth': [3, 4, 5],\n",
    "    'n_estimators': [100, 200, 300],\n",
    "    'subsample': [0.8, 0.9, 1.0],\n",
    "    'colsample_bytree': [0.8, 0.9, 1.0]\n",
    "}\n",
    "\n",
    "grid_search = GridSearchCV(estimator=model3, param_grid=param_grid, cv=10)\n",
    "grid_search.fit(X_train, y_train)"
   ]
  },
  {
   "cell_type": "code",
   "execution_count": 141,
   "id": "25a46ef1",
   "metadata": {},
   "outputs": [
    {
     "name": "stdout",
     "output_type": "stream",
     "text": [
      "{'colsample_bytree': 0.8, 'learning_rate': 0.1, 'max_depth': 3, 'n_estimators': 300, 'subsample': 0.8}\n"
     ]
    }
   ],
   "source": [
    "best_params = grid_search.best_params_\n",
    "print (best_params)"
   ]
  },
  {
   "cell_type": "code",
   "execution_count": 205,
   "id": "c334af5b",
   "metadata": {},
   "outputs": [
    {
     "name": "stderr",
     "output_type": "stream",
     "text": [
      "/Users/esrasaydam/opt/anaconda3/lib/python3.9/site-packages/xgboost/core.py:160: UserWarning: [11:10:13] WARNING: /Users/runner/work/xgboost/xgboost/src/learner.cc:742: \n",
      "Parameters: { \"colsample_bytee\", \"min_samples_leaf\" } are not used.\n",
      "\n",
      "  warnings.warn(smsg, UserWarning)\n"
     ]
    },
    {
     "name": "stdout",
     "output_type": "stream",
     "text": [
      "Score 0.9907235073047146\n"
     ]
    }
   ],
   "source": [
    "xgboost = xgb.XGBRegressor(n_estimators = 300, min_samples_leaf = 1, colsample_bytee= 0.8,\n",
    "                               max_depth= 3, subsample = 0.8)\n",
    "xgb_model = xgboost.fit(X_train,y_train)\n",
    "y_pred4 = xgboost.predict(X_test)\n",
    "score4 = xgboost.score(X_test,y_test)\n",
    "print('Score {}'.format(score4))"
   ]
  },
  {
   "cell_type": "markdown",
   "id": "8014660b",
   "metadata": {},
   "source": [
    "This is a very good score. Continuing with other evaluation metrics"
   ]
  },
  {
   "cell_type": "markdown",
   "id": "4fac0920",
   "metadata": {},
   "source": [
    "## 3.5.6 Evaluation Metrics for XGBoost Regression <a id='3.5.6_Evaluation_Metrics_for_XGBoost_Regression'><a>"
   ]
  },
  {
   "cell_type": "code",
   "execution_count": 201,
   "id": "d8daffdb",
   "metadata": {},
   "outputs": [
    {
     "name": "stdout",
     "output_type": "stream",
     "text": [
      "R-squared: 0.9907235073047146\n",
      "Adjusted R-squared: 0.9771768830512819\n"
     ]
    }
   ],
   "source": [
    "#Make predictions\n",
    "\n",
    "# Calculate the regular R-squared\n",
    "xgb_r2 = r2_score(y_test, y_pred4)\n",
    "\n",
    "# Get the number of observations (n) and predictors (k)\n",
    "n = X_test.shape[0]\n",
    "k = X_test.shape[1]\n",
    "\n",
    "# Calculate the adjusted R-squared\n",
    "xgb_adjusted_r2 = 1 - ((1 - xgb_r2) * (n - 1) / (n - k - 1))\n",
    "\n",
    "print(f'R-squared: {xgb_r2}')\n",
    "print(f'Adjusted R-squared: {xgb_adjusted_r2}')"
   ]
  },
  {
   "cell_type": "markdown",
   "id": "59bc7daf",
   "metadata": {},
   "source": [
    "Mean Absolute Percentage Error:"
   ]
  },
  {
   "cell_type": "code",
   "execution_count": 146,
   "id": "b8eb1596",
   "metadata": {},
   "outputs": [
    {
     "name": "stdout",
     "output_type": "stream",
     "text": [
      "XGBoost Reg's MAPE % 1.05\n"
     ]
    }
   ],
   "source": [
    "xgb_mape = mean_absolute_percentage_error(y_test, y_pred4)\n",
    "print (\"XGBoost Reg's MAPE % {}\".format(round(xgb_mape *100,2)))\n"
   ]
  },
  {
   "cell_type": "markdown",
   "id": "534dc4f6",
   "metadata": {},
   "source": [
    "Actual-vs-Predicted scatter plots:"
   ]
  },
  {
   "cell_type": "code",
   "execution_count": 174,
   "id": "804d4695",
   "metadata": {},
   "outputs": [
    {
     "data": {
      "image/png": "[encoded data removed]",
      "text/plain": [
       "<Figure size 432x288 with 1 Axes>"
      ]
     },
     "metadata": {
      "needs_background": "light"
     },
     "output_type": "display_data"
    }
   ],
   "source": [
    "plt.scatter(y_test, y_pred4, color='orange', label='Actual vs Predicted')\n",
    "\n",
    "plt.plot([min(y_test), max(y_test)], [min(y_test), max(y_test)], linestyle='--', color='red', linewidth=2, label='45-Degree Line')\n",
    "\n",
    "# Labels\n",
    "plt.title('Actual vs Predicted Popularity of the TV Shows')\n",
    "plt.xlabel('Actual Popularity')\n",
    "plt.ylabel('Predicted Popularity')\n",
    "\n",
    "plt.legend(title='XGBoost Regression')\n",
    "\n",
    "plt.show()"
   ]
  },
  {
   "cell_type": "markdown",
   "id": "034de83a",
   "metadata": {},
   "source": [
    "This might be overfitting but the results are very accurate. "
   ]
  },
  {
   "cell_type": "code",
   "execution_count": 153,
   "id": "13ad925b",
   "metadata": {},
   "outputs": [
    {
     "name": "stdout",
     "output_type": "stream",
     "text": [
      "The train score 0.9998185932529013\n",
      "The test score  0.9907235073047146\n"
     ]
    }
   ],
   "source": [
    "xgb_train_score =xgboost.score(X_train,y_train)\n",
    "xgb_test_score =xgboost.score(X_test,y_test)\n",
    "\n",
    "print(\"The train score {}\".format(xgb_train_score))\n",
    "print(\"The test score  {}\".format(xgb_test_score))\n"
   ]
  },
  {
   "cell_type": "markdown",
   "id": "fbc1f603",
   "metadata": {},
   "source": [
    "Okay, the train score does not lead the score with a big difference."
   ]
  },
  {
   "cell_type": "markdown",
   "id": "c8f1a8e5",
   "metadata": {},
   "source": [
    "Histogram of Distribution of the Residuals:"
   ]
  },
  {
   "cell_type": "code",
   "execution_count": 162,
   "id": "1370e173",
   "metadata": {},
   "outputs": [
    {
     "data": {
      "image/png": "[encoded data removed]",
      "text/plain": [
       "<Figure size 432x288 with 1 Axes>"
      ]
     },
     "metadata": {
      "needs_background": "light"
     },
     "output_type": "display_data"
    }
   ],
   "source": [
    "residuals4 = np.array(y_test) - np.array(y_pred4)\n",
    "\n",
    "# Create a histogram of residuals\n",
    "plt.hist(residuals4, bins=30, color='orange',alpha=0.7, rwidth=0.85 )\n",
    "\n",
    "# Set labels and title\n",
    "plt.title('Distribution of Residuals after XGBoost Regression')\n",
    "plt.xlabel('Residuals')\n",
    "plt.ylabel('Frequency')\n",
    "\n",
    "# Show the plot\n",
    "plt.show()"
   ]
  },
  {
   "cell_type": "markdown",
   "id": "ef725afd",
   "metadata": {},
   "source": [
    "Nice. The values are much more frequently closer to zero."
   ]
  },
  {
   "cell_type": "markdown",
   "id": "82bb0315",
   "metadata": {},
   "source": [
    "## 3.6 General Comparison of the Models <a id='3.6_General_Comparison_of_the_Models'><a>"
   ]
  },
  {
   "cell_type": "markdown",
   "id": "93c46a16",
   "metadata": {},
   "source": [
    "Now let's compare all plots together\n",
    "First with Scatterplots:"
   ]
  },
  {
   "cell_type": "code",
   "execution_count": 190,
   "id": "c20bbef8",
   "metadata": {},
   "outputs": [
    {
     "data": {
      "image/png": "[encoded data removed]",
      "text/plain": [
       "<Figure size 864x720 with 1 Axes>"
      ]
     },
     "metadata": {
      "needs_background": "light"
     },
     "output_type": "display_data"
    }
   ],
   "source": [
    "plt.figure(figsize = (12,10))\n",
    "ax1 =  plt.scatter(y_test, y_pred, color='blue', alpha = 0.4, label='Linear')\n",
    "ax2 = plt.scatter(y_test, y_pred2, color='pink', alpha = 0.4, label='Lasso')\n",
    "ax3 = plt.scatter(y_test, y_pred3, color='green', alpha = 0.4, label='Random Forest')\n",
    "#making xgboost slightly more visible since it seems to perform the best\n",
    "ax4 = plt.scatter(y_test, y_pred4, color='orange', alpha = 0.8, label='XGBoost')\n",
    "\n",
    "plt.plot([min(y_test), max(y_test)], [min(y_test), max(y_test)], linestyle='--', color='red', linewidth=2, label='45-Degree Line')\n",
    "\n",
    "# Labels\n",
    "plt.title('Actual vs Predicted Popularity of the TV Shows')\n",
    "plt.xlabel('Actual Popularity')\n",
    "plt.ylabel('Predicted Popularity')\n",
    "\n",
    "plt.legend()\n",
    "\n",
    "plt.show()"
   ]
  },
  {
   "cell_type": "markdown",
   "id": "753c6a74",
   "metadata": {},
   "source": [
    "Histogram of Distribution of Residuals:"
   ]
  },
  {
   "cell_type": "code",
   "execution_count": 189,
   "id": "a11eeb17",
   "metadata": {},
   "outputs": [
    {
     "data": {
      "image/png": "[encoded data removed]",
      "text/plain": [
       "<Figure size 432x288 with 1 Axes>"
      ]
     },
     "metadata": {
      "needs_background": "light"
     },
     "output_type": "display_data"
    }
   ],
   "source": [
    "#For Linear, Lasso and Random\n",
    "residuals = np.array(y_test) - np.array(y_pred)\n",
    "residuals2 = np.array(y_test) - np.array(y_pred2)\n",
    "\n",
    "# Create a histogram of residuals\n",
    "ax1 = plt.hist(residuals, bins=30, color='blue',alpha=0.5, rwidth=0.85, label = 'Linear' )\n",
    "\n",
    "ax2 = plt.hist(residuals2, bins=30, color= 'pink', alpha=0.5, rwidth=0.85, label = 'Lasso')\n",
    "\n",
    "ax3 = plt.hist(residuals3, bins=30, color='green',alpha=0.7, rwidth=0.85, label = 'Random Forest' )\n",
    "\n",
    "ax4 = plt.hist(residuals4, bins=30, color='orange',alpha=0.8, rwidth=0.85, label = 'XGBoost' )\n",
    "\n",
    "\n",
    "# Set labels and title\n",
    "plt.title('Distribution of Residuals with Linear, Lasso and Random Forest Regressions')\n",
    "plt.xlabel('Residuals')\n",
    "plt.ylabel('Frequency')\n",
    "plt.legend()\n",
    "# Show the plot\n",
    "plt.show()"
   ]
  },
  {
   "cell_type": "markdown",
   "id": "65a7d231",
   "metadata": {},
   "source": [
    "Clearly, XGBoost is performing much better than others."
   ]
  },
  {
   "cell_type": "markdown",
   "id": "972a6857",
   "metadata": {},
   "source": [
    "Finally creating a table of results"
   ]
  },
  {
   "cell_type": "code",
   "execution_count": 203,
   "id": "3aa5f7a8",
   "metadata": {},
   "outputs": [
    {
     "name": "stdout",
     "output_type": "stream",
     "text": [
      "+-------------------------+----------+----------+-----------+\n",
      "| Model                   |       r2 |     A-r2 |      MAPE |\n",
      "+=========================+==========+==========+===========+\n",
      "| Linear Regression       | 0.850838 | 0.633015 | 0.0422883 |\n",
      "+-------------------------+----------+----------+-----------+\n",
      "| Lasso Regression        | 0.77668  | 0.450562 | 0.0512252 |\n",
      "+-------------------------+----------+----------+-----------+\n",
      "| Random Forest Regrssion | 0.848136 | 0.626367 | 0.0428763 |\n",
      "+-------------------------+----------+----------+-----------+\n",
      "| XGBoost                 | 0.990724 | 0.977177 | 0.0105286 |\n",
      "+-------------------------+----------+----------+-----------+\n"
     ]
    }
   ],
   "source": [
    "# import table module\n",
    "from tabulate import tabulate\n",
    " \n",
    "mydata = [\n",
    "    [\"Linear Regression\", linear_r2,linear_adjusted_r2 , linear_mape], \n",
    "    [\"Lasso Regression\", lasso_r2, lasso_adjusted_r2, lasso_mape], \n",
    "    [\"Random Forest Regrssion\", random_r2, random_adjusted_r2, random_mape], \n",
    "      [\"XGBoost\", xgb_r2, xgb_adjusted_r2, xgb_mape]\n",
    "]\n",
    " \n",
    "# create header\n",
    "head = [\"Model\", \"r2\", \"A-r2\", \"MAPE\"]\n",
    " \n",
    "print(tabulate(mydata, headers=head, tablefmt=\"grid\"))"
   ]
  },
  {
   "cell_type": "markdown",
   "id": "cae24a5b",
   "metadata": {},
   "source": [
    "XGBoost is the winner."
   ]
  },
  {
   "cell_type": "markdown",
   "id": "71c69c64",
   "metadata": {},
   "source": [
    "## 3.7 Saving the Models <a id= '3.7_Saving_the_Models'><a>"
   ]
  },
  {
   "cell_type": "code",
   "execution_count": 207,
   "id": "80b3a88d",
   "metadata": {},
   "outputs": [
    {
     "data": {
      "text/plain": [
       "['xgb_model.sav']"
      ]
     },
     "execution_count": 207,
     "metadata": {},
     "output_type": "execute_result"
    }
   ],
   "source": [
    "import joblib \n",
    "\n",
    "\n",
    "# save model with joblib \n",
    "# Linear Model\n",
    "linear_filename = 'linear_model.sav'\n",
    "joblib.dump(linear_model, linear_filename)\n",
    "\n",
    "#Lasso Model\n",
    "lasso_filename = 'lasso_model.sav'\n",
    "joblib.dump(lasso_model, lasso_filename)\n",
    "\n",
    "#RF Model\n",
    "random_filename = 'random_model.sav'\n",
    "joblib.dump(random_model, lasso_filename)\n",
    "\n",
    "# XGBoost Model\n",
    "xgb_filename = 'xgb_model.sav'\n",
    "joblib.dump(xgb_model, xgb_filename)\n"
   ]
  },
  {
   "cell_type": "markdown",
   "id": "53f94142",
   "metadata": {},
   "source": [
    "## 3.8 Preprocessing Conclusion <a id= '3.8_Preprocessing_Conclusion'><a>"
   ]
  },
  {
   "cell_type": "markdown",
   "id": "ca54d4a4",
   "metadata": {},
   "source": [
    "In this process we explored baseline modeling trying the universal models, Linear, Lasso, Random Forest Regression, and XGBoost Regression. The reason why we tried multiple models was because until XGBoost Regression we didn't have satisfactory model to use further in our model construction. XGBoost performs at least over 10 percent than its closest contender Linear Regression. Also we decided to exclude many features (such as director, writer, or actor names along with their id numbers on movie websites) to have a more efficient process. We also used dummies to use certain categorical features such as genre, original language etc.   We saved all the models with joblib.\n",
    "\n",
    "Now we can move on to building our own model!"
   ]
  },
  {
   "cell_type": "code",
   "execution_count": null,
   "id": "61791a1c",
   "metadata": {},
   "outputs": [],
   "source": []
  }
 ],
 "metadata": {
  "kernelspec": {
   "display_name": "Python 3 (ipykernel)",
   "language": "python",
   "name": "python3"
  },
  "language_info": {
   "codemirror_mode": {
    "name": "ipython",
    "version": 3
   },
   "file_extension": ".py",
   "mimetype": "text/x-python",
   "name": "python",
   "nbconvert_exporter": "python",
   "pygments_lexer": "ipython3",
   "version": "3.9.12"
  }
 },
 "nbformat": 4,
 "nbformat_minor": 5
}
