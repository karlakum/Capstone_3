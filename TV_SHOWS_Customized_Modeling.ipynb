{
 "cells": [
  {
   "cell_type": "markdown",
   "id": "96e059cd",
   "metadata": {},
   "source": [
    "## 4. CUSTOMIZED MODELING<a id= '4._Customized_Modeling'><a>"
   ]
  },
  {
   "cell_type": "markdown",
   "id": "059ee389",
   "metadata": {},
   "source": [
    "## 4.1 Contents<a id='4.1_Contents'></a>\n",
    "* [4 Customized Modeling](#1_Customized_Modeling)\n",
    "  * [4.1 Contents](#4.1_Contents)\n",
    "  * [4.2 Introduction](#4.2_Introduction)\n",
    "  * [4.3 Imports](#4.3_Imports)\n",
    "  * [4.4 Load Data](#4.4_Load_Data)\n",
    "  * [4.5 Random Forest Regression - Feature Importance](#4.5_Random_Forest_Regression_-_Feature_Importance)\n",
    "  * [4.6 Random Forest Regression - Subsets Based on Time Periods](#4.6_Random_Forest_Regression_-_Subsets_Based_on_Time_Periods)\n",
    "  * [4.7 XGB Regression - Feature Importance](#4.7_XGB_Regression_-_Feature_Importance)\n",
    "  * [4.8 Comparison of XGB and Random Forest Models](#4.8_Comparison_of_XGB_and_Random_Forest_Models)\n",
    "  * [4.9 XGB Regression - Subsets Based on Time Periods](#4.9_XGB_Regression_-_Subsets_Based_on_Time_Periods)\n",
    "  * [4.10 Subsetting Based on Genres and Modeling](#4.10_Subsetting_Based_On_Genres_and_Modeling)\n",
    "  * [4.10.1 Crime](#4.10.1_Crime)\n",
    "  * [4.10.2 Biography](#4.10.2_Biography)\n",
    "  * [4.10.3 Action](#4.10.3_Action) \n",
    "  * [4.10.4 Drama](#4.10.4_Drama)\n",
    "  * [4.10.5 Comedy](#4.10.5_Comedy)\n",
    "  * [4.10.6 Fantasy](#4.10.6_Fantasy)\n",
    "  * [4.11 The Result Table for All Subsets](#4.11_The_Result_Table_For_All_Subsets)\n",
    "  * [4.12 Case Study: Which TV Shows Would Have Popularity Scores Above the Mean Score?](#4.12_Case_Study:_Which_TV_Shows_Would_Have_Popularity_Scores_Above_the_Mean_Score?)\n",
    "  * [4.13 Conclusion](#4.13_Conclusion)"
   ]
  },
  {
   "cell_type": "markdown",
   "id": "3f183652",
   "metadata": {},
   "source": [
    "## 4.2 Introduction <a id= '4.2_Introduction'><a>\n",
    "In this section, we'll see if the Mean Average Percentage Errors of our two best models, Random Forest Regression and XGB Regression get even less by using two techniques:\n",
    "    (a) eliminating less important features of our tv show dataset\n",
    "    (b) creating subsets out of dataset and using"
   ]
  },
  {
   "cell_type": "markdown",
   "id": "79ceabdb",
   "metadata": {},
   "source": [
    "## 4.3 Imports <a id = '4.3_Imports'><a>\n"
   ]
  },
  {
   "cell_type": "code",
   "execution_count": 1262,
   "id": "b984f510",
   "metadata": {},
   "outputs": [
    {
     "name": "stdout",
     "output_type": "stream",
     "text": [
      "Requirement already satisfied: xgboost in /Users/esrasaydam/opt/anaconda3/lib/python3.9/site-packages (2.0.3)\r\n",
      "Requirement already satisfied: numpy in /Users/esrasaydam/opt/anaconda3/lib/python3.9/site-packages (from xgboost) (1.21.5)\r\n",
      "Requirement already satisfied: scipy in /Users/esrasaydam/opt/anaconda3/lib/python3.9/site-packages (from xgboost) (1.7.3)\r\n"
     ]
    }
   ],
   "source": [
    "import pandas as pd\n",
    "import numpy as np\n",
    "import os\n",
    "import pickle\n",
    "import matplotlib.pyplot as plt\n",
    "import seaborn as sns\n",
    "from sklearn import __version__ as sklearn_version\n",
    "from sklearn.decomposition import PCA\n",
    "from sklearn.preprocessing import scale\n",
    "from sklearn.model_selection import train_test_split, cross_validate, GridSearchCV, learning_curve\n",
    "from sklearn.preprocessing import StandardScaler\n",
    "from sklearn.dummy import DummyRegressor\n",
    "from sklearn.linear_model import LinearRegression\n",
    "from sklearn.linear_model import Ridge, RidgeCV, Lasso, LassoCV\n",
    "from sklearn.ensemble import RandomForestRegressor\n",
    "from sklearn.metrics import r2_score, mean_squared_error, mean_absolute_error, mean_absolute_percentage_error\n",
    "from sklearn.pipeline import make_pipeline\n",
    "from sklearn.impute import SimpleImputer\n",
    "from sklearn.feature_selection import SelectKBest, f_regression\n",
    "from datetime import datetime as dt\n",
    "from sklearn.feature_selection import mutual_info_regression\n",
    "from sklearn.model_selection import cross_val_score\n",
    "from sklearn.model_selection import RandomizedSearchCV\n",
    "! pip install xgboost\n",
    "import xgboost as xgb\n",
    "import joblib\n",
    "import pyreadstat as py"
   ]
  },
  {
   "cell_type": "markdown",
   "id": "955375e1",
   "metadata": {},
   "source": [
    "## 4.4 Load Data <a id = '4.4_Load_Data'><a>"
   ]
  },
  {
   "cell_type": "code",
   "execution_count": 1263,
   "id": "cb8d2c4d",
   "metadata": {},
   "outputs": [
    {
     "name": "stdout",
     "output_type": "stream",
     "text": [
      "Requirement already satisfied: pyreadstat in /Users/esrasaydam/opt/anaconda3/lib/python3.9/site-packages (1.2.6)\r\n",
      "Requirement already satisfied: pandas>=1.2.0 in /Users/esrasaydam/opt/anaconda3/lib/python3.9/site-packages (from pyreadstat) (1.4.2)\r\n",
      "Requirement already satisfied: python-dateutil>=2.8.1 in /Users/esrasaydam/opt/anaconda3/lib/python3.9/site-packages (from pandas>=1.2.0->pyreadstat) (2.8.2)\r\n",
      "Requirement already satisfied: pytz>=2020.1 in /Users/esrasaydam/opt/anaconda3/lib/python3.9/site-packages (from pandas>=1.2.0->pyreadstat) (2021.3)\r\n",
      "Requirement already satisfied: numpy>=1.18.5 in /Users/esrasaydam/opt/anaconda3/lib/python3.9/site-packages (from pandas>=1.2.0->pyreadstat) (1.21.5)\r\n",
      "Requirement already satisfied: six>=1.5 in /Users/esrasaydam/opt/anaconda3/lib/python3.9/site-packages (from python-dateutil>=2.8.1->pandas>=1.2.0->pyreadstat) (1.16.0)\r\n"
     ]
    }
   ],
   "source": [
    "# Installing the necessary library to open the sav files.\n",
    "!pip install pyreadstat"
   ]
  },
  {
   "cell_type": "code",
   "execution_count": 1264,
   "id": "ea946a13",
   "metadata": {},
   "outputs": [
    {
     "name": "stdout",
     "output_type": "stream",
     "text": [
      "Requirement already satisfied: pip in /Users/esrasaydam/opt/anaconda3/lib/python3.9/site-packages (24.0)\r\n"
     ]
    }
   ],
   "source": [
    "!pip install --upgrade pip"
   ]
  },
  {
   "cell_type": "code",
   "execution_count": 1265,
   "id": "2019007b",
   "metadata": {},
   "outputs": [],
   "source": [
    "y_test = joblib.load ('y_test.sav')\n",
    "y_train = joblib.load('y_train.sav')\n",
    "X_test = joblib.load('X_test.sav')\n",
    "X_train = joblib.load('X_train.sav')\n",
    "xgb_model = joblib.load('xgb_model.sav')\n",
    "random_model =joblib.load('random_model.sav')\n",
    "linear_model = joblib.load('linear_model.sav')\n",
    "lasso_model =joblib.load('lasso_model.sav')"
   ]
  },
  {
   "cell_type": "code",
   "execution_count": 1266,
   "id": "b7215ad5",
   "metadata": {},
   "outputs": [],
   "source": [
    "#let's load the main dataset as well\n",
    "df = pd.read_csv( 'shows_df.csv')\n"
   ]
  },
  {
   "cell_type": "markdown",
   "id": "e8c352af",
   "metadata": {},
   "source": [
    "Let's create subsets. First let's separate shows created during and after pandemic from the rest of the dataset."
   ]
  },
  {
   "cell_type": "code",
   "execution_count": 1267,
   "id": "5d65acd9",
   "metadata": {},
   "outputs": [
    {
     "name": "stderr",
     "output_type": "stream",
     "text": [
      "/Users/esrasaydam/opt/anaconda3/lib/python3.9/site-packages/xgboost/core.py:160: UserWarning: [11:29:39] WARNING: /Users/runner/work/xgboost/xgboost/src/learner.cc:742: \n",
      "Parameters: { \"colsample_bytee\", \"min_samples_leaf\" } are not used.\n",
      "\n",
      "  warnings.warn(smsg, UserWarning)\n",
      "/Users/esrasaydam/opt/anaconda3/lib/python3.9/site-packages/xgboost/core.py:160: UserWarning: [11:29:40] WARNING: /Users/runner/work/xgboost/xgboost/src/learner.cc:742: \n",
      "Parameters: { \"colsample_bytee\", \"min_samples_leaf\" } are not used.\n",
      "\n",
      "  warnings.warn(smsg, UserWarning)\n",
      "/Users/esrasaydam/opt/anaconda3/lib/python3.9/site-packages/xgboost/core.py:160: UserWarning: [11:29:40] WARNING: /Users/runner/work/xgboost/xgboost/src/learner.cc:742: \n",
      "Parameters: { \"colsample_bytee\", \"min_samples_leaf\" } are not used.\n",
      "\n",
      "  warnings.warn(smsg, UserWarning)\n",
      "/Users/esrasaydam/opt/anaconda3/lib/python3.9/site-packages/xgboost/core.py:160: UserWarning: [11:29:40] WARNING: /Users/runner/work/xgboost/xgboost/src/learner.cc:742: \n",
      "Parameters: { \"colsample_bytee\", \"min_samples_leaf\" } are not used.\n",
      "\n",
      "  warnings.warn(smsg, UserWarning)\n",
      "/Users/esrasaydam/opt/anaconda3/lib/python3.9/site-packages/xgboost/core.py:160: UserWarning: [11:29:41] WARNING: /Users/runner/work/xgboost/xgboost/src/learner.cc:742: \n",
      "Parameters: { \"colsample_bytee\", \"min_samples_leaf\" } are not used.\n",
      "\n",
      "  warnings.warn(smsg, UserWarning)\n",
      "/Users/esrasaydam/opt/anaconda3/lib/python3.9/site-packages/xgboost/core.py:160: UserWarning: [11:29:41] WARNING: /Users/runner/work/xgboost/xgboost/src/learner.cc:742: \n",
      "Parameters: { \"colsample_bytee\", \"min_samples_leaf\" } are not used.\n",
      "\n",
      "  warnings.warn(smsg, UserWarning)\n",
      "/Users/esrasaydam/opt/anaconda3/lib/python3.9/site-packages/xgboost/core.py:160: UserWarning: [11:29:41] WARNING: /Users/runner/work/xgboost/xgboost/src/learner.cc:742: \n",
      "Parameters: { \"colsample_bytee\", \"min_samples_leaf\" } are not used.\n",
      "\n",
      "  warnings.warn(smsg, UserWarning)\n",
      "/Users/esrasaydam/opt/anaconda3/lib/python3.9/site-packages/xgboost/core.py:160: UserWarning: [11:29:41] WARNING: /Users/runner/work/xgboost/xgboost/src/learner.cc:742: \n",
      "Parameters: { \"colsample_bytee\", \"min_samples_leaf\" } are not used.\n",
      "\n",
      "  warnings.warn(smsg, UserWarning)\n",
      "/Users/esrasaydam/opt/anaconda3/lib/python3.9/site-packages/xgboost/core.py:160: UserWarning: [11:29:42] WARNING: /Users/runner/work/xgboost/xgboost/src/learner.cc:742: \n",
      "Parameters: { \"colsample_bytee\", \"min_samples_leaf\" } are not used.\n",
      "\n",
      "  warnings.warn(smsg, UserWarning)\n",
      "/Users/esrasaydam/opt/anaconda3/lib/python3.9/site-packages/xgboost/core.py:160: UserWarning: [11:29:42] WARNING: /Users/runner/work/xgboost/xgboost/src/learner.cc:742: \n",
      "Parameters: { \"colsample_bytee\", \"min_samples_leaf\" } are not used.\n",
      "\n",
      "  warnings.warn(smsg, UserWarning)\n",
      "/Users/esrasaydam/opt/anaconda3/lib/python3.9/site-packages/xgboost/core.py:160: UserWarning: [11:29:42] WARNING: /Users/runner/work/xgboost/xgboost/src/learner.cc:742: \n",
      "Parameters: { \"colsample_bytee\", \"min_samples_leaf\" } are not used.\n",
      "\n",
      "  warnings.warn(smsg, UserWarning)\n",
      "/Users/esrasaydam/opt/anaconda3/lib/python3.9/site-packages/xgboost/core.py:160: UserWarning: [11:29:43] WARNING: /Users/runner/work/xgboost/xgboost/src/learner.cc:742: \n",
      "Parameters: { \"colsample_bytee\", \"min_samples_leaf\" } are not used.\n",
      "\n",
      "  warnings.warn(smsg, UserWarning)\n",
      "/Users/esrasaydam/opt/anaconda3/lib/python3.9/site-packages/xgboost/core.py:160: UserWarning: [11:29:43] WARNING: /Users/runner/work/xgboost/xgboost/src/learner.cc:742: \n",
      "Parameters: { \"colsample_bytee\", \"min_samples_leaf\" } are not used.\n",
      "\n",
      "  warnings.warn(smsg, UserWarning)\n",
      "/Users/esrasaydam/opt/anaconda3/lib/python3.9/site-packages/xgboost/core.py:160: UserWarning: [11:29:43] WARNING: /Users/runner/work/xgboost/xgboost/src/learner.cc:742: \n",
      "Parameters: { \"colsample_bytee\", \"min_samples_leaf\" } are not used.\n",
      "\n",
      "  warnings.warn(smsg, UserWarning)\n",
      "/Users/esrasaydam/opt/anaconda3/lib/python3.9/site-packages/xgboost/core.py:160: UserWarning: [11:29:44] WARNING: /Users/runner/work/xgboost/xgboost/src/learner.cc:742: \n",
      "Parameters: { \"colsample_bytee\", \"min_samples_leaf\" } are not used.\n",
      "\n",
      "  warnings.warn(smsg, UserWarning)\n",
      "/Users/esrasaydam/opt/anaconda3/lib/python3.9/site-packages/xgboost/core.py:160: UserWarning: [11:29:44] WARNING: /Users/runner/work/xgboost/xgboost/src/learner.cc:742: \n",
      "Parameters: { \"colsample_bytee\", \"min_samples_leaf\" } are not used.\n",
      "\n",
      "  warnings.warn(smsg, UserWarning)\n",
      "/Users/esrasaydam/opt/anaconda3/lib/python3.9/site-packages/xgboost/core.py:160: UserWarning: [11:29:44] WARNING: /Users/runner/work/xgboost/xgboost/src/learner.cc:742: \n",
      "Parameters: { \"colsample_bytee\", \"min_samples_leaf\" } are not used.\n",
      "\n",
      "  warnings.warn(smsg, UserWarning)\n",
      "/Users/esrasaydam/opt/anaconda3/lib/python3.9/site-packages/xgboost/core.py:160: UserWarning: [11:29:45] WARNING: /Users/runner/work/xgboost/xgboost/src/learner.cc:742: \n",
      "Parameters: { \"colsample_bytee\", \"min_samples_leaf\" } are not used.\n",
      "\n",
      "  warnings.warn(smsg, UserWarning)\n",
      "/Users/esrasaydam/opt/anaconda3/lib/python3.9/site-packages/xgboost/core.py:160: UserWarning: [11:29:45] WARNING: /Users/runner/work/xgboost/xgboost/src/learner.cc:742: \n",
      "Parameters: { \"colsample_bytee\", \"min_samples_leaf\" } are not used.\n",
      "\n",
      "  warnings.warn(smsg, UserWarning)\n",
      "/Users/esrasaydam/opt/anaconda3/lib/python3.9/site-packages/xgboost/core.py:160: UserWarning: [11:29:45] WARNING: /Users/runner/work/xgboost/xgboost/src/learner.cc:742: \n",
      "Parameters: { \"colsample_bytee\", \"min_samples_leaf\" } are not used.\n",
      "\n",
      "  warnings.warn(smsg, UserWarning)\n",
      "/Users/esrasaydam/opt/anaconda3/lib/python3.9/site-packages/xgboost/core.py:160: UserWarning: [11:29:46] WARNING: /Users/runner/work/xgboost/xgboost/src/learner.cc:742: \n",
      "Parameters: { \"colsample_bytee\", \"min_samples_leaf\" } are not used.\n",
      "\n",
      "  warnings.warn(smsg, UserWarning)\n",
      "/Users/esrasaydam/opt/anaconda3/lib/python3.9/site-packages/xgboost/core.py:160: UserWarning: [11:29:46] WARNING: /Users/runner/work/xgboost/xgboost/src/learner.cc:742: \n",
      "Parameters: { \"colsample_bytee\", \"min_samples_leaf\" } are not used.\n",
      "\n",
      "  warnings.warn(smsg, UserWarning)\n",
      "/Users/esrasaydam/opt/anaconda3/lib/python3.9/site-packages/xgboost/core.py:160: UserWarning: [11:29:46] WARNING: /Users/runner/work/xgboost/xgboost/src/learner.cc:742: \n",
      "Parameters: { \"colsample_bytee\", \"min_samples_leaf\" } are not used.\n",
      "\n",
      "  warnings.warn(smsg, UserWarning)\n",
      "/Users/esrasaydam/opt/anaconda3/lib/python3.9/site-packages/xgboost/core.py:160: UserWarning: [11:29:47] WARNING: /Users/runner/work/xgboost/xgboost/src/learner.cc:742: \n",
      "Parameters: { \"colsample_bytee\", \"min_samples_leaf\" } are not used.\n",
      "\n",
      "  warnings.warn(smsg, UserWarning)\n",
      "/Users/esrasaydam/opt/anaconda3/lib/python3.9/site-packages/xgboost/core.py:160: UserWarning: [11:29:48] WARNING: /Users/runner/work/xgboost/xgboost/src/learner.cc:742: \n",
      "Parameters: { \"colsample_bytee\", \"min_samples_leaf\" } are not used.\n",
      "\n",
      "  warnings.warn(smsg, UserWarning)\n",
      "/Users/esrasaydam/opt/anaconda3/lib/python3.9/site-packages/xgboost/core.py:160: UserWarning: [11:29:48] WARNING: /Users/runner/work/xgboost/xgboost/src/learner.cc:742: \n",
      "Parameters: { \"colsample_bytee\", \"min_samples_leaf\" } are not used.\n",
      "\n",
      "  warnings.warn(smsg, UserWarning)\n",
      "/Users/esrasaydam/opt/anaconda3/lib/python3.9/site-packages/xgboost/core.py:160: UserWarning: [11:29:48] WARNING: /Users/runner/work/xgboost/xgboost/src/learner.cc:742: \n",
      "Parameters: { \"colsample_bytee\", \"min_samples_leaf\" } are not used.\n",
      "\n",
      "  warnings.warn(smsg, UserWarning)\n",
      "/Users/esrasaydam/opt/anaconda3/lib/python3.9/site-packages/xgboost/core.py:160: UserWarning: [11:29:49] WARNING: /Users/runner/work/xgboost/xgboost/src/learner.cc:742: \n",
      "Parameters: { \"colsample_bytee\", \"min_samples_leaf\" } are not used.\n",
      "\n",
      "  warnings.warn(smsg, UserWarning)\n",
      "/Users/esrasaydam/opt/anaconda3/lib/python3.9/site-packages/xgboost/core.py:160: UserWarning: [11:29:49] WARNING: /Users/runner/work/xgboost/xgboost/src/learner.cc:742: \n",
      "Parameters: { \"colsample_bytee\", \"min_samples_leaf\" } are not used.\n",
      "\n",
      "  warnings.warn(smsg, UserWarning)\n",
      "/Users/esrasaydam/opt/anaconda3/lib/python3.9/site-packages/xgboost/core.py:160: UserWarning: [11:29:49] WARNING: /Users/runner/work/xgboost/xgboost/src/learner.cc:742: \n",
      "Parameters: { \"colsample_bytee\", \"min_samples_leaf\" } are not used.\n",
      "\n",
      "  warnings.warn(smsg, UserWarning)\n"
     ]
    },
    {
     "name": "stderr",
     "output_type": "stream",
     "text": [
      "/Users/esrasaydam/opt/anaconda3/lib/python3.9/site-packages/xgboost/core.py:160: UserWarning: [11:29:50] WARNING: /Users/runner/work/xgboost/xgboost/src/learner.cc:742: \n",
      "Parameters: { \"colsample_bytee\" } are not used.\n",
      "\n",
      "  warnings.warn(smsg, UserWarning)\n",
      "/Users/esrasaydam/opt/anaconda3/lib/python3.9/site-packages/xgboost/core.py:160: UserWarning: [11:29:50] WARNING: /Users/runner/work/xgboost/xgboost/src/learner.cc:742: \n",
      "Parameters: { \"colsample_bytee\" } are not used.\n",
      "\n",
      "  warnings.warn(smsg, UserWarning)\n",
      "/Users/esrasaydam/opt/anaconda3/lib/python3.9/site-packages/xgboost/core.py:160: UserWarning: [11:29:50] WARNING: /Users/runner/work/xgboost/xgboost/src/learner.cc:742: \n",
      "Parameters: { \"colsample_bytee\" } are not used.\n",
      "\n",
      "  warnings.warn(smsg, UserWarning)\n",
      "/Users/esrasaydam/opt/anaconda3/lib/python3.9/site-packages/xgboost/core.py:160: UserWarning: [11:29:50] WARNING: /Users/runner/work/xgboost/xgboost/src/learner.cc:742: \n",
      "Parameters: { \"colsample_bytee\" } are not used.\n",
      "\n",
      "  warnings.warn(smsg, UserWarning)\n",
      "/Users/esrasaydam/opt/anaconda3/lib/python3.9/site-packages/xgboost/core.py:160: UserWarning: [11:29:50] WARNING: /Users/runner/work/xgboost/xgboost/src/learner.cc:742: \n",
      "Parameters: { \"colsample_bytee\" } are not used.\n",
      "\n",
      "  warnings.warn(smsg, UserWarning)\n",
      "/Users/esrasaydam/opt/anaconda3/lib/python3.9/site-packages/xgboost/core.py:160: UserWarning: [11:29:50] WARNING: /Users/runner/work/xgboost/xgboost/src/learner.cc:742: \n",
      "Parameters: { \"colsample_bytee\" } are not used.\n",
      "\n",
      "  warnings.warn(smsg, UserWarning)\n",
      "/Users/esrasaydam/opt/anaconda3/lib/python3.9/site-packages/xgboost/core.py:160: UserWarning: [11:29:50] WARNING: /Users/runner/work/xgboost/xgboost/src/learner.cc:742: \n",
      "Parameters: { \"colsample_bytee\" } are not used.\n",
      "\n",
      "  warnings.warn(smsg, UserWarning)\n",
      "/Users/esrasaydam/opt/anaconda3/lib/python3.9/site-packages/xgboost/core.py:160: UserWarning: [11:29:50] WARNING: /Users/runner/work/xgboost/xgboost/src/learner.cc:742: \n",
      "Parameters: { \"colsample_bytee\" } are not used.\n",
      "\n",
      "  warnings.warn(smsg, UserWarning)\n",
      "/Users/esrasaydam/opt/anaconda3/lib/python3.9/site-packages/xgboost/core.py:160: UserWarning: [11:29:51] WARNING: /Users/runner/work/xgboost/xgboost/src/learner.cc:742: \n",
      "Parameters: { \"colsample_bytee\" } are not used.\n",
      "\n",
      "  warnings.warn(smsg, UserWarning)\n",
      "/Users/esrasaydam/opt/anaconda3/lib/python3.9/site-packages/xgboost/core.py:160: UserWarning: [11:29:51] WARNING: /Users/runner/work/xgboost/xgboost/src/learner.cc:742: \n",
      "Parameters: { \"colsample_bytee\" } are not used.\n",
      "\n",
      "  warnings.warn(smsg, UserWarning)\n",
      "/Users/esrasaydam/opt/anaconda3/lib/python3.9/site-packages/xgboost/core.py:160: UserWarning: [11:29:51] WARNING: /Users/runner/work/xgboost/xgboost/src/learner.cc:742: \n",
      "Parameters: { \"colsample_bytee\" } are not used.\n",
      "\n",
      "  warnings.warn(smsg, UserWarning)\n",
      "/Users/esrasaydam/opt/anaconda3/lib/python3.9/site-packages/xgboost/core.py:160: UserWarning: [11:29:51] WARNING: /Users/runner/work/xgboost/xgboost/src/learner.cc:742: \n",
      "Parameters: { \"colsample_bytee\" } are not used.\n",
      "\n",
      "  warnings.warn(smsg, UserWarning)\n",
      "/Users/esrasaydam/opt/anaconda3/lib/python3.9/site-packages/xgboost/core.py:160: UserWarning: [11:29:51] WARNING: /Users/runner/work/xgboost/xgboost/src/learner.cc:742: \n",
      "Parameters: { \"colsample_bytee\" } are not used.\n",
      "\n",
      "  warnings.warn(smsg, UserWarning)\n",
      "/Users/esrasaydam/opt/anaconda3/lib/python3.9/site-packages/xgboost/core.py:160: UserWarning: [11:29:51] WARNING: /Users/runner/work/xgboost/xgboost/src/learner.cc:742: \n",
      "Parameters: { \"colsample_bytee\" } are not used.\n",
      "\n",
      "  warnings.warn(smsg, UserWarning)\n",
      "/Users/esrasaydam/opt/anaconda3/lib/python3.9/site-packages/xgboost/core.py:160: UserWarning: [11:29:51] WARNING: /Users/runner/work/xgboost/xgboost/src/learner.cc:742: \n",
      "Parameters: { \"colsample_bytee\" } are not used.\n",
      "\n",
      "  warnings.warn(smsg, UserWarning)\n",
      "/Users/esrasaydam/opt/anaconda3/lib/python3.9/site-packages/xgboost/core.py:160: UserWarning: [11:29:52] WARNING: /Users/runner/work/xgboost/xgboost/src/learner.cc:742: \n",
      "Parameters: { \"colsample_bytee\" } are not used.\n",
      "\n",
      "  warnings.warn(smsg, UserWarning)\n",
      "/Users/esrasaydam/opt/anaconda3/lib/python3.9/site-packages/xgboost/core.py:160: UserWarning: [11:29:52] WARNING: /Users/runner/work/xgboost/xgboost/src/learner.cc:742: \n",
      "Parameters: { \"colsample_bytee\" } are not used.\n",
      "\n",
      "  warnings.warn(smsg, UserWarning)\n",
      "/Users/esrasaydam/opt/anaconda3/lib/python3.9/site-packages/xgboost/core.py:160: UserWarning: [11:29:52] WARNING: /Users/runner/work/xgboost/xgboost/src/learner.cc:742: \n",
      "Parameters: { \"colsample_bytee\" } are not used.\n",
      "\n",
      "  warnings.warn(smsg, UserWarning)\n",
      "/Users/esrasaydam/opt/anaconda3/lib/python3.9/site-packages/xgboost/core.py:160: UserWarning: [11:29:52] WARNING: /Users/runner/work/xgboost/xgboost/src/learner.cc:742: \n",
      "Parameters: { \"colsample_bytee\" } are not used.\n",
      "\n",
      "  warnings.warn(smsg, UserWarning)\n",
      "/Users/esrasaydam/opt/anaconda3/lib/python3.9/site-packages/xgboost/core.py:160: UserWarning: [11:29:52] WARNING: /Users/runner/work/xgboost/xgboost/src/learner.cc:742: \n",
      "Parameters: { \"colsample_bytee\" } are not used.\n",
      "\n",
      "  warnings.warn(smsg, UserWarning)\n",
      "/Users/esrasaydam/opt/anaconda3/lib/python3.9/site-packages/xgboost/core.py:160: UserWarning: [11:29:52] WARNING: /Users/runner/work/xgboost/xgboost/src/learner.cc:742: \n",
      "Parameters: { \"colsample_bytee\" } are not used.\n",
      "\n",
      "  warnings.warn(smsg, UserWarning)\n",
      "/Users/esrasaydam/opt/anaconda3/lib/python3.9/site-packages/xgboost/core.py:160: UserWarning: [11:29:52] WARNING: /Users/runner/work/xgboost/xgboost/src/learner.cc:742: \n",
      "Parameters: { \"colsample_bytee\" } are not used.\n",
      "\n",
      "  warnings.warn(smsg, UserWarning)\n",
      "/Users/esrasaydam/opt/anaconda3/lib/python3.9/site-packages/xgboost/core.py:160: UserWarning: [11:29:52] WARNING: /Users/runner/work/xgboost/xgboost/src/learner.cc:742: \n",
      "Parameters: { \"colsample_bytee\" } are not used.\n",
      "\n",
      "  warnings.warn(smsg, UserWarning)\n",
      "/Users/esrasaydam/opt/anaconda3/lib/python3.9/site-packages/xgboost/core.py:160: UserWarning: [11:29:53] WARNING: /Users/runner/work/xgboost/xgboost/src/learner.cc:742: \n",
      "Parameters: { \"colsample_bytee\" } are not used.\n",
      "\n",
      "  warnings.warn(smsg, UserWarning)\n",
      "/Users/esrasaydam/opt/anaconda3/lib/python3.9/site-packages/xgboost/core.py:160: UserWarning: [11:29:53] WARNING: /Users/runner/work/xgboost/xgboost/src/learner.cc:742: \n",
      "Parameters: { \"colsample_bytee\" } are not used.\n",
      "\n",
      "  warnings.warn(smsg, UserWarning)\n",
      "/Users/esrasaydam/opt/anaconda3/lib/python3.9/site-packages/xgboost/core.py:160: UserWarning: [11:29:53] WARNING: /Users/runner/work/xgboost/xgboost/src/learner.cc:742: \n",
      "Parameters: { \"colsample_bytee\" } are not used.\n",
      "\n",
      "  warnings.warn(smsg, UserWarning)\n",
      "/Users/esrasaydam/opt/anaconda3/lib/python3.9/site-packages/xgboost/core.py:160: UserWarning: [11:29:53] WARNING: /Users/runner/work/xgboost/xgboost/src/learner.cc:742: \n",
      "Parameters: { \"colsample_bytee\" } are not used.\n",
      "\n",
      "  warnings.warn(smsg, UserWarning)\n",
      "/Users/esrasaydam/opt/anaconda3/lib/python3.9/site-packages/xgboost/core.py:160: UserWarning: [11:29:53] WARNING: /Users/runner/work/xgboost/xgboost/src/learner.cc:742: \n",
      "Parameters: { \"colsample_bytee\" } are not used.\n",
      "\n",
      "  warnings.warn(smsg, UserWarning)\n",
      "/Users/esrasaydam/opt/anaconda3/lib/python3.9/site-packages/xgboost/core.py:160: UserWarning: [11:29:53] WARNING: /Users/runner/work/xgboost/xgboost/src/learner.cc:742: \n",
      "Parameters: { \"colsample_bytee\" } are not used.\n",
      "\n",
      "  warnings.warn(smsg, UserWarning)\n",
      "/Users/esrasaydam/opt/anaconda3/lib/python3.9/site-packages/xgboost/core.py:160: UserWarning: [11:29:53] WARNING: /Users/runner/work/xgboost/xgboost/src/learner.cc:742: \n",
      "Parameters: { \"colsample_bytee\" } are not used.\n",
      "\n",
      "  warnings.warn(smsg, UserWarning)\n"
     ]
    }
   ],
   "source": [
    "models= [('lin_reg', linear_model), ('forest', random_model), ('dt', xgb_model)]\n",
    "scoring = ['neg_mean_squared_error', 'neg_mean_absolute_error', 'r2']\n",
    "\n",
    "#for each model I want to test three different scoring metrics. Therefore, results[0] will be lin_reg x MSE, \n",
    "# results[1] lin_reg x MSE and so on until results [8], where we stored dt x r2\n",
    "\n",
    "results= []\n",
    "metric= []\n",
    "for name, model in models:\n",
    "    for i in scoring:\n",
    "        scores = cross_validate(model, X_train, y_train, scoring=i, cv=10, return_train_score=True)\n",
    "        results.append(scores)\n"
   ]
  },
  {
   "cell_type": "code",
   "execution_count": 1268,
   "id": "08b0d23b",
   "metadata": {},
   "outputs": [
    {
     "data": {
      "text/plain": [
       "{'fit_time': array([0.04724193, 0.00878787, 0.0101409 , 0.00873995, 0.00724721,\n",
       "        0.00665689, 0.00677919, 0.01649189, 0.00618696, 0.00646186]),\n",
       " 'score_time': array([0.00220609, 0.00131726, 0.00130391, 0.00130105, 0.00127482,\n",
       "        0.00134516, 0.00127578, 0.00142694, 0.00127411, 0.00128102]),\n",
       " 'test_score': array([-0.19444077, -0.20836236, -0.24556447, -0.23294678, -0.24686125,\n",
       "        -0.21868818, -0.24208745, -0.27171892, -0.43688316, -0.18906669]),\n",
       " 'train_score': array([-0.18555733, -0.18665039, -0.18173358, -0.18191208, -0.18125017,\n",
       "        -0.18701665, -0.18063857, -0.17863855, -0.17058179, -0.18623495])}"
      ]
     },
     "execution_count": 1268,
     "metadata": {},
     "output_type": "execute_result"
    }
   ],
   "source": [
    "results[0]"
   ]
  },
  {
   "cell_type": "markdown",
   "id": "9c1dcbf5",
   "metadata": {},
   "source": [
    "## 4.5 Random Forest Regression - Feature Importance<a id = '4.5_Random_Forest_Regression_-_Feature_Importance'><a>"
   ]
  },
  {
   "cell_type": "markdown",
   "id": "a24c08ef",
   "metadata": {},
   "source": [
    "Let's investigate feature importance for Random Forest Regression. "
   ]
  },
  {
   "cell_type": "code",
   "execution_count": 1269,
   "id": "62490c10",
   "metadata": {},
   "outputs": [
    {
     "name": "stdout",
     "output_type": "stream",
     "text": [
      "Feature ranking:\n",
      "1. feature 7 (0.272011)\n",
      "2. feature 6 (0.135940)\n",
      "3. feature 8 (0.116674)\n",
      "4. feature 4 (0.105234)\n",
      "5. feature 2 (0.062538)\n",
      "6. feature 5 (0.055646)\n",
      "7. feature 0 (0.036271)\n",
      "8. feature 1 (0.030741)\n",
      "9. feature 170 (0.009703)\n",
      "10. feature 123 (0.008434)\n",
      "11. feature 29 (0.007941)\n",
      "12. feature 32 (0.007211)\n",
      "13. feature 13 (0.006631)\n",
      "14. feature 33 (0.006533)\n",
      "15. feature 53 (0.006323)\n",
      "16. feature 9 (0.005582)\n",
      "17. feature 26 (0.004827)\n",
      "18. feature 10 (0.004701)\n",
      "19. feature 16 (0.004678)\n",
      "20. feature 11 (0.004528)\n",
      "21. feature 77 (0.004300)\n",
      "22. feature 23 (0.004142)\n",
      "23. feature 78 (0.003915)\n",
      "24. feature 14 (0.003658)\n",
      "25. feature 74 (0.003648)\n",
      "26. feature 3 (0.003576)\n",
      "27. feature 15 (0.003568)\n",
      "28. feature 76 (0.002853)\n",
      "29. feature 31 (0.002701)\n",
      "30. feature 30 (0.002666)\n",
      "31. feature 34 (0.002659)\n",
      "32. feature 54 (0.002607)\n",
      "33. feature 141 (0.002423)\n",
      "34. feature 27 (0.002350)\n",
      "35. feature 39 (0.002214)\n",
      "36. feature 100 (0.001972)\n",
      "37. feature 95 (0.001952)\n",
      "38. feature 37 (0.001927)\n",
      "39. feature 45 (0.001757)\n",
      "40. feature 12 (0.001720)\n",
      "41. feature 146 (0.001717)\n",
      "42. feature 36 (0.001714)\n",
      "43. feature 75 (0.001698)\n",
      "44. feature 35 (0.001568)\n",
      "45. feature 68 (0.001547)\n",
      "46. feature 57 (0.001517)\n",
      "47. feature 41 (0.001497)\n",
      "48. feature 87 (0.001469)\n",
      "49. feature 125 (0.001213)\n",
      "50. feature 172 (0.001183)\n",
      "51. feature 79 (0.001168)\n",
      "52. feature 104 (0.001137)\n",
      "53. feature 105 (0.001126)\n",
      "54. feature 61 (0.001042)\n",
      "55. feature 138 (0.001039)\n",
      "56. feature 166 (0.001022)\n",
      "57. feature 130 (0.001012)\n",
      "58. feature 120 (0.001004)\n",
      "59. feature 38 (0.000940)\n",
      "60. feature 107 (0.000932)\n",
      "61. feature 151 (0.000889)\n",
      "62. feature 131 (0.000876)\n",
      "63. feature 150 (0.000868)\n",
      "64. feature 106 (0.000865)\n",
      "65. feature 102 (0.000860)\n",
      "66. feature 92 (0.000824)\n",
      "67. feature 134 (0.000819)\n",
      "68. feature 62 (0.000773)\n",
      "69. feature 83 (0.000770)\n",
      "70. feature 135 (0.000763)\n",
      "71. feature 153 (0.000762)\n",
      "72. feature 56 (0.000744)\n",
      "73. feature 52 (0.000730)\n",
      "74. feature 148 (0.000711)\n",
      "75. feature 89 (0.000699)\n",
      "76. feature 81 (0.000693)\n",
      "77. feature 140 (0.000676)\n",
      "78. feature 60 (0.000635)\n",
      "79. feature 66 (0.000606)\n",
      "80. feature 128 (0.000563)\n",
      "81. feature 94 (0.000547)\n",
      "82. feature 152 (0.000538)\n",
      "83. feature 19 (0.000442)\n",
      "84. feature 46 (0.000404)\n",
      "85. feature 70 (0.000391)\n",
      "86. feature 51 (0.000382)\n",
      "87. feature 44 (0.000358)\n",
      "88. feature 158 (0.000347)\n",
      "89. feature 84 (0.000343)\n",
      "90. feature 17 (0.000325)\n",
      "91. feature 42 (0.000315)\n",
      "92. feature 90 (0.000312)\n",
      "93. feature 20 (0.000309)\n",
      "94. feature 161 (0.000308)\n",
      "95. feature 136 (0.000304)\n",
      "96. feature 126 (0.000279)\n",
      "97. feature 157 (0.000278)\n",
      "98. feature 110 (0.000256)\n",
      "99. feature 155 (0.000241)\n",
      "100. feature 108 (0.000200)\n",
      "101. feature 121 (0.000199)\n",
      "102. feature 64 (0.000196)\n",
      "103. feature 114 (0.000189)\n",
      "104. feature 163 (0.000182)\n",
      "105. feature 165 (0.000159)\n",
      "106. feature 168 (0.000159)\n",
      "107. feature 111 (0.000154)\n",
      "108. feature 72 (0.000150)\n",
      "109. feature 67 (0.000129)\n",
      "110. feature 65 (0.000121)\n",
      "111. feature 82 (0.000120)\n",
      "112. feature 63 (0.000114)\n",
      "113. feature 116 (0.000107)\n",
      "114. feature 118 (0.000095)\n",
      "115. feature 137 (0.000083)\n",
      "116. feature 139 (0.000083)\n",
      "117. feature 97 (0.000078)\n",
      "118. feature 143 (0.000072)\n",
      "119. feature 43 (0.000071)\n",
      "120. feature 86 (0.000070)\n",
      "121. feature 48 (0.000067)\n",
      "122. feature 162 (0.000066)\n",
      "123. feature 129 (0.000059)\n",
      "124. feature 133 (0.000056)\n",
      "125. feature 113 (0.000056)\n",
      "126. feature 55 (0.000053)\n",
      "127. feature 88 (0.000049)\n",
      "128. feature 93 (0.000047)\n",
      "129. feature 160 (0.000047)\n",
      "130. feature 69 (0.000046)\n",
      "131. feature 169 (0.000042)\n",
      "132. feature 122 (0.000036)\n",
      "133. feature 91 (0.000036)\n",
      "134. feature 40 (0.000036)\n",
      "135. feature 47 (0.000035)\n",
      "136. feature 103 (0.000035)\n",
      "137. feature 80 (0.000035)\n",
      "138. feature 149 (0.000034)\n",
      "139. feature 21 (0.000034)\n",
      "140. feature 50 (0.000033)\n",
      "141. feature 156 (0.000031)\n",
      "142. feature 144 (0.000028)\n",
      "143. feature 59 (0.000026)\n",
      "144. feature 109 (0.000024)\n",
      "145. feature 58 (0.000023)\n",
      "146. feature 22 (0.000018)\n",
      "147. feature 73 (0.000018)\n",
      "148. feature 127 (0.000016)\n",
      "149. feature 71 (0.000010)\n",
      "150. feature 154 (0.000010)\n",
      "151. feature 25 (0.000010)\n",
      "152. feature 145 (0.000007)\n",
      "153. feature 119 (0.000007)\n",
      "154. feature 24 (0.000007)\n",
      "155. feature 132 (0.000006)\n",
      "156. feature 101 (0.000006)\n",
      "157. feature 99 (0.000006)\n",
      "158. feature 115 (0.000004)\n",
      "159. feature 98 (0.000003)\n",
      "160. feature 171 (0.000003)\n",
      "161. feature 147 (0.000002)\n",
      "162. feature 85 (0.000001)\n",
      "163. feature 124 (0.000000)\n",
      "164. feature 142 (0.000000)\n",
      "165. feature 159 (0.000000)\n",
      "166. feature 112 (0.000000)\n",
      "167. feature 49 (0.000000)\n",
      "168. feature 164 (0.000000)\n",
      "169. feature 18 (0.000000)\n",
      "170. feature 117 (0.000000)\n",
      "171. feature 167 (0.000000)\n",
      "172. feature 96 (0.000000)\n",
      "173. feature 28 (0.000000)\n"
     ]
    }
   ],
   "source": [
    "random_tree = RandomForestRegressor()\n",
    "random_tree.fit(X_train, y_train)\n",
    "feature_importances = random_tree.feature_importances_\n",
    "\n",
    "# Sort feature importances in descending order\n",
    "indices = np.argsort(feature_importances)[::-1]\n",
    "\n",
    "# Print feature ranking\n",
    "print(\"Feature ranking:\")\n",
    "for f in range(X_train.shape[1]):\n",
    "    print(\"%d. feature %d (%f)\" % (f + 1, indices[f], feature_importances[indices[f]]))"
   ]
  },
  {
   "cell_type": "code",
   "execution_count": 1270,
   "id": "b63c5f55",
   "metadata": {},
   "outputs": [
    {
     "data": {
      "image/png": "[encoded data removed]",
      "text/plain": [
       "<Figure size 576x576 with 1 Axes>"
      ]
     },
     "metadata": {
      "needs_background": "light"
     },
     "output_type": "display_data"
    }
   ],
   "source": [
    "from sklearn.inspection import permutation_importance\n",
    "\n",
    "sorted_idx = np.argsort(feature_importances)\n",
    "#sorting only top 50\n",
    "top_50_indices = sorted_idx[-50:]\n",
    "\n",
    "\n",
    "pos = np.arange(top_50_indices.shape[0]) + .5\n",
    "fig = plt.figure(figsize=(8, 8))\n",
    "plt.barh(pos, feature_importances[top_50_indices], align='center')\n",
    "plt.yticks(pos, np.array(df.columns)[top_50_indices])\n",
    "plt.title('Feature Importance')\n",
    "result = permutation_importance(random_tree, X_test, y_test, n_repeats=10,\n",
    "                                random_state=42, n_jobs=2)\n",
    "top_50_indices = result.importances_mean.argsort()\n",
    "fig.tight_layout()\n",
    "plt.show()"
   ]
  },
  {
   "cell_type": "markdown",
   "id": "4ed93cec",
   "metadata": {},
   "source": [
    "It looks like Streamer and creator/actor? don't mean so much. Because our client is a French company the second country of production will be always France, So I'll drop that as well. I'll keep both of the genre columns because Fantasy genre is often shown in that column). "
   ]
  },
  {
   "cell_type": "markdown",
   "id": "97a7ba48",
   "metadata": {},
   "source": [
    "not really. So I'll drop many columns."
   ]
  },
  {
   "cell_type": "code",
   "execution_count": 1556,
   "id": "fc05a815",
   "metadata": {},
   "outputs": [
    {
     "name": "stdout",
     "output_type": "stream",
     "text": [
      "No Streamer Column was found\n",
      "No Streamer Column was found\n",
      "No Streamer Column was found\n",
      "No Streamer Column was found\n",
      "No Streamer Column was found\n",
      "No Streamer Column was found\n",
      "No Streamer Column was found\n",
      "No Streamer Column was found\n",
      "No Streamer Column was found\n",
      "No Streamer Column was found\n",
      "No Streamer Column was found\n",
      "No Streamer Column was found\n",
      "No Streamer Column was found\n",
      "No Streamer Column was found\n",
      "No Streamer Column was found\n",
      "No Streamer Column was found\n",
      "No Streamer Column was found\n",
      "No Streamer Column was found\n",
      "No Streamer Column was found\n",
      "No Streamer Column was found\n",
      "No Streamer Column was found\n",
      "No Streamer Column was found\n",
      "No Streamer Column was found\n",
      "No Streamer Column was found\n",
      "No Streamer Column was found\n",
      "No Streamer Column was found\n",
      "No Streamer Column was found\n",
      "No Streamer Column was found\n",
      "No Streamer Column was found\n",
      "No Streamer Column was found\n",
      "No Streamer Column was found\n",
      "No Streamer Column was found\n",
      "No Streamer Column was found\n",
      "No Streamer Column was found\n",
      "No Streamer Column was found\n",
      "No Streamer Column was found\n",
      "No Streamer Column was found\n",
      "No Streamer Column was found\n",
      "No Streamer Column was found\n",
      "No Streamer Column was found\n",
      "No Streamer Column was found\n",
      "No Streamer Column was found\n",
      "No Streamer Column was found\n",
      "No Streamer Column was found\n",
      "No Streamer Column was found\n",
      "No Streamer Column was found\n",
      "No Streamer Column was found\n",
      "No Streamer Column was found\n",
      "No Streamer Column was found\n",
      "No Streamer Column was found\n",
      "No Streamer Column was found\n",
      "No Streamer Column was found\n",
      "No Streamer Column was found\n",
      "No Streamer Column was found\n",
      "No Streamer Column was found\n",
      "No Streamer Column was found\n",
      "No Streamer Column was found\n",
      "No Streamer Column was found\n",
      "No Streamer Column was found\n",
      "No Streamer Column was found\n",
      "No Streamer Column was found\n",
      "No Streamer Column was found\n",
      "No Streamer Column was found\n",
      "No Streamer Column was found\n",
      "No Streamer Column was found\n",
      "No Streamer Column was found\n",
      "No Streamer Column was found\n",
      "No Streamer Column was found\n",
      "No Streamer Column was found\n",
      "No Streamer Column was found\n",
      "No Streamer Column was found\n",
      "No Streamer Column was found\n",
      "No Streamer Column was found\n",
      "No Streamer Column was found\n",
      "No Streamer Column was found\n",
      "No Streamer Column was found\n",
      "No Streamer Column was found\n",
      "No Streamer Column was found\n",
      "No Streamer Column was found\n",
      "No Streamer Column was found\n",
      "No Streamer Column was found\n",
      "No Streamer Column was found\n",
      "No Streamer Column was found\n",
      "No Streamer Column was found\n",
      "No Streamer Column was found\n",
      "No Streamer Column was found\n",
      "No Streamer Column was found\n",
      "No Streamer Column was found\n",
      "No Streamer Column was found\n",
      "No Streamer Column was found\n",
      "No Streamer Column was found\n",
      "No Streamer Column was found\n",
      "No Streamer Column was found\n",
      "No Streamer Column was found\n",
      "No Streamer Column was found\n",
      "No Streamer Column was found\n",
      "No Streamer Column was found\n",
      "No Streamer Column was found\n",
      "No Streamer Column was found\n",
      "No Streamer Column was found\n",
      "No Streamer Column was found\n",
      "No Streamer Column was found\n",
      "No Streamer Column was found\n",
      "No Streamer Column was found\n",
      "No Streamer Column was found\n",
      "No Streamer Column was found\n",
      "No Streamer Column was found\n",
      "No Streamer Column was found\n",
      "No Streamer Column was found\n",
      "No Streamer Column was found\n",
      "No Streamer Column was found\n",
      "No Streamer Column was found\n",
      "No Streamer Column was found\n",
      "No Streamer Column was found\n",
      "No Streamer Column was found\n",
      "No Streamer Column was found\n",
      "No Streamer Column was found\n",
      "No Streamer Column was found\n",
      "No Streamer Column was found\n",
      "No Streamer Column was found\n",
      "No Streamer Column was found\n",
      "No Streamer Column was found\n",
      "No Streamer Column was found\n",
      "No Streamer Column was found\n",
      "No Streamer Column was found\n",
      "No Streamer Column was found\n",
      "No Streamer Column was found\n",
      "No Streamer Column was found\n",
      "No Streamer Column was found\n",
      "No Streamer Column was found\n",
      "No Streamer Column was found\n",
      "No Streamer Column was found\n",
      "No Streamer Column was found\n",
      "No Streamer Column was found\n",
      "No Streamer Column was found\n",
      "No Streamer Column was found\n",
      "No Streamer Column was found\n",
      "No Streamer Column was found\n",
      "No Streamer Column was found\n",
      "No Streamer Column was found\n",
      "No Streamer Column was found\n",
      "No Streamer Column was found\n",
      "No Streamer Column was found\n"
     ]
    }
   ],
   "source": [
    "# Dropping Streamer columns as well\n",
    "streamer_columns = [col for col in new_df.columns if 'Streamer' in col]\n",
    "\n",
    "# Drop the columns\n",
    "new_df = new_df.drop(columns=streamer_columns)\n",
    "\n",
    "#checking\n",
    "for col in new_df.columns:\n",
    "    if 'Streamer' in col:\n",
    "         print(new_df.columns)\n",
    "    else:\n",
    "         print('No Streamer Column was found')\n"
   ]
  },
  {
   "cell_type": "code",
   "execution_count": 1557,
   "id": "c6b0950b",
   "metadata": {},
   "outputs": [
    {
     "data": {
      "text/plain": [
       "Index(['startYear', 'endYear', 'Age', 'creator/actor?', 'ep_run_times',\n",
       "       'no_of_ep', 'no_of_seasons', 'cast_pop', 'team_popularity',\n",
       "       'total_popularity',\n",
       "       ...\n",
       "       'first_country_PT', 'first_country_SA', 'first_country_SE',\n",
       "       'first_country_SG', 'first_country_TH', 'first_country_TR',\n",
       "       'first_country_TW', 'first_country_US', 'first_country_VN',\n",
       "       'first_country_ZA'],\n",
       "      dtype='object', length=127)"
      ]
     },
     "execution_count": 1557,
     "metadata": {},
     "output_type": "execute_result"
    }
   ],
   "source": [
    "# Name the words we are looking for.\n",
    "words_to_search = ['second_country']\n",
    "\n",
    "# Define columns that include any of the words in their names\n",
    "columns_to_drop = [col for col in df.columns if any(word in col for word in words_to_search)]\n",
    "\n",
    "# Drop the columns\n",
    "new_df = df.drop(columns=columns_to_drop)\n",
    "new_df.columns"
   ]
  },
  {
   "cell_type": "markdown",
   "id": "de9505d7",
   "metadata": {},
   "source": [
    "Redoing train/test split:"
   ]
  },
  {
   "cell_type": "code",
   "execution_count": 1559,
   "id": "9e4f3fb6",
   "metadata": {},
   "outputs": [],
   "source": [
    "new_X_train, new_X_test, new_y_train, new_y_test = train_test_split(new_df.drop(columns = 'total_popularity'),new_df.total_popularity, \n",
    "                                                 test_size=0.25, \n",
    "                                                    random_state=47)"
   ]
  },
  {
   "cell_type": "code",
   "execution_count": 1561,
   "id": "35d771cc",
   "metadata": {},
   "outputs": [],
   "source": [
    "# Hyperparameters for RandomForestRegresser\n",
    "\n",
    "param_grid2 ={'n_estimators': [5, 20, 50, 100], \n",
    "             'max_features': ['auto', 'sqrt'], \n",
    "             'max_depth': [10, 20, 30, 40, 50, 60, 70, 80, 90, 100, 110, 120], \n",
    "             'min_samples_split': [2, 6, 10], 'min_samples_leaf': [1, 3, 4], \n",
    "             'bootstrap': [True, False]} \n",
    "\n"
   ]
  },
  {
   "cell_type": "code",
   "execution_count": 1562,
   "id": "82e9a411",
   "metadata": {},
   "outputs": [
    {
     "data": {
      "text/plain": [
       "{'n_estimators': 50,\n",
       " 'min_samples_split': 2,\n",
       " 'min_samples_leaf': 1,\n",
       " 'max_features': 'sqrt',\n",
       " 'max_depth': 110,\n",
       " 'bootstrap': False}"
      ]
     },
     "execution_count": 1562,
     "metadata": {},
     "output_type": "execute_result"
    }
   ],
   "source": [
    "random_tree = RandomForestRegressor()\n",
    "rf_par = RandomizedSearchCV(random_tree, param_grid2, scoring = 'neg_mean_absolute_percentage_error', cv=10)\n",
    "rf_par.fit(new_X_train, new_y_train)\n",
    "rf_par.best_params_"
   ]
  },
  {
   "cell_type": "code",
   "execution_count": 1565,
   "id": "0644b2d0",
   "metadata": {},
   "outputs": [],
   "source": [
    "from sklearn.metrics import mean_absolute_percentage_error\n",
    "# Create an instance of RandomForestRegressor\n",
    "random = RandomForestRegressor(n_estimators = 50, max_features= 'sqrt',\n",
    "                               max_depth= 110, min_samples_split = 2, min_samples_leaf = 1, bootstrap= False)\n",
    "random_model = random.fit(new_X_train,new_y_train)\n",
    "random_y_pred = random.predict(new_X_test)\n"
   ]
  },
  {
   "cell_type": "code",
   "execution_count": 1566,
   "id": "101d97fd",
   "metadata": {},
   "outputs": [
    {
     "name": "stdout",
     "output_type": "stream",
     "text": [
      "R-squared: 0.52\n",
      "Adjusted R-squared: 0.19\n"
     ]
    }
   ],
   "source": [
    "#Adjusted R-Squared:\n",
    "# Calculate the regular R-squared\n",
    "random_r2 = r2_score(new_y_test, random_y_pred)\n",
    "\n",
    "# Get the number of observations (n) and predictors (k)\n",
    "n = new_X_test.shape[0]\n",
    "k = new_X_test.shape[1]\n",
    "\n",
    "# Calculate the adjusted R-squared\n",
    "random_adjusted_r2 = 1 - ((1 - random_r2) * (n - 1) / (n - k - 1))\n",
    "\n",
    "print(f'R-squared: {round(random_r2,2)}')\n",
    "print(f'Adjusted R-squared: {round(random_adjusted_r2,2)}')"
   ]
  },
  {
   "cell_type": "code",
   "execution_count": 1567,
   "id": "0de3c326",
   "metadata": {},
   "outputs": [
    {
     "name": "stdout",
     "output_type": "stream",
     "text": [
      "Random Reg's MAPE % 7.7\n"
     ]
    }
   ],
   "source": [
    "#Mean Absolute Percentage Error\n",
    "percent_error = (new_y_test - random_y_pred) / new_y_test\n",
    "\n",
    "ab_percent_error = abs(percent_error)\n",
    "\n",
    "random_mape = np.mean(ab_percent_error)\n",
    "print (\"Random Reg's MAPE % {}\".format(round(random_mape *100,2)))\n"
   ]
  },
  {
   "cell_type": "code",
   "execution_count": 1568,
   "id": "de2e08af",
   "metadata": {},
   "outputs": [
    {
     "data": {
      "image/png": "[encoded data removed]",
      "text/plain": [
       "<Figure size 720x360 with 1 Axes>"
      ]
     },
     "metadata": {
      "needs_background": "light"
     },
     "output_type": "display_data"
    }
   ],
   "source": [
    "plt.figure(figsize = (10,5))\n",
    "plt.scatter(new_y_test, random_y_pred, color='green', label='Actual vs Predicted')\n",
    "\n",
    "# The 45-degree red line\n",
    "plt.plot([min(new_y_test), max(new_y_test)], [min(new_y_test), max(new_y_test)], linestyle='--', color='red', linewidth=2, label='45-Degree Line')\n",
    "\n",
    "# Labels\n",
    "plt.title('Actual vs Predicted Popularity of the TV Shows')\n",
    "plt.xlabel('Actual Popularity')\n",
    "plt.ylabel('Predicted Popularity')\n",
    "\n",
    "plt.legend(prop={'size': 12}, title='Random Forest')\n",
    "\n",
    "plt.show()"
   ]
  },
  {
   "cell_type": "markdown",
   "id": "2be6b5bb",
   "metadata": {},
   "source": [
    "Histogram of Distribution of the Residuals:"
   ]
  },
  {
   "cell_type": "code",
   "execution_count": 1569,
   "id": "00c47b44",
   "metadata": {},
   "outputs": [
    {
     "data": {
      "image/png": "[encoded data removed]",
      "text/plain": [
       "<Figure size 432x288 with 1 Axes>"
      ]
     },
     "metadata": {
      "needs_background": "light"
     },
     "output_type": "display_data"
    }
   ],
   "source": [
    "random_residuals = np.array(new_y_test) - np.array(random_y_pred)\n",
    "\n",
    "# Create a histogram of residuals\n",
    "plt.hist(random_residuals, bins=30, color='green',alpha=0.7, rwidth=0.85 )\n",
    "\n",
    "# Set labels and title\n",
    "plt.title('Distribution of Residuals after Random Forest Regression')\n",
    "plt.xlabel('Residuals')\n",
    "plt.ylabel('Frequency')\n",
    "\n",
    "# Show the plot\n",
    "plt.show()"
   ]
  },
  {
   "cell_type": "markdown",
   "id": "ef438abe",
   "metadata": {},
   "source": [
    "## 4.6 Random Forest Regression - Subsets Based on Time Periods <a id= '4.6_Random_Forest_Regression_-_Subsets_Based_on_Time_Periods' ><a>"
   ]
  },
  {
   "cell_type": "markdown",
   "id": "ab858478",
   "metadata": {},
   "source": [
    "Let's split the dataset into two subsets - one is showing Pre-pandemic Era (-2020) and the other Post-Pandemic Era (2020-2023)"
   ]
  },
  {
   "cell_type": "code",
   "execution_count": 1570,
   "id": "ba4a7579",
   "metadata": {},
   "outputs": [],
   "source": [
    "# Before 2020\n",
    "pre_df = new_df[new_df['startYear'] < new_df['startYear'].max() - 3]\n",
    "\n",
    "# Between 2020 and 2023\n",
    "\n",
    "cov_df = new_df[new_df['startYear'] >= new_df['startYear'].max() - 3]"
   ]
  },
  {
   "cell_type": "code",
   "execution_count": 1571,
   "id": "af12d44d",
   "metadata": {},
   "outputs": [],
   "source": [
    "#Train/Test Split\n",
    "pre_X_train, pre_X_test, pre_y_train, pre_y_test = train_test_split(pre_df.drop(columns = 'total_popularity'),pre_df.total_popularity, \n",
    "                                                 test_size=0.25, \n",
    "                                                    random_state=47)\n",
    "\n",
    "cov_X_train, cov_X_test, cov_y_train, cov_y_test = train_test_split(cov_df.drop(columns = 'total_popularity'),cov_df.total_popularity, \n",
    "                                                 test_size=0.25, \n",
    "                                                    random_state=47)"
   ]
  },
  {
   "cell_type": "code",
   "execution_count": 1572,
   "id": "82483859",
   "metadata": {},
   "outputs": [
    {
     "name": "stdout",
     "output_type": "stream",
     "text": [
      "for pre-Covid:{'n_estimators': 20, 'min_samples_split': 6, 'min_samples_leaf': 4, 'max_features': 'auto', 'max_depth': 60, 'bootstrap': True}\n",
      "for post-Covid:{'n_estimators': 100, 'min_samples_split': 2, 'min_samples_leaf': 3, 'max_features': 'sqrt', 'max_depth': 20, 'bootstrap': False}\n"
     ]
    }
   ],
   "source": [
    "#Getting best parameters\n",
    "# for pre-COVID\n",
    "random_tree = RandomForestRegressor()\n",
    "rf_par = RandomizedSearchCV(random_tree, param_grid2, scoring = 'neg_mean_absolute_percentage_error', cv=10)\n",
    "rf_par.fit(pre_X_train, pre_y_train)\n",
    "print('for pre-Covid:{}'.format(rf_par.best_params_))\n",
    "#post COVID\n",
    "rf_par = RandomizedSearchCV(random_tree, param_grid2, scoring = 'neg_mean_absolute_percentage_error', cv=10)\n",
    "rf_par.fit(cov_X_train, cov_y_train)\n",
    "print('for post-Covid:{}'.format(rf_par.best_params_))\n",
    "\n"
   ]
  },
  {
   "cell_type": "code",
   "execution_count": 1573,
   "id": "0ff4c803",
   "metadata": {},
   "outputs": [],
   "source": [
    "# Create an instance of RandomForestRegressor of Pre-COVID\n",
    "\n",
    "pre_random = RandomForestRegressor(n_estimators = 20, min_samples_leaf = 4, max_features= 'auto',\n",
    "                               max_depth= 60, min_samples_split = 6, bootstrap= True)\n",
    "pre_random_model = pre_random.fit(pre_X_train,pre_y_train)\n",
    "pre_y_pred = pre_random.predict(pre_X_test)\n",
    "\n",
    "# Post-COVID\n",
    "cov_random = RandomForestRegressor(n_estimators = 100, min_samples_leaf = 3, max_features= 'sqrt',\n",
    "                               max_depth= 20, min_samples_split = 2, bootstrap= False)\n",
    "cov_random_model = cov_random.fit(cov_X_train,cov_y_train)\n",
    "cov_y_pred = cov_random.predict(cov_X_test)\n"
   ]
  },
  {
   "cell_type": "markdown",
   "id": "221c1c6e",
   "metadata": {},
   "source": [
    "Calculation of R squared and Adjusted R squared:"
   ]
  },
  {
   "cell_type": "code",
   "execution_count": 1574,
   "id": "d8ffdc2e",
   "metadata": {},
   "outputs": [
    {
     "name": "stdout",
     "output_type": "stream",
     "text": [
      "R-squared for Pre-COVID: 0.65\n",
      "Adjusted R-squared for Pre-COVID: -2.07\n",
      "R-squared of Post-COVID: 0.49\n",
      "Adjusted R-squared for Post-COVID: -1.09\n"
     ]
    }
   ],
   "source": [
    "#For Pre-COVID\n",
    "pre_random_r2 = r2_score(pre_y_test, pre_y_pred)\n",
    "\n",
    "# Get the number of observations (n) and predictors (k)\n",
    "n = pre_X_test.shape[0]\n",
    "k = pre_X_test.shape[1]\n",
    "\n",
    "# Calculate the adjusted R-squared\n",
    "pre_random_adjusted_r2 = 1 - ((1 - pre_random_r2) * (n - 1) / (n - k - 1))\n",
    "\n",
    "print(f'R-squared for Pre-COVID: {round(pre_random_r2,2)}')\n",
    "print(f'Adjusted R-squared for Pre-COVID: {round(pre_random_adjusted_r2,2)}')\n",
    "\n",
    "# For Post-COVID\n",
    "# Calculate the regular R-squared\n",
    "cov_random_r2 = r2_score(cov_y_test, cov_y_pred)\n",
    "\n",
    "# Get the number of observations (n) and predictors (k)\n",
    "n = cov_X_test.shape[0]\n",
    "k = cov_X_test.shape[1]\n",
    "\n",
    "# Calculate the adjusted R-squared\n",
    "cov_random_adjusted_r2 = 1 - ((1 - cov_random_r2) * (n - 1) / (n - k - 1))\n",
    "\n",
    "print(f'R-squared of Post-COVID: {round(cov_random_r2,2)}')\n",
    "print(f'Adjusted R-squared for Post-COVID: {round(cov_random_adjusted_r2,2)}')"
   ]
  },
  {
   "cell_type": "markdown",
   "id": "992a6457",
   "metadata": {},
   "source": [
    "Mean Absolute Percentage Error:"
   ]
  },
  {
   "cell_type": "code",
   "execution_count": 1575,
   "id": "199165ef",
   "metadata": {},
   "outputs": [
    {
     "name": "stdout",
     "output_type": "stream",
     "text": [
      "Pre-COVID Random Reg's MAPE % 6.9\n",
      "POST-COVID Random Reg's MAPE % 8.04\n"
     ]
    }
   ],
   "source": [
    "pre_random_mape = mean_absolute_percentage_error(pre_y_test, pre_y_pred)\n",
    "cov_random_mape = mean_absolute_percentage_error(cov_y_test, cov_y_pred)\n",
    "print (\"Pre-COVID Random Reg's MAPE % {}\".format(round(pre_random_mape *100,2)))\n",
    "\n",
    "print (\"POST-COVID Random Reg's MAPE % {}\".format(round(cov_random_mape *100,2)))\n"
   ]
  },
  {
   "cell_type": "markdown",
   "id": "78d6cb0f",
   "metadata": {},
   "source": [
    "##Plotting Random Forest Regression for Pre and Post COVID Eras "
   ]
  },
  {
   "cell_type": "code",
   "execution_count": 1576,
   "id": "850596ab",
   "metadata": {},
   "outputs": [
    {
     "data": {
      "image/png": "[encoded data removed]",
      "text/plain": [
       "<Figure size 720x360 with 1 Axes>"
      ]
     },
     "metadata": {
      "needs_background": "light"
     },
     "output_type": "display_data"
    }
   ],
   "source": [
    "plt.figure(figsize=(10, 5))\n",
    "\n",
    "ax1 = plt.scatter(cov_y_test, cov_y_pred, color='orange', alpha = 0.6, label='Post COVID')\n",
    "ax2 = plt.scatter(pre_y_test, pre_y_pred, color='green', alpha = 0.4, label='Pre COVID')\n",
    "\n",
    "# comparing the subsets to the mainset and post COVID area have more predictability\n",
    "ax3 = plt.scatter(new_y_test, random_y_pred, color='blue', alpha = 0.4, label='The Whole Period')\n",
    "\n",
    "plt.plot([min(cov_y_test), max(cov_y_test)], [min(cov_y_test), max(cov_y_test)], linestyle='--', \n",
    "          color='red', linewidth= 2, label='45-Degree Line')\n",
    "\n",
    "# Labels\n",
    "plt.title('Actual vs Predicted Popularity of the TV Shows in COVID and Post-COVID Era')\n",
    "plt.xlabel('Actual Popularity')\n",
    "plt.ylabel('Predicted Popularity')\n",
    "\n",
    "plt.legend(prop={'size': 12}, title='Random Forest')\n",
    "\n",
    "plt.show()"
   ]
  },
  {
   "cell_type": "code",
   "execution_count": 1577,
   "id": "6a91cd35",
   "metadata": {},
   "outputs": [],
   "source": [
    "cov_residuals = np.array(cov_y_test) - np.array(cov_y_pred)\n",
    "pre_residuals = np.array(pre_y_test) - np.array(pre_y_pred)"
   ]
  },
  {
   "cell_type": "code",
   "execution_count": 1578,
   "id": "5939f0ce",
   "metadata": {},
   "outputs": [
    {
     "data": {
      "image/png": "[encoded data removed]",
      "text/plain": [
       "<Figure size 720x360 with 1 Axes>"
      ]
     },
     "metadata": {
      "needs_background": "light"
     },
     "output_type": "display_data"
    }
   ],
   "source": [
    "plt.figure(figsize=(10, 5))\n",
    "# Pre-Covid\n",
    "ax1 =plt.hist(pre_residuals, bins=30, color='green', alpha=0.4, rwidth=0.85, label='Pre-COVID')\n",
    "# Set labels and title\n",
    "\n",
    "# Post-Covid\n",
    "ax2=plt.hist(cov_residuals, bins=30, color='orange', alpha=0.5, rwidth=0.85, label='Post_COVID')\n",
    "# Set labels and title\n",
    "# the whole set\n",
    "ax3=plt.hist(random_residuals, bins=30, color='blue', alpha=0.2, rwidth=0.85, label='The Whole Period')\n",
    "# Set labels and title\n",
    "plt.xlabel('Residuals')\n",
    "plt.ylabel('Frequency')\n",
    "plt.legend()\n",
    "plt.title('Distribution of Residuals with Random Forest')\n",
    "plt.tight_layout()\n",
    "plt.show()"
   ]
  },
  {
   "cell_type": "markdown",
   "id": "958b4a3b",
   "metadata": {},
   "source": [
    "In the last years, the MAPE for popularity prediction is more. The residuals are more spread (shown in green.)"
   ]
  },
  {
   "cell_type": "markdown",
   "id": "01246ad3",
   "metadata": {},
   "source": [
    "## 4.7 XGB Regression - Feature Importance <a id= '4.7_XGB_Regression_-_Feature_Importance'><a>"
   ]
  },
  {
   "cell_type": "code",
   "execution_count": 1579,
   "id": "479a6c47",
   "metadata": {},
   "outputs": [
    {
     "name": "stdout",
     "output_type": "stream",
     "text": [
      "Feature ranking:\n",
      "1. feature 6 (0.135979)\n",
      "2. feature 170 (0.049754)\n",
      "3. feature 66 (0.039176)\n",
      "4. feature 7 (0.034734)\n",
      "5. feature 33 (0.032839)\n",
      "6. feature 54 (0.030276)\n",
      "7. feature 2 (0.027123)\n",
      "8. feature 31 (0.020918)\n",
      "9. feature 23 (0.020714)\n",
      "10. feature 74 (0.020264)\n",
      "11. feature 10 (0.020066)\n",
      "12. feature 53 (0.019673)\n",
      "13. feature 11 (0.018315)\n",
      "14. feature 8 (0.018245)\n",
      "15. feature 4 (0.017756)\n",
      "16. feature 100 (0.017103)\n",
      "17. feature 26 (0.016037)\n",
      "18. feature 57 (0.015769)\n",
      "19. feature 78 (0.015703)\n",
      "20. feature 123 (0.015349)\n",
      "21. feature 15 (0.015313)\n",
      "22. feature 95 (0.014938)\n",
      "23. feature 81 (0.014024)\n",
      "24. feature 62 (0.013689)\n",
      "25. feature 35 (0.013669)\n",
      "26. feature 3 (0.012121)\n",
      "27. feature 87 (0.012006)\n",
      "28. feature 29 (0.011462)\n",
      "29. feature 9 (0.010881)\n",
      "30. feature 125 (0.010618)\n",
      "31. feature 39 (0.010469)\n",
      "32. feature 45 (0.010421)\n",
      "33. feature 38 (0.010014)\n",
      "34. feature 84 (0.009982)\n",
      "35. feature 13 (0.009140)\n",
      "36. feature 76 (0.009085)\n",
      "37. feature 5 (0.009032)\n",
      "38. feature 94 (0.008959)\n",
      "39. feature 14 (0.008935)\n",
      "40. feature 83 (0.008929)\n",
      "41. feature 16 (0.008418)\n",
      "42. feature 79 (0.008243)\n",
      "43. feature 68 (0.007890)\n",
      "44. feature 135 (0.007558)\n",
      "45. feature 32 (0.006866)\n",
      "46. feature 12 (0.006771)\n",
      "47. feature 52 (0.006456)\n",
      "48. feature 1 (0.005660)\n",
      "49. feature 27 (0.005406)\n",
      "50. feature 36 (0.005378)\n",
      "51. feature 72 (0.005284)\n",
      "52. feature 105 (0.005165)\n",
      "53. feature 34 (0.005124)\n",
      "54. feature 61 (0.005101)\n",
      "55. feature 0 (0.004976)\n",
      "56. feature 41 (0.004884)\n",
      "57. feature 30 (0.004692)\n",
      "58. feature 67 (0.004671)\n",
      "59. feature 141 (0.004557)\n",
      "60. feature 46 (0.004444)\n",
      "61. feature 25 (0.004344)\n",
      "62. feature 138 (0.004288)\n",
      "63. feature 75 (0.004228)\n",
      "64. feature 44 (0.004092)\n",
      "65. feature 77 (0.003762)\n",
      "66. feature 128 (0.003676)\n",
      "67. feature 37 (0.003625)\n",
      "68. feature 19 (0.003486)\n",
      "69. feature 116 (0.003035)\n",
      "70. feature 60 (0.002958)\n",
      "71. feature 51 (0.002814)\n",
      "72. feature 65 (0.002425)\n",
      "73. feature 70 (0.002274)\n",
      "74. feature 64 (0.002078)\n",
      "75. feature 48 (0.002039)\n",
      "76. feature 42 (0.001906)\n",
      "77. feature 108 (0.001899)\n",
      "78. feature 92 (0.001778)\n",
      "79. feature 89 (0.001773)\n",
      "80. feature 107 (0.001632)\n",
      "81. feature 56 (0.001528)\n",
      "82. feature 111 (0.001392)\n",
      "83. feature 47 (0.001358)\n",
      "84. feature 69 (0.001315)\n",
      "85. feature 40 (0.001262)\n",
      "86. feature 82 (0.001207)\n",
      "87. feature 115 (0.000982)\n",
      "88. feature 50 (0.000973)\n",
      "89. feature 55 (0.000926)\n",
      "90. feature 113 (0.000795)\n",
      "91. feature 59 (0.000656)\n",
      "92. feature 169 (0.000570)\n",
      "93. feature 131 (0.000474)\n",
      "94. feature 58 (0.000402)\n",
      "95. feature 104 (0.000329)\n",
      "96. feature 91 (0.000283)\n",
      "97. feature 43 (0.000278)\n",
      "98. feature 24 (0.000136)\n",
      "99. feature 22 (0.000000)\n",
      "100. feature 63 (0.000000)\n",
      "101. feature 21 (0.000000)\n",
      "102. feature 20 (0.000000)\n",
      "103. feature 28 (0.000000)\n",
      "104. feature 18 (0.000000)\n",
      "105. feature 17 (0.000000)\n",
      "106. feature 49 (0.000000)\n",
      "107. feature 172 (0.000000)\n",
      "108. feature 71 (0.000000)\n",
      "109. feature 153 (0.000000)\n",
      "110. feature 137 (0.000000)\n",
      "111. feature 139 (0.000000)\n",
      "112. feature 140 (0.000000)\n",
      "113. feature 142 (0.000000)\n",
      "114. feature 143 (0.000000)\n",
      "115. feature 144 (0.000000)\n",
      "116. feature 145 (0.000000)\n",
      "117. feature 146 (0.000000)\n",
      "118. feature 147 (0.000000)\n",
      "119. feature 148 (0.000000)\n",
      "120. feature 149 (0.000000)\n",
      "121. feature 150 (0.000000)\n",
      "122. feature 151 (0.000000)\n",
      "123. feature 152 (0.000000)\n",
      "124. feature 154 (0.000000)\n",
      "125. feature 73 (0.000000)\n",
      "126. feature 155 (0.000000)\n",
      "127. feature 156 (0.000000)\n",
      "128. feature 157 (0.000000)\n",
      "129. feature 158 (0.000000)\n",
      "130. feature 159 (0.000000)\n",
      "131. feature 160 (0.000000)\n",
      "132. feature 161 (0.000000)\n",
      "133. feature 162 (0.000000)\n",
      "134. feature 163 (0.000000)\n",
      "135. feature 164 (0.000000)\n",
      "136. feature 165 (0.000000)\n",
      "137. feature 166 (0.000000)\n",
      "138. feature 167 (0.000000)\n",
      "139. feature 168 (0.000000)\n",
      "140. feature 136 (0.000000)\n",
      "141. feature 134 (0.000000)\n",
      "142. feature 133 (0.000000)\n",
      "143. feature 132 (0.000000)\n",
      "144. feature 80 (0.000000)\n",
      "145. feature 85 (0.000000)\n",
      "146. feature 171 (0.000000)\n",
      "147. feature 88 (0.000000)\n",
      "148. feature 90 (0.000000)\n",
      "149. feature 93 (0.000000)\n",
      "150. feature 96 (0.000000)\n",
      "151. feature 97 (0.000000)\n",
      "152. feature 98 (0.000000)\n",
      "153. feature 99 (0.000000)\n",
      "154. feature 101 (0.000000)\n",
      "155. feature 102 (0.000000)\n",
      "156. feature 103 (0.000000)\n",
      "157. feature 106 (0.000000)\n",
      "158. feature 109 (0.000000)\n",
      "159. feature 110 (0.000000)\n",
      "160. feature 112 (0.000000)\n",
      "161. feature 114 (0.000000)\n",
      "162. feature 117 (0.000000)\n",
      "163. feature 118 (0.000000)\n",
      "164. feature 119 (0.000000)\n",
      "165. feature 120 (0.000000)\n",
      "166. feature 121 (0.000000)\n",
      "167. feature 122 (0.000000)\n",
      "168. feature 124 (0.000000)\n",
      "169. feature 126 (0.000000)\n",
      "170. feature 127 (0.000000)\n",
      "171. feature 129 (0.000000)\n",
      "172. feature 130 (0.000000)\n",
      "173. feature 86 (0.000000)\n"
     ]
    }
   ],
   "source": [
    "xgboost = xgb.XGBRegressor()\n",
    "xgboost.fit(X_train, y_train)\n",
    "feature_importances = xgboost.feature_importances_\n",
    "\n",
    "# Sort feature importances in descending order\n",
    "indices = np.argsort(feature_importances)[::-1]\n",
    "\n",
    "# Print feature ranking\n",
    "print(\"Feature ranking:\")\n",
    "for f in range(X_train.shape[1]):\n",
    "    print(\"%d. feature %d (%f)\" % (f + 1, indices[f], feature_importances[indices[f]]))"
   ]
  },
  {
   "cell_type": "code",
   "execution_count": 1580,
   "id": "766f6d84",
   "metadata": {},
   "outputs": [
    {
     "data": {
      "image/png": "[encoded data removed]",
      "text/plain": [
       "<Figure size 576x576 with 1 Axes>"
      ]
     },
     "metadata": {
      "needs_background": "light"
     },
     "output_type": "display_data"
    }
   ],
   "source": [
    "sorted_idx = np.argsort(feature_importances)\n",
    "#sorting only top 50\n",
    "top_50_indices = sorted_idx[-50:]\n",
    "\n",
    "\n",
    "pos = np.arange(top_50_indices.shape[0]) + .5\n",
    "fig = plt.figure(figsize=(8, 8))\n",
    "plt.barh(pos, feature_importances[top_50_indices], align='center')\n",
    "plt.yticks(pos, np.array(df.columns)[top_50_indices])\n",
    "plt.title('Feature Importance')\n",
    "result = permutation_importance(xgboost, X_test, y_test, n_repeats=10,\n",
    "                                random_state=42, n_jobs=2)\n",
    "top_50_indices = result.importances_mean.argsort()\n",
    "plt.tight_layout()\n",
    "plt.show()"
   ]
  },
  {
   "cell_type": "markdown",
   "id": "3065f5ea",
   "metadata": {},
   "source": [
    "The results are similar to Random Forest. So I'll continue with 'new_df'"
   ]
  },
  {
   "cell_type": "code",
   "execution_count": 1581,
   "id": "7aa62fa6",
   "metadata": {},
   "outputs": [
    {
     "data": {
      "text/plain": [
       "RandomizedSearchCV(cv=10,\n",
       "                   estimator=XGBRegressor(base_score=None, booster=None,\n",
       "                                          callbacks=None,\n",
       "                                          colsample_bylevel=None,\n",
       "                                          colsample_bynode=None,\n",
       "                                          colsample_bytree=None, device=None,\n",
       "                                          early_stopping_rounds=None,\n",
       "                                          enable_categorical=False,\n",
       "                                          eval_metric=None, feature_types=None,\n",
       "                                          gamma=None, grow_policy=None,\n",
       "                                          importance_type=None,\n",
       "                                          interaction_constraints=None,\n",
       "                                          learning_rate...\n",
       "                                          min_child_weight=None, missing=nan,\n",
       "                                          monotone_constraints=None,\n",
       "                                          multi_strategy=None,\n",
       "                                          n_estimators=None, n_jobs=None,\n",
       "                                          num_parallel_tree=None,\n",
       "                                          random_state=42, ...),\n",
       "                   param_distributions={'colsample_bytree': [0.8, 0.9, 1.0],\n",
       "                                        'learning_rate': [0.01, 0.1, 0.2],\n",
       "                                        'max_depth': [3, 4, 5],\n",
       "                                        'n_estimators': [100, 200, 300],\n",
       "                                        'subsample': [0.8, 0.9, 1.0]},\n",
       "                   scoring='neg_mean_absolute_percentage_error')"
      ]
     },
     "execution_count": 1581,
     "metadata": {},
     "output_type": "execute_result"
    }
   ],
   "source": [
    "xgb_model2 = xgb.XGBRegressor(objective='reg:squarederror', random_state=42)\n",
    "param_grid = {\n",
    "    'learning_rate': [0.01, 0.1, 0.2],\n",
    "    'max_depth': [3, 4, 5],\n",
    "    'n_estimators': [100, 200, 300],\n",
    "    'subsample': [0.8, 0.9, 1.0],\n",
    "    'colsample_bytree': [0.8, 0.9, 1.0]\n",
    "}\n",
    "par_search = RandomizedSearchCV(xgb_model2, param_grid, scoring = 'neg_mean_absolute_percentage_error', cv=10)\n",
    "par_search.fit(new_X_train, new_y_train)"
   ]
  },
  {
   "cell_type": "code",
   "execution_count": 1582,
   "id": "f2911892",
   "metadata": {},
   "outputs": [
    {
     "name": "stdout",
     "output_type": "stream",
     "text": [
      "{'subsample': 1.0, 'n_estimators': 100, 'max_depth': 4, 'learning_rate': 0.1, 'colsample_bytree': 1.0}\n"
     ]
    }
   ],
   "source": [
    "best_params = par_search.best_params_\n",
    "print (best_params)"
   ]
  },
  {
   "cell_type": "code",
   "execution_count": 1583,
   "id": "4ca2447b",
   "metadata": {},
   "outputs": [],
   "source": [
    "xgboost = xgb.XGBRegressor(n_estimators = 100, max_depth= 4, subsample = 1.0, learning_rate = 0.1, colsample_bytree = 1.0)\n",
    "xgboost.fit(new_X_train,new_y_train)\n",
    "xgb_y_pred = xgboost.predict(new_X_test)\n"
   ]
  },
  {
   "cell_type": "code",
   "execution_count": 1584,
   "id": "d82a423b",
   "metadata": {},
   "outputs": [
    {
     "name": "stdout",
     "output_type": "stream",
     "text": [
      "R-squared: 0.51\n",
      "Adjusted R-squared: 0.18\n"
     ]
    }
   ],
   "source": [
    "# Calculate the regular R-squared\n",
    "xgb_r2 = r2_score(new_y_test, xgb_y_pred)\n",
    "\n",
    "# Get the number of observations (n) and predictors (k)\n",
    "n = new_X_test.shape[0]\n",
    "k = new_X_test.shape[1]\n",
    "\n",
    "# Calculate the adjusted R-squared\n",
    "xgb_adjusted_r2 = 1 - ((1 - xgb_r2) * (n - 1) / (n - k - 1))\n",
    "\n",
    "print(f'R-squared: {round(xgb_r2,2)}')\n",
    "print(f'Adjusted R-squared: {round(xgb_adjusted_r2,2)}')"
   ]
  },
  {
   "cell_type": "code",
   "execution_count": 1585,
   "id": "9ccad522",
   "metadata": {},
   "outputs": [
    {
     "name": "stdout",
     "output_type": "stream",
     "text": [
      "XGBoost Reg's MAPE % 7.76\n"
     ]
    }
   ],
   "source": [
    "xgb_mape = mean_absolute_percentage_error(new_y_test, xgb_y_pred)\n",
    "print (\"XGBoost Reg's MAPE % {}\".format(round(xgb_mape *100,2)))"
   ]
  },
  {
   "cell_type": "markdown",
   "id": "5394f4c7",
   "metadata": {},
   "source": [
    "Actual-vs-Predicted scatter plots:"
   ]
  },
  {
   "cell_type": "code",
   "execution_count": 1586,
   "id": "30f737da",
   "metadata": {},
   "outputs": [
    {
     "data": {
      "image/png": "[encoded data removed]",
      "text/plain": [
       "<Figure size 432x288 with 1 Axes>"
      ]
     },
     "metadata": {
      "needs_background": "light"
     },
     "output_type": "display_data"
    }
   ],
   "source": [
    "plt.scatter(new_y_test, xgb_y_pred, color='purple', label='Actual vs Predicted', alpha = 0.4)\n",
    "\n",
    "plt.plot([min(new_y_test), max(new_y_test)], [min(new_y_test), max(new_y_test)], linestyle='--', color='blue', linewidth=2, label='45-Degree Line')\n",
    "\n",
    "# Labels\n",
    "plt.title('Actual vs Predicted Popularity of the TV Shows')\n",
    "plt.xlabel('Actual Popularity')\n",
    "plt.ylabel('Predicted Popularity')\n",
    "\n",
    "plt.legend(title='XGBoost Regression')\n",
    "\n",
    "plt.show()"
   ]
  },
  {
   "cell_type": "markdown",
   "id": "9230c061",
   "metadata": {},
   "source": [
    "## 4.8 Comparison between XGB and Random Forest Models <a id= '4.8_Comparison_of_XGB_and_Random_Forest_Models' ><a>"
   ]
  },
  {
   "cell_type": "markdown",
   "id": "9f3bff4c",
   "metadata": {},
   "source": [
    "Comparision of the residuals via histogram:"
   ]
  },
  {
   "cell_type": "code",
   "execution_count": 1587,
   "id": "b56d71f7",
   "metadata": {},
   "outputs": [
    {
     "data": {
      "image/png": "[encoded data removed]",
      "text/plain": [
       "<Figure size 720x360 with 1 Axes>"
      ]
     },
     "metadata": {
      "needs_background": "light"
     },
     "output_type": "display_data"
    }
   ],
   "source": [
    "xgb_residuals = np.array(new_y_test) - np.array(xgb_y_pred)\n",
    "\n",
    "plt.figure(figsize = (10,5))\n",
    "# Create a histogram of residuals\n",
    "plt.hist(random_residuals, bins=30, color='orange',alpha=0.4, rwidth=0.85, label = 'random')\n",
    "plt.hist(xgb_residuals, bins = 30, color = 'green', alpha=0.4, rwidth=0.85, label = 'xgb')\n",
    "# Set labels and title\n",
    "plt.title('Distribution of Residuals XGBoost and Random Forest Regression')\n",
    "plt.xlabel('Residuals')\n",
    "plt.ylabel('Frequency')\n",
    "plt.legend()\n",
    "# Show the plot\n",
    "plt.show()"
   ]
  },
  {
   "cell_type": "markdown",
   "id": "64e33c0d",
   "metadata": {},
   "source": [
    "Via scatterplots:"
   ]
  },
  {
   "cell_type": "code",
   "execution_count": 1588,
   "id": "28155484",
   "metadata": {},
   "outputs": [
    {
     "data": {
      "image/png": "[encoded data removed]",
      "text/plain": [
       "<Figure size 1008x504 with 2 Axes>"
      ]
     },
     "metadata": {
      "needs_background": "light"
     },
     "output_type": "display_data"
    }
   ],
   "source": [
    "random_y_pred = random.predict(new_X_test)\n",
    "\n",
    "fig, axes = plt.subplots(nrows=1, ncols=2, figsize=(14, 7))\n",
    "\n",
    "\n",
    "axes[0].scatter(new_y_test, random_y_pred, color='pink', alpha = 0.5)\n",
    "axes[0].plot([min(new_y_test), max(new_y_test)], [min(new_y_test), max(new_y_test)], linestyle='--', color='red', linewidth=2, label='45-Degree Line')\n",
    "\n",
    "axes[0].set_xlabel('Actual Popularity')\n",
    "axes[0].set_ylabel('Predicted Popularity')\n",
    "axes[0].legend(loc='upper left', bbox_to_anchor=(1, 1), title = 'Random Forest')\n",
    "axes[1].scatter(new_y_test, xgb_y_pred, color='orange', alpha = 0.5)\n",
    "axes[1].plot([min(new_y_test), max(new_y_test)], [min(new_y_test), max(new_y_test)], linestyle='--', color='red', linewidth=2, label='45-Degree Line')\n",
    "axes[1].set_xlabel('Actual Popularity')\n",
    "axes[1].set_ylabel('Predicted Popularity')\n",
    "axes[1].legend(loc='upper left', bbox_to_anchor=(1, 1), title = 'XGBoost')\n",
    "plt.tight_layout()"
   ]
  },
  {
   "cell_type": "markdown",
   "id": "476c1030",
   "metadata": {},
   "source": [
    "They are close contenders."
   ]
  },
  {
   "cell_type": "markdown",
   "id": "d1ee150c",
   "metadata": {},
   "source": [
    "## 4.9 XGB Regression - Subsets Based on Time Periods <a id= '4.9_XGB_Regression_-_Subsets_Based_on_Time_Periods' ><a>"
   ]
  },
  {
   "cell_type": "markdown",
   "id": "530a97a7",
   "metadata": {},
   "source": [
    "Doing XGB for post covid and Pre-Covid:"
   ]
  },
  {
   "cell_type": "code",
   "execution_count": 1589,
   "id": "dc20391c",
   "metadata": {},
   "outputs": [
    {
     "name": "stdout",
     "output_type": "stream",
     "text": [
      "for pre-covid dataset: {'subsample': 0.8, 'n_estimators': 100, 'max_depth': 4, 'learning_rate': 0.1, 'colsample_bytree': 0.9}\n"
     ]
    }
   ],
   "source": [
    "par_search.fit(pre_X_train, pre_y_train)\n",
    "pre_best_params = par_search.best_params_\n",
    "print('for pre-covid dataset: {}'.format(pre_best_params ))"
   ]
  },
  {
   "cell_type": "code",
   "execution_count": 1590,
   "id": "d4813c81",
   "metadata": {},
   "outputs": [
    {
     "name": "stdout",
     "output_type": "stream",
     "text": [
      "for covid dataset: {'subsample': 0.8, 'n_estimators': 100, 'max_depth': 4, 'learning_rate': 0.1, 'colsample_bytree': 0.8}\n"
     ]
    }
   ],
   "source": [
    "par_search.fit(cov_X_train, cov_y_train)\n",
    "cov_best_params = par_search.best_params_\n",
    "print('for covid dataset: {}'.format(cov_best_params ))"
   ]
  },
  {
   "cell_type": "code",
   "execution_count": 1591,
   "id": "3b5a20ec",
   "metadata": {},
   "outputs": [],
   "source": [
    "cov_xgboost = xgb.XGBRegressor(n_estimators = 100, colsample_bytee= 0.9,\n",
    "                               max_depth= 4, subsample = 0.8, learning_rate = 0.1)"
   ]
  },
  {
   "cell_type": "code",
   "execution_count": 1592,
   "id": "ac23b121",
   "metadata": {},
   "outputs": [],
   "source": [
    "pre_xgboost = xgb.XGBRegressor(n_estimators = 100, colsample_bytee= 0.8,\n",
    "                               max_depth= 4, subsample = 0.8, learning_rate = 0.1)"
   ]
  },
  {
   "cell_type": "code",
   "execution_count": 1593,
   "id": "a068e1e5",
   "metadata": {},
   "outputs": [
    {
     "name": "stderr",
     "output_type": "stream",
     "text": [
      "/Users/esrasaydam/opt/anaconda3/lib/python3.9/site-packages/xgboost/core.py:160: UserWarning: [19:01:40] WARNING: /Users/runner/work/xgboost/xgboost/src/learner.cc:742: \n",
      "Parameters: { \"colsample_bytee\" } are not used.\n",
      "\n",
      "  warnings.warn(smsg, UserWarning)\n"
     ]
    },
    {
     "data": {
      "text/plain": [
       "XGBRegressor(base_score=None, booster=None, callbacks=None,\n",
       "             colsample_bylevel=None, colsample_bynode=None, colsample_bytee=0.9,\n",
       "             colsample_bytree=None, device=None, early_stopping_rounds=None,\n",
       "             enable_categorical=False, eval_metric=None, feature_types=None,\n",
       "             gamma=None, grow_policy=None, importance_type=None,\n",
       "             interaction_constraints=None, learning_rate=0.1, max_bin=None,\n",
       "             max_cat_threshold=None, max_cat_to_onehot=None,\n",
       "             max_delta_step=None, max_depth=4, max_leaves=None,\n",
       "             min_child_weight=None, missing=nan, monotone_constraints=None,\n",
       "             multi_strategy=None, n_estimators=100, n_jobs=None,\n",
       "             num_parallel_tree=None, ...)"
      ]
     },
     "execution_count": 1593,
     "metadata": {},
     "output_type": "execute_result"
    }
   ],
   "source": [
    "#fitting\n",
    "cov_xgboost.fit(cov_X_train,cov_y_train)\n"
   ]
  },
  {
   "cell_type": "code",
   "execution_count": 1594,
   "id": "95e8a446",
   "metadata": {},
   "outputs": [
    {
     "name": "stderr",
     "output_type": "stream",
     "text": [
      "/Users/esrasaydam/opt/anaconda3/lib/python3.9/site-packages/xgboost/core.py:160: UserWarning: [19:01:42] WARNING: /Users/runner/work/xgboost/xgboost/src/learner.cc:742: \n",
      "Parameters: { \"colsample_bytee\" } are not used.\n",
      "\n",
      "  warnings.warn(smsg, UserWarning)\n"
     ]
    },
    {
     "data": {
      "text/plain": [
       "XGBRegressor(base_score=None, booster=None, callbacks=None,\n",
       "             colsample_bylevel=None, colsample_bynode=None, colsample_bytee=0.8,\n",
       "             colsample_bytree=None, device=None, early_stopping_rounds=None,\n",
       "             enable_categorical=False, eval_metric=None, feature_types=None,\n",
       "             gamma=None, grow_policy=None, importance_type=None,\n",
       "             interaction_constraints=None, learning_rate=0.1, max_bin=None,\n",
       "             max_cat_threshold=None, max_cat_to_onehot=None,\n",
       "             max_delta_step=None, max_depth=4, max_leaves=None,\n",
       "             min_child_weight=None, missing=nan, monotone_constraints=None,\n",
       "             multi_strategy=None, n_estimators=100, n_jobs=None,\n",
       "             num_parallel_tree=None, ...)"
      ]
     },
     "execution_count": 1594,
     "metadata": {},
     "output_type": "execute_result"
    }
   ],
   "source": [
    "#fitting\n",
    "pre_xgboost.fit(pre_X_train,pre_y_train)\n"
   ]
  },
  {
   "cell_type": "code",
   "execution_count": 1595,
   "id": "d55386c3",
   "metadata": {},
   "outputs": [],
   "source": [
    "cov_xgb_y_pred = cov_xgboost.predict(cov_X_test)\n",
    "pre_xgb_y_pred = pre_xgboost.predict(pre_X_test)"
   ]
  },
  {
   "cell_type": "code",
   "execution_count": 1596,
   "id": "3ac164f8",
   "metadata": {},
   "outputs": [
    {
     "name": "stdout",
     "output_type": "stream",
     "text": [
      "R-squared for Pre-COVID: 0.62\n",
      "Adjusted R-squared for Pre-COVID: -2.34\n",
      "XGB - R-squared of Post-COVID: 0.49\n",
      "XGB - Adjusted R-squared for Post-COVID: -1.09\n"
     ]
    }
   ],
   "source": [
    "#For Pre-COVID\n",
    "pre_xgb_r2 = r2_score(pre_y_test, pre_xgb_y_pred)\n",
    "\n",
    "# Get the number of observations (n) and predictors (k)\n",
    "n = pre_X_test.shape[0]\n",
    "k = pre_X_test.shape[1]\n",
    "\n",
    "# Calculate the adjusted R-squared\n",
    "pre_xgb_adjusted_r2 = 1 - ((1 - pre_xgb_r2) * (n - 1) / (n - k - 1))\n",
    "\n",
    "print(f'R-squared for Pre-COVID: {round(pre_xgb_r2,2)}')\n",
    "print(f'Adjusted R-squared for Pre-COVID: {round(pre_xgb_adjusted_r2,2)}')\n",
    "\n",
    "# For Post-COVID\n",
    "# Calculate the regular R-squared\n",
    "cov_xgb_r2 = r2_score(cov_y_test, cov_xgb_y_pred)\n",
    "\n",
    "# Get the number of observations (n) and predictors (k)\n",
    "n = cov_X_test.shape[0]\n",
    "k = cov_X_test.shape[1]\n",
    "\n",
    "# Calculate the adjusted R-squared\n",
    "cov_xgb_adjusted_r2 = 1 - ((1 - cov_xgb_r2) * (n - 1) / (n - k - 1))\n",
    "\n",
    "print(f'XGB - R-squared of Post-COVID: {round(cov_xgb_r2,2)}')\n",
    "print(f'XGB - Adjusted R-squared for Post-COVID: {round(cov_xgb_adjusted_r2,2)}')"
   ]
  },
  {
   "cell_type": "code",
   "execution_count": 1597,
   "id": "66e6f408",
   "metadata": {},
   "outputs": [
    {
     "name": "stdout",
     "output_type": "stream",
     "text": [
      "XGBoost Reg's MAPE for Post-Covid% 7.91\n"
     ]
    }
   ],
   "source": [
    "cov_xgb_mape = mean_absolute_percentage_error(cov_y_test, cov_xgb_y_pred)\n",
    "print (\"XGBoost Reg's MAPE for Post-Covid% {}\".format(round(cov_xgb_mape *100,2)))"
   ]
  },
  {
   "cell_type": "code",
   "execution_count": 1598,
   "id": "4ba4b4f9",
   "metadata": {},
   "outputs": [
    {
     "name": "stdout",
     "output_type": "stream",
     "text": [
      "XGBoost Reg's MAPE for Pre-Covid% 7.43\n"
     ]
    }
   ],
   "source": [
    "pre_xgb_mape = mean_absolute_percentage_error(pre_y_test, pre_xgb_y_pred)\n",
    "print (\"XGBoost Reg's MAPE for Pre-Covid% {}\".format(round(pre_xgb_mape *100,2)))"
   ]
  },
  {
   "cell_type": "markdown",
   "id": "44cedc1e",
   "metadata": {},
   "source": [
    "XGBoost performes better for shows that are made pre COVID."
   ]
  },
  {
   "cell_type": "code",
   "execution_count": 1599,
   "id": "127535c1",
   "metadata": {},
   "outputs": [
    {
     "data": {
      "image/png": "[encoded data removed]",
      "text/plain": [
       "<Figure size 720x360 with 1 Axes>"
      ]
     },
     "metadata": {
      "needs_background": "light"
     },
     "output_type": "display_data"
    }
   ],
   "source": [
    "plt.figure(figsize=(10, 5))\n",
    "\n",
    "#making xgboost slightly more visible since it seems to perform the best\n",
    "ax1 = plt.scatter(cov_y_test, cov_xgb_y_pred, color='orange', alpha = 0.4, label='Post COVID')\n",
    "ax2 = plt.scatter(pre_y_test, pre_xgb_y_pred, color='green', alpha = 0.4, label='Pre COVID')\n",
    "\n",
    "# comparing the subsets to the mainset and post COVID area have more predictability\n",
    "ax3 = plt.scatter(new_y_test, xgb_y_pred, color='blue', alpha = 0.4, label='The Whole Time')\n",
    "\n",
    "plt.plot([min(new_y_test), max(new_y_test)], [min(new_y_test), max(new_y_test)], linestyle='--', \n",
    "          color='red', linewidth= 2, label='45-Degree Line')\n",
    "\n",
    "# Labels\n",
    "plt.title('Actual vs Predicted Popularity of the TV Shows in COVID and Post-COVID Era')\n",
    "plt.xlabel('Actual Popularity')\n",
    "plt.ylabel('Predicted Popularity')\n",
    "\n",
    "plt.legend(loc='upper left', bbox_to_anchor=(1, 1), title = 'XGBoost')\n",
    "\n",
    "plt.show()"
   ]
  },
  {
   "cell_type": "code",
   "execution_count": 1600,
   "id": "d903038e",
   "metadata": {},
   "outputs": [
    {
     "data": {
      "image/png": "[encoded data removed]",
      "text/plain": [
       "<Figure size 720x360 with 1 Axes>"
      ]
     },
     "metadata": {
      "needs_background": "light"
     },
     "output_type": "display_data"
    }
   ],
   "source": [
    "\n",
    "cov_xgb_residuals = np.array(cov_y_test) - np.array(cov_xgb_y_pred)\n",
    "pre_xgb_residuals = np.array(pre_y_test) - np.array(pre_xgb_y_pred)\n",
    "\n",
    "plt.figure(figsize=(10, 5))\n",
    "# Pre-Covid\n",
    "ax1 =plt.hist(pre_xgb_residuals, bins=30, color='green', alpha=0.4, rwidth=0.85, label='Pre-COVID')\n",
    "# Set labels and title\n",
    "\n",
    "# Post-Covid\n",
    "ax2=plt.hist(cov_xgb_residuals, bins=30, color='orange', alpha=0.5, rwidth=0.85, label='Post_COVID')\n",
    "# Set labels and title\n",
    "\n",
    "# the whole set\n",
    "ax3=plt.hist(xgb_residuals, bins=30, color='blue', alpha=0.2, rwidth=0.85, label='The Whole Period')\n",
    "# Set labels and title\n",
    "plt.xlabel('Residuals')\n",
    "plt.ylabel('Frequency')\n",
    "\n",
    "plt.title('Distribution of Residuals with XGBoost')\n",
    "plt.legend()\n",
    "plt.tight_layout()\n",
    "plt.show()"
   ]
  },
  {
   "cell_type": "markdown",
   "id": "b1446894",
   "metadata": {},
   "source": [
    "## 4.10 Subsetting Based on Genres and Modeling <a id= '4.10_Subsetting_Based_on_Genres_and_Modeling'><a>"
   ]
  },
  {
   "cell_type": "markdown",
   "id": "61f70062",
   "metadata": {},
   "source": [
    "When I look at the feature importances, some genres such as Crime, Drama, Adventure, Action and Biography stand out."
   ]
  },
  {
   "cell_type": "markdown",
   "id": "de3be186",
   "metadata": {},
   "source": [
    "For the sake of variety I'll look into genres, Crime, Action, Biography and Fantasy. I'll also use random forest regression only since searching best parameters take so much time in xgboost..."
   ]
  },
  {
   "cell_type": "code",
   "execution_count": 1601,
   "id": "4ad8f9c8",
   "metadata": {
    "scrolled": true
   },
   "outputs": [
    {
     "data": {
      "text/html": [
       "<div>\n",
       "<style scoped>\n",
       "    .dataframe tbody tr th:only-of-type {\n",
       "        vertical-align: middle;\n",
       "    }\n",
       "\n",
       "    .dataframe tbody tr th {\n",
       "        vertical-align: top;\n",
       "    }\n",
       "\n",
       "    .dataframe thead th {\n",
       "        text-align: right;\n",
       "    }\n",
       "</style>\n",
       "<table border=\"1\" class=\"dataframe\">\n",
       "  <thead>\n",
       "    <tr style=\"text-align: right;\">\n",
       "      <th></th>\n",
       "      <th>startYear</th>\n",
       "      <th>endYear</th>\n",
       "      <th>Age</th>\n",
       "      <th>creator/actor?</th>\n",
       "      <th>ep_run_times</th>\n",
       "      <th>no_of_ep</th>\n",
       "      <th>no_of_seasons</th>\n",
       "      <th>cast_pop</th>\n",
       "      <th>team_popularity</th>\n",
       "      <th>total_popularity</th>\n",
       "      <th>...</th>\n",
       "      <th>first_country_PT</th>\n",
       "      <th>first_country_SA</th>\n",
       "      <th>first_country_SE</th>\n",
       "      <th>first_country_SG</th>\n",
       "      <th>first_country_TH</th>\n",
       "      <th>first_country_TR</th>\n",
       "      <th>first_country_TW</th>\n",
       "      <th>first_country_US</th>\n",
       "      <th>first_country_VN</th>\n",
       "      <th>first_country_ZA</th>\n",
       "    </tr>\n",
       "  </thead>\n",
       "  <tbody>\n",
       "    <tr>\n",
       "      <th>7</th>\n",
       "      <td>2015</td>\n",
       "      <td>2017</td>\n",
       "      <td>18</td>\n",
       "      <td>0</td>\n",
       "      <td>57</td>\n",
       "      <td>30</td>\n",
       "      <td>3</td>\n",
       "      <td>74.9</td>\n",
       "      <td>2.9</td>\n",
       "      <td>5.58</td>\n",
       "      <td>...</td>\n",
       "      <td>0</td>\n",
       "      <td>0</td>\n",
       "      <td>0</td>\n",
       "      <td>0</td>\n",
       "      <td>0</td>\n",
       "      <td>0</td>\n",
       "      <td>0</td>\n",
       "      <td>1</td>\n",
       "      <td>0</td>\n",
       "      <td>0</td>\n",
       "    </tr>\n",
       "    <tr>\n",
       "      <th>51</th>\n",
       "      <td>2020</td>\n",
       "      <td>2021</td>\n",
       "      <td>7</td>\n",
       "      <td>0</td>\n",
       "      <td>40</td>\n",
       "      <td>18</td>\n",
       "      <td>1</td>\n",
       "      <td>21.2</td>\n",
       "      <td>2.1</td>\n",
       "      <td>4.20</td>\n",
       "      <td>...</td>\n",
       "      <td>0</td>\n",
       "      <td>0</td>\n",
       "      <td>0</td>\n",
       "      <td>0</td>\n",
       "      <td>0</td>\n",
       "      <td>0</td>\n",
       "      <td>0</td>\n",
       "      <td>1</td>\n",
       "      <td>0</td>\n",
       "      <td>0</td>\n",
       "    </tr>\n",
       "    <tr>\n",
       "      <th>124</th>\n",
       "      <td>2019</td>\n",
       "      <td>2019</td>\n",
       "      <td>18</td>\n",
       "      <td>0</td>\n",
       "      <td>75</td>\n",
       "      <td>4</td>\n",
       "      <td>1</td>\n",
       "      <td>8.5</td>\n",
       "      <td>5.0</td>\n",
       "      <td>5.38</td>\n",
       "      <td>...</td>\n",
       "      <td>0</td>\n",
       "      <td>0</td>\n",
       "      <td>0</td>\n",
       "      <td>0</td>\n",
       "      <td>0</td>\n",
       "      <td>0</td>\n",
       "      <td>0</td>\n",
       "      <td>1</td>\n",
       "      <td>0</td>\n",
       "      <td>0</td>\n",
       "    </tr>\n",
       "    <tr>\n",
       "      <th>127</th>\n",
       "      <td>2020</td>\n",
       "      <td>2020</td>\n",
       "      <td>18</td>\n",
       "      <td>0</td>\n",
       "      <td>47</td>\n",
       "      <td>4</td>\n",
       "      <td>1</td>\n",
       "      <td>21.8</td>\n",
       "      <td>1.7</td>\n",
       "      <td>4.53</td>\n",
       "      <td>...</td>\n",
       "      <td>0</td>\n",
       "      <td>0</td>\n",
       "      <td>0</td>\n",
       "      <td>0</td>\n",
       "      <td>0</td>\n",
       "      <td>0</td>\n",
       "      <td>0</td>\n",
       "      <td>1</td>\n",
       "      <td>0</td>\n",
       "      <td>0</td>\n",
       "    </tr>\n",
       "    <tr>\n",
       "      <th>131</th>\n",
       "      <td>2021</td>\n",
       "      <td>2021</td>\n",
       "      <td>18</td>\n",
       "      <td>0</td>\n",
       "      <td>47</td>\n",
       "      <td>5</td>\n",
       "      <td>1</td>\n",
       "      <td>56.3</td>\n",
       "      <td>2.2</td>\n",
       "      <td>4.53</td>\n",
       "      <td>...</td>\n",
       "      <td>0</td>\n",
       "      <td>0</td>\n",
       "      <td>0</td>\n",
       "      <td>0</td>\n",
       "      <td>0</td>\n",
       "      <td>0</td>\n",
       "      <td>0</td>\n",
       "      <td>1</td>\n",
       "      <td>0</td>\n",
       "      <td>0</td>\n",
       "    </tr>\n",
       "  </tbody>\n",
       "</table>\n",
       "<p>5 rows × 127 columns</p>\n",
       "</div>"
      ],
      "text/plain": [
       "     startYear  endYear  Age  creator/actor?  ep_run_times  no_of_ep  \\\n",
       "7         2015     2017   18               0            57        30   \n",
       "51        2020     2021    7               0            40        18   \n",
       "124       2019     2019   18               0            75         4   \n",
       "127       2020     2020   18               0            47         4   \n",
       "131       2021     2021   18               0            47         5   \n",
       "\n",
       "     no_of_seasons  cast_pop  team_popularity  total_popularity  ...  \\\n",
       "7                3      74.9              2.9              5.58  ...   \n",
       "51               1      21.2              2.1              4.20  ...   \n",
       "124              1       8.5              5.0              5.38  ...   \n",
       "127              1      21.8              1.7              4.53  ...   \n",
       "131              1      56.3              2.2              4.53  ...   \n",
       "\n",
       "     first_country_PT  first_country_SA  first_country_SE  first_country_SG  \\\n",
       "7                   0                 0                 0                 0   \n",
       "51                  0                 0                 0                 0   \n",
       "124                 0                 0                 0                 0   \n",
       "127                 0                 0                 0                 0   \n",
       "131                 0                 0                 0                 0   \n",
       "\n",
       "     first_country_TH  first_country_TR  first_country_TW  first_country_US  \\\n",
       "7                   0                 0                 0                 1   \n",
       "51                  0                 0                 0                 1   \n",
       "124                 0                 0                 0                 1   \n",
       "127                 0                 0                 0                 1   \n",
       "131                 0                 0                 0                 1   \n",
       "\n",
       "     first_country_VN  first_country_ZA  \n",
       "7                   0                 0  \n",
       "51                  0                 0  \n",
       "124                 0                 0  \n",
       "127                 0                 0  \n",
       "131                 0                 0  \n",
       "\n",
       "[5 rows x 127 columns]"
      ]
     },
     "execution_count": 1601,
     "metadata": {},
     "output_type": "execute_result"
    }
   ],
   "source": [
    "bio_df = new_df[new_df['genre_1_Biography'] == 1]\n",
    "#making sure the dramas don't overlap with fantasy genre\n",
    "bio_df = bio_df[bio_df['genre_2_Fantasy'] == 0]\n",
    "bio_df.head()"
   ]
  },
  {
   "cell_type": "code",
   "execution_count": 1602,
   "id": "dd45fc07",
   "metadata": {},
   "outputs": [
    {
     "data": {
      "text/html": [
       "<div>\n",
       "<style scoped>\n",
       "    .dataframe tbody tr th:only-of-type {\n",
       "        vertical-align: middle;\n",
       "    }\n",
       "\n",
       "    .dataframe tbody tr th {\n",
       "        vertical-align: top;\n",
       "    }\n",
       "\n",
       "    .dataframe thead th {\n",
       "        text-align: right;\n",
       "    }\n",
       "</style>\n",
       "<table border=\"1\" class=\"dataframe\">\n",
       "  <thead>\n",
       "    <tr style=\"text-align: right;\">\n",
       "      <th></th>\n",
       "      <th>startYear</th>\n",
       "      <th>endYear</th>\n",
       "      <th>Age</th>\n",
       "      <th>creator/actor?</th>\n",
       "      <th>ep_run_times</th>\n",
       "      <th>no_of_ep</th>\n",
       "      <th>no_of_seasons</th>\n",
       "      <th>cast_pop</th>\n",
       "      <th>team_popularity</th>\n",
       "      <th>total_popularity</th>\n",
       "      <th>...</th>\n",
       "      <th>first_country_PT</th>\n",
       "      <th>first_country_SA</th>\n",
       "      <th>first_country_SE</th>\n",
       "      <th>first_country_SG</th>\n",
       "      <th>first_country_TH</th>\n",
       "      <th>first_country_TR</th>\n",
       "      <th>first_country_TW</th>\n",
       "      <th>first_country_US</th>\n",
       "      <th>first_country_VN</th>\n",
       "      <th>first_country_ZA</th>\n",
       "    </tr>\n",
       "  </thead>\n",
       "  <tbody>\n",
       "    <tr>\n",
       "      <th>0</th>\n",
       "      <td>2013</td>\n",
       "      <td>2018</td>\n",
       "      <td>18</td>\n",
       "      <td>0</td>\n",
       "      <td>73</td>\n",
       "      <td>73</td>\n",
       "      <td>6</td>\n",
       "      <td>31.0</td>\n",
       "      <td>7.6</td>\n",
       "      <td>5.76</td>\n",
       "      <td>...</td>\n",
       "      <td>0</td>\n",
       "      <td>0</td>\n",
       "      <td>0</td>\n",
       "      <td>0</td>\n",
       "      <td>0</td>\n",
       "      <td>0</td>\n",
       "      <td>0</td>\n",
       "      <td>1</td>\n",
       "      <td>0</td>\n",
       "      <td>0</td>\n",
       "    </tr>\n",
       "    <tr>\n",
       "      <th>4</th>\n",
       "      <td>2015</td>\n",
       "      <td>2017</td>\n",
       "      <td>18</td>\n",
       "      <td>0</td>\n",
       "      <td>60</td>\n",
       "      <td>33</td>\n",
       "      <td>3</td>\n",
       "      <td>33.6</td>\n",
       "      <td>2.1</td>\n",
       "      <td>5.01</td>\n",
       "      <td>...</td>\n",
       "      <td>0</td>\n",
       "      <td>0</td>\n",
       "      <td>0</td>\n",
       "      <td>0</td>\n",
       "      <td>0</td>\n",
       "      <td>0</td>\n",
       "      <td>0</td>\n",
       "      <td>1</td>\n",
       "      <td>0</td>\n",
       "      <td>0</td>\n",
       "    </tr>\n",
       "    <tr>\n",
       "      <th>6</th>\n",
       "      <td>2015</td>\n",
       "      <td>2018</td>\n",
       "      <td>18</td>\n",
       "      <td>0</td>\n",
       "      <td>60</td>\n",
       "      <td>24</td>\n",
       "      <td>2</td>\n",
       "      <td>24.8</td>\n",
       "      <td>11.8</td>\n",
       "      <td>5.25</td>\n",
       "      <td>...</td>\n",
       "      <td>0</td>\n",
       "      <td>0</td>\n",
       "      <td>0</td>\n",
       "      <td>0</td>\n",
       "      <td>0</td>\n",
       "      <td>0</td>\n",
       "      <td>0</td>\n",
       "      <td>1</td>\n",
       "      <td>0</td>\n",
       "      <td>0</td>\n",
       "    </tr>\n",
       "    <tr>\n",
       "      <th>9</th>\n",
       "      <td>2016</td>\n",
       "      <td>2017</td>\n",
       "      <td>18</td>\n",
       "      <td>0</td>\n",
       "      <td>52</td>\n",
       "      <td>11</td>\n",
       "      <td>1</td>\n",
       "      <td>31.3</td>\n",
       "      <td>2.2</td>\n",
       "      <td>4.79</td>\n",
       "      <td>...</td>\n",
       "      <td>0</td>\n",
       "      <td>0</td>\n",
       "      <td>0</td>\n",
       "      <td>0</td>\n",
       "      <td>0</td>\n",
       "      <td>0</td>\n",
       "      <td>0</td>\n",
       "      <td>1</td>\n",
       "      <td>0</td>\n",
       "      <td>0</td>\n",
       "    </tr>\n",
       "    <tr>\n",
       "      <th>14</th>\n",
       "      <td>2017</td>\n",
       "      <td>2020</td>\n",
       "      <td>18</td>\n",
       "      <td>0</td>\n",
       "      <td>57</td>\n",
       "      <td>49</td>\n",
       "      <td>4</td>\n",
       "      <td>15.2</td>\n",
       "      <td>3.5</td>\n",
       "      <td>5.07</td>\n",
       "      <td>...</td>\n",
       "      <td>0</td>\n",
       "      <td>0</td>\n",
       "      <td>0</td>\n",
       "      <td>0</td>\n",
       "      <td>0</td>\n",
       "      <td>0</td>\n",
       "      <td>0</td>\n",
       "      <td>1</td>\n",
       "      <td>0</td>\n",
       "      <td>0</td>\n",
       "    </tr>\n",
       "  </tbody>\n",
       "</table>\n",
       "<p>5 rows × 127 columns</p>\n",
       "</div>"
      ],
      "text/plain": [
       "    startYear  endYear  Age  creator/actor?  ep_run_times  no_of_ep  \\\n",
       "0        2013     2018   18               0            73        73   \n",
       "4        2015     2017   18               0            60        33   \n",
       "6        2015     2018   18               0            60        24   \n",
       "9        2016     2017   18               0            52        11   \n",
       "14       2017     2020   18               0            57        49   \n",
       "\n",
       "    no_of_seasons  cast_pop  team_popularity  total_popularity  ...  \\\n",
       "0               6      31.0              7.6              5.76  ...   \n",
       "4               3      33.6              2.1              5.01  ...   \n",
       "6               2      24.8             11.8              5.25  ...   \n",
       "9               1      31.3              2.2              4.79  ...   \n",
       "14              4      15.2              3.5              5.07  ...   \n",
       "\n",
       "    first_country_PT  first_country_SA  first_country_SE  first_country_SG  \\\n",
       "0                  0                 0                 0                 0   \n",
       "4                  0                 0                 0                 0   \n",
       "6                  0                 0                 0                 0   \n",
       "9                  0                 0                 0                 0   \n",
       "14                 0                 0                 0                 0   \n",
       "\n",
       "    first_country_TH  first_country_TR  first_country_TW  first_country_US  \\\n",
       "0                  0                 0                 0                 1   \n",
       "4                  0                 0                 0                 1   \n",
       "6                  0                 0                 0                 1   \n",
       "9                  0                 0                 0                 1   \n",
       "14                 0                 0                 0                 1   \n",
       "\n",
       "    first_country_VN  first_country_ZA  \n",
       "0                  0                 0  \n",
       "4                  0                 0  \n",
       "6                  0                 0  \n",
       "9                  0                 0  \n",
       "14                 0                 0  \n",
       "\n",
       "[5 rows x 127 columns]"
      ]
     },
     "execution_count": 1602,
     "metadata": {},
     "output_type": "execute_result"
    }
   ],
   "source": [
    "drama_df = new_df[new_df['genre_1_Drama'] == 1]\n",
    "#making sure the dramas don't overlap with fantasy genre\n",
    "drama_df = drama_df[drama_df['genre_2_Fantasy'] == 0]\n",
    "drama_df.head()\n"
   ]
  },
  {
   "cell_type": "code",
   "execution_count": 1603,
   "id": "9292d3a2",
   "metadata": {},
   "outputs": [
    {
     "data": {
      "text/html": [
       "<div>\n",
       "<style scoped>\n",
       "    .dataframe tbody tr th:only-of-type {\n",
       "        vertical-align: middle;\n",
       "    }\n",
       "\n",
       "    .dataframe tbody tr th {\n",
       "        vertical-align: top;\n",
       "    }\n",
       "\n",
       "    .dataframe thead th {\n",
       "        text-align: right;\n",
       "    }\n",
       "</style>\n",
       "<table border=\"1\" class=\"dataframe\">\n",
       "  <thead>\n",
       "    <tr style=\"text-align: right;\">\n",
       "      <th></th>\n",
       "      <th>startYear</th>\n",
       "      <th>endYear</th>\n",
       "      <th>Age</th>\n",
       "      <th>creator/actor?</th>\n",
       "      <th>ep_run_times</th>\n",
       "      <th>no_of_ep</th>\n",
       "      <th>no_of_seasons</th>\n",
       "      <th>cast_pop</th>\n",
       "      <th>team_popularity</th>\n",
       "      <th>total_popularity</th>\n",
       "      <th>...</th>\n",
       "      <th>second_country_PT</th>\n",
       "      <th>second_country_SA</th>\n",
       "      <th>second_country_SE</th>\n",
       "      <th>second_country_TH</th>\n",
       "      <th>second_country_TN</th>\n",
       "      <th>second_country_TR</th>\n",
       "      <th>second_country_TW</th>\n",
       "      <th>second_country_US</th>\n",
       "      <th>second_country_VN</th>\n",
       "      <th>second_country_ZA</th>\n",
       "    </tr>\n",
       "  </thead>\n",
       "  <tbody>\n",
       "    <tr>\n",
       "      <th>3</th>\n",
       "      <td>2014</td>\n",
       "      <td>2016</td>\n",
       "      <td>18</td>\n",
       "      <td>0</td>\n",
       "      <td>60</td>\n",
       "      <td>20</td>\n",
       "      <td>2</td>\n",
       "      <td>21.4</td>\n",
       "      <td>2.2</td>\n",
       "      <td>5.04</td>\n",
       "      <td>...</td>\n",
       "      <td>0</td>\n",
       "      <td>0</td>\n",
       "      <td>0</td>\n",
       "      <td>0</td>\n",
       "      <td>0</td>\n",
       "      <td>0</td>\n",
       "      <td>0</td>\n",
       "      <td>1</td>\n",
       "      <td>0</td>\n",
       "      <td>0</td>\n",
       "    </tr>\n",
       "    <tr>\n",
       "      <th>5</th>\n",
       "      <td>2015</td>\n",
       "      <td>2018</td>\n",
       "      <td>18</td>\n",
       "      <td>0</td>\n",
       "      <td>52</td>\n",
       "      <td>39</td>\n",
       "      <td>3</td>\n",
       "      <td>38.9</td>\n",
       "      <td>5.5</td>\n",
       "      <td>5.61</td>\n",
       "      <td>...</td>\n",
       "      <td>0</td>\n",
       "      <td>0</td>\n",
       "      <td>0</td>\n",
       "      <td>0</td>\n",
       "      <td>0</td>\n",
       "      <td>0</td>\n",
       "      <td>0</td>\n",
       "      <td>1</td>\n",
       "      <td>0</td>\n",
       "      <td>0</td>\n",
       "    </tr>\n",
       "    <tr>\n",
       "      <th>8</th>\n",
       "      <td>2015</td>\n",
       "      <td>2019</td>\n",
       "      <td>18</td>\n",
       "      <td>0</td>\n",
       "      <td>52</td>\n",
       "      <td>39</td>\n",
       "      <td>3</td>\n",
       "      <td>37.5</td>\n",
       "      <td>2.7</td>\n",
       "      <td>5.19</td>\n",
       "      <td>...</td>\n",
       "      <td>0</td>\n",
       "      <td>0</td>\n",
       "      <td>0</td>\n",
       "      <td>0</td>\n",
       "      <td>0</td>\n",
       "      <td>0</td>\n",
       "      <td>0</td>\n",
       "      <td>1</td>\n",
       "      <td>0</td>\n",
       "      <td>0</td>\n",
       "    </tr>\n",
       "    <tr>\n",
       "      <th>10</th>\n",
       "      <td>2016</td>\n",
       "      <td>2018</td>\n",
       "      <td>18</td>\n",
       "      <td>0</td>\n",
       "      <td>46</td>\n",
       "      <td>26</td>\n",
       "      <td>2</td>\n",
       "      <td>23.0</td>\n",
       "      <td>2.4</td>\n",
       "      <td>4.91</td>\n",
       "      <td>...</td>\n",
       "      <td>0</td>\n",
       "      <td>0</td>\n",
       "      <td>0</td>\n",
       "      <td>0</td>\n",
       "      <td>0</td>\n",
       "      <td>0</td>\n",
       "      <td>0</td>\n",
       "      <td>1</td>\n",
       "      <td>0</td>\n",
       "      <td>0</td>\n",
       "    </tr>\n",
       "    <tr>\n",
       "      <th>13</th>\n",
       "      <td>2017</td>\n",
       "      <td>2018</td>\n",
       "      <td>18</td>\n",
       "      <td>0</td>\n",
       "      <td>55</td>\n",
       "      <td>23</td>\n",
       "      <td>2</td>\n",
       "      <td>38.7</td>\n",
       "      <td>3.5</td>\n",
       "      <td>4.51</td>\n",
       "      <td>...</td>\n",
       "      <td>0</td>\n",
       "      <td>0</td>\n",
       "      <td>0</td>\n",
       "      <td>0</td>\n",
       "      <td>0</td>\n",
       "      <td>0</td>\n",
       "      <td>0</td>\n",
       "      <td>1</td>\n",
       "      <td>0</td>\n",
       "      <td>0</td>\n",
       "    </tr>\n",
       "  </tbody>\n",
       "</table>\n",
       "<p>5 rows × 174 columns</p>\n",
       "</div>"
      ],
      "text/plain": [
       "    startYear  endYear  Age  creator/actor?  ep_run_times  no_of_ep  \\\n",
       "3        2014     2016   18               0            60        20   \n",
       "5        2015     2018   18               0            52        39   \n",
       "8        2015     2019   18               0            52        39   \n",
       "10       2016     2018   18               0            46        26   \n",
       "13       2017     2018   18               0            55        23   \n",
       "\n",
       "    no_of_seasons  cast_pop  team_popularity  total_popularity  ...  \\\n",
       "3               2      21.4              2.2              5.04  ...   \n",
       "5               3      38.9              5.5              5.61  ...   \n",
       "8               3      37.5              2.7              5.19  ...   \n",
       "10              2      23.0              2.4              4.91  ...   \n",
       "13              2      38.7              3.5              4.51  ...   \n",
       "\n",
       "    second_country_PT  second_country_SA  second_country_SE  \\\n",
       "3                   0                  0                  0   \n",
       "5                   0                  0                  0   \n",
       "8                   0                  0                  0   \n",
       "10                  0                  0                  0   \n",
       "13                  0                  0                  0   \n",
       "\n",
       "    second_country_TH  second_country_TN  second_country_TR  \\\n",
       "3                   0                  0                  0   \n",
       "5                   0                  0                  0   \n",
       "8                   0                  0                  0   \n",
       "10                  0                  0                  0   \n",
       "13                  0                  0                  0   \n",
       "\n",
       "    second_country_TW  second_country_US  second_country_VN  second_country_ZA  \n",
       "3                   0                  1                  0                  0  \n",
       "5                   0                  1                  0                  0  \n",
       "8                   0                  1                  0                  0  \n",
       "10                  0                  1                  0                  0  \n",
       "13                  0                  1                  0                  0  \n",
       "\n",
       "[5 rows x 174 columns]"
      ]
     },
     "execution_count": 1603,
     "metadata": {},
     "output_type": "execute_result"
    }
   ],
   "source": [
    "act_df = df[df['genre_1_Action'] == 1]\n",
    "#making sure the action genres don't overlap with fantasy genre\n",
    "act_df = act_df[act_df['genre_2_Fantasy'] == 0]\n",
    "act_df.head()\n"
   ]
  },
  {
   "cell_type": "code",
   "execution_count": 1604,
   "id": "a7c64e07",
   "metadata": {},
   "outputs": [
    {
     "data": {
      "text/html": [
       "<div>\n",
       "<style scoped>\n",
       "    .dataframe tbody tr th:only-of-type {\n",
       "        vertical-align: middle;\n",
       "    }\n",
       "\n",
       "    .dataframe tbody tr th {\n",
       "        vertical-align: top;\n",
       "    }\n",
       "\n",
       "    .dataframe thead th {\n",
       "        text-align: right;\n",
       "    }\n",
       "</style>\n",
       "<table border=\"1\" class=\"dataframe\">\n",
       "  <thead>\n",
       "    <tr style=\"text-align: right;\">\n",
       "      <th></th>\n",
       "      <th>startYear</th>\n",
       "      <th>endYear</th>\n",
       "      <th>Age</th>\n",
       "      <th>creator/actor?</th>\n",
       "      <th>ep_run_times</th>\n",
       "      <th>no_of_ep</th>\n",
       "      <th>no_of_seasons</th>\n",
       "      <th>cast_pop</th>\n",
       "      <th>team_popularity</th>\n",
       "      <th>total_popularity</th>\n",
       "      <th>...</th>\n",
       "      <th>first_country_PT</th>\n",
       "      <th>first_country_SA</th>\n",
       "      <th>first_country_SE</th>\n",
       "      <th>first_country_SG</th>\n",
       "      <th>first_country_TH</th>\n",
       "      <th>first_country_TR</th>\n",
       "      <th>first_country_TW</th>\n",
       "      <th>first_country_US</th>\n",
       "      <th>first_country_VN</th>\n",
       "      <th>first_country_ZA</th>\n",
       "    </tr>\n",
       "  </thead>\n",
       "  <tbody>\n",
       "    <tr>\n",
       "      <th>18</th>\n",
       "      <td>2017</td>\n",
       "      <td>2019</td>\n",
       "      <td>18</td>\n",
       "      <td>0</td>\n",
       "      <td>50</td>\n",
       "      <td>19</td>\n",
       "      <td>2</td>\n",
       "      <td>19.4</td>\n",
       "      <td>8.1</td>\n",
       "      <td>5.48</td>\n",
       "      <td>...</td>\n",
       "      <td>0</td>\n",
       "      <td>0</td>\n",
       "      <td>0</td>\n",
       "      <td>0</td>\n",
       "      <td>0</td>\n",
       "      <td>0</td>\n",
       "      <td>0</td>\n",
       "      <td>1</td>\n",
       "      <td>0</td>\n",
       "      <td>0</td>\n",
       "    </tr>\n",
       "    <tr>\n",
       "      <th>21</th>\n",
       "      <td>2018</td>\n",
       "      <td>2018</td>\n",
       "      <td>18</td>\n",
       "      <td>0</td>\n",
       "      <td>55</td>\n",
       "      <td>10</td>\n",
       "      <td>1</td>\n",
       "      <td>18.8</td>\n",
       "      <td>2.4</td>\n",
       "      <td>4.79</td>\n",
       "      <td>...</td>\n",
       "      <td>0</td>\n",
       "      <td>0</td>\n",
       "      <td>0</td>\n",
       "      <td>0</td>\n",
       "      <td>0</td>\n",
       "      <td>0</td>\n",
       "      <td>0</td>\n",
       "      <td>1</td>\n",
       "      <td>0</td>\n",
       "      <td>0</td>\n",
       "    </tr>\n",
       "    <tr>\n",
       "      <th>26</th>\n",
       "      <td>2018</td>\n",
       "      <td>2021</td>\n",
       "      <td>18</td>\n",
       "      <td>0</td>\n",
       "      <td>50</td>\n",
       "      <td>30</td>\n",
       "      <td>3</td>\n",
       "      <td>33.8</td>\n",
       "      <td>2.7</td>\n",
       "      <td>5.13</td>\n",
       "      <td>...</td>\n",
       "      <td>0</td>\n",
       "      <td>0</td>\n",
       "      <td>0</td>\n",
       "      <td>0</td>\n",
       "      <td>0</td>\n",
       "      <td>0</td>\n",
       "      <td>0</td>\n",
       "      <td>1</td>\n",
       "      <td>0</td>\n",
       "      <td>0</td>\n",
       "    </tr>\n",
       "    <tr>\n",
       "      <th>27</th>\n",
       "      <td>2018</td>\n",
       "      <td>2018</td>\n",
       "      <td>18</td>\n",
       "      <td>0</td>\n",
       "      <td>60</td>\n",
       "      <td>8</td>\n",
       "      <td>1</td>\n",
       "      <td>18.0</td>\n",
       "      <td>1.0</td>\n",
       "      <td>4.16</td>\n",
       "      <td>...</td>\n",
       "      <td>0</td>\n",
       "      <td>0</td>\n",
       "      <td>0</td>\n",
       "      <td>0</td>\n",
       "      <td>0</td>\n",
       "      <td>0</td>\n",
       "      <td>0</td>\n",
       "      <td>0</td>\n",
       "      <td>0</td>\n",
       "      <td>0</td>\n",
       "    </tr>\n",
       "    <tr>\n",
       "      <th>35</th>\n",
       "      <td>2019</td>\n",
       "      <td>2020</td>\n",
       "      <td>18</td>\n",
       "      <td>0</td>\n",
       "      <td>43</td>\n",
       "      <td>7</td>\n",
       "      <td>2</td>\n",
       "      <td>22.5</td>\n",
       "      <td>2.6</td>\n",
       "      <td>4.62</td>\n",
       "      <td>...</td>\n",
       "      <td>0</td>\n",
       "      <td>0</td>\n",
       "      <td>0</td>\n",
       "      <td>0</td>\n",
       "      <td>0</td>\n",
       "      <td>0</td>\n",
       "      <td>0</td>\n",
       "      <td>0</td>\n",
       "      <td>0</td>\n",
       "      <td>0</td>\n",
       "    </tr>\n",
       "  </tbody>\n",
       "</table>\n",
       "<p>5 rows × 127 columns</p>\n",
       "</div>"
      ],
      "text/plain": [
       "    startYear  endYear  Age  creator/actor?  ep_run_times  no_of_ep  \\\n",
       "18       2017     2019   18               0            50        19   \n",
       "21       2018     2018   18               0            55        10   \n",
       "26       2018     2021   18               0            50        30   \n",
       "27       2018     2018   18               0            60         8   \n",
       "35       2019     2020   18               0            43         7   \n",
       "\n",
       "    no_of_seasons  cast_pop  team_popularity  total_popularity  ...  \\\n",
       "18              2      19.4              8.1              5.48  ...   \n",
       "21              1      18.8              2.4              4.79  ...   \n",
       "26              3      33.8              2.7              5.13  ...   \n",
       "27              1      18.0              1.0              4.16  ...   \n",
       "35              2      22.5              2.6              4.62  ...   \n",
       "\n",
       "    first_country_PT  first_country_SA  first_country_SE  first_country_SG  \\\n",
       "18                 0                 0                 0                 0   \n",
       "21                 0                 0                 0                 0   \n",
       "26                 0                 0                 0                 0   \n",
       "27                 0                 0                 0                 0   \n",
       "35                 0                 0                 0                 0   \n",
       "\n",
       "    first_country_TH  first_country_TR  first_country_TW  first_country_US  \\\n",
       "18                 0                 0                 0                 1   \n",
       "21                 0                 0                 0                 1   \n",
       "26                 0                 0                 0                 1   \n",
       "27                 0                 0                 0                 0   \n",
       "35                 0                 0                 0                 0   \n",
       "\n",
       "    first_country_VN  first_country_ZA  \n",
       "18                 0                 0  \n",
       "21                 0                 0  \n",
       "26                 0                 0  \n",
       "27                 0                 0  \n",
       "35                 0                 0  \n",
       "\n",
       "[5 rows x 127 columns]"
      ]
     },
     "execution_count": 1604,
     "metadata": {},
     "output_type": "execute_result"
    }
   ],
   "source": [
    "crime_df = new_df[new_df['genre_1_Crime'] == 1]\n",
    "#making sure the action genres don't overlap with fantasy genre\n",
    "crime_df = crime_df[crime_df['genre_2_Fantasy'] == 0]\n",
    "crime_df.head()"
   ]
  },
  {
   "cell_type": "code",
   "execution_count": 1605,
   "id": "7be6901c",
   "metadata": {},
   "outputs": [
    {
     "data": {
      "text/html": [
       "<div>\n",
       "<style scoped>\n",
       "    .dataframe tbody tr th:only-of-type {\n",
       "        vertical-align: middle;\n",
       "    }\n",
       "\n",
       "    .dataframe tbody tr th {\n",
       "        vertical-align: top;\n",
       "    }\n",
       "\n",
       "    .dataframe thead th {\n",
       "        text-align: right;\n",
       "    }\n",
       "</style>\n",
       "<table border=\"1\" class=\"dataframe\">\n",
       "  <thead>\n",
       "    <tr style=\"text-align: right;\">\n",
       "      <th></th>\n",
       "      <th>startYear</th>\n",
       "      <th>endYear</th>\n",
       "      <th>Age</th>\n",
       "      <th>creator/actor?</th>\n",
       "      <th>ep_run_times</th>\n",
       "      <th>no_of_ep</th>\n",
       "      <th>no_of_seasons</th>\n",
       "      <th>cast_pop</th>\n",
       "      <th>team_popularity</th>\n",
       "      <th>total_popularity</th>\n",
       "      <th>...</th>\n",
       "      <th>first_country_PT</th>\n",
       "      <th>first_country_SA</th>\n",
       "      <th>first_country_SE</th>\n",
       "      <th>first_country_SG</th>\n",
       "      <th>first_country_TH</th>\n",
       "      <th>first_country_TR</th>\n",
       "      <th>first_country_TW</th>\n",
       "      <th>first_country_US</th>\n",
       "      <th>first_country_VN</th>\n",
       "      <th>first_country_ZA</th>\n",
       "    </tr>\n",
       "  </thead>\n",
       "  <tbody>\n",
       "    <tr>\n",
       "      <th>2</th>\n",
       "      <td>2013</td>\n",
       "      <td>2019</td>\n",
       "      <td>18</td>\n",
       "      <td>0</td>\n",
       "      <td>60</td>\n",
       "      <td>91</td>\n",
       "      <td>7</td>\n",
       "      <td>20.4</td>\n",
       "      <td>3.7</td>\n",
       "      <td>5.32</td>\n",
       "      <td>...</td>\n",
       "      <td>0</td>\n",
       "      <td>0</td>\n",
       "      <td>0</td>\n",
       "      <td>0</td>\n",
       "      <td>0</td>\n",
       "      <td>0</td>\n",
       "      <td>0</td>\n",
       "      <td>1</td>\n",
       "      <td>0</td>\n",
       "      <td>0</td>\n",
       "    </tr>\n",
       "    <tr>\n",
       "      <th>32</th>\n",
       "      <td>2019</td>\n",
       "      <td>2020</td>\n",
       "      <td>18</td>\n",
       "      <td>0</td>\n",
       "      <td>25</td>\n",
       "      <td>20</td>\n",
       "      <td>2</td>\n",
       "      <td>44.4</td>\n",
       "      <td>1.0</td>\n",
       "      <td>4.29</td>\n",
       "      <td>...</td>\n",
       "      <td>0</td>\n",
       "      <td>0</td>\n",
       "      <td>0</td>\n",
       "      <td>0</td>\n",
       "      <td>0</td>\n",
       "      <td>0</td>\n",
       "      <td>0</td>\n",
       "      <td>1</td>\n",
       "      <td>0</td>\n",
       "      <td>0</td>\n",
       "    </tr>\n",
       "    <tr>\n",
       "      <th>36</th>\n",
       "      <td>2019</td>\n",
       "      <td>2019</td>\n",
       "      <td>14</td>\n",
       "      <td>0</td>\n",
       "      <td>65</td>\n",
       "      <td>8</td>\n",
       "      <td>1</td>\n",
       "      <td>16.6</td>\n",
       "      <td>8.7</td>\n",
       "      <td>4.17</td>\n",
       "      <td>...</td>\n",
       "      <td>0</td>\n",
       "      <td>0</td>\n",
       "      <td>0</td>\n",
       "      <td>0</td>\n",
       "      <td>0</td>\n",
       "      <td>0</td>\n",
       "      <td>0</td>\n",
       "      <td>1</td>\n",
       "      <td>0</td>\n",
       "      <td>0</td>\n",
       "    </tr>\n",
       "    <tr>\n",
       "      <th>53</th>\n",
       "      <td>2021</td>\n",
       "      <td>2021</td>\n",
       "      <td>13</td>\n",
       "      <td>0</td>\n",
       "      <td>35</td>\n",
       "      <td>10</td>\n",
       "      <td>1</td>\n",
       "      <td>7.6</td>\n",
       "      <td>1.4</td>\n",
       "      <td>3.45</td>\n",
       "      <td>...</td>\n",
       "      <td>0</td>\n",
       "      <td>0</td>\n",
       "      <td>0</td>\n",
       "      <td>0</td>\n",
       "      <td>0</td>\n",
       "      <td>0</td>\n",
       "      <td>0</td>\n",
       "      <td>0</td>\n",
       "      <td>0</td>\n",
       "      <td>0</td>\n",
       "    </tr>\n",
       "    <tr>\n",
       "      <th>58</th>\n",
       "      <td>2015</td>\n",
       "      <td>2015</td>\n",
       "      <td>7</td>\n",
       "      <td>0</td>\n",
       "      <td>21</td>\n",
       "      <td>21</td>\n",
       "      <td>2</td>\n",
       "      <td>16.2</td>\n",
       "      <td>1.8</td>\n",
       "      <td>2.82</td>\n",
       "      <td>...</td>\n",
       "      <td>0</td>\n",
       "      <td>0</td>\n",
       "      <td>0</td>\n",
       "      <td>0</td>\n",
       "      <td>0</td>\n",
       "      <td>0</td>\n",
       "      <td>0</td>\n",
       "      <td>1</td>\n",
       "      <td>0</td>\n",
       "      <td>0</td>\n",
       "    </tr>\n",
       "  </tbody>\n",
       "</table>\n",
       "<p>5 rows × 127 columns</p>\n",
       "</div>"
      ],
      "text/plain": [
       "    startYear  endYear  Age  creator/actor?  ep_run_times  no_of_ep  \\\n",
       "2        2013     2019   18               0            60        91   \n",
       "32       2019     2020   18               0            25        20   \n",
       "36       2019     2019   14               0            65         8   \n",
       "53       2021     2021   13               0            35        10   \n",
       "58       2015     2015    7               0            21        21   \n",
       "\n",
       "    no_of_seasons  cast_pop  team_popularity  total_popularity  ...  \\\n",
       "2               7      20.4              3.7              5.32  ...   \n",
       "32              2      44.4              1.0              4.29  ...   \n",
       "36              1      16.6              8.7              4.17  ...   \n",
       "53              1       7.6              1.4              3.45  ...   \n",
       "58              2      16.2              1.8              2.82  ...   \n",
       "\n",
       "    first_country_PT  first_country_SA  first_country_SE  first_country_SG  \\\n",
       "2                  0                 0                 0                 0   \n",
       "32                 0                 0                 0                 0   \n",
       "36                 0                 0                 0                 0   \n",
       "53                 0                 0                 0                 0   \n",
       "58                 0                 0                 0                 0   \n",
       "\n",
       "    first_country_TH  first_country_TR  first_country_TW  first_country_US  \\\n",
       "2                  0                 0                 0                 1   \n",
       "32                 0                 0                 0                 1   \n",
       "36                 0                 0                 0                 1   \n",
       "53                 0                 0                 0                 0   \n",
       "58                 0                 0                 0                 1   \n",
       "\n",
       "    first_country_VN  first_country_ZA  \n",
       "2                  0                 0  \n",
       "32                 0                 0  \n",
       "36                 0                 0  \n",
       "53                 0                 0  \n",
       "58                 0                 0  \n",
       "\n",
       "[5 rows x 127 columns]"
      ]
     },
     "execution_count": 1605,
     "metadata": {},
     "output_type": "execute_result"
    }
   ],
   "source": [
    "comedy_df = new_df[new_df['genre_1_Comedy'] == 1]\n",
    "#making sure the comedy don't overlap with fantasy genre\n",
    "comedy_df = comedy_df[comedy_df['genre_2_Fantasy'] == 0]\n",
    "comedy_df.head()\n"
   ]
  },
  {
   "cell_type": "markdown",
   "id": "4e3eea55",
   "metadata": {},
   "source": [
    "For Fantasy, we use 2nd genre since Fantasy appears as a second genre on the dataset"
   ]
  },
  {
   "cell_type": "code",
   "execution_count": 1606,
   "id": "3dd942ce",
   "metadata": {},
   "outputs": [
    {
     "data": {
      "text/html": [
       "<div>\n",
       "<style scoped>\n",
       "    .dataframe tbody tr th:only-of-type {\n",
       "        vertical-align: middle;\n",
       "    }\n",
       "\n",
       "    .dataframe tbody tr th {\n",
       "        vertical-align: top;\n",
       "    }\n",
       "\n",
       "    .dataframe thead th {\n",
       "        text-align: right;\n",
       "    }\n",
       "</style>\n",
       "<table border=\"1\" class=\"dataframe\">\n",
       "  <thead>\n",
       "    <tr style=\"text-align: right;\">\n",
       "      <th></th>\n",
       "      <th>startYear</th>\n",
       "      <th>endYear</th>\n",
       "      <th>Age</th>\n",
       "      <th>creator/actor?</th>\n",
       "      <th>ep_run_times</th>\n",
       "      <th>no_of_ep</th>\n",
       "      <th>no_of_seasons</th>\n",
       "      <th>cast_pop</th>\n",
       "      <th>team_popularity</th>\n",
       "      <th>total_popularity</th>\n",
       "      <th>...</th>\n",
       "      <th>first_country_PT</th>\n",
       "      <th>first_country_SA</th>\n",
       "      <th>first_country_SE</th>\n",
       "      <th>first_country_SG</th>\n",
       "      <th>first_country_TH</th>\n",
       "      <th>first_country_TR</th>\n",
       "      <th>first_country_TW</th>\n",
       "      <th>first_country_US</th>\n",
       "      <th>first_country_VN</th>\n",
       "      <th>first_country_ZA</th>\n",
       "    </tr>\n",
       "  </thead>\n",
       "  <tbody>\n",
       "    <tr>\n",
       "      <th>1</th>\n",
       "      <td>2013</td>\n",
       "      <td>2015</td>\n",
       "      <td>18</td>\n",
       "      <td>0</td>\n",
       "      <td>60</td>\n",
       "      <td>33</td>\n",
       "      <td>3</td>\n",
       "      <td>38.4</td>\n",
       "      <td>2.4</td>\n",
       "      <td>4.58</td>\n",
       "      <td>...</td>\n",
       "      <td>0</td>\n",
       "      <td>0</td>\n",
       "      <td>0</td>\n",
       "      <td>0</td>\n",
       "      <td>0</td>\n",
       "      <td>0</td>\n",
       "      <td>0</td>\n",
       "      <td>1</td>\n",
       "      <td>0</td>\n",
       "      <td>0</td>\n",
       "    </tr>\n",
       "    <tr>\n",
       "      <th>11</th>\n",
       "      <td>2016</td>\n",
       "      <td>2019</td>\n",
       "      <td>18</td>\n",
       "      <td>0</td>\n",
       "      <td>60</td>\n",
       "      <td>16</td>\n",
       "      <td>2</td>\n",
       "      <td>38.2</td>\n",
       "      <td>5.2</td>\n",
       "      <td>5.01</td>\n",
       "      <td>...</td>\n",
       "      <td>0</td>\n",
       "      <td>0</td>\n",
       "      <td>0</td>\n",
       "      <td>0</td>\n",
       "      <td>0</td>\n",
       "      <td>0</td>\n",
       "      <td>0</td>\n",
       "      <td>1</td>\n",
       "      <td>0</td>\n",
       "      <td>0</td>\n",
       "    </tr>\n",
       "    <tr>\n",
       "      <th>25</th>\n",
       "      <td>2018</td>\n",
       "      <td>2020</td>\n",
       "      <td>14</td>\n",
       "      <td>0</td>\n",
       "      <td>60</td>\n",
       "      <td>36</td>\n",
       "      <td>2</td>\n",
       "      <td>32.7</td>\n",
       "      <td>2.3</td>\n",
       "      <td>4.88</td>\n",
       "      <td>...</td>\n",
       "      <td>0</td>\n",
       "      <td>0</td>\n",
       "      <td>0</td>\n",
       "      <td>0</td>\n",
       "      <td>0</td>\n",
       "      <td>0</td>\n",
       "      <td>0</td>\n",
       "      <td>1</td>\n",
       "      <td>0</td>\n",
       "      <td>0</td>\n",
       "    </tr>\n",
       "    <tr>\n",
       "      <th>28</th>\n",
       "      <td>2019</td>\n",
       "      <td>2020</td>\n",
       "      <td>18</td>\n",
       "      <td>0</td>\n",
       "      <td>50</td>\n",
       "      <td>20</td>\n",
       "      <td>2</td>\n",
       "      <td>20.1</td>\n",
       "      <td>3.9</td>\n",
       "      <td>4.38</td>\n",
       "      <td>...</td>\n",
       "      <td>0</td>\n",
       "      <td>0</td>\n",
       "      <td>0</td>\n",
       "      <td>0</td>\n",
       "      <td>0</td>\n",
       "      <td>0</td>\n",
       "      <td>0</td>\n",
       "      <td>1</td>\n",
       "      <td>0</td>\n",
       "      <td>0</td>\n",
       "    </tr>\n",
       "    <tr>\n",
       "      <th>29</th>\n",
       "      <td>2019</td>\n",
       "      <td>2019</td>\n",
       "      <td>18</td>\n",
       "      <td>0</td>\n",
       "      <td>60</td>\n",
       "      <td>10</td>\n",
       "      <td>1</td>\n",
       "      <td>6.6</td>\n",
       "      <td>2.2</td>\n",
       "      <td>4.09</td>\n",
       "      <td>...</td>\n",
       "      <td>0</td>\n",
       "      <td>0</td>\n",
       "      <td>0</td>\n",
       "      <td>0</td>\n",
       "      <td>0</td>\n",
       "      <td>0</td>\n",
       "      <td>0</td>\n",
       "      <td>1</td>\n",
       "      <td>0</td>\n",
       "      <td>0</td>\n",
       "    </tr>\n",
       "  </tbody>\n",
       "</table>\n",
       "<p>5 rows × 127 columns</p>\n",
       "</div>"
      ],
      "text/plain": [
       "    startYear  endYear  Age  creator/actor?  ep_run_times  no_of_ep  \\\n",
       "1        2013     2015   18               0            60        33   \n",
       "11       2016     2019   18               0            60        16   \n",
       "25       2018     2020   14               0            60        36   \n",
       "28       2019     2020   18               0            50        20   \n",
       "29       2019     2019   18               0            60        10   \n",
       "\n",
       "    no_of_seasons  cast_pop  team_popularity  total_popularity  ...  \\\n",
       "1               3      38.4              2.4              4.58  ...   \n",
       "11              2      38.2              5.2              5.01  ...   \n",
       "25              2      32.7              2.3              4.88  ...   \n",
       "28              2      20.1              3.9              4.38  ...   \n",
       "29              1       6.6              2.2              4.09  ...   \n",
       "\n",
       "    first_country_PT  first_country_SA  first_country_SE  first_country_SG  \\\n",
       "1                  0                 0                 0                 0   \n",
       "11                 0                 0                 0                 0   \n",
       "25                 0                 0                 0                 0   \n",
       "28                 0                 0                 0                 0   \n",
       "29                 0                 0                 0                 0   \n",
       "\n",
       "    first_country_TH  first_country_TR  first_country_TW  first_country_US  \\\n",
       "1                  0                 0                 0                 1   \n",
       "11                 0                 0                 0                 1   \n",
       "25                 0                 0                 0                 1   \n",
       "28                 0                 0                 0                 1   \n",
       "29                 0                 0                 0                 1   \n",
       "\n",
       "    first_country_VN  first_country_ZA  \n",
       "1                  0                 0  \n",
       "11                 0                 0  \n",
       "25                 0                 0  \n",
       "28                 0                 0  \n",
       "29                 0                 0  \n",
       "\n",
       "[5 rows x 127 columns]"
      ]
     },
     "execution_count": 1606,
     "metadata": {},
     "output_type": "execute_result"
    }
   ],
   "source": [
    "fan_df = new_df[new_df['genre_2_Fantasy'] == 1]\n",
    "fan_df.head()"
   ]
  },
  {
   "cell_type": "code",
   "execution_count": 1607,
   "id": "2e1acaf0",
   "metadata": {},
   "outputs": [],
   "source": [
    "crime_X_train, crime_X_test, crime_y_train, crime_y_test = train_test_split(crime_df.drop(columns = 'total_popularity'),\n",
    "                                                                            crime_df.total_popularity, \n",
    "                                                 test_size=0.25, \n",
    "                                                    random_state=47)\n",
    "\n",
    "act_X_train, act_X_test, act_y_train, act_y_test = train_test_split(act_df.drop(columns = 'total_popularity'),act_df.total_popularity, \n",
    "                                                 test_size=0.25, \n",
    "                                                    random_state=47)\n",
    "\n",
    "drama_X_train, drama_X_test, drama_y_train, drama_y_test = train_test_split(drama_df.drop(columns = 'total_popularity'),drama_df.total_popularity, \n",
    "                                                 test_size=0.25, \n",
    "                                                    random_state=47)\n",
    "\n",
    "bio_X_train, bio_X_test, bio_y_train, bio_y_test = train_test_split(bio_df.drop(columns = 'total_popularity'),bio_df.total_popularity, \n",
    "                                                 test_size=0.25, \n",
    "                                                    random_state=47)\n",
    "\n",
    "\n",
    "comedy_X_train, comedy_X_test, comedy_y_train, comedy_y_test = train_test_split(comedy_df.drop(columns = 'total_popularity'),comedy_df.total_popularity, \n",
    "                                                 test_size=0.25, \n",
    "                                                    random_state=47)\n",
    "\n",
    "fan_X_train, fan_X_test, fan_y_train, fan_y_test = train_test_split(fan_df.drop(columns = 'total_popularity'),fan_df.total_popularity, \n",
    "                                                 test_size=0.25, \n",
    "                                                    random_state=47)"
   ]
  },
  {
   "cell_type": "markdown",
   "id": "e974b5dc",
   "metadata": {},
   "source": [
    "## 4.10.1 Crime <a id= '4.10.1_Crime' ><a>"
   ]
  },
  {
   "cell_type": "markdown",
   "id": "d6aaddfd",
   "metadata": {},
   "source": [
    "XGBOOST REGRESSION:"
   ]
  },
  {
   "cell_type": "code",
   "execution_count": 1608,
   "id": "5ccd634f",
   "metadata": {},
   "outputs": [
    {
     "data": {
      "text/plain": [
       "{'subsample': 0.9,\n",
       " 'n_estimators': 300,\n",
       " 'max_depth': 5,\n",
       " 'learning_rate': 0.01,\n",
       " 'colsample_bytree': 1.0}"
      ]
     },
     "execution_count": 1608,
     "metadata": {},
     "output_type": "execute_result"
    }
   ],
   "source": [
    "xgboost = xgb.XGBRegressor()\n",
    "crime_xgb = RandomizedSearchCV(xgboost, param_grid, scoring = 'neg_mean_absolute_percentage_error', cv=10)\n",
    "crime_xgb.fit(crime_X_train, crime_y_train)\n",
    "crime_xgb.best_params_"
   ]
  },
  {
   "cell_type": "code",
   "execution_count": 1611,
   "id": "085ac03c",
   "metadata": {},
   "outputs": [],
   "source": [
    "crime_xgboost = xgb.XGBRegressor(n_estimators = 300, colsample_bytee= 0.9,\n",
    "                               max_depth= 5, subsample = 0.9, learning_rate = 0.01)"
   ]
  },
  {
   "cell_type": "code",
   "execution_count": 1612,
   "id": "e036ee21",
   "metadata": {},
   "outputs": [
    {
     "name": "stderr",
     "output_type": "stream",
     "text": [
      "/Users/esrasaydam/opt/anaconda3/lib/python3.9/site-packages/xgboost/core.py:160: UserWarning: [19:03:00] WARNING: /Users/runner/work/xgboost/xgboost/src/learner.cc:742: \n",
      "Parameters: { \"colsample_bytee\" } are not used.\n",
      "\n",
      "  warnings.warn(smsg, UserWarning)\n"
     ]
    },
    {
     "name": "stdout",
     "output_type": "stream",
     "text": [
      "R-squared of Crime Genre - XGB: 0.53\n",
      "Adjusted R-squared Crime Genre - XGB: 1.22\n",
      "Crime - XGB Reg's MAPE % 9.31\n"
     ]
    }
   ],
   "source": [
    "#Make predictions\n",
    "crime_xgboost.fit(crime_X_train,crime_y_train)\n",
    "\n",
    "crime_xgb_pred = crime_xgboost.predict(crime_X_test)\n",
    "\n",
    "# Calculate the regular R-squared\n",
    "crime_xgb_r2 = r2_score(crime_y_test, crime_xgb_pred)\n",
    "\n",
    "# Get the number of observations (n) and predictors (k)\n",
    "n = crime_X_test.shape[0]\n",
    "k = crime_X_test.shape[1]\n",
    "\n",
    "# Calculate the adjusted R-squared\n",
    "crime_xgb_adjusted_r2 = 1 - ((1 - crime_xgb_r2) * (n - 1) / (n - k - 1))\n",
    "\n",
    "print(f'R-squared of Crime Genre - XGB: {round(crime_xgb_r2,2)}')\n",
    "print(f'Adjusted R-squared Crime Genre - XGB: {round(crime_xgb_adjusted_r2,2)}')\n",
    "\n",
    "crime_xgb_mape = mean_absolute_percentage_error(crime_y_test, crime_xgb_pred)\n",
    "print (\"Crime - XGB Reg's MAPE % {}\".format(round(crime_xgb_mape *100,2)))\n"
   ]
  },
  {
   "cell_type": "markdown",
   "id": "68a9ffe1",
   "metadata": {},
   "source": [
    "There is no improvement with Crime Dataset and xgb regressor."
   ]
  },
  {
   "cell_type": "markdown",
   "id": "2bbd42ce",
   "metadata": {},
   "source": [
    "RANDOM FOREST REGRESSION:"
   ]
  },
  {
   "cell_type": "code",
   "execution_count": 1613,
   "id": "958c1b16",
   "metadata": {},
   "outputs": [
    {
     "data": {
      "text/plain": [
       "{'n_estimators': 100,\n",
       " 'min_samples_split': 2,\n",
       " 'min_samples_leaf': 4,\n",
       " 'max_features': 'auto',\n",
       " 'max_depth': 50,\n",
       " 'bootstrap': True}"
      ]
     },
     "execution_count": 1613,
     "metadata": {},
     "output_type": "execute_result"
    }
   ],
   "source": [
    "random_tree = RandomForestRegressor()\n",
    "cr_random = RandomizedSearchCV(random_tree, param_grid2, scoring = 'neg_mean_absolute_percentage_error', cv=10)\n",
    "cr_random.fit(crime_X_train, crime_y_train)\n",
    "cr_random.best_params_"
   ]
  },
  {
   "cell_type": "code",
   "execution_count": 1614,
   "id": "c580401e",
   "metadata": {},
   "outputs": [
    {
     "data": {
      "text/plain": [
       "RandomForestRegressor(max_depth=50, min_samples_leaf=4)"
      ]
     },
     "execution_count": 1614,
     "metadata": {},
     "output_type": "execute_result"
    }
   ],
   "source": [
    "crime_random = RandomForestRegressor(n_estimators = 100, min_samples_split= 2,\n",
    "                               max_depth= 50, min_samples_leaf = 4, max_features = 'auto', bootstrap = True)\n",
    "crime_random.fit(crime_X_train, crime_y_train)"
   ]
  },
  {
   "cell_type": "code",
   "execution_count": 1615,
   "id": "e3c09d5a",
   "metadata": {},
   "outputs": [
    {
     "name": "stdout",
     "output_type": "stream",
     "text": [
      "R-squared of Crime Genre - Random Forest: 0.51\n",
      "Adjusted R-squared Crime Genre -Random Forest: 1.23\n",
      "Crime - Random Forest's Reg's MAPE % 9.44\n"
     ]
    }
   ],
   "source": [
    "#Make predictions\n",
    "\n",
    "crime_random_pred = crime_random.predict(crime_X_test)\n",
    "\n",
    "# Calculate the regular R-squared\n",
    "crime_random_r2 = r2_score(crime_y_test, crime_random_pred)\n",
    "\n",
    "# Get the number of observations (n) and predictors (k)\n",
    "n = crime_X_test.shape[0]\n",
    "k = crime_X_test.shape[1]\n",
    "\n",
    "# Calculate the adjusted R-squared\n",
    "crime_random_adjusted_r2 = 1 - ((1 - crime_random_r2) * (n - 1) / (n - k - 1))\n",
    "# Calculate MAPE\n",
    "crime_random_mape = mean_absolute_percentage_error(crime_y_test, crime_random_pred)\n",
    "\n",
    "print(f'R-squared of Crime Genre - Random Forest: {round(crime_random_r2,2)}')\n",
    "print(f'Adjusted R-squared Crime Genre -Random Forest: {round(crime_random_adjusted_r2,2)}')\n",
    "print (\"Crime - Random Forest's Reg's MAPE % {}\".format(round(crime_random_mape *100,2)))"
   ]
  },
  {
   "cell_type": "markdown",
   "id": "ccb47661",
   "metadata": {},
   "source": [
    "PLOTTING THE RESULTS:"
   ]
  },
  {
   "cell_type": "code",
   "execution_count": 1616,
   "id": "93b5be86",
   "metadata": {},
   "outputs": [
    {
     "data": {
      "image/png": "[encoded data removed]",
      "text/plain": [
       "<Figure size 720x360 with 1 Axes>"
      ]
     },
     "metadata": {
      "needs_background": "light"
     },
     "output_type": "display_data"
    }
   ],
   "source": [
    "plt.figure(figsize=(10, 5))\n",
    "\n",
    "plt.scatter(crime_y_test, crime_xgb_pred, color='blue', label='XGB', alpha = 0.4)\n",
    "plt.scatter(crime_y_test, crime_random_pred, color='green', label='Random Forest', alpha = 0.4)\n",
    "# The 45-degree red line\n",
    "plt.plot([min(crime_y_test), max(crime_y_test)], [min(crime_y_test), max(crime_y_test)], linestyle='--', color='red', linewidth=2, label='45-Degree Line')\n",
    "\n",
    "# Labels\n",
    "plt.title('Actual vs Predicted Popularity of the Crime Shows')\n",
    "plt.xlabel('Actual Popularity')\n",
    "plt.ylabel('Predicted Popularity')\n",
    "\n",
    "plt.legend()\n",
    "\n",
    "plt.show()"
   ]
  },
  {
   "cell_type": "markdown",
   "id": "5aa5f70c",
   "metadata": {},
   "source": [
    "Histogram of Distribution of the Residuals:"
   ]
  },
  {
   "cell_type": "code",
   "execution_count": 1617,
   "id": "d4f813d4",
   "metadata": {},
   "outputs": [
    {
     "data": {
      "image/png": "[encoded data removed]",
      "text/plain": [
       "<Figure size 720x360 with 1 Axes>"
      ]
     },
     "metadata": {
      "needs_background": "light"
     },
     "output_type": "display_data"
    }
   ],
   "source": [
    "crime_xgb_residuals = np.array(crime_y_test) - np.array(crime_xgb_pred)\n",
    "crime_random_residuals = np.array(crime_y_test) - np.array(crime_random_pred)\n",
    "\n",
    "\n",
    "# Create a histogram of residuals\n",
    "plt.figure(figsize=(10, 5))\n",
    "\n",
    "ax1 = plt.hist(crime_xgb_residuals, bins=30, color='blue',alpha=0.5, rwidth=0.85, label = 'XGB' )\n",
    "\n",
    "# Create a histogram of residuals\n",
    "ax2 = plt.hist(crime_random_residuals, bins=30, color='green',alpha=0.5, rwidth=0.85, label = 'Random Forest' )\n",
    "\n",
    "\n",
    "# Set labels and title\n",
    "plt.title('Distribution of Residuals for Crime TV Shows')\n",
    "plt.xlabel('Residuals')\n",
    "plt.ylabel('Frequency')\n",
    "plt.legend()\n",
    "# Show the plot\n",
    "plt.show()"
   ]
  },
  {
   "cell_type": "markdown",
   "id": "f924bec5",
   "metadata": {},
   "source": [
    "The MAPE for crime genre is higher than the general MAPE."
   ]
  },
  {
   "cell_type": "markdown",
   "id": "61798e8b",
   "metadata": {},
   "source": [
    "## 4.10.2 Biography <a id= '4.10.2_Biography'><a>"
   ]
  },
  {
   "cell_type": "markdown",
   "id": "919aad8e",
   "metadata": {},
   "source": [
    "XGB REGRESSION:"
   ]
  },
  {
   "cell_type": "code",
   "execution_count": 1618,
   "id": "b6692749",
   "metadata": {},
   "outputs": [
    {
     "data": {
      "text/plain": [
       "{'subsample': 0.8,\n",
       " 'n_estimators': 300,\n",
       " 'max_depth': 4,\n",
       " 'learning_rate': 0.2,\n",
       " 'colsample_bytree': 0.9}"
      ]
     },
     "execution_count": 1618,
     "metadata": {},
     "output_type": "execute_result"
    }
   ],
   "source": [
    "b_xgb = RandomizedSearchCV(xgboost, param_grid, scoring = 'neg_mean_absolute_percentage_error', cv=10)\n",
    "b_xgb.fit(bio_X_train, bio_y_train)\n",
    "b_xgb.best_params_"
   ]
  },
  {
   "cell_type": "code",
   "execution_count": 1619,
   "id": "b0150883",
   "metadata": {},
   "outputs": [
    {
     "data": {
      "text/plain": [
       "XGBRegressor(base_score=None, booster=None, callbacks=None,\n",
       "             colsample_bylevel=None, colsample_bynode=None,\n",
       "             colsample_bytree=0.9, device=None, early_stopping_rounds=None,\n",
       "             enable_categorical=False, eval_metric=None, feature_types=None,\n",
       "             gamma=None, grow_policy=None, importance_type=None,\n",
       "             interaction_constraints=None, learning_rate=0.2, max_bin=None,\n",
       "             max_cat_threshold=None, max_cat_to_onehot=None,\n",
       "             max_delta_step=None, max_depth=4, max_leaves=None,\n",
       "             min_child_weight=None, missing=nan, monotone_constraints=None,\n",
       "             multi_strategy=None, n_estimators=300, n_jobs=None,\n",
       "             num_parallel_tree=None, random_state=None, ...)"
      ]
     },
     "execution_count": 1619,
     "metadata": {},
     "output_type": "execute_result"
    }
   ],
   "source": [
    "bio_xgb = xgb.XGBRegressor(subsample= 0.8, n_estimators= 300, max_depth= 4,learning_rate= 0.2,\n",
    "                                 colsample_bytree= 0.9)\n",
    "bio_xgb.fit(bio_X_train,bio_y_train)"
   ]
  },
  {
   "cell_type": "code",
   "execution_count": 1620,
   "id": "69e9b1d8",
   "metadata": {},
   "outputs": [
    {
     "name": "stdout",
     "output_type": "stream",
     "text": [
      "R-squared of Bio Genre - XGB: -0.06\n",
      "Adjusted R-squared Bio Genre - XGB: 1.1\n",
      "Bio - XGB Reg's MAPE % 8.85\n"
     ]
    }
   ],
   "source": [
    "#Make predictions\n",
    "bio_xgb_pred = bio_xgb.predict(bio_X_test)\n",
    "\n",
    "# Calculate the regular R-squared\n",
    "bio_xgb_r2 = r2_score(bio_y_test, bio_xgb_pred)\n",
    "\n",
    "# Get the number of observations (n) and predictors (k)\n",
    "n = bio_X_test.shape[0]\n",
    "k = bio_X_test.shape[1]\n",
    "\n",
    "# Calculate the adjusted R-squared\n",
    "bio_xgb_adjusted_r2 = 1 - ((1 - bio_xgb_r2) * (n - 1) / (n - k - 1))\n",
    "bio_xgb_mape = mean_absolute_percentage_error(bio_y_test, bio_xgb_pred)\n",
    "print(f'R-squared of Bio Genre - XGB: {round(bio_xgb_r2,2)}')\n",
    "print(f'Adjusted R-squared Bio Genre - XGB: {round(bio_xgb_adjusted_r2,2)}')\n",
    "print (\"Bio - XGB Reg's MAPE % {}\".format(round(bio_xgb_mape *100,2)))\n"
   ]
  },
  {
   "cell_type": "markdown",
   "id": "212e08bd",
   "metadata": {},
   "source": [
    "RANDOM FOREST REGRESSION:"
   ]
  },
  {
   "cell_type": "markdown",
   "id": "b4629c82",
   "metadata": {},
   "source": [
    "Hyperparameter Tuning:"
   ]
  },
  {
   "cell_type": "code",
   "execution_count": 1621,
   "id": "c1f4d35a",
   "metadata": {},
   "outputs": [
    {
     "data": {
      "text/plain": [
       "{'n_estimators': 100,\n",
       " 'min_samples_split': 6,\n",
       " 'min_samples_leaf': 4,\n",
       " 'max_features': 'auto',\n",
       " 'max_depth': 70,\n",
       " 'bootstrap': True}"
      ]
     },
     "execution_count": 1621,
     "metadata": {},
     "output_type": "execute_result"
    }
   ],
   "source": [
    "# Calculating best hyperparameters\n",
    "b_random = RandomizedSearchCV(random_tree, param_grid2, scoring = 'neg_mean_absolute_percentage_error', cv=10)\n",
    "b_random.fit(bio_X_train, bio_y_train)\n",
    "b_random.best_params_"
   ]
  },
  {
   "cell_type": "code",
   "execution_count": 1622,
   "id": "1cada4fa",
   "metadata": {},
   "outputs": [
    {
     "data": {
      "text/plain": [
       "RandomForestRegressor(max_depth=70, min_samples_leaf=4, min_samples_split=6)"
      ]
     },
     "execution_count": 1622,
     "metadata": {},
     "output_type": "execute_result"
    }
   ],
   "source": [
    "bio_random = RandomForestRegressor(n_estimators= 100, max_depth= 70, min_samples_leaf = 4,\n",
    "                                   max_features= 'auto', min_samples_split = 6, bootstrap = True)\n",
    "# fitting\n",
    "bio_random.fit(bio_X_train,bio_y_train)\n"
   ]
  },
  {
   "cell_type": "code",
   "execution_count": 1623,
   "id": "b8689bbb",
   "metadata": {},
   "outputs": [
    {
     "name": "stdout",
     "output_type": "stream",
     "text": [
      "R-squared of Bio Genre - Random Forest: 0.36\n",
      "Adjusted R-squared Bio Genre - Random Forest: 1.06\n",
      "Bio - Random Forest Reg's MAPE % 6.57\n"
     ]
    }
   ],
   "source": [
    "# prediction\n",
    "bio_random_pred = bio_random.predict(bio_X_test)\n",
    "\n",
    "\n",
    "# Calculate the regular R-squared\n",
    "bio_random_r2 = r2_score(bio_y_test, bio_random_pred)\n",
    "\n",
    "# Get the number of observations (n) and predictors (k)\n",
    "n = bio_X_test.shape[0]\n",
    "k = bio_X_test.shape[1]\n",
    "\n",
    "# Calculate the adjusted R-squared\n",
    "bio_random_adjusted_r2 = 1 - ((1 - bio_random_r2) * (n - 1) / (n - k - 1))\n",
    "\n",
    "# Calculate MAPE\n",
    "bio_random_mape = mean_absolute_percentage_error(bio_y_test, bio_random_pred)\n",
    "\n",
    "print(f'R-squared of Bio Genre - Random Forest: {round(bio_random_r2,2)}')\n",
    "print(f'Adjusted R-squared Bio Genre - Random Forest: {round(bio_random_adjusted_r2,2)}')\n",
    "print (\"Bio - Random Forest Reg's MAPE % {}\".format(round(bio_random_mape *100,2)))\n",
    "\n"
   ]
  },
  {
   "cell_type": "markdown",
   "id": "70dd2d76",
   "metadata": {},
   "source": [
    "The predictability of Bio Genres are better."
   ]
  },
  {
   "cell_type": "markdown",
   "id": "c384d316",
   "metadata": {},
   "source": [
    "PLOTTING THE RESULTS:"
   ]
  },
  {
   "cell_type": "code",
   "execution_count": 1624,
   "id": "f2fd3267",
   "metadata": {},
   "outputs": [
    {
     "data": {
      "image/png": "[encoded data removed]",
      "text/plain": [
       "<Figure size 720x360 with 1 Axes>"
      ]
     },
     "metadata": {
      "needs_background": "light"
     },
     "output_type": "display_data"
    }
   ],
   "source": [
    "# Scatterplotting the two models for Biography Shows\n",
    "plt.figure(figsize=(10, 5))\n",
    "\n",
    "plt.scatter(bio_y_test, bio_xgb_pred, color='blue', label='XGB', alpha = 0.4)\n",
    "plt.scatter(bio_y_test, bio_random_pred, color='green', label='Random Forest', alpha = 0.4)\n",
    "# The 45-degree red line\n",
    "plt.plot([min(bio_y_test), max(bio_y_test)], [min(bio_y_test), max(bio_y_test)], linestyle='--', color='red', linewidth=2, label='45-Degree Line')\n",
    "\n",
    "# Labels\n",
    "plt.title('Actual vs Predicted Popularity of the Biography Shows')\n",
    "plt.xlabel('Actual Popularity')\n",
    "plt.ylabel('Predicted Popularity')\n",
    "\n",
    "plt.legend()\n",
    "\n",
    "plt.show()"
   ]
  },
  {
   "cell_type": "code",
   "execution_count": 1625,
   "id": "d76fe68b",
   "metadata": {},
   "outputs": [
    {
     "data": {
      "image/png": "[encoded data removed]",
      "text/plain": [
       "<Figure size 720x360 with 1 Axes>"
      ]
     },
     "metadata": {
      "needs_background": "light"
     },
     "output_type": "display_data"
    }
   ],
   "source": [
    "bio_xgb_residuals = np.array(bio_y_test) - np.array(bio_xgb_pred)\n",
    "bio_random_residuals = np.array(bio_y_test) - np.array(bio_random_pred)\n",
    "\n",
    "\n",
    "# Create a histogram of residuals\n",
    "plt.figure(figsize=(10, 5))\n",
    "\n",
    "ax1 = plt.hist(bio_xgb_residuals, bins=30, color='blue',alpha=0.5, rwidth=0.85, label = 'XGB' )\n",
    "\n",
    "# Create a histogram of residuals\n",
    "ax2 = plt.hist(bio_random_residuals, bins=30, color='green',alpha=0.5, rwidth=0.85, label = 'Random Forest' )\n",
    "\n",
    "\n",
    "# Set labels and title\n",
    "plt.title('Distribution of Residuals for Biography TV Shows')\n",
    "plt.xlabel('Residuals')\n",
    "plt.ylabel('Frequency')\n",
    "plt.legend()\n",
    "# Show the plot\n",
    "plt.show()"
   ]
  },
  {
   "cell_type": "markdown",
   "id": "225c398b",
   "metadata": {},
   "source": [
    "There are not many biography shows to make a good prediction although the MAPE has a satisfactory score."
   ]
  },
  {
   "cell_type": "markdown",
   "id": "d4d94cc6",
   "metadata": {},
   "source": [
    "## 4.10.3 Action <a id= '4.10.3_Action'><a>"
   ]
  },
  {
   "cell_type": "markdown",
   "id": "01a96cab",
   "metadata": {},
   "source": [
    "XGB REGRESSION:"
   ]
  },
  {
   "cell_type": "code",
   "execution_count": 1626,
   "id": "8358ff6e",
   "metadata": {},
   "outputs": [
    {
     "data": {
      "text/plain": [
       "{'subsample': 0.9,\n",
       " 'n_estimators': 100,\n",
       " 'max_depth': 3,\n",
       " 'learning_rate': 0.1,\n",
       " 'colsample_bytree': 0.9}"
      ]
     },
     "execution_count": 1626,
     "metadata": {},
     "output_type": "execute_result"
    }
   ],
   "source": [
    "# Calculating best hyperparameters\n",
    "a_xgb = RandomizedSearchCV(xgboost, param_grid, scoring = 'neg_mean_absolute_percentage_error', cv=10)\n",
    "a_xgb.fit(act_X_train, act_y_train)\n",
    "a_xgb.best_params_"
   ]
  },
  {
   "cell_type": "code",
   "execution_count": 1627,
   "id": "58ae3837",
   "metadata": {},
   "outputs": [
    {
     "data": {
      "text/plain": [
       "XGBRegressor(base_score=None, booster=None, callbacks=None,\n",
       "             colsample_bylevel=None, colsample_bynode=None,\n",
       "             colsample_bytree=0.9, device=None, early_stopping_rounds=None,\n",
       "             enable_categorical=False, eval_metric=None, feature_types=None,\n",
       "             gamma=None, grow_policy=None, importance_type=None,\n",
       "             interaction_constraints=None, learning_rate=0.1, max_bin=None,\n",
       "             max_cat_threshold=None, max_cat_to_onehot=None,\n",
       "             max_delta_step=None, max_depth=3, max_leaves=None,\n",
       "             min_child_weight=None, missing=nan, monotone_constraints=None,\n",
       "             multi_strategy=None, n_estimators=100, n_jobs=None,\n",
       "             num_parallel_tree=None, random_state=None, ...)"
      ]
     },
     "execution_count": 1627,
     "metadata": {},
     "output_type": "execute_result"
    }
   ],
   "source": [
    "act_xgb = xgb.XGBRegressor(subsample= 0.9, n_estimators= 100, max_depth= 3,learning_rate= 0.1,\n",
    "                                 colsample_bytree= 0.9)\n",
    "act_xgb.fit(act_X_train, act_y_train)"
   ]
  },
  {
   "cell_type": "code",
   "execution_count": 1628,
   "id": "0909dd06",
   "metadata": {},
   "outputs": [
    {
     "name": "stdout",
     "output_type": "stream",
     "text": [
      "R-squared of Action Genre - XGB: 0.37\n",
      "Adjusted R-squared Action Genre - XGB: 1.35\n",
      "Action - XGB Reg's MAPE % 8.57\n"
     ]
    }
   ],
   "source": [
    "#Make predictions\n",
    "\n",
    "act_xgb_pred = act_xgb.predict(act_X_test)\n",
    "\n",
    "# Calculate the regular R-squared\n",
    "act_xgb_r2 = r2_score(act_y_test, act_xgb_pred)\n",
    "\n",
    "# Get the number of observations (n) and predictors (k)\n",
    "n = act_X_test.shape[0]\n",
    "k = act_X_test.shape[1]\n",
    "\n",
    "# Calculate the adjusted R-squared\n",
    "act_xgb_adjusted_r2 = 1 - ((1 - act_xgb_r2) * (n - 1) / (n - k - 1))\n",
    "act_xgb_mape = mean_absolute_percentage_error(act_y_test, act_xgb_pred)\n",
    "print(f'R-squared of Action Genre - XGB: {round(act_xgb_r2,2)}')\n",
    "print(f'Adjusted R-squared Action Genre - XGB: {round(act_xgb_adjusted_r2,2)}')\n",
    "print (\"Action - XGB Reg's MAPE % {}\".format(round(act_xgb_mape *100,2)))"
   ]
  },
  {
   "cell_type": "markdown",
   "id": "2cb2785a",
   "metadata": {},
   "source": [
    "RANDOM FOREST REGRESSION:"
   ]
  },
  {
   "cell_type": "code",
   "execution_count": 1629,
   "id": "d4cb4f6d",
   "metadata": {},
   "outputs": [
    {
     "data": {
      "text/plain": [
       "{'n_estimators': 50,\n",
       " 'min_samples_split': 2,\n",
       " 'min_samples_leaf': 1,\n",
       " 'max_features': 'sqrt',\n",
       " 'max_depth': 20,\n",
       " 'bootstrap': False}"
      ]
     },
     "execution_count": 1629,
     "metadata": {},
     "output_type": "execute_result"
    }
   ],
   "source": [
    "# Calculating best hyperparameters\n",
    "a_random = RandomizedSearchCV(random_tree, param_grid2, scoring = 'neg_mean_absolute_percentage_error', cv=10)\n",
    "a_random.fit(act_X_train, act_y_train)\n",
    "a_random.best_params_"
   ]
  },
  {
   "cell_type": "code",
   "execution_count": 1630,
   "id": "6ae5171b",
   "metadata": {},
   "outputs": [
    {
     "data": {
      "text/plain": [
       "RandomForestRegressor(bootstrap=False, max_depth=20, max_features='sqrt',\n",
       "                      n_estimators=50)"
      ]
     },
     "execution_count": 1630,
     "metadata": {},
     "output_type": "execute_result"
    }
   ],
   "source": [
    "# Hyperparameter Tuning\n",
    "act_random = RandomForestRegressor(n_estimators= 50, max_depth= 20, min_samples_leaf = 1,\n",
    "                                   max_features= 'sqrt', min_samples_split = 2, bootstrap = False)\n",
    "# fitting\n",
    "act_random.fit(act_X_train, act_y_train)"
   ]
  },
  {
   "cell_type": "code",
   "execution_count": 1631,
   "id": "eb8662c7",
   "metadata": {},
   "outputs": [
    {
     "name": "stdout",
     "output_type": "stream",
     "text": [
      "R-squared of Action Genre - Random Forest: 0.36\n",
      "Adjusted R-squared Action Genre - Random Forest: 1.36\n",
      "Action - Random Forest Reg's MAPE % 8.75\n"
     ]
    }
   ],
   "source": [
    "# prediction\n",
    "act_random_pred = act_random.predict(act_X_test)\n",
    "\n",
    "\n",
    "# Calculate the regular R-squared\n",
    "act_random_r2 = r2_score(act_y_test, act_random_pred)\n",
    "\n",
    "# Get the number of observations (n) and predictors (k)\n",
    "n = act_X_test.shape[0]\n",
    "k = act_X_test.shape[1]\n",
    "\n",
    "# Calculate the adjusted R-squared\n",
    "act_random_adjusted_r2 = 1 - ((1 - act_random_r2) * (n - 1) / (n - k - 1))\n",
    "\n",
    "# Calculate MAPE\n",
    "act_random_mape = mean_absolute_percentage_error(act_y_test, act_random_pred)\n",
    "\n",
    "print(f'R-squared of Action Genre - Random Forest: {round(act_random_r2,2)}')\n",
    "print(f'Adjusted R-squared Action Genre - Random Forest: {round(act_random_adjusted_r2,2)}')\n",
    "print (\"Action - Random Forest Reg's MAPE % {}\".format(round(act_random_mape *100,2)))"
   ]
  },
  {
   "cell_type": "markdown",
   "id": "7eea41dd",
   "metadata": {},
   "source": [
    "PLOTTING THE RESULTS:"
   ]
  },
  {
   "cell_type": "code",
   "execution_count": 1632,
   "id": "b9935bdd",
   "metadata": {},
   "outputs": [
    {
     "data": {
      "image/png": "[encoded data removed]",
      "text/plain": [
       "<Figure size 720x360 with 1 Axes>"
      ]
     },
     "metadata": {
      "needs_background": "light"
     },
     "output_type": "display_data"
    }
   ],
   "source": [
    "# Scatterplotting the two models for Biography Shows\n",
    "plt.figure(figsize=(10, 5))\n",
    "\n",
    "plt.scatter(act_y_test, act_xgb_pred, color='blue', label='XGB', alpha = 0.4)\n",
    "plt.scatter(act_y_test, act_random_pred, color='green', label='Random Forest', alpha = 0.4)\n",
    "# The 45-degree red line\n",
    "plt.plot([min(act_y_test), max(act_y_test)], [min(act_y_test), max(act_y_test)], linestyle='--', color='red', linewidth=2, label='45-Degree Line')\n",
    "\n",
    "# Labels\n",
    "plt.title('Actual vs Predicted Popularity of the Action Shows')\n",
    "plt.xlabel('Actual Popularity')\n",
    "plt.ylabel('Predicted Popularity')\n",
    "\n",
    "plt.legend()\n",
    "\n",
    "plt.show()"
   ]
  },
  {
   "cell_type": "code",
   "execution_count": 1633,
   "id": "6ac70254",
   "metadata": {},
   "outputs": [
    {
     "data": {
      "image/png": "[encoded data removed]",
      "text/plain": [
       "<Figure size 720x360 with 1 Axes>"
      ]
     },
     "metadata": {
      "needs_background": "light"
     },
     "output_type": "display_data"
    }
   ],
   "source": [
    "#Residuals\n",
    "act_xgb_residuals = np.array(act_y_test) - np.array(act_xgb_pred)\n",
    "act_random_residuals = np.array(act_y_test) - np.array(act_random_pred)\n",
    "\n",
    "\n",
    "# Create a histogram of residuals\n",
    "plt.figure(figsize=(10, 5))\n",
    "\n",
    "ax1 = plt.hist(act_xgb_residuals, bins=30, color='blue',alpha=0.5, rwidth=0.85, label = 'XGB' )\n",
    "\n",
    "# Create a histogram of residuals\n",
    "ax2 = plt.hist(act_random_residuals, bins=30, color='green',alpha=0.5, rwidth=0.85, label = 'Random Forest' )\n",
    "\n",
    "\n",
    "# Set labels and title\n",
    "plt.title('Distribution of Residuals for Action TV Shows')\n",
    "plt.xlabel('Residuals')\n",
    "plt.ylabel('Frequency')\n",
    "plt.legend()\n",
    "# Show the plot\n",
    "plt.show()"
   ]
  },
  {
   "cell_type": "markdown",
   "id": "0fcf771a",
   "metadata": {},
   "source": [
    "## 4.10.4 Drama <a id= '4.10.4_Drama'><a>"
   ]
  },
  {
   "cell_type": "markdown",
   "id": "4adadc89",
   "metadata": {},
   "source": [
    "XGB REGRESSION:"
   ]
  },
  {
   "cell_type": "code",
   "execution_count": 1634,
   "id": "36e543e7",
   "metadata": {},
   "outputs": [
    {
     "data": {
      "text/plain": [
       "{'subsample': 0.9,\n",
       " 'n_estimators': 300,\n",
       " 'max_depth': 4,\n",
       " 'learning_rate': 0.1,\n",
       " 'colsample_bytree': 0.8}"
      ]
     },
     "execution_count": 1634,
     "metadata": {},
     "output_type": "execute_result"
    }
   ],
   "source": [
    "# Calculating best hyperparameters\n",
    "d_xgb = RandomizedSearchCV(xgboost, param_grid, scoring = 'neg_mean_absolute_percentage_error', cv=10)\n",
    "d_xgb.fit(drama_X_train, drama_y_train)\n",
    "d_xgb.best_params_"
   ]
  },
  {
   "cell_type": "code",
   "execution_count": 1635,
   "id": "6aff3039",
   "metadata": {},
   "outputs": [
    {
     "data": {
      "text/plain": [
       "XGBRegressor(base_score=None, booster=None, callbacks=None,\n",
       "             colsample_bylevel=None, colsample_bynode=None,\n",
       "             colsample_bytree=0.8, device=None, early_stopping_rounds=None,\n",
       "             enable_categorical=False, eval_metric=None, feature_types=None,\n",
       "             gamma=None, grow_policy=None, importance_type=None,\n",
       "             interaction_constraints=None, learning_rate=0.1, max_bin=None,\n",
       "             max_cat_threshold=None, max_cat_to_onehot=None,\n",
       "             max_delta_step=None, max_depth=4, max_leaves=None,\n",
       "             min_child_weight=None, missing=nan, monotone_constraints=None,\n",
       "             multi_strategy=None, n_estimators=300, n_jobs=None,\n",
       "             num_parallel_tree=None, random_state=None, ...)"
      ]
     },
     "execution_count": 1635,
     "metadata": {},
     "output_type": "execute_result"
    }
   ],
   "source": [
    "drama_xgb = xgb.XGBRegressor(subsample= 0.9, n_estimators= 300, max_depth= 4,learning_rate= 0.1,\n",
    "                                 colsample_bytree= 0.8)\n",
    "drama_xgb.fit(drama_X_train, drama_y_train)"
   ]
  },
  {
   "cell_type": "code",
   "execution_count": 1636,
   "id": "cf800e2b",
   "metadata": {},
   "outputs": [
    {
     "name": "stdout",
     "output_type": "stream",
     "text": [
      "R-squared of Drama Genre - XGB: 0.37\n",
      "Adjusted R-squared Drama Genre - XGB: 1.47\n",
      "Drama - XGB Reg's MAPE % 7.57\n"
     ]
    }
   ],
   "source": [
    "#Make predictions\n",
    "drama_xgb_pred = drama_xgb.predict(drama_X_test)\n",
    "\n",
    "# Calculate the regular R-squared\n",
    "drama_xgb_r2 = r2_score(act_y_test, act_xgb_pred)\n",
    "\n",
    "# Get the number of observations (n) and predictors (k)\n",
    "n = drama_X_test.shape[0]\n",
    "k = drama_X_test.shape[1]\n",
    "\n",
    "# Calculate the adjusted R-squared\n",
    "drama_xgb_adjusted_r2 = 1 - ((1 - drama_xgb_r2) * (n - 1) / (n - k - 1))\n",
    "drama_xgb_mape = mean_absolute_percentage_error(drama_y_test, drama_xgb_pred)\n",
    "print(f'R-squared of Drama Genre - XGB: {round(drama_xgb_r2,2)}')\n",
    "print(f'Adjusted R-squared Drama Genre - XGB: {round(drama_xgb_adjusted_r2,2)}')\n",
    "print (\"Drama - XGB Reg's MAPE % {}\".format(round(drama_xgb_mape *100,2)))"
   ]
  },
  {
   "cell_type": "markdown",
   "id": "3778980e",
   "metadata": {},
   "source": [
    "RANDOM FOREST REGRESSION:"
   ]
  },
  {
   "cell_type": "code",
   "execution_count": 1637,
   "id": "27b0ecc8",
   "metadata": {},
   "outputs": [
    {
     "data": {
      "text/plain": [
       "{'n_estimators': 100,\n",
       " 'min_samples_split': 2,\n",
       " 'min_samples_leaf': 3,\n",
       " 'max_features': 'auto',\n",
       " 'max_depth': 100,\n",
       " 'bootstrap': True}"
      ]
     },
     "execution_count": 1637,
     "metadata": {},
     "output_type": "execute_result"
    }
   ],
   "source": [
    "# Calculating best hyperparameters\n",
    "d_random = RandomizedSearchCV(random_tree, param_grid2, scoring = 'neg_mean_absolute_percentage_error', cv=10)\n",
    "d_random.fit(drama_X_train, drama_y_train)\n",
    "d_random.best_params_"
   ]
  },
  {
   "cell_type": "code",
   "execution_count": 1638,
   "id": "ce202d11",
   "metadata": {},
   "outputs": [
    {
     "data": {
      "text/plain": [
       "RandomForestRegressor(max_depth=100, min_samples_leaf=3)"
      ]
     },
     "execution_count": 1638,
     "metadata": {},
     "output_type": "execute_result"
    }
   ],
   "source": [
    "# Hyperparameter Tuning\n",
    "drama_random = RandomForestRegressor(n_estimators= 100, max_depth= 100, min_samples_leaf = 3,\n",
    "                                   max_features= 'auto', min_samples_split = 2, bootstrap = True)\n",
    "# fitting\n",
    "drama_random.fit(drama_X_train, drama_y_train)"
   ]
  },
  {
   "cell_type": "code",
   "execution_count": 1639,
   "id": "583ff253",
   "metadata": {},
   "outputs": [
    {
     "name": "stdout",
     "output_type": "stream",
     "text": [
      "R-squared of Drama Genre - Random Forest: 0.59\n",
      "Adjusted R-squared Drama Genre - Random Forest: 1.31\n",
      "Drama - Random Forest Reg's MAPE % 7.06\n"
     ]
    }
   ],
   "source": [
    "# prediction\n",
    "drama_random_pred = drama_random.predict(drama_X_test)\n",
    "\n",
    "\n",
    "# Calculate the regular R-squared\n",
    "drama_random_r2 = r2_score(drama_y_test, drama_random_pred)\n",
    "\n",
    "# Get the number of observations (n) and predictors (k)\n",
    "n = drama_X_test.shape[0]\n",
    "k = drama_X_test.shape[1]\n",
    "\n",
    "# Calculate the adjusted R-squared\n",
    "drama_random_adjusted_r2 = 1 - ((1 - drama_random_r2) * (n - 1) / (n - k - 1))\n",
    "\n",
    "# Calculate MAPE\n",
    "drama_random_mape = mean_absolute_percentage_error(drama_y_test, drama_random_pred)\n",
    "\n",
    "print(f'R-squared of Drama Genre - Random Forest: {round(drama_random_r2,2)}')\n",
    "print(f'Adjusted R-squared Drama Genre - Random Forest: {round(drama_random_adjusted_r2,2)}')\n",
    "print (\"Drama - Random Forest Reg's MAPE % {}\".format(round(drama_random_mape *100,2)))"
   ]
  },
  {
   "cell_type": "markdown",
   "id": "aa0722ae",
   "metadata": {},
   "source": [
    "There is an improvement in predictions when it is a drama."
   ]
  },
  {
   "cell_type": "markdown",
   "id": "cfae9f6a",
   "metadata": {},
   "source": [
    "PLOTTING THE RESULTS:"
   ]
  },
  {
   "cell_type": "code",
   "execution_count": 1640,
   "id": "e89ebdf2",
   "metadata": {},
   "outputs": [
    {
     "data": {
      "image/png": "[encoded data removed]",
      "text/plain": [
       "<Figure size 720x360 with 1 Axes>"
      ]
     },
     "metadata": {
      "needs_background": "light"
     },
     "output_type": "display_data"
    }
   ],
   "source": [
    "#Scatterplotting the two models for Biography Shows\n",
    "plt.figure(figsize=(10, 5))\n",
    "\n",
    "plt.scatter(drama_y_test, drama_xgb_pred, color='blue', label='XGB', alpha = 0.4)\n",
    "plt.scatter(drama_y_test, drama_random_pred, color='green', label='Random Forest', alpha = 0.4)\n",
    "# The 45-degree red line\n",
    "plt.plot([min(drama_y_test), max(drama_y_test)], [min(drama_y_test), max(drama_y_test)], linestyle='--', color='red', linewidth=2, label='45-Degree Line')\n",
    "\n",
    "# Labels\n",
    "plt.title('Actual vs Predicted Popularity of the Drama Shows')\n",
    "plt.xlabel('Actual Popularity')\n",
    "plt.ylabel('Predicted Popularity')\n",
    "\n",
    "plt.legend()\n",
    "\n",
    "plt.show()"
   ]
  },
  {
   "cell_type": "code",
   "execution_count": 1641,
   "id": "923431a4",
   "metadata": {},
   "outputs": [
    {
     "data": {
      "image/png": "[encoded data removed]",
      "text/plain": [
       "<Figure size 720x360 with 1 Axes>"
      ]
     },
     "metadata": {
      "needs_background": "light"
     },
     "output_type": "display_data"
    }
   ],
   "source": [
    "#Residuals\n",
    "drama_xgb_residuals = np.array(drama_y_test) - np.array(drama_xgb_pred)\n",
    "drama_random_residuals = np.array(drama_y_test) - np.array(drama_random_pred)\n",
    "\n",
    "\n",
    "# Create a histogram of residuals\n",
    "plt.figure(figsize=(10, 5))\n",
    "\n",
    "ax1 = plt.hist(drama_xgb_residuals, bins=30, color='blue',alpha=0.5, rwidth=0.85, label = 'XGB' )\n",
    "\n",
    "# Create a histogram of residuals\n",
    "ax2 = plt.hist(drama_random_residuals, bins=30, color='green',alpha=0.5, rwidth=0.85, label = 'Random Forest' )\n",
    "\n",
    "\n",
    "# Set labels and title\n",
    "plt.title('Distribution of Residuals for Drama TV Shows')\n",
    "plt.xlabel('Residuals')\n",
    "plt.ylabel('Frequency')\n",
    "plt.legend()\n",
    "\n",
    "# Show the plot\n",
    "plt.show()"
   ]
  },
  {
   "cell_type": "markdown",
   "id": "13c7ba2f",
   "metadata": {},
   "source": [
    "## 4.10.5 Comedy <a id= '4.10.5_Comedy'><a>"
   ]
  },
  {
   "cell_type": "markdown",
   "id": "ac794db9",
   "metadata": {},
   "source": [
    "XGB REGRESSION:"
   ]
  },
  {
   "cell_type": "code",
   "execution_count": 1642,
   "id": "4249b1cc",
   "metadata": {},
   "outputs": [
    {
     "data": {
      "text/plain": [
       "{'subsample': 0.9,\n",
       " 'n_estimators': 200,\n",
       " 'max_depth': 5,\n",
       " 'learning_rate': 0.01,\n",
       " 'colsample_bytree': 0.8}"
      ]
     },
     "execution_count": 1642,
     "metadata": {},
     "output_type": "execute_result"
    }
   ],
   "source": [
    "# Calculating best hyperparameters\n",
    "co_xgb = RandomizedSearchCV(xgboost, param_grid, scoring = 'neg_mean_absolute_percentage_error', cv=10)\n",
    "co_xgb.fit(comedy_X_train, comedy_y_train)\n",
    "co_xgb.best_params_"
   ]
  },
  {
   "cell_type": "code",
   "execution_count": 1643,
   "id": "b7f36ab9",
   "metadata": {},
   "outputs": [
    {
     "data": {
      "text/plain": [
       "XGBRegressor(base_score=None, booster=None, callbacks=None,\n",
       "             colsample_bylevel=None, colsample_bynode=None,\n",
       "             colsample_bytree=0.8, device=None, early_stopping_rounds=None,\n",
       "             enable_categorical=False, eval_metric=None, feature_types=None,\n",
       "             gamma=None, grow_policy=None, importance_type=None,\n",
       "             interaction_constraints=None, learning_rate=0.01, max_bin=None,\n",
       "             max_cat_threshold=None, max_cat_to_onehot=None,\n",
       "             max_delta_step=None, max_depth=5, max_leaves=None,\n",
       "             min_child_weight=None, missing=nan, monotone_constraints=None,\n",
       "             multi_strategy=None, n_estimators=200, n_jobs=None,\n",
       "             num_parallel_tree=None, random_state=None, ...)"
      ]
     },
     "execution_count": 1643,
     "metadata": {},
     "output_type": "execute_result"
    }
   ],
   "source": [
    "comedy_xgb = xgb.XGBRegressor(subsample= 0.9, n_estimators= 200, max_depth= 5,learning_rate= 0.01,\n",
    "                                 colsample_bytree= 0.8)\n",
    "comedy_xgb.fit(comedy_X_train, comedy_y_train)"
   ]
  },
  {
   "cell_type": "code",
   "execution_count": 1644,
   "id": "2596fccc",
   "metadata": {},
   "outputs": [
    {
     "name": "stdout",
     "output_type": "stream",
     "text": [
      "R-squared of Comedy Genre - XGB: 0.37\n",
      "Adjusted R-squared Comedy Genre - XGB: 1.47\n",
      "Comedy - XGB Reg's MAPE % 7.57\n"
     ]
    }
   ],
   "source": [
    "#Make predictions\n",
    "comedy_xgb_pred = comedy_xgb.predict(comedy_X_test)\n",
    "\n",
    "# Calculate the regular R-squared\n",
    "comedy_xgb_r2 = r2_score(comedy_y_test, comedy_xgb_pred)\n",
    "\n",
    "# Get the number of observations (n) and predictors (k)\n",
    "n = comedy_X_test.shape[0]\n",
    "k = comedy_X_test.shape[1]\n",
    "\n",
    "# Calculate the adjusted R-squared\n",
    "comedy_xgb_adjusted_r2 = 1 - ((1 - comedy_xgb_r2) * (n - 1) / (n - k - 1))\n",
    "comedy_xgb_mape = mean_absolute_percentage_error(comedy_y_test, comedy_xgb_pred)\n",
    "print(f'R-squared of Comedy Genre - XGB: {round(drama_xgb_r2,2)}')\n",
    "print(f'Adjusted R-squared Comedy Genre - XGB: {round(drama_xgb_adjusted_r2,2)}')\n",
    "print (\"Comedy - XGB Reg's MAPE % {}\".format(round(drama_xgb_mape *100,2)))"
   ]
  },
  {
   "cell_type": "markdown",
   "id": "f6cd771f",
   "metadata": {},
   "source": [
    "RANDOM FOREST REGRESSION:"
   ]
  },
  {
   "cell_type": "code",
   "execution_count": 1646,
   "id": "4cffae42",
   "metadata": {},
   "outputs": [
    {
     "data": {
      "text/plain": [
       "{'n_estimators': 50,\n",
       " 'min_samples_split': 6,\n",
       " 'min_samples_leaf': 1,\n",
       " 'max_features': 'sqrt',\n",
       " 'max_depth': 50,\n",
       " 'bootstrap': False}"
      ]
     },
     "execution_count": 1646,
     "metadata": {},
     "output_type": "execute_result"
    }
   ],
   "source": [
    "# Calculating best hyperparameters\n",
    "co_random = RandomizedSearchCV(random_tree, param_grid2, scoring = 'neg_mean_absolute_percentage_error', cv=10)\n",
    "co_random.fit(comedy_X_train, comedy_y_train)\n",
    "co_random.best_params_"
   ]
  },
  {
   "cell_type": "code",
   "execution_count": 1647,
   "id": "79b09d7c",
   "metadata": {},
   "outputs": [
    {
     "data": {
      "text/plain": [
       "RandomForestRegressor(bootstrap=False, max_depth=50, max_features='sqrt',\n",
       "                      min_samples_split=6, n_estimators=50)"
      ]
     },
     "execution_count": 1647,
     "metadata": {},
     "output_type": "execute_result"
    }
   ],
   "source": [
    "# Hyperparameter Tuning\n",
    "comedy_random = RandomForestRegressor(n_estimators= 50, max_depth= 50, min_samples_leaf = 1,\n",
    "                                   max_features= 'sqrt', min_samples_split = 6, bootstrap = False)\n",
    "# fitting\n",
    "comedy_random.fit(comedy_X_train, comedy_y_train)"
   ]
  },
  {
   "cell_type": "code",
   "execution_count": 1648,
   "id": "6808dc05",
   "metadata": {},
   "outputs": [
    {
     "name": "stdout",
     "output_type": "stream",
     "text": [
      "R-squared of Comedy Genre - Random Forest: 0.55\n",
      "Adjusted R-squared Comedy Genre - Random Forest: 1.87\n",
      "Comedy - Random Forest Reg's MAPE % 9.01\n"
     ]
    }
   ],
   "source": [
    "# prediction\n",
    "comedy_random_pred = comedy_random.predict(comedy_X_test)\n",
    "\n",
    "\n",
    "# Calculate the regular R-squared\n",
    "comedy_random_r2 = r2_score(comedy_y_test, comedy_random_pred)\n",
    "\n",
    "# Get the number of observations (n) and predictors (k)\n",
    "n = comedy_X_test.shape[0]\n",
    "k = comedy_X_test.shape[1]\n",
    "\n",
    "# Calculate the adjusted R-squared\n",
    "comedy_random_adjusted_r2 = 1 - ((1 - comedy_random_r2) * (n - 1) / (n - k - 1))\n",
    "\n",
    "# Calculate MAPE\n",
    "comedy_random_mape = mean_absolute_percentage_error(comedy_y_test, comedy_random_pred)\n",
    "\n",
    "print(f'R-squared of Comedy Genre - Random Forest: {round(comedy_random_r2,2)}')\n",
    "print(f'Adjusted R-squared Comedy Genre - Random Forest: {round(comedy_random_adjusted_r2,2)}')\n",
    "print (\"Comedy - Random Forest Reg's MAPE % {}\".format(round(comedy_random_mape *100,2)))"
   ]
  },
  {
   "cell_type": "markdown",
   "id": "a6ec0762",
   "metadata": {},
   "source": [
    "PLOTTING THE RESULTS:"
   ]
  },
  {
   "cell_type": "code",
   "execution_count": 1649,
   "id": "3b0feefe",
   "metadata": {},
   "outputs": [
    {
     "data": {
      "image/png": "[encoded data removed]",
      "text/plain": [
       "<Figure size 720x360 with 1 Axes>"
      ]
     },
     "metadata": {
      "needs_background": "light"
     },
     "output_type": "display_data"
    }
   ],
   "source": [
    "#Scatterplotting the two models for Biography Shows\n",
    "plt.figure(figsize=(10, 5))\n",
    "\n",
    "plt.scatter(comedy_y_test, comedy_xgb_pred, color='blue', label='XGB', alpha = 0.4)\n",
    "plt.scatter(comedy_y_test, comedy_random_pred, color='green', label='Random Forest', alpha = 0.4)\n",
    "# The 45-degree red line\n",
    "plt.plot([min(comedy_y_test), max(comedy_y_test)], [min(comedy_y_test), max(comedy_y_test)], linestyle='--', color='red', linewidth=2, label='45-Degree Line')\n",
    "\n",
    "# Labels\n",
    "plt.title('Actual vs Predicted Popularity of the Comedy Shows')\n",
    "plt.xlabel('Actual Popularity')\n",
    "plt.ylabel('Predicted Popularity')\n",
    "\n",
    "plt.legend()\n",
    "\n",
    "plt.show()"
   ]
  },
  {
   "cell_type": "code",
   "execution_count": 1650,
   "id": "67d9ca5d",
   "metadata": {},
   "outputs": [
    {
     "data": {
      "image/png": "[encoded data removed]",
      "text/plain": [
       "<Figure size 720x360 with 1 Axes>"
      ]
     },
     "metadata": {
      "needs_background": "light"
     },
     "output_type": "display_data"
    }
   ],
   "source": [
    "#Residuals\n",
    "comedy_xgb_residuals = np.array(comedy_y_test) - np.array(comedy_xgb_pred)\n",
    "comedy_random_residuals = np.array(comedy_y_test) - np.array(comedy_random_pred)\n",
    "\n",
    "\n",
    "# Create a histogram of residuals\n",
    "plt.figure(figsize=(10, 5))\n",
    "\n",
    "ax1 = plt.hist(comedy_xgb_residuals, bins=30, color='blue',alpha=0.5, rwidth=0.85, label = 'XGB' )\n",
    "\n",
    "# Create a histogram of residuals\n",
    "ax2 = plt.hist(comedy_random_residuals, bins=30, color='green',alpha=0.5, rwidth=0.85, label = 'Random Forest' )\n",
    "\n",
    "\n",
    "# Set labels and title\n",
    "plt.title('Distribution of Residuals for Comedy TV Shows')\n",
    "plt.xlabel('Residuals')\n",
    "plt.ylabel('Frequency')\n",
    "plt.legend()\n",
    "\n",
    "# Show the plot\n",
    "plt.show()"
   ]
  },
  {
   "cell_type": "markdown",
   "id": "569f97ac",
   "metadata": {},
   "source": [
    "## 4.10.6 Fantasy <a id= '4.10.6_Fantasy'><a> "
   ]
  },
  {
   "cell_type": "markdown",
   "id": "e993375f",
   "metadata": {},
   "source": [
    "XGB REGRESSION:"
   ]
  },
  {
   "cell_type": "code",
   "execution_count": 1651,
   "id": "efa621eb",
   "metadata": {},
   "outputs": [
    {
     "data": {
      "text/plain": [
       "{'subsample': 0.8,\n",
       " 'n_estimators': 100,\n",
       " 'max_depth': 5,\n",
       " 'learning_rate': 0.1,\n",
       " 'colsample_bytree': 0.8}"
      ]
     },
     "execution_count": 1651,
     "metadata": {},
     "output_type": "execute_result"
    }
   ],
   "source": [
    "# Calculating best hyperparameters\n",
    "b_xgb = RandomizedSearchCV(xgboost, param_grid, scoring = 'neg_mean_absolute_percentage_error', cv=10)\n",
    "b_xgb.fit(fan_X_train, fan_y_train)\n",
    "b_xgb.best_params_"
   ]
  },
  {
   "cell_type": "code",
   "execution_count": 1652,
   "id": "1c296de9",
   "metadata": {},
   "outputs": [
    {
     "data": {
      "text/plain": [
       "XGBRegressor(base_score=None, booster=None, callbacks=None,\n",
       "             colsample_bylevel=None, colsample_bynode=None,\n",
       "             colsample_bytree=0.8, device=None, early_stopping_rounds=None,\n",
       "             enable_categorical=False, eval_metric=None, feature_types=None,\n",
       "             gamma=None, grow_policy=None, importance_type=None,\n",
       "             interaction_constraints=None, learning_rate=0.1, max_bin=None,\n",
       "             max_cat_threshold=None, max_cat_to_onehot=None,\n",
       "             max_delta_step=None, max_depth=5, max_leaves=None,\n",
       "             min_child_weight=None, missing=nan, monotone_constraints=None,\n",
       "             multi_strategy=None, n_estimators=100, n_jobs=None,\n",
       "             num_parallel_tree=None, random_state=None, ...)"
      ]
     },
     "execution_count": 1652,
     "metadata": {},
     "output_type": "execute_result"
    }
   ],
   "source": [
    "fan_xgb = xgb.XGBRegressor(subsample= 0.8, n_estimators= 100, max_depth= 5,learning_rate= 0.1,\n",
    "                                 colsample_bytree= 0.8)\n",
    "fan_xgb.fit(fan_X_train, fan_y_train)"
   ]
  },
  {
   "cell_type": "code",
   "execution_count": 1653,
   "id": "ab3c0e8a",
   "metadata": {},
   "outputs": [
    {
     "name": "stdout",
     "output_type": "stream",
     "text": [
      "R-squared of Fantasy Genre - XGB: 0.32\n",
      "Adjusted R-squared Fantasy Genre - XGB: 1.07\n",
      "Fantasy - XGB Reg's MAPE % 8.98\n"
     ]
    }
   ],
   "source": [
    "#Make predictions\n",
    "fan_xgb_pred = fan_xgb.predict(fan_X_test)\n",
    "\n",
    "# Calculate the regular R-squared\n",
    "fan_xgb_r2 = r2_score(fan_y_test, fan_xgb_pred)\n",
    "\n",
    "# Get the number of observations (n) and predictors (k)\n",
    "n = fan_X_test.shape[0]\n",
    "k = fan_X_test.shape[1]\n",
    "\n",
    "# Calculate the adjusted R-squared\n",
    "fan_xgb_adjusted_r2 = 1 - ((1 - fan_xgb_r2) * (n - 1) / (n - k - 1))\n",
    "fan_xgb_mape = mean_absolute_percentage_error(fan_y_test, fan_xgb_pred)\n",
    "print(f'R-squared of Fantasy Genre - XGB: {round(fan_xgb_r2,2)}')\n",
    "print(f'Adjusted R-squared Fantasy Genre - XGB: {round(fan_xgb_adjusted_r2,2)}')\n",
    "print (\"Fantasy - XGB Reg's MAPE % {}\".format(round(fan_xgb_mape *100,2)))\n"
   ]
  },
  {
   "cell_type": "markdown",
   "id": "20c7fd8f",
   "metadata": {},
   "source": [
    "RANDOM FOREST REGRESSION:"
   ]
  },
  {
   "cell_type": "code",
   "execution_count": 1654,
   "id": "544e20fb",
   "metadata": {},
   "outputs": [
    {
     "data": {
      "text/plain": [
       "{'n_estimators': 20,\n",
       " 'min_samples_split': 6,\n",
       " 'min_samples_leaf': 3,\n",
       " 'max_features': 'auto',\n",
       " 'max_depth': 30,\n",
       " 'bootstrap': True}"
      ]
     },
     "execution_count": 1654,
     "metadata": {},
     "output_type": "execute_result"
    }
   ],
   "source": [
    "# Calculating best hyperparameters\n",
    "f_random = RandomizedSearchCV(random_tree, param_grid2, scoring = 'neg_mean_absolute_percentage_error', cv=10)\n",
    "f_random.fit(fan_X_train, fan_y_train)\n",
    "f_random.best_params_"
   ]
  },
  {
   "cell_type": "code",
   "execution_count": 1655,
   "id": "85b78f5f",
   "metadata": {},
   "outputs": [
    {
     "data": {
      "text/plain": [
       "RandomForestRegressor(max_depth=30, min_samples_leaf=3, min_samples_split=6,\n",
       "                      n_estimators=20)"
      ]
     },
     "execution_count": 1655,
     "metadata": {},
     "output_type": "execute_result"
    }
   ],
   "source": [
    "# Hyperparameter Tuning\n",
    "fan_random = RandomForestRegressor(n_estimators= 20, max_depth= 30, min_samples_leaf = 3,\n",
    "                                   max_features= 'auto', min_samples_split = 6, bootstrap = True)\n",
    "# fitting\n",
    "fan_random.fit(fan_X_train, fan_y_train)\n"
   ]
  },
  {
   "cell_type": "code",
   "execution_count": 1656,
   "id": "ef13a64b",
   "metadata": {},
   "outputs": [
    {
     "name": "stdout",
     "output_type": "stream",
     "text": [
      "R-squared of Fantasy Genre - Random Forest: 0.46\n",
      "Adjusted R-squared Fantasy Genre - Random Forest: 1.05\n",
      "Fantasy - Random Forest Reg's MAPE % 6.94\n"
     ]
    }
   ],
   "source": [
    "# prediction\n",
    "fan_random_pred = fan_random.predict(fan_X_test)\n",
    "\n",
    "\n",
    "# Calculate the regular R-squared\n",
    "fan_random_r2 = r2_score(fan_y_test, fan_random_pred)\n",
    "\n",
    "# Get the number of observations (n) and predictors (k)\n",
    "n = fan_X_test.shape[0]\n",
    "k = fan_X_test.shape[1]\n",
    "\n",
    "# Calculate the adjusted R-squared\n",
    "fan_random_adjusted_r2 = 1 - ((1 - fan_random_r2) * (n - 1) / (n - k - 1))\n",
    "\n",
    "# Calculate MAPE\n",
    "fan_random_mape = mean_absolute_percentage_error(fan_y_test, fan_random_pred)\n",
    "\n",
    "print(f'R-squared of Fantasy Genre - Random Forest: {round(fan_random_r2,2)}')\n",
    "print(f'Adjusted R-squared Fantasy Genre - Random Forest: {round(fan_random_adjusted_r2,2)}')\n",
    "print (\"Fantasy - Random Forest Reg's MAPE % {}\".format(round(fan_random_mape *100,2)))"
   ]
  },
  {
   "cell_type": "code",
   "execution_count": 1658,
   "id": "14ad50b4",
   "metadata": {},
   "outputs": [
    {
     "data": {
      "image/png": "[encoded data removed]",
      "text/plain": [
       "<Figure size 720x360 with 1 Axes>"
      ]
     },
     "metadata": {
      "needs_background": "light"
     },
     "output_type": "display_data"
    }
   ],
   "source": [
    "# Scatterplotting the two models for Biography Shows\n",
    "plt.figure(figsize=(10, 5))\n",
    "\n",
    "plt.scatter(fan_y_test, fan_xgb_pred, color='blue', label='XGB', alpha = 0.4)\n",
    "plt.scatter(fan_y_test, fan_random_pred, color='green', label='Random Forest', alpha = 0.4)\n",
    "# The 45-degree red line\n",
    "plt.plot([min(fan_y_test), max(fan_y_test)], [min(fan_y_test), max(fan_y_test)], linestyle='--', color='red', linewidth=2, label='45-Degree Line')\n",
    "\n",
    "# Labels\n",
    "plt.title('Actual vs Predicted Popularity of the Fantasy Shows')\n",
    "plt.xlabel('Actual Popularity')\n",
    "plt.ylabel('Predicted Popularity')\n",
    "\n",
    "plt.legend()\n",
    "\n",
    "plt.show()"
   ]
  },
  {
   "cell_type": "code",
   "execution_count": 1503,
   "id": "84051b3d",
   "metadata": {},
   "outputs": [
    {
     "data": {
      "image/png": "[encoded data removed]",
      "text/plain": [
       "<Figure size 720x360 with 1 Axes>"
      ]
     },
     "metadata": {
      "needs_background": "light"
     },
     "output_type": "display_data"
    }
   ],
   "source": [
    "#Residuals\n",
    "fan_xgb_residuals = np.array(fan_y_test) - np.array(fan_xgb_pred)\n",
    "fan_random_residuals = np.array(fan_y_test) - np.array(fan_random_pred)\n",
    "\n",
    "\n",
    "# Create a histogram of residuals\n",
    "plt.figure(figsize=(10, 5))\n",
    "\n",
    "ax1 = plt.hist(fan_xgb_residuals, bins=30, color='blue',alpha=0.5, rwidth=0.85, label = 'XGB' )\n",
    "\n",
    "# Create a histogram of residuals\n",
    "ax2 = plt.hist(fan_random_residuals, bins=30, color='green',alpha=0.5, rwidth=0.85, label = 'Random Forest' )\n",
    "\n",
    "\n",
    "# Set labels and title\n",
    "plt.title('Distribution of Residuals for Fantasy TV Shows')\n",
    "plt.xlabel('Residuals')\n",
    "plt.ylabel('Frequency')\n",
    "plt.legend()\n",
    "# Show the plot\n",
    "plt.show()"
   ]
  },
  {
   "cell_type": "markdown",
   "id": "3c516743",
   "metadata": {},
   "source": [
    "## 4.11 The Result Table For All Subsets <a id= '4.11_The_Result_Table_For_All_Subsets'><a>"
   ]
  },
  {
   "cell_type": "markdown",
   "id": "5f5e1cd5",
   "metadata": {},
   "source": [
    "First let's write down the datapoints for each data set."
   ]
  },
  {
   "cell_type": "code",
   "execution_count": 1659,
   "id": "bdedd9e6",
   "metadata": {},
   "outputs": [],
   "source": [
    "new_count = len(new_df)\n",
    "new_train = len(new_X_train)\n",
    "new_test = len (new_X_test)\n",
    "crime_count = len(crime_df)\n",
    "crime_train = len(crime_X_train)\n",
    "crime_test = len(crime_X_test)\n",
    "bio_count = len(bio_df)\n",
    "bio_train = len(bio_X_train)\n",
    "bio_test = len(bio_X_test)\n",
    "fan_train = len(fan_X_train)\n",
    "fan_test = len(fan_X_test)\n",
    "fan_count = len(fan_df)\n",
    "comedy_count = len(comedy_df)\n",
    "comedy_test = len(comedy_X_test)\n",
    "comedy_train = len(comedy_X_train)\n",
    "drama_count = len(drama_df)\n",
    "drama_train = len(drama_X_train)\n",
    "drama_test = len(drama_X_test)\n",
    "act_count = len (act_df)\n",
    "act_test = len(act_X_test)\n",
    "act_train = len(act_X_train)\n",
    "pre_count = len(pre_df)\n",
    "pre_test = len(pre_X_test)\n",
    "pre_train = len(pre_X_train)\n",
    "cov_count = len(cov_df)\n",
    "cov_train = len(cov_X_train)\n",
    "cov_test = len (cov_X_test)"
   ]
  },
  {
   "cell_type": "code",
   "execution_count": 1660,
   "id": "e23cd9b2",
   "metadata": {},
   "outputs": [
    {
     "data": {
      "text/plain": [
       "168"
      ]
     },
     "execution_count": 1660,
     "metadata": {},
     "output_type": "execute_result"
    }
   ],
   "source": [
    "# checking\n",
    "len (cov_X_test)"
   ]
  },
  {
   "cell_type": "code",
   "execution_count": 1661,
   "id": "9b29c337",
   "metadata": {},
   "outputs": [
    {
     "name": "stdout",
     "output_type": "stream",
     "text": [
      "+---------------+----------+-------------+-------------+----------------+----------+-----------+------------+\n",
      "|    Dataset    | XGB-A_r2 | Random-A_r2 | XGB MAPE(%) | Random MAPE(%) | Data pts | Test Dpts | Train Dpts |\n",
      "+---------------+----------+-------------+-------------+----------------+----------+-----------+------------+\n",
      "|  Whole Data   |   0.18   |    0.19     |    7.76     |      7.7       |   1241   |    311    |    930     |\n",
      "| Pre_Pandemic  |  -2.34   |    -2.07    |    7.43     |      6.9       |   571    |    143    |    428     |\n",
      "| Post_Pandemic |  -1.09   |    -1.09    |    7.91     |      8.04      |   670    |    168    |    502     |\n",
      "|     Crime     |   1.22   |    1.23     |    9.31     |      9.44      |   161    |    41     |    120     |\n",
      "|    Action     |   1.35   |    1.36     |    8.57     |      8.75      |   250    |    63     |    187     |\n",
      "|   Biography   |   1.1    |    1.06     |    8.85     |      6.57      |    46    |    12     |     34     |\n",
      "|    Comedy     |   1.94   |    1.87     |    9.63     |      9.01      |   334    |    84     |    250     |\n",
      "|     Drama     |   1.47   |    1.31     |    7.57     |      7.06      |   218    |    55     |    163     |\n",
      "|    Fantasy    |   1.07   |    1.05     |    8.98     |      6.94      |    46    |    12     |     34     |\n",
      "+---------------+----------+-------------+-------------+----------------+----------+-----------+------------+\n"
     ]
    }
   ],
   "source": [
    "# import table module\n",
    "from tabulate import tabulate\n",
    " \n",
    "mydata = [\n",
    "    [\"Whole Data\",round(xgb_adjusted_r2,2), round(random_adjusted_r2,2), round(xgb_mape * 100,2), \n",
    "     round(random_mape * 100,2), new_count, new_test, new_train], \n",
    "    [\"Pre_Pandemic\", round(pre_xgb_adjusted_r2,2), round(pre_random_adjusted_r2,2), \n",
    "     round(pre_xgb_mape * 100,2), round(pre_random_mape * 100,2), pre_count, pre_test, pre_train], \n",
    "    [\"Post_Pandemic\", round(cov_xgb_adjusted_r2,2), round(cov_random_adjusted_r2,2), \n",
    "    round(cov_xgb_mape * 100,2), round(cov_random_mape * 100,2), cov_count, cov_test, cov_train], \n",
    "    [\"Crime\", round(crime_xgb_adjusted_r2,2),round(crime_random_adjusted_r2,2), \n",
    "     round(crime_xgb_mape * 100,2), round(crime_random_mape * 100,2),crime_count, crime_test, crime_train],\n",
    "    [\"Action\", round(act_xgb_adjusted_r2,2),round(act_random_adjusted_r2,2), round(act_xgb_mape * 100,2),\n",
    "     round(act_random_mape * 100,2), act_count, act_test, act_train],\n",
    "    [\"Biography\", round(bio_xgb_adjusted_r2,2),round(bio_random_adjusted_r2,2), round(bio_xgb_mape * 100,2),\n",
    "     round(bio_random_mape * 100,2), bio_count, bio_test, bio_train],\n",
    "    [\"Comedy\",round(comedy_xgb_adjusted_r2,2), round(comedy_random_adjusted_r2,2),\n",
    "     round(comedy_xgb_mape * 100,2), round(comedy_random_mape * 100,2), comedy_count, comedy_test, comedy_train],\n",
    "    [\"Drama\",  round(drama_xgb_adjusted_r2,2),round(drama_random_adjusted_r2,2), \n",
    "     round(drama_xgb_mape * 100,2), round(drama_random_mape * 100,2),\n",
    "    drama_count, drama_test, drama_train],\n",
    "     [\"Fantasy\",  round(fan_xgb_adjusted_r2,2),round(fan_random_adjusted_r2,2), \n",
    "     round(fan_xgb_mape * 100,2), round(fan_random_mape * 100,2),\n",
    "    fan_count, fan_test, fan_train]\n",
    "    \n",
    "]\n",
    " \n",
    "# create header\n",
    "head = [\"Dataset\", \"XGB-A_r2\", \"Random-A_r2\", \"XGB MAPE(%)\", \"Random MAPE(%)\", \n",
    "        'Data pts', 'Test Dpts', 'Train Dpts']\n",
    " \n",
    "print(tabulate(mydata, headers=head, tablefmt=\"pretty\"))"
   ]
  },
  {
   "cell_type": "markdown",
   "id": "c3f7a877",
   "metadata": {},
   "source": [
    "Models made with Random Forest Regression have the best MAPE scores six out of nine times. And the datasets(Pre-COVID, biography genre and fantasy genre) have the lowest MAPE results. "
   ]
  },
  {
   "cell_type": "code",
   "execution_count": 1662,
   "id": "3d6063f9",
   "metadata": {},
   "outputs": [
    {
     "data": {
      "text/plain": [
       "Index(['startYear', 'endYear', 'Age', 'creator/actor?', 'ep_run_times',\n",
       "       'no_of_ep', 'no_of_seasons', 'cast_pop', 'team_popularity',\n",
       "       'genre_1_Action',\n",
       "       ...\n",
       "       'first_country_PT', 'first_country_SA', 'first_country_SE',\n",
       "       'first_country_SG', 'first_country_TH', 'first_country_TR',\n",
       "       'first_country_TW', 'first_country_US', 'first_country_VN',\n",
       "       'first_country_ZA'],\n",
       "      dtype='object', length=126)"
      ]
     },
     "execution_count": 1662,
     "metadata": {},
     "output_type": "execute_result"
    }
   ],
   "source": [
    "comedy_X_test.columns"
   ]
  },
  {
   "cell_type": "markdown",
   "id": "95a342ff",
   "metadata": {},
   "source": [
    "## 4.12 Case Study: Which TV Shows Would Have Popularity Scores Above Mean Score?<a id= '4.12_Case_Study:_Which_TV_Shows_Would_Have_Popularity_Scores_Above_the_Mean_Score?'><a>"
   ]
  },
  {
   "cell_type": "markdown",
   "id": "13983ce8",
   "metadata": {},
   "source": [
    "We aim for a popularity above average which is..."
   ]
  },
  {
   "cell_type": "code",
   "execution_count": 1663,
   "id": "db9e6bca",
   "metadata": {},
   "outputs": [
    {
     "name": "stdout",
     "output_type": "stream",
     "text": [
      "4.17\n"
     ]
    }
   ],
   "source": [
    "# let's find the total_popularity above median\n",
    "median_pop = round(new_df['total_popularity'].median(),2)\n",
    "print(median_pop)\n",
    "\n"
   ]
  },
  {
   "cell_type": "markdown",
   "id": "1f911d70",
   "metadata": {},
   "source": [
    "First case: a crime story with no name actors and writing team."
   ]
  },
  {
   "cell_type": "code",
   "execution_count": 1665,
   "id": "edec013c",
   "metadata": {},
   "outputs": [],
   "source": [
    "#creating and checking the crime dataset for the client company Gaumont\n",
    "crime_gaumont = pd.DataFrame(crime_X_test.iloc[0])\n",
    "crime_gaumont = crime_gaumont.T"
   ]
  },
  {
   "cell_type": "code",
   "execution_count": 1512,
   "id": "61fc6778",
   "metadata": {},
   "outputs": [
    {
     "data": {
      "text/html": [
       "<div>\n",
       "<style scoped>\n",
       "    .dataframe tbody tr th:only-of-type {\n",
       "        vertical-align: middle;\n",
       "    }\n",
       "\n",
       "    .dataframe tbody tr th {\n",
       "        vertical-align: top;\n",
       "    }\n",
       "\n",
       "    .dataframe thead th {\n",
       "        text-align: right;\n",
       "    }\n",
       "</style>\n",
       "<table border=\"1\" class=\"dataframe\">\n",
       "  <thead>\n",
       "    <tr style=\"text-align: right;\">\n",
       "      <th></th>\n",
       "      <th>startYear</th>\n",
       "      <th>endYear</th>\n",
       "      <th>Age</th>\n",
       "      <th>creator/actor?</th>\n",
       "      <th>ep_run_times</th>\n",
       "      <th>no_of_ep</th>\n",
       "      <th>no_of_seasons</th>\n",
       "      <th>cast_pop</th>\n",
       "      <th>team_popularity</th>\n",
       "      <th>genre_1_Action</th>\n",
       "      <th>...</th>\n",
       "      <th>second_country_PT</th>\n",
       "      <th>second_country_SA</th>\n",
       "      <th>second_country_SE</th>\n",
       "      <th>second_country_TH</th>\n",
       "      <th>second_country_TN</th>\n",
       "      <th>second_country_TR</th>\n",
       "      <th>second_country_TW</th>\n",
       "      <th>second_country_US</th>\n",
       "      <th>second_country_VN</th>\n",
       "      <th>second_country_ZA</th>\n",
       "    </tr>\n",
       "  </thead>\n",
       "  <tbody>\n",
       "    <tr>\n",
       "      <th>396</th>\n",
       "      <td>2019.0</td>\n",
       "      <td>2019.0</td>\n",
       "      <td>18.0</td>\n",
       "      <td>0.0</td>\n",
       "      <td>58.0</td>\n",
       "      <td>8.0</td>\n",
       "      <td>1.0</td>\n",
       "      <td>19.4</td>\n",
       "      <td>1.5</td>\n",
       "      <td>0.0</td>\n",
       "      <td>...</td>\n",
       "      <td>0.0</td>\n",
       "      <td>0.0</td>\n",
       "      <td>0.0</td>\n",
       "      <td>0.0</td>\n",
       "      <td>0.0</td>\n",
       "      <td>0.0</td>\n",
       "      <td>0.0</td>\n",
       "      <td>0.0</td>\n",
       "      <td>0.0</td>\n",
       "      <td>0.0</td>\n",
       "    </tr>\n",
       "  </tbody>\n",
       "</table>\n",
       "<p>1 rows × 147 columns</p>\n",
       "</div>"
      ],
      "text/plain": [
       "     startYear  endYear   Age  creator/actor?  ep_run_times  no_of_ep  \\\n",
       "396     2019.0   2019.0  18.0             0.0          58.0       8.0   \n",
       "\n",
       "     no_of_seasons  cast_pop  team_popularity  genre_1_Action  ...  \\\n",
       "396            1.0      19.4              1.5             0.0  ...   \n",
       "\n",
       "     second_country_PT  second_country_SA  second_country_SE  \\\n",
       "396                0.0                0.0                0.0   \n",
       "\n",
       "     second_country_TH  second_country_TN  second_country_TR  \\\n",
       "396                0.0                0.0                0.0   \n",
       "\n",
       "     second_country_TW  second_country_US  second_country_VN  \\\n",
       "396                0.0                0.0                0.0   \n",
       "\n",
       "     second_country_ZA  \n",
       "396                0.0  \n",
       "\n",
       "[1 rows x 147 columns]"
      ]
     },
     "execution_count": 1512,
     "metadata": {},
     "output_type": "execute_result"
    }
   ],
   "source": [
    "crime_gaumont"
   ]
  },
  {
   "cell_type": "markdown",
   "id": "b0928031",
   "metadata": {},
   "source": [
    "Writing a formula for predicting the popularity score of crime shows:"
   ]
  },
  {
   "cell_type": "code",
   "execution_count": 1738,
   "id": "099c5cce",
   "metadata": {},
   "outputs": [],
   "source": [
    "def predict_crime_pop (cast_pop, team_popularity, age, runT, season, no_ep, country, lang, genre_2):\n",
    "#setting all values to 0 for the prediction function\n",
    "\n",
    "    for col in crime_gaumont.columns:\n",
    "        crime_gaumont[col].values[:] = 0\n",
    "    # setting the constant values\n",
    "    crime_gaumont['genre_1_Crime'] == 1\n",
    "    crime_gaumont['startYear'] == 2024\n",
    "    # adding the variables\n",
    "    crime_gaumont['endYear'] == 2024 + season\n",
    "    crime_gaumont['Age'] == age\n",
    "    crime_gaumont['cast_pop'] == cast_pop\n",
    "    crime_gaumont['team_popularity'] == team_popularity\n",
    "    crime_gaumont['no_of_ep'] == no_ep\n",
    "    crime_gaumont['no_of_seasons'] == season\n",
    "    crime_gaumont['ep_run_times'] = runT\n",
    "    # The country name makes the first_country column with the same name '1'\n",
    "    country_column = [x for x in crime_gaumont.columns[crime_gaumont.columns.str.contains('first_country_{}'.format(country))]] \n",
    "    crime_gaumont[country_column]= 1\n",
    "    genre_2_column = [x for x in crime_gaumont.columns[crime_gaumont.columns.str.contains('genre_2_{}'.format(genre_2))]] \n",
    "    crime_gaumont[genre_2_column]= 1\n",
    "    lang_column = [x for x in crime_gaumont.columns[crime_gaumont.columns.str.contains('origin_language{}'.format(genre_2))]] \n",
    "    crime_gaumont[lang_column]= 1\n",
    "    # Calling and efining predictions\n",
    "    xgb_pop = crime_xgb.predict(crime_gaumont)\n",
    "\n",
    "    random_pop = crime_random.predict(crime_gaumont)\n",
    "    # conditioning based on the average popularity\n",
    "    if xgb_pop >= median_pop:\n",
    "        print ('{} -The popularity of the crime project in {} IS predicted to be above average according to XGB'\n",
    "              .format(xgb_pop, country))\n",
    "    else:\n",
    "        print ('{} -The popularity of the crime project in {} IS NOT predicted to be above average according to XGB'.\n",
    "              format(xgb_pop, country))\n",
    "    \n",
    "    if random_pop >= median_pop:\n",
    "        print ('{} -The popularity of the crime project in {} IS predicted to be above average according to Random Forest'\n",
    "              .format(random_pop, country ))\n",
    "    else:\n",
    "        print ('{} -The popularity of the crime project in {} IS NOT predicted to be above average according to Random Forest'\n",
    "              .format(random_pop, country))\n",
    "\n",
    "\n"
   ]
  },
  {
   "cell_type": "markdown",
   "id": "16163d36",
   "metadata": {},
   "source": [
    "Let's find the minimum cast_popularity and team_popularity numbers as reference for trying our function."
   ]
  },
  {
   "cell_type": "code",
   "execution_count": 1767,
   "id": "3832968f",
   "metadata": {},
   "outputs": [
    {
     "name": "stdout",
     "output_type": "stream",
     "text": [
      "0.6\n",
      "0.6\n"
     ]
    }
   ],
   "source": [
    "print(new_df['cast_pop'].min())\n",
    "print(new_df['team_popularity'].min())\n"
   ]
  },
  {
   "cell_type": "code",
   "execution_count": 1739,
   "id": "9b9069cf",
   "metadata": {},
   "outputs": [
    {
     "name": "stdout",
     "output_type": "stream",
     "text": [
      "[4.1317167] -The popularity of the crime project in TR IS NOT predicted to be above average according to XGB\n",
      "[4.0929901] -The popularity of the crime project in TR IS NOT predicted to be above average according to Random Forest\n"
     ]
    }
   ],
   "source": [
    "#Turkey\n",
    "predict_crime_pop(1,1,18,60,2,16,'TR','tr', 'Drama')"
   ]
  },
  {
   "cell_type": "code",
   "execution_count": 1676,
   "id": "b306e8a0",
   "metadata": {},
   "outputs": [
    {
     "name": "stdout",
     "output_type": "stream",
     "text": [
      "[4.1562166] -The popularity of the crime project in US IS NOT predicted to be above average according to XGB\n",
      "[4.17467458] -The popularity of the crime project in US IS predicted to be above average according to Random Forest\n"
     ]
    }
   ],
   "source": [
    "#trying a different country. USA and France\n",
    "predict_crime_pop(1,1,18,60,2,16,'US','en', 'Drama')"
   ]
  },
  {
   "cell_type": "code",
   "execution_count": 1677,
   "id": "a001f58a",
   "metadata": {},
   "outputs": [
    {
     "name": "stdout",
     "output_type": "stream",
     "text": [
      "[4.1317167] -The popularity of the crime project in MX IS NOT predicted to be above average according to XGB\n",
      "[4.0929901] -The popularity of the crime project in MX IS NOT predicted to be above average according to Random Forest\n"
     ]
    }
   ],
   "source": [
    "#trying a different country. USA and France\n",
    "predict_crime_pop(1,1,18,60,2,16,'MX', 'es', 'Drama')"
   ]
  },
  {
   "cell_type": "markdown",
   "id": "910e601d",
   "metadata": {},
   "source": [
    "Making the predictions using the whole dataset:"
   ]
  },
  {
   "cell_type": "code",
   "execution_count": 1680,
   "id": "da278c4e",
   "metadata": {},
   "outputs": [],
   "source": [
    "def predict_show_pop (cast_pop, team_popularity, age, runT, season, no_ep, country, lang, genre_1, genre_2):\n",
    "#setting all values to 0 for the prediction function\n",
    "\n",
    "    for col in gaumont_df.columns:\n",
    "        gaumont_df[col].values[:] = 0\n",
    "    # setting the constant values\n",
    "    gaumont_df['startYear'] == 2024\n",
    "    # adding the variables\n",
    "    gaumont_df['endYear'] == 0\n",
    "    gaumont_df['Age'] == age\n",
    "    gaumont_df['cast_pop'] == cast_pop\n",
    "    gaumont_df['team_popularity'] == team_popularity\n",
    "    gaumont_df['no_of_ep'] == no_ep\n",
    "    gaumont_df['no_of_seasons'] == season\n",
    "    gaumont_df['ep_run_times'] = runT\n",
    "    # The country name makes the first_country column with the same name '1'\n",
    "    country_column = [x for x in gaumont_df.columns[gaumont_df.columns.str.contains('first_country_{}'.format(country))]] \n",
    "    gaumont_df[country_column]= 1\n",
    "    #genre_1\n",
    "    genre_1_column = [x for x in gaumont_df.columns[gaumont_df.columns.str.contains('genre_1_{}'.format(genre_1))]] \n",
    "    gaumont_df[genre_1_column]= 1\n",
    "    #genre_2\n",
    "    genre_2_column = [x for x in gaumont_df.columns[gaumont_df.columns.str.contains('genre_2_{}'.format(genre_2))]] \n",
    "    gaumont_df[genre_2_column]= 1\n",
    "    lang_column = [x for x in gaumont_df.columns[gaumont_df.columns.str.contains('origin_language{}'.format(genre_2))]] \n",
    "    gaumont_df[lang_column]= 1\n",
    "    \n",
    "    # Calling and efining predictions\n",
    "    xgb_pop = xgboost.predict(gaumont_df)\n",
    "\n",
    "    random_pop = random.predict(gaumont_df)\n",
    "    # conditioning based on the average popularity\n",
    "    if xgb_pop >= median_pop:\n",
    "        print ('{} -The popularity of the series in {}/{} IS predicted to be above average according to XGB'\n",
    "              .format(xgb_pop, genre_1, genre_2, country))\n",
    "    else:\n",
    "        print ('{} -The popularity of the series in {}/{} IS NOT predicted to be above average according to XGB'.\n",
    "              format(xgb_pop,genre_1, genre_2, country))\n",
    "    \n",
    "    if random_pop >= median_pop:\n",
    "        print ('{} -The popularity of the {}/{} series in {} IS predicted to be above average according to Random Forest'\n",
    "              .format(random_pop, genre_1, genre_2, country ))\n",
    "    else:\n",
    "        print ('{} -The popularity of the {}/{} series in {} IS NOT predicted to be above average according to Random Forest'\n",
    "              .format(random_pop, genre_1, genre_2, country))\n",
    "\n",
    "\n"
   ]
  },
  {
   "cell_type": "code",
   "execution_count": 1681,
   "id": "cacb73c9",
   "metadata": {},
   "outputs": [
    {
     "name": "stdout",
     "output_type": "stream",
     "text": [
      "[3.7328024] -The popularity of the series in Action/Drama IS NOT predicted to be above average according to XGB\n",
      "[3.9] -The popularity of the Action/Drama series in TR IS NOT predicted to be above average according to Random Forest\n"
     ]
    }
   ],
   "source": [
    "predict_show_pop(1,1,18,60,2,16,'TR','tr', 'Action','Drama')"
   ]
  },
  {
   "cell_type": "code",
   "execution_count": 1682,
   "id": "d2a17700",
   "metadata": {},
   "outputs": [
    {
     "name": "stdout",
     "output_type": "stream",
     "text": [
      "[3.5091143] -The popularity of the series in Drama/Fantasy IS NOT predicted to be above average according to XGB\n",
      "[3.4964] -The popularity of the Drama/Fantasy series in US IS NOT predicted to be above average according to Random Forest\n"
     ]
    }
   ],
   "source": [
    "#trying a different country. USA and France\n",
    "\n",
    "predict_show_pop(100,100,0,30,10,300,'US','en','Drama', 'Fantasy')"
   ]
  },
  {
   "cell_type": "code",
   "execution_count": 1683,
   "id": "66a33eaa",
   "metadata": {},
   "outputs": [
    {
     "name": "stdout",
     "output_type": "stream",
     "text": [
      "[3.7326424] -The popularity of the series in Drama/Action IS NOT predicted to be above average according to XGB\n",
      "[3.7792] -The popularity of the Drama/Action series in JP IS NOT predicted to be above average according to Random Forest\n"
     ]
    }
   ],
   "source": [
    "#France and Japan\n",
    "predict_show_pop(1,1,18,60,2,16,'JP','jp', 'Drama', 'Action')"
   ]
  },
  {
   "cell_type": "markdown",
   "id": "618bb5e5",
   "metadata": {},
   "source": [
    "Let's try biography genre:"
   ]
  },
  {
   "cell_type": "code",
   "execution_count": 1685,
   "id": "94e8df52",
   "metadata": {},
   "outputs": [],
   "source": [
    "def predict_bio_pop (cast_pop, team_popularity, age, runT, season, no_ep, country, lang, genre_2):\n",
    "#setting all values to 0 for the prediction function\n",
    "\n",
    "    for col in bio_gaumont.columns:\n",
    "        bio_gaumont[col].values[:] = 0\n",
    "    # setting the constant values\n",
    "    bio_gaumont['genre_1_Biography'] == 1\n",
    "    bio_gaumont['startYear'] == 2024\n",
    "    # adding the variables\n",
    "    bio_gaumont['endYear'] == 2024 + season\n",
    "    bio_gaumont['Age'] == age\n",
    "    bio_gaumont['cast_pop'] == cast_pop\n",
    "    bio_gaumont['team_popularity'] == team_popularity\n",
    "    bio_gaumont['no_of_ep'] == no_ep\n",
    "    bio_gaumont['no_of_seasons'] == season\n",
    "    bio_gaumont['ep_run_times'] = runT\n",
    "    # The country name makes the first_country column with the same name '1'\n",
    "    country_column = [x for x in bio_gaumont.columns[bio_gaumont.columns.str.contains('first_country_{}'.format(country))]] \n",
    "    bio_gaumont[country_column]= 1\n",
    "    genre_2_column = [x for x in bio_gaumont.columns[bio_gaumont.columns.str.contains('genre_2_{}'.format(genre_2))]] \n",
    "    bio_gaumont[genre_2_column]= 1\n",
    "    lang_column = [x for x in bio_gaumont.columns[bio_gaumont.columns.str.contains('origin_language{}'.format(genre_2))]] \n",
    "    bio_gaumont[lang_column]= 1\n",
    "    # Calling and efining predictions\n",
    "    xgb_pop = bio_xgb.predict(bio_gaumont)\n",
    "\n",
    "    random_pop = bio_random.predict(bio_gaumont)\n",
    "    # conditioning based on the average popularity\n",
    "    if xgb_pop >= median_pop:\n",
    "        print ('{} -The popularity of the Biography project in {} IS predicted to be above average according to XGB'\n",
    "              .format(xgb_pop, country))\n",
    "    else:\n",
    "        print ('{} -The popularity of the Biography project in {} IS NOT predicted to be above average according to XGB'.\n",
    "              format(xgb_pop, country))\n",
    "    \n",
    "    if random_pop >= median_pop:\n",
    "        print ('{} -The popularity of the Biography project in {} IS predicted to be above average according to Random Forest'\n",
    "              .format(random_pop, country ))\n",
    "    else:\n",
    "        print ('{} -The popularity of the Biography project in {} IS NOT predicted to be above average according to Random Forest'\n",
    "              .format(random_pop, country))\n",
    "\n",
    "\n"
   ]
  },
  {
   "cell_type": "code",
   "execution_count": 1686,
   "id": "86fe1862",
   "metadata": {},
   "outputs": [
    {
     "name": "stdout",
     "output_type": "stream",
     "text": [
      "[3.590322] -The popularity of the Biography project in US IS NOT predicted to be above average according to XGB\n",
      "[3.82535356] -The popularity of the Biography project in US IS NOT predicted to be above average according to Random Forest\n"
     ]
    }
   ],
   "source": [
    "predict_bio_pop(40,20,14, 60,2,12,'US','en', 'Drama')"
   ]
  },
  {
   "cell_type": "code",
   "execution_count": 1687,
   "id": "7a567ae0",
   "metadata": {},
   "outputs": [
    {
     "name": "stdout",
     "output_type": "stream",
     "text": [
      "[3.4668217] -The popularity of the Biography project in MX IS NOT predicted to be above average according to XGB\n",
      "[3.68933716] -The popularity of the Biography project in MX IS NOT predicted to be above average according to Random Forest\n"
     ]
    }
   ],
   "source": [
    "predict_bio_pop(40,20,0,60,2,16,'MX', 'es', 'Drama')"
   ]
  },
  {
   "cell_type": "code",
   "execution_count": 1688,
   "id": "73ef932e",
   "metadata": {},
   "outputs": [
    {
     "name": "stdout",
     "output_type": "stream",
     "text": [
      "[3.0519638] -The popularity of the Biography project in MX IS NOT predicted to be above average according to XGB\n",
      "[3.62109066] -The popularity of the Biography project in MX IS NOT predicted to be above average according to Random Forest\n"
     ]
    }
   ],
   "source": [
    "predict_bio_pop(1,1,14,20,1,6,'MX','es','Comedy')"
   ]
  },
  {
   "cell_type": "markdown",
   "id": "9706c38b",
   "metadata": {},
   "source": [
    "Now, let's have a bigger cast. Like in the second quartile in the ranking."
   ]
  },
  {
   "cell_type": "code",
   "execution_count": 1689,
   "id": "f307e6ae",
   "metadata": {},
   "outputs": [
    {
     "data": {
      "text/plain": [
       "29.9"
      ]
     },
     "execution_count": 1689,
     "metadata": {},
     "output_type": "execute_result"
    }
   ],
   "source": [
    "qnt3rd_cast_pop = np.percentile(new_df['cast_pop'], 75)\n",
    "qnt3rd_cast_pop "
   ]
  },
  {
   "cell_type": "code",
   "execution_count": 1691,
   "id": "5c05fca4",
   "metadata": {},
   "outputs": [
    {
     "name": "stdout",
     "output_type": "stream",
     "text": [
      "[3.0374398] -The popularity of the Biography project in TR IS NOT predicted to be above average according to XGB\n",
      "[3.62109066] -The popularity of the Biography project in TR IS NOT predicted to be above average according to Random Forest\n"
     ]
    }
   ],
   "source": [
    "\n",
    "predict_bio_pop(qnt3rd_cast_pop,1,14,20,1,6,'TR','tr', 'Drama')"
   ]
  },
  {
   "cell_type": "code",
   "execution_count": 1692,
   "id": "41592606",
   "metadata": {},
   "outputs": [
    {
     "name": "stdout",
     "output_type": "stream",
     "text": [
      "[3.4688349] -The popularity of the Biography project in UK IS NOT predicted to be above average according to XGB\n",
      "[3.68933716] -The popularity of the Biography project in UK IS NOT predicted to be above average according to Random Forest\n"
     ]
    }
   ],
   "source": [
    "predict_bio_pop(qnt3rd_cast_pop ,1,0,60,2,16,'UK', 'en','Drama')"
   ]
  },
  {
   "cell_type": "code",
   "execution_count": 1693,
   "id": "c6d843c8",
   "metadata": {},
   "outputs": [
    {
     "name": "stdout",
     "output_type": "stream",
     "text": [
      "[4.1317167] -The popularity of the crime project in TR IS NOT predicted to be above average according to XGB\n",
      "[4.0929901] -The popularity of the crime project in TR IS NOT predicted to be above average according to Random Forest\n"
     ]
    }
   ],
   "source": [
    "predict_crime_pop(qnt2nd_cast_pop ,1,0,60,2,16,'TR', 'tr','Drama')"
   ]
  },
  {
   "cell_type": "markdown",
   "id": "5d588b3f",
   "metadata": {},
   "source": [
    "Let's try unknown cast and successful creating team."
   ]
  },
  {
   "cell_type": "code",
   "execution_count": 1157,
   "id": "52050f20",
   "metadata": {},
   "outputs": [
    {
     "data": {
      "text/plain": [
       "2.7"
      ]
     },
     "execution_count": 1157,
     "metadata": {},
     "output_type": "execute_result"
    }
   ],
   "source": [
    "qnt3rd_team_pop = np.percentile(new_df['team_popularity'], 75)\n",
    "qnt3rd_team_pop "
   ]
  },
  {
   "cell_type": "code",
   "execution_count": 1765,
   "id": "b721dc5f",
   "metadata": {},
   "outputs": [
    {
     "name": "stdout",
     "output_type": "stream",
     "text": [
      "[4.1562166] -The popularity of the crime project in US IS NOT predicted to be above average according to XGB\n",
      "[4.17467458] -The popularity of the crime project in US IS predicted to be above average according to Random Forest\n"
     ]
    }
   ],
   "source": [
    "predict_crime_pop(1, qnt3rd_team_pop,16,60, 2, 20,'US','en', 'Drama')"
   ]
  },
  {
   "cell_type": "markdown",
   "id": "364e93bd",
   "metadata": {},
   "source": [
    "The crime shows in the US can hit the mean score for popularity."
   ]
  },
  {
   "cell_type": "code",
   "execution_count": 1755,
   "id": "e37f868c",
   "metadata": {},
   "outputs": [
    {
     "name": "stdout",
     "output_type": "stream",
     "text": [
      "[3.4688349] -The popularity of the Biography project in KR IS NOT predicted to be above average according to XGB\n",
      "[3.68933716] -The popularity of the Biography project in KR IS NOT predicted to be above average according to Random Forest\n"
     ]
    }
   ],
   "source": [
    "predict_bio_pop(1,qnt3rd_team_pop,18,60,2,16,'KR','kr', 'Drama')"
   ]
  },
  {
   "cell_type": "markdown",
   "id": "6617ba97",
   "metadata": {},
   "source": [
    "Let's see Iceland since it produces many crime shows with Netflix:"
   ]
  },
  {
   "cell_type": "code",
   "execution_count": 1763,
   "id": "c3c9d90c",
   "metadata": {},
   "outputs": [
    {
     "name": "stdout",
     "output_type": "stream",
     "text": [
      "[4.1317167] -The popularity of the crime project in IS IS NOT predicted to be above average according to XGB\n",
      "[4.0929901] -The popularity of the crime project in IS IS NOT predicted to be above average according to Random Forest\n"
     ]
    }
   ],
   "source": [
    "predict_crime_pop(1,qnt3rd_team_pop,18,60,4,40,'IS','is', 'Drama')"
   ]
  },
  {
   "cell_type": "code",
   "execution_count": 1766,
   "id": "3634a03a",
   "metadata": {},
   "outputs": [
    {
     "name": "stdout",
     "output_type": "stream",
     "text": [
      "[3.4688349] -The popularity of the Biography project in IS IS NOT predicted to be above average according to XGB\n",
      "[3.68933716] -The popularity of the Biography project in IS IS NOT predicted to be above average according to Random Forest\n"
     ]
    }
   ],
   "source": [
    "predict_bio_pop(1,qnt3rd_team_pop,18,60,4,40,'IS','is', 'Drama')"
   ]
  },
  {
   "cell_type": "markdown",
   "id": "f30f5017",
   "metadata": {},
   "source": [
    "The crime shows in Iceland are close to the mean popularity but the biography shows would not reach popularity."
   ]
  },
  {
   "cell_type": "code",
   "execution_count": 1733,
   "id": "6f52cd9b",
   "metadata": {},
   "outputs": [
    {
     "name": "stdout",
     "output_type": "stream",
     "text": [
      "[4.162048] -The popularity of the crime project in IS IS NOT predicted to be above average according to XGB\n",
      "[4.0929901] -The popularity of the crime project in IS IS NOT predicted to be above average according to Random Forest\n"
     ]
    }
   ],
   "source": [
    "predict_crime_pop(10, qnt3rd_team_pop,18,70,5,50,'IS', 'is', 'Drama')"
   ]
  },
  {
   "cell_type": "markdown",
   "id": "9a6b5802",
   "metadata": {},
   "source": [
    "Spain, Iceland, Korea and USA are good countries to take a chance on no names and hence save a lot of money in budgeting."
   ]
  },
  {
   "cell_type": "markdown",
   "id": "894392b2",
   "metadata": {},
   "source": [
    "## 4.13 Conclusion <a id= '4.13_Conclusion'><a>"
   ]
  },
  {
   "cell_type": "markdown",
   "id": "d587d71a",
   "metadata": {},
   "source": [
    "\n",
    "In this section we customized our Random Forest Regression and XGB Regression models by first measuring/plotting feature importances and eliminating a few features (second_country, Streamer)for each model type. \n",
    "\n",
    "By using Randomized Search Cross Validation we tuned the hyperparameters to improve the model. \n",
    "\n",
    "Finally we created different subsets of the data based on time periods(Pre-Pandemic:1983-2019) and Post-Pandemic(2019-2023). It was evident that the Mean Absolute Percentage Error was less for the Pre-Pandemic Era (%6.9).\n",
    "\n",
    "Another type of subsets we used was based on genre. We created subsets out of projects with genres Drama, Action, Crime, Fantasy, Comedy and Biography. Fantasy and Biography had MAPEs under %7, which is a good improvement from the baseline modelings. \n",
    "\n",
    "After creating a model, we build a function to predict the popularity of a tv series based on its features.\n",
    "After trying the function implementing the model, it was evident that the most crucial features were running time, country of production and first genre. \n",
    "\n",
    "It would be useful to build a function which would predict potential features that can allow us to reach a totality score that is above mean totality score.(4.17). In other words, it would be beneficiary to have a reverse model.\n"
   ]
  }
 ],
 "metadata": {
  "kernelspec": {
   "display_name": "Python 3 (ipykernel)",
   "language": "python",
   "name": "python3"
  },
  "language_info": {
   "codemirror_mode": {
    "name": "ipython",
    "version": 3
   },
   "file_extension": ".py",
   "mimetype": "text/x-python",
   "name": "python",
   "nbconvert_exporter": "python",
   "pygments_lexer": "ipython3",
   "version": "3.9.12"
  }
 },
 "nbformat": 4,
 "nbformat_minor": 5
}
